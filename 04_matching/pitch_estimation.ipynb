{
 "cells": [
  {
   "cell_type": "code",
   "execution_count": 37,
   "metadata": {},
   "outputs": [],
   "source": [
    "import requests\n",
    "import elevation\n",
    "from PIL import Image\n",
    "import pandas as pd"
   ]
  },
  {
   "cell_type": "markdown",
   "metadata": {},
   "source": [
    "Open Elevation API"
   ]
  },
  {
   "cell_type": "code",
   "execution_count": 10,
   "metadata": {},
   "outputs": [
    {
     "name": "stdout",
     "output_type": "stream",
     "text": [
      "{'results': [{'latitude': 50.789895, 'longitude': 3.56248, 'elevation': 23.0}]}\n"
     ]
    }
   ],
   "source": [
    "# do a request to https://api.open-elevation.com/api/v1/lookup?locations={latitude},{longitude}\n",
    "\n",
    "altitude = -3.44\n",
    "latitude = 50.789895\n",
    "longitude = 3.56248\n",
    "# latitude = 52.307788\n",
    "# longitude = 4.767845\n",
    "url = f\"https://api.open-elevation.com/api/v1/lookup?locations={latitude},{longitude}\"\n",
    "response = requests.get(url)\n",
    "print(response.json())\n",
    "# print(response.json()['results'][0]['elevation'])"
   ]
  },
  {
   "cell_type": "markdown",
   "metadata": {},
   "source": [
    "elevation API"
   ]
  },
  {
   "cell_type": "code",
   "execution_count": 30,
   "metadata": {},
   "outputs": [
    {
     "name": "stdout",
     "output_type": "stream",
     "text": [
      "curl -s -o spool/N02/N02E049.hgt.gz.temp https://s3.amazonaws.com/elevation-tiles-prod/skadi/N02/N02E049.hgt.gz && mv spool/N02/N02E049.hgt.gz.temp spool/N02/N02E049.hgt.gz\n",
      "gunzip spool/N02/N02E049.hgt.gz 2>/dev/null || touch spool/N02/N02E049.hgt\n",
      "gdal_translate -q -co TILED=YES -co COMPRESS=DEFLATE -co ZLEVEL=9 -co PREDICTOR=2 spool/N02/N02E049.hgt cache/N02/N02E049.tif 2>/dev/null || touch cache/N02/N02E049.tif\n",
      "curl -s -o spool/N03/N03E049.hgt.gz.temp https://s3.amazonaws.com/elevation-tiles-prod/skadi/N03/N03E049.hgt.gz && mv spool/N03/N03E049.hgt.gz.temp spool/N03/N03E049.hgt.gz\n",
      "gunzip spool/N03/N03E049.hgt.gz 2>/dev/null || touch spool/N03/N03E049.hgt\n",
      "gdal_translate -q -co TILED=YES -co COMPRESS=DEFLATE -co ZLEVEL=9 -co PREDICTOR=2 spool/N03/N03E049.hgt cache/N03/N03E049.tif 2>/dev/null || touch cache/N03/N03E049.tif\n",
      "curl -s -o spool/N04/N04E049.hgt.gz.temp https://s3.amazonaws.com/elevation-tiles-prod/skadi/N04/N04E049.hgt.gz && mv spool/N04/N04E049.hgt.gz.temp spool/N04/N04E049.hgt.gz\n",
      "gunzip spool/N04/N04E049.hgt.gz 2>/dev/null || touch spool/N04/N04E049.hgt\n",
      "gdal_translate -q -co TILED=YES -co COMPRESS=DEFLATE -co ZLEVEL=9 -co PREDICTOR=2 spool/N04/N04E049.hgt cache/N04/N04E049.tif 2>/dev/null || touch cache/N04/N04E049.tif\n",
      "curl -s -o spool/N02/N02E050.hgt.gz.temp https://s3.amazonaws.com/elevation-tiles-prod/skadi/N02/N02E050.hgt.gz && mv spool/N02/N02E050.hgt.gz.temp spool/N02/N02E050.hgt.gz\n",
      "gunzip spool/N02/N02E050.hgt.gz 2>/dev/null || touch spool/N02/N02E050.hgt\n",
      "gdal_translate -q -co TILED=YES -co COMPRESS=DEFLATE -co ZLEVEL=9 -co PREDICTOR=2 spool/N02/N02E050.hgt cache/N02/N02E050.tif 2>/dev/null || touch cache/N02/N02E050.tif\n",
      "curl -s -o spool/N02/N02E051.hgt.gz.temp https://s3.amazonaws.com/elevation-tiles-prod/skadi/N02/N02E051.hgt.gz && mv spool/N02/N02E051.hgt.gz.temp spool/N02/N02E051.hgt.gz\n",
      "gunzip spool/N02/N02E051.hgt.gz 2>/dev/null || touch spool/N02/N02E051.hgt\n",
      "gdal_translate -q -co TILED=YES -co COMPRESS=DEFLATE -co ZLEVEL=9 -co PREDICTOR=2 spool/N02/N02E051.hgt cache/N02/N02E051.tif 2>/dev/null || touch cache/N02/N02E051.tif\n",
      "rm spool/N02/N02E050.hgt spool/N02/N02E051.hgt spool/N02/N02E049.hgt spool/N04/N04E049.hgt spool/N03/N03E049.hgt\n",
      "gdalbuildvrt -q -overwrite SRTM1.vrt cache/N04/N04E050.tif cache/N04/N04E051.tif cache/N04/N04E049.tif cache/N03/N03E049.tif cache/N03/N03E051.tif cache/N03/N03E050.tif cache/N02/N02E049.tif cache/N02/N02E051.tif cache/N02/N02E050.tif\n",
      "cp SRTM1.vrt SRTM1.00d9dcc664a048ee8ecfe13994b396ce.vrt\n",
      "gdal_translate -q -co TILED=YES -co COMPRESS=DEFLATE -co ZLEVEL=9 -co PREDICTOR=2 -projwin 49.789895 4.56248 51.789895 2.56248 SRTM1.00d9dcc664a048ee8ecfe13994b396ce.vrt /Users/senneloobuyck/Library/CloudStorage/OneDrive-UGent/Industrieel/UGent_2022-2023/VENTOUX_v1.0/04_matching/test.tif\n",
      "rm -f SRTM1.00d9dcc664a048ee8ecfe13994b396ce.vrt\n",
      "None\n"
     ]
    }
   ],
   "source": [
    "altitude = -3.44\n",
    "latitude = 50.789895\n",
    "longitude = 3.56248\n",
    "\n",
    "bounds = (latitude-1, longitude-1, latitude+1, longitude+1)\n",
    "\n",
    "elevation_val = elevation.clip(bounds=bounds, output='/Users/senneloobuyck/Library/CloudStorage/OneDrive-UGent/Industrieel/UGent_2022-2023/VENTOUX_v1.0/04_matching/test.tif')\n",
    "print(elevation_val)\n",
    "\n",
    "# Open the TIFF file for reading\n",
    "tiff_file_path = \"/Users/senneloobuyck/Library/CloudStorage/OneDrive-UGent/Industrieel/UGent_2022-2023/VENTOUX_v1.0/04_matching/test.tif\"  \n",
    "tiff_image = Image.open(tiff_file_path)\n",
    "\n",
    "# Display the TIFF image (optional)\n",
    "tiff_image.show()"
   ]
  },
  {
   "cell_type": "markdown",
   "metadata": {},
   "source": [
    "Open Topo Data API"
   ]
  },
  {
   "cell_type": "code",
   "execution_count": 36,
   "metadata": {},
   "outputs": [
    {
     "name": "stdout",
     "output_type": "stream",
     "text": [
      "{'results': [{'dataset': 'srtm30m', 'elevation': 24.0, 'location': {'lat': 50.87652666666666, 'lng': 3.765265}}], 'status': 'OK'}\n",
      "Height: -27.44\n"
     ]
    }
   ],
   "source": [
    "altitude = -3.44\n",
    "latitude = 50.789895\n",
    "longitude = 3.56248\n",
    "\n",
    "# latitude = 50.878613333333334\n",
    "# longitude = 3.7677633333333334\n",
    "\n",
    "latitude = 50.87652666666666\n",
    "longitude = 3.765265\n",
    "\n",
    "\n",
    "# latitude = 52.307788\n",
    "# longitude = 4.767845\n",
    "\n",
    "# altitude = 49.1\n",
    "# latitude = 50.87652666666666\n",
    "# longitude = 3.765265\n",
    "\n",
    "url = f\"https://api.opentopodata.org/v1/srtm30m?locations={latitude},{longitude}\"\n",
    "response = requests.get(url)\n",
    "print(response.json())\n",
    "elevation = response.json()['results'][0]['elevation']\n",
    "height = altitude - elevation\n",
    "print(f\"Height: {height}\")"
   ]
  },
  {
   "cell_type": "markdown",
   "metadata": {},
   "source": [
    "# Altitude values just referenced to the ground (not sure)"
   ]
  },
  {
   "cell_type": "code",
   "execution_count": 1,
   "metadata": {},
   "outputs": [],
   "source": [
    "import pandas as pd"
   ]
  },
  {
   "cell_type": "code",
   "execution_count": 4,
   "metadata": {},
   "outputs": [
    {
     "name": "stdout",
     "output_type": "stream",
     "text": [
      "       time        lat NS       lng EW   alt  seconds_from_start\n",
      "0  14:12:09  50.789895  N  3.562480  E -3.44                 0.0\n",
      "1  14:12:10  50.789873  N  3.562490  E -3.31                 1.0\n",
      "2  14:12:10  50.789868  N  3.562493  E -3.12                 1.0\n",
      "3  14:12:11  50.789855  N  3.562497  E -3.29                 2.0\n",
      "4  14:12:12  50.789838  N  3.562500  E -2.63                 3.0\n",
      "       time        lat NS       lng EW   alt  seconds_from_start\n",
      "0  14:12:09  50.789895  N  3.562480  E -3.44                 0.0\n",
      "1  14:12:10  50.789873  N  3.562490  E -3.31                 1.0\n",
      "2  14:12:10  50.789868  N  3.562493  E -3.12                 1.0\n",
      "3  14:12:11  50.789855  N  3.562497  E -3.29                 2.0\n",
      "4  14:12:12  50.789838  N  3.562500  E -2.63                 3.0\n",
      "         lat       lng   alt  seconds_from_start\n",
      "0  50.789895  3.562480 -3.44                 0.0\n",
      "1  50.789873  3.562490 -3.31                 1.0\n",
      "2  50.789868  3.562493 -3.12                 1.0\n",
      "3  50.789855  3.562497 -3.29                 2.0\n",
      "4  50.789838  3.562500 -2.63                 3.0\n"
     ]
    }
   ],
   "source": [
    "# read in CSV file with following columns: time,lat,NS,lng,EW,alt,seconds_from_start\n",
    "df = pd.read_csv('/Users/senneloobuyck/Documents/Thesis_project/01_inputs/csv-files/2020 Kuurne Brussel Kuurne heli.csv')\n",
    "\n",
    "print(df.head())\n",
    "df['lat'] = df.apply(lambda row: float(row['lat']) * 1 if row['NS'] == 'N' else float(row['lat']) * (-1), axis=1)\n",
    "df['lng'] = df.apply(lambda row: float(row['lng']) * 1 if row['EW'] == 'E' else float(row['lng']) * (-1), axis=1)\n",
    "print(df.head())\n",
    "\n",
    "# make new df with only lat, lng, alt and seconds_from_start\n",
    "df = df[['lat', 'lng', 'alt', 'seconds_from_start']]\n",
    "\n",
    "print(df.head())\n",
    "\n"
   ]
  }
 ],
 "metadata": {
  "kernelspec": {
   "display_name": "ventoux_venv",
   "language": "python",
   "name": "python3"
  },
  "language_info": {
   "codemirror_mode": {
    "name": "ipython",
    "version": 3
   },
   "file_extension": ".py",
   "mimetype": "text/x-python",
   "name": "python",
   "nbconvert_exporter": "python",
   "pygments_lexer": "ipython3",
   "version": "3.10.11"
  },
  "orig_nbformat": 4
 },
 "nbformat": 4,
 "nbformat_minor": 2
}
