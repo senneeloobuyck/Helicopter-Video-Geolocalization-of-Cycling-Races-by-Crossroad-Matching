{
 "cells": [
  {
   "cell_type": "code",
   "execution_count": 37,
   "metadata": {},
   "outputs": [],
   "source": [
    "import requests\n",
    "import elevation\n",
    "from PIL import Image\n",
    "import pandas as pd"
   ]
  },
  {
   "cell_type": "markdown",
   "metadata": {},
   "source": [
    "Open Elevation API"
   ]
  },
  {
   "cell_type": "code",
   "execution_count": 10,
   "metadata": {},
   "outputs": [
    {
     "name": "stdout",
     "output_type": "stream",
     "text": [
      "{'results': [{'latitude': 50.789895, 'longitude': 3.56248, 'elevation': 23.0}]}\n"
     ]
    }
   ],
   "source": [
    "# do a request to https://api.open-elevation.com/api/v1/lookup?locations={latitude},{longitude}\n",
    "\n",
    "altitude = -3.44\n",
    "latitude = 50.789895\n",
    "longitude = 3.56248\n",
    "# latitude = 52.307788\n",
    "# longitude = 4.767845\n",
    "url = f\"https://api.open-elevation.com/api/v1/lookup?locations={latitude},{longitude}\"\n",
    "response = requests.get(url)\n",
    "print(response.json())\n",
    "# print(response.json()['results'][0]['elevation'])"
   ]
  },
  {
   "cell_type": "markdown",
   "metadata": {},
   "source": [
    "elevation API"
   ]
  },
  {
   "cell_type": "code",
   "execution_count": 30,
   "metadata": {},
   "outputs": [
    {
     "name": "stdout",
     "output_type": "stream",
     "text": [
      "curl -s -o spool/N02/N02E049.hgt.gz.temp https://s3.amazonaws.com/elevation-tiles-prod/skadi/N02/N02E049.hgt.gz && mv spool/N02/N02E049.hgt.gz.temp spool/N02/N02E049.hgt.gz\n",
      "gunzip spool/N02/N02E049.hgt.gz 2>/dev/null || touch spool/N02/N02E049.hgt\n",
      "gdal_translate -q -co TILED=YES -co COMPRESS=DEFLATE -co ZLEVEL=9 -co PREDICTOR=2 spool/N02/N02E049.hgt cache/N02/N02E049.tif 2>/dev/null || touch cache/N02/N02E049.tif\n",
      "curl -s -o spool/N03/N03E049.hgt.gz.temp https://s3.amazonaws.com/elevation-tiles-prod/skadi/N03/N03E049.hgt.gz && mv spool/N03/N03E049.hgt.gz.temp spool/N03/N03E049.hgt.gz\n",
      "gunzip spool/N03/N03E049.hgt.gz 2>/dev/null || touch spool/N03/N03E049.hgt\n",
      "gdal_translate -q -co TILED=YES -co COMPRESS=DEFLATE -co ZLEVEL=9 -co PREDICTOR=2 spool/N03/N03E049.hgt cache/N03/N03E049.tif 2>/dev/null || touch cache/N03/N03E049.tif\n",
      "curl -s -o spool/N04/N04E049.hgt.gz.temp https://s3.amazonaws.com/elevation-tiles-prod/skadi/N04/N04E049.hgt.gz && mv spool/N04/N04E049.hgt.gz.temp spool/N04/N04E049.hgt.gz\n",
      "gunzip spool/N04/N04E049.hgt.gz 2>/dev/null || touch spool/N04/N04E049.hgt\n",
      "gdal_translate -q -co TILED=YES -co COMPRESS=DEFLATE -co ZLEVEL=9 -co PREDICTOR=2 spool/N04/N04E049.hgt cache/N04/N04E049.tif 2>/dev/null || touch cache/N04/N04E049.tif\n",
      "curl -s -o spool/N02/N02E050.hgt.gz.temp https://s3.amazonaws.com/elevation-tiles-prod/skadi/N02/N02E050.hgt.gz && mv spool/N02/N02E050.hgt.gz.temp spool/N02/N02E050.hgt.gz\n",
      "gunzip spool/N02/N02E050.hgt.gz 2>/dev/null || touch spool/N02/N02E050.hgt\n",
      "gdal_translate -q -co TILED=YES -co COMPRESS=DEFLATE -co ZLEVEL=9 -co PREDICTOR=2 spool/N02/N02E050.hgt cache/N02/N02E050.tif 2>/dev/null || touch cache/N02/N02E050.tif\n",
      "curl -s -o spool/N02/N02E051.hgt.gz.temp https://s3.amazonaws.com/elevation-tiles-prod/skadi/N02/N02E051.hgt.gz && mv spool/N02/N02E051.hgt.gz.temp spool/N02/N02E051.hgt.gz\n",
      "gunzip spool/N02/N02E051.hgt.gz 2>/dev/null || touch spool/N02/N02E051.hgt\n",
      "gdal_translate -q -co TILED=YES -co COMPRESS=DEFLATE -co ZLEVEL=9 -co PREDICTOR=2 spool/N02/N02E051.hgt cache/N02/N02E051.tif 2>/dev/null || touch cache/N02/N02E051.tif\n",
      "rm spool/N02/N02E050.hgt spool/N02/N02E051.hgt spool/N02/N02E049.hgt spool/N04/N04E049.hgt spool/N03/N03E049.hgt\n",
      "gdalbuildvrt -q -overwrite SRTM1.vrt cache/N04/N04E050.tif cache/N04/N04E051.tif cache/N04/N04E049.tif cache/N03/N03E049.tif cache/N03/N03E051.tif cache/N03/N03E050.tif cache/N02/N02E049.tif cache/N02/N02E051.tif cache/N02/N02E050.tif\n",
      "cp SRTM1.vrt SRTM1.00d9dcc664a048ee8ecfe13994b396ce.vrt\n",
      "gdal_translate -q -co TILED=YES -co COMPRESS=DEFLATE -co ZLEVEL=9 -co PREDICTOR=2 -projwin 49.789895 4.56248 51.789895 2.56248 SRTM1.00d9dcc664a048ee8ecfe13994b396ce.vrt /Users/senneloobuyck/Library/CloudStorage/OneDrive-UGent/Industrieel/UGent_2022-2023/VENTOUX_v1.0/04_matching/test.tif\n",
      "rm -f SRTM1.00d9dcc664a048ee8ecfe13994b396ce.vrt\n",
      "None\n"
     ]
    }
   ],
   "source": [
    "altitude = -3.44\n",
    "latitude = 50.789895\n",
    "longitude = 3.56248\n",
    "\n",
    "bounds = (latitude-1, longitude-1, latitude+1, longitude+1)\n",
    "\n",
    "elevation_val = elevation.clip(bounds=bounds, output='/Users/senneloobuyck/Library/CloudStorage/OneDrive-UGent/Industrieel/UGent_2022-2023/VENTOUX_v1.0/04_matching/test.tif')\n",
    "print(elevation_val)\n",
    "\n",
    "# Open the TIFF file for reading\n",
    "tiff_file_path = \"/Users/senneloobuyck/Library/CloudStorage/OneDrive-UGent/Industrieel/UGent_2022-2023/VENTOUX_v1.0/04_matching/test.tif\"  \n",
    "tiff_image = Image.open(tiff_file_path)\n",
    "\n",
    "# Display the TIFF image (optional)\n",
    "tiff_image.show()"
   ]
  },
  {
   "cell_type": "markdown",
   "metadata": {},
   "source": [
    "Open Topo Data API"
   ]
  },
  {
   "cell_type": "code",
   "execution_count": 36,
   "metadata": {},
   "outputs": [
    {
     "name": "stdout",
     "output_type": "stream",
     "text": [
      "{'results': [{'dataset': 'srtm30m', 'elevation': 24.0, 'location': {'lat': 50.87652666666666, 'lng': 3.765265}}], 'status': 'OK'}\n",
      "Height: -27.44\n"
     ]
    }
   ],
   "source": [
    "altitude = -3.44\n",
    "latitude = 50.789895\n",
    "longitude = 3.56248\n",
    "\n",
    "# latitude = 50.878613333333334\n",
    "# longitude = 3.7677633333333334\n",
    "\n",
    "latitude = 50.87652666666666\n",
    "longitude = 3.765265\n",
    "\n",
    "\n",
    "# latitude = 52.307788\n",
    "# longitude = 4.767845\n",
    "\n",
    "# altitude = 49.1\n",
    "# latitude = 50.87652666666666\n",
    "# longitude = 3.765265\n",
    "\n",
    "url = f\"https://api.opentopodata.org/v1/srtm30m?locations={latitude},{longitude}\"\n",
    "response = requests.get(url)\n",
    "print(response.json())\n",
    "elevation = response.json()['results'][0]['elevation']\n",
    "height = altitude - elevation\n",
    "print(f\"Height: {height}\")"
   ]
  },
  {
   "cell_type": "code",
   "execution_count": 38,
   "metadata": {},
   "outputs": [
    {
     "ename": "ValueError",
     "evalue": "The truth value of a Series is ambiguous. Use a.empty, a.bool(), a.item(), a.any() or a.all().",
     "output_type": "error",
     "traceback": [
      "\u001b[0;31m---------------------------------------------------------------------------\u001b[0m",
      "\u001b[0;31mValueError\u001b[0m                                Traceback (most recent call last)",
      "\u001b[0;32m/var/folders/z8/jk8wslr51fb7ltc_q884vp7h0000gn/T/ipykernel_74642/3199389817.py\u001b[0m in \u001b[0;36m?\u001b[0;34m()\u001b[0m\n\u001b[1;32m      1\u001b[0m \u001b[0;31m# read in CSV file with following columns: time,lat,NS,lng,EW,alt,seconds_from_start\u001b[0m\u001b[0;34m\u001b[0m\u001b[0;34m\u001b[0m\u001b[0m\n\u001b[1;32m      2\u001b[0m \u001b[0mdf\u001b[0m \u001b[0;34m=\u001b[0m \u001b[0mpd\u001b[0m\u001b[0;34m.\u001b[0m\u001b[0mread_csv\u001b[0m\u001b[0;34m(\u001b[0m\u001b[0;34m'/Users/senneloobuyck/Library/CloudStorage/OneDrive-UGent/Industrieel/UGent_2022-2023/VENTOUX_v1.0/01_inputs/csv-files/2023 Omloop het Nieuwsblad heli.csv'\u001b[0m\u001b[0;34m)\u001b[0m\u001b[0;34m\u001b[0m\u001b[0;34m\u001b[0m\u001b[0m\n\u001b[1;32m      3\u001b[0m \u001b[0;34m\u001b[0m\u001b[0m\n\u001b[1;32m      4\u001b[0m \u001b[0;31m# convert NS and EW to +/-\u001b[0m\u001b[0;34m\u001b[0m\u001b[0;34m\u001b[0m\u001b[0m\n\u001b[0;32m----> 5\u001b[0;31m \u001b[0mdf\u001b[0m\u001b[0;34m[\u001b[0m\u001b[0;34m'lat'\u001b[0m\u001b[0;34m]\u001b[0m \u001b[0;34m=\u001b[0m \u001b[0mdf\u001b[0m\u001b[0;34m[\u001b[0m\u001b[0;34m'lat'\u001b[0m\u001b[0;34m]\u001b[0m \u001b[0;34m*\u001b[0m \u001b[0;34m(\u001b[0m\u001b[0;36m1\u001b[0m \u001b[0;32mif\u001b[0m \u001b[0mdf\u001b[0m\u001b[0;34m[\u001b[0m\u001b[0;34m'NS'\u001b[0m\u001b[0;34m]\u001b[0m \u001b[0;34m==\u001b[0m \u001b[0;34m'N'\u001b[0m \u001b[0;32melse\u001b[0m \u001b[0;34m-\u001b[0m\u001b[0;36m1\u001b[0m\u001b[0;34m)\u001b[0m\u001b[0;34m\u001b[0m\u001b[0;34m\u001b[0m\u001b[0m\n\u001b[0m\u001b[1;32m      6\u001b[0m \u001b[0mdf\u001b[0m\u001b[0;34m[\u001b[0m\u001b[0;34m'lng'\u001b[0m\u001b[0;34m]\u001b[0m \u001b[0;34m=\u001b[0m \u001b[0mdf\u001b[0m\u001b[0;34m[\u001b[0m\u001b[0;34m'lng'\u001b[0m\u001b[0;34m]\u001b[0m \u001b[0;34m*\u001b[0m \u001b[0;34m(\u001b[0m\u001b[0;36m1\u001b[0m \u001b[0;32mif\u001b[0m \u001b[0mdf\u001b[0m\u001b[0;34m[\u001b[0m\u001b[0;34m'EW'\u001b[0m\u001b[0;34m]\u001b[0m \u001b[0;34m==\u001b[0m \u001b[0;34m'E'\u001b[0m \u001b[0;32melse\u001b[0m \u001b[0;34m-\u001b[0m\u001b[0;36m1\u001b[0m\u001b[0;34m)\u001b[0m\u001b[0;34m\u001b[0m\u001b[0;34m\u001b[0m\u001b[0m\n\u001b[1;32m      7\u001b[0m \u001b[0;34m\u001b[0m\u001b[0m\n\u001b[1;32m      8\u001b[0m \u001b[0;31m# make new df with only lat, lng, alt and seconds_from_start\u001b[0m\u001b[0;34m\u001b[0m\u001b[0;34m\u001b[0m\u001b[0m\n",
      "\u001b[0;32m~/Library/CloudStorage/OneDrive-UGent/Industrieel/UGent_2022-2023/VENTOUX_v1.0/ventoux_venv/lib/python3.10/site-packages/pandas/core/generic.py\u001b[0m in \u001b[0;36m?\u001b[0;34m(self)\u001b[0m\n\u001b[1;32m   1464\u001b[0m     \u001b[0;34m@\u001b[0m\u001b[0mfinal\u001b[0m\u001b[0;34m\u001b[0m\u001b[0;34m\u001b[0m\u001b[0m\n\u001b[1;32m   1465\u001b[0m     \u001b[0;32mdef\u001b[0m \u001b[0m__nonzero__\u001b[0m\u001b[0;34m(\u001b[0m\u001b[0mself\u001b[0m\u001b[0;34m)\u001b[0m \u001b[0;34m->\u001b[0m \u001b[0mNoReturn\u001b[0m\u001b[0;34m:\u001b[0m\u001b[0;34m\u001b[0m\u001b[0;34m\u001b[0m\u001b[0m\n\u001b[0;32m-> 1466\u001b[0;31m         raise ValueError(\n\u001b[0m\u001b[1;32m   1467\u001b[0m             \u001b[0;34mf\"The truth value of a {type(self).__name__} is ambiguous. \"\u001b[0m\u001b[0;34m\u001b[0m\u001b[0;34m\u001b[0m\u001b[0m\n\u001b[1;32m   1468\u001b[0m             \u001b[0;34m\"Use a.empty, a.bool(), a.item(), a.any() or a.all().\"\u001b[0m\u001b[0;34m\u001b[0m\u001b[0;34m\u001b[0m\u001b[0m\n\u001b[1;32m   1469\u001b[0m         )\n",
      "\u001b[0;31mValueError\u001b[0m: The truth value of a Series is ambiguous. Use a.empty, a.bool(), a.item(), a.any() or a.all()."
     ]
    }
   ],
   "source": [
    "# read in CSV file with following columns: time,lat,NS,lng,EW,alt,seconds_from_start\n",
    "df = pd.read_csv('/Users/senneloobuyck/Library/CloudStorage/OneDrive-UGent/Industrieel/UGent_2022-2023/VENTOUX_v1.0/01_inputs/csv-files/2023 Omloop het Nieuwsblad heli.csv')\n",
    "\n",
    "# convert NS and EW to +/-\n",
    "df['lat'] = df['lat'] * (1 if df['NS'] == 'N' else -1)\n",
    "df['lng'] = df['lng'] * (1 if df['EW'] == 'E' else -1)\n",
    "\n",
    "# make new df with only lat, lng, alt and seconds_from_start\n",
    "df = df[['lat', 'lng', 'alt', 'seconds_from_start']]\n",
    "\n",
    "print(df.head())\n",
    "\n",
    "\n",
    "\n",
    "\n",
    "\n"
   ]
  }
 ],
 "metadata": {
  "kernelspec": {
   "display_name": "ventoux_venv",
   "language": "python",
   "name": "python3"
  },
  "language_info": {
   "codemirror_mode": {
    "name": "ipython",
    "version": 3
   },
   "file_extension": ".py",
   "mimetype": "text/x-python",
   "name": "python",
   "nbconvert_exporter": "python",
   "pygments_lexer": "ipython3",
   "version": "3.10.11"
  },
  "orig_nbformat": 4
 },
 "nbformat": 4,
 "nbformat_minor": 2
}
