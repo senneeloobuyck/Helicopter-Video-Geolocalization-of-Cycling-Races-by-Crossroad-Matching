{
 "cells": [
  {
   "cell_type": "code",
   "execution_count": 38,
   "metadata": {},
   "outputs": [],
   "source": [
    "import os \n",
    "import sys\n",
    "import numpy as np\n",
    "import pandas as pd\n",
    "import matplotlib.pyplot as plt\n",
    "import math\n",
    "import requests\n",
    "import cv2 \n",
    "from numpy.polynomial import Polynomial\n",
    "from skimage.morphology import skeletonize, binary_closing, square, binary_erosion, binary_dilation, medial_axis, thin, disk, convex_hull_image, diamond, star, isotropic_closing, remove_small_objects\n",
    "from skimage.filters import threshold_otsu\n",
    "import json\n",
    "import time"
   ]
  },
  {
   "cell_type": "code",
   "execution_count": 39,
   "metadata": {},
   "outputs": [],
   "source": [
    "sem_segm_img_path = \"/Users/senneloobuyck/Documents/Thesis_project/04_matching/main_7/picked_masks/2023_RVV_1_mask_1302.jpg\"\n",
    "mapbox_imgs_dir_path = \"/Users/senneloobuyck/Documents/Thesis_project/04_matching/main_7/mapbox_method_no_stitching/mapbox_images_for_frame_1302_RVV1\"\n",
    "heli_lat = 50.795680\n",
    "heli_lon = 3.591033\n",
    "altitude = 155.87"
   ]
  },
  {
   "cell_type": "code",
   "execution_count": 40,
   "metadata": {},
   "outputs": [],
   "source": [
    "def plot_image(img):\n",
    "    plt.figure(figsize=(20,10))\n",
    "    plt.imshow(cv2.cvtColor(img, cv2.COLOR_BGR2RGB))\n",
    "    plt.show()"
   ]
  },
  {
   "cell_type": "code",
   "execution_count": 41,
   "metadata": {},
   "outputs": [],
   "source": [
    "def plot_patch(img, center_pixel, patch_size) : \n",
    "    # Calculate the patch boundaries\n",
    "    top = center_pixel[0] - patch_size // 2\n",
    "    bottom = top + patch_size\n",
    "    left = center_pixel[1] - patch_size // 2\n",
    "    right = left + patch_size\n",
    "\n",
    "    # Ensure the patch boundaries stay within the image dimensions\n",
    "    if top < 0:\n",
    "        top = 0\n",
    "    if bottom > img.shape[0]:\n",
    "        bottom = img.shape[0]\n",
    "    if left < 0:\n",
    "        left = 0\n",
    "    if right > img.shape[1]:\n",
    "        right = img.shape[1]\n",
    "\n",
    "    # Extract the patch from the image\n",
    "    patch = img[top:bottom, left:right]\n",
    "\n",
    "    # Plot the patch\n",
    "    plt.imshow(cv2.cvtColor(patch, cv2.COLOR_BGR2RGB))  # Assuming the image is grayscale\n",
    "    plt.axis('off')  # Hide axes\n",
    "    plt.show()"
   ]
  },
  {
   "cell_type": "code",
   "execution_count": 42,
   "metadata": {},
   "outputs": [],
   "source": [
    "def calculate_bearing(lat1, long1, lat2, long2) : \n",
    "    lat1 = math.radians(lat1)\n",
    "    long1 = math.radians(long1)\n",
    "    lat2 = math.radians(lat2)\n",
    "    long2 = math.radians(long2)\n",
    "\n",
    "    d_long = long2 - long1\n",
    "\n",
    "    y = math.sin(d_long) * math.cos(lat2)\n",
    "    x = math.cos(lat1) * math.sin(lat2) - math.sin(lat1) * math.cos(lat2) * math.cos(d_long)\n",
    "\n",
    "    brng = math.atan2(y, x)\n",
    "\n",
    "    brng = math.degrees(brng)\n",
    "    brng = (brng + 360) % 360\n",
    "    # brng = 360 - brng # count degrees clockwise - remove to make counter-clockwise\n",
    "    return brng"
   ]
  },
  {
   "cell_type": "code",
   "execution_count": 43,
   "metadata": {},
   "outputs": [],
   "source": [
    "def haversine(lat1, lon1, lat2, lon2) : \n",
    "    R = 6371\n",
    "    d_lat = math.radians(lat2 - lat1)\n",
    "    d_lon = math.radians(lon2 - lon1)\n",
    "    lat1 = math.radians(lat1)\n",
    "    lat2 = math.radians(lat2)\n",
    "    a = math.sin(d_lat/2)**2 + math.cos(lat1) * math.cos(lat2) * math.sin(d_lon/2)**2\n",
    "    c = 2 * math.atan2(math.sqrt(a), math.sqrt(1 - a))\n",
    "    d = R * c * 1000\n",
    "    return d"
   ]
  },
  {
   "cell_type": "code",
   "execution_count": 44,
   "metadata": {},
   "outputs": [],
   "source": [
    "# calculate pitch/tilt\n",
    "def calculate_pitch(heli_lat, heli_lon, intersec_lat, intersec_lon, alt) : \n",
    "    dist = haversine(heli_lat, heli_lon, intersec_lat, intersec_lon)\n",
    "\n",
    "    # result = heli_df[(heli_df['lat'] == heli_lat) & (heli_df['lng'] == heli_lon)]\n",
    "    # if not result.empty:\n",
    "    #    altitude = result.iloc[0]['alt']\n",
    "\n",
    "    print(f\"Distance: {dist}\")\n",
    "    print(f\"Altitude: {alt}\")\n",
    "\n",
    "    alpha_radian = math.atan2(alt, dist)\n",
    "    alpha_degrees = alpha_radian * (180.0 / math.pi)\n",
    "    pitch = 90 - alpha_degrees\n",
    "    return pitch "
   ]
  },
  {
   "cell_type": "code",
   "execution_count": 45,
   "metadata": {},
   "outputs": [],
   "source": [
    "def get_mapbox_intersection_image(lat, lon, bearing, tilt) : \n",
    "    if tilt > 60 :\n",
    "        tilt = 60\n",
    "    zoom = 18\n",
    "    width = 512\n",
    "    height = 512\n",
    "    access_token = \"pk.eyJ1Ijoic2VubmVsb29idXljayIsImEiOiJjbG1zeDVreHowZmw5Mm1xY2lxeTFtYTB2In0.ymj-xZAfeeivbksi1PJttw\" \n",
    "    styles_url = \"mapbox://styles/senneloobuyck/cllcojw8d00wy01pb6rqcdmm5\"\n",
    "\n",
    "    style_code = styles_url.split('/')[-1]\n",
    "\n",
    "    # Add a timestamp parameter to the URL to prevent caching\n",
    "    timestamp = int(time.time())  # Current UNIX timestamp\n",
    "    url = f\"https://api.mapbox.com/styles/v1/senneloobuyck/{style_code}/static/{str(lon)},{str(lat)},{str(zoom)},{str(bearing)},{str(tilt)}/{str(width)}x{str(height)}?access_token={access_token}&fresh=true\"\n",
    "    response = requests.get(url)\n",
    "\n",
    "    if response.status_code == 200:\n",
    "        with open(f\"{lat}-{lon}.jpg\", \"wb\") as f:\n",
    "            f.write(response.content)\n",
    "        print(f\"Image saved as {lat}_{lon}.jpg\")\n",
    "    else:\n",
    "        print(\"Failed to retrieve image for intersection lat = \" + str(lat) + \", lon = \" + str(lon))\n",
    "        print(response.text[:100])"
   ]
  },
  {
   "cell_type": "code",
   "execution_count": 46,
   "metadata": {},
   "outputs": [],
   "source": [
    "def get_intersection_coordinates(lat, lon) : \n",
    "    # some lists and dataframes to store the data\n",
    "    nodes = []\n",
    "    intersection_nodes = []\n",
    "    df_nodes = pd.DataFrame(columns=['id', 'lat', 'lon'])\n",
    "    df_intersections = pd.DataFrame(columns=['lat', 'lon'])\n",
    "\n",
    "    overpass_url = \"http://overpass-api.de/api/interpreter\"\n",
    "\n",
    "\n",
    "    # first get the ways around the point \n",
    "    # .w is a temporary variable that stores the result of the first query\n",
    "    # node(way_cnt:2-);   // select those nodes that are members of two or more of the given ways\n",
    "    overpass_query = f\"\"\"[out:json];\n",
    "                        way(around: 300, {lat},{lon})[\"highway\"~\"(motorway|trunk|primary|secondary|tertiary|unclassified|residential|motorway_link|trunk_link|primary_link|secondary_link|tertiary_link|living_street|service|pedestrian)\"]->.w;\n",
    "                        node(way_cnt.w:2-);  \n",
    "                        out;\"\"\"\n",
    "\n",
    "    response = requests.get(overpass_url, params={'data': overpass_query})\n",
    "\n",
    "    # print(response.json()['elements'])\n",
    "\n",
    "    for item in response.json()['elements']:\n",
    "        df_intersections.loc[len(df_intersections)] = {'lat': item['lat'], 'lon': item['lon']}\n",
    "\n",
    "\n",
    "    # print(df_intersections)\n",
    "    return df_intersections"
   ]
  },
  {
   "cell_type": "code",
   "execution_count": 47,
   "metadata": {},
   "outputs": [
    {
     "name": "stdout",
     "output_type": "stream",
     "text": [
      "Intersection: 50.7961267,3.5930602\n",
      "Bearing = 70.7799754168916\n",
      "Distance: 150.8907280317825\n",
      "Altitude: 155.87\n",
      "Pitch = 44.070069303431275\n",
      "Intersection: 50.7968232,3.5941811\n",
      "Bearing = 60.120750856993936\n",
      "Distance: 255.1775405919482\n",
      "Altitude: 155.87\n",
      "Pitch = 58.58217869849949\n",
      "Intersection: 50.7969549,3.5946137\n",
      "Bearing = 60.60622092041086\n",
      "Distance: 288.8464962349801\n",
      "Altitude: 155.87\n",
      "Pitch = 61.64740562678031\n",
      "Intersection: 50.7959163,3.5913055\n",
      "Bearing = 36.08889878199403\n",
      "Distance: 32.51486884822422\n",
      "Altitude: 155.87\n",
      "Pitch = 11.783067736716148\n",
      "Intersection: 50.7958647,3.5910548\n",
      "Bearing = 4.266621022996844\n",
      "Distance: 20.594778622705622\n",
      "Altitude: 155.87\n",
      "Pitch = 7.52677386672417\n",
      "Intersection: 50.7954316,3.5882332\n",
      "Bearing = 262.01119622562294\n",
      "Distance: 198.71330932663636\n",
      "Altitude: 155.87\n",
      "Pitch = 51.88949124124835\n",
      "Intersection: 50.7975002,3.5913741\n",
      "Bearing = 6.755022745542988\n",
      "Distance: 203.81189248318736\n",
      "Altitude: 155.87\n",
      "Pitch = 52.59218716384649\n",
      "Intersection: 50.7965324,3.5951496\n",
      "Bearing = 71.86009789512417\n",
      "Distance: 304.4617544298943\n",
      "Altitude: 155.87\n",
      "Pitch = 62.88970339363179\n",
      "Intersection: 50.7935559,3.5936877\n",
      "Bearing = 141.69019554537203\n",
      "Distance: 301.00004205030376\n",
      "Altitude: 155.87\n",
      "Pitch = 62.62305099518046\n",
      "Intersection: 50.7970808,3.5946203\n",
      "Bearing = 58.29144656940474\n",
      "Distance: 296.36295058473286\n",
      "Altitude: 155.87\n",
      "Pitch = 62.258190912042124\n",
      "Intersection: 50.7942715,3.59287\n",
      "Bearing = 140.49723304804195\n",
      "Distance: 202.97783253532356\n",
      "Altitude: 155.87\n",
      "Pitch = 52.478751517117814\n",
      "Intersection: 50.7969423,3.5925617\n",
      "Bearing = 37.432571251174295\n",
      "Distance: 176.76351649623885\n",
      "Altitude: 155.87\n",
      "Pitch = 48.59416478428813\n",
      "Intersection: 50.7948203,3.5940027\n",
      "Bearing = 114.60600557595899\n",
      "Distance: 229.5763092368278\n",
      "Altitude: 155.87\n",
      "Pitch = 55.82559886633821\n",
      "Intersection: 50.7976443,3.5937476\n",
      "Bearing = 41.1363802520155\n",
      "Distance: 290.0151419209074\n",
      "Altitude: 155.87\n",
      "Pitch = 61.74398431337299\n",
      "Intersection: 50.7954945,3.5886356\n",
      "Bearing = 263.02193989568707\n",
      "Distance: 169.75925503097545\n",
      "Altitude: 155.87\n",
      "Pitch = 47.4423899362655\n",
      "Intersection: 50.7943988,3.5911131\n",
      "Bearing = 177.73691138154425\n",
      "Distance: 142.57413885316478\n",
      "Altitude: 155.87\n",
      "Pitch = 42.449126199103745\n",
      "Intersection: 50.79529,3.5912241\n",
      "Bearing = 162.79090343181508\n",
      "Distance: 45.3984280082747\n",
      "Altitude: 155.87\n",
      "Pitch = 16.23863794560812\n",
      "Intersection: 50.7953417,3.5910012\n",
      "Bearing = 183.40030583873803\n",
      "Distance: 37.683584726382925\n",
      "Altitude: 155.87\n",
      "Pitch = 13.591201129288308\n",
      "Intersection: 50.796277,3.5913432\n",
      "Bearing = 18.18158134684552\n",
      "Distance: 69.8719554573737\n",
      "Altitude: 155.87\n",
      "Pitch = 24.145296127853342\n",
      "Intersection: 50.796425,3.5911569\n",
      "Bearing = 6.000894484876426\n",
      "Distance: 83.29667146753513\n",
      "Altitude: 155.87\n",
      "Pitch = 28.11997377998572\n",
      "Intersection: 50.7967252,3.5912128\n",
      "Bearing = 6.2055132421954795\n",
      "Distance: 116.90595528076497\n",
      "Altitude: 155.87\n",
      "Pitch = 36.870710511532984\n",
      "Intersection: 50.7978828,3.5914551\n",
      "Bearing = 6.905728676719605\n",
      "Distance: 246.7302165813951\n",
      "Altitude: 155.87\n",
      "Pitch = 57.71765139543949\n",
      "Intersection: 50.7963052,3.5876732\n",
      "Bearing = 286.4054904584815\n",
      "Distance: 246.16223619565082\n",
      "Altitude: 155.87\n",
      "Pitch = 57.65799727370751\n",
      "Intersection: 50.7947894,3.5913995\n",
      "Bearing = 165.4192326795012\n",
      "Distance: 102.32566595680953\n",
      "Altitude: 155.87\n",
      "Pitch = 33.28413111302944\n",
      "Intersection: 50.7947793,3.5911626\n",
      "Bearing = 174.8031523839502\n",
      "Distance: 100.56665337318167\n",
      "Altitude: 155.87\n",
      "Pitch = 32.8299337632442\n",
      "Intersection: 50.798307,3.5917455\n",
      "Bearing = 9.727450664606181\n",
      "Distance: 296.37033901056714\n",
      "Altitude: 155.87\n",
      "Pitch = 62.25877937687183\n",
      "Intersection: 50.7969155,3.5948373\n",
      "Bearing = 62.804305314680505\n",
      "Distance: 300.61020439342843\n",
      "Altitude: 155.87\n",
      "Pitch = 62.592718653123995\n",
      "Intersection: 50.7950813,3.5911994\n",
      "Bearing = 170.03584865823052\n",
      "Distance: 67.5919320702531\n",
      "Altitude: 155.87\n",
      "Pitch = 23.44362803390399\n"
     ]
    }
   ],
   "source": [
    "df_intersections = get_intersection_coordinates(heli_lat, heli_lon)\n",
    "\n",
    "# read in csv file with heli coordinates\n",
    "heli_path = \"/Users/senneloobuyck/Documents/Thesis_project/01_inputs/csv-files/2023 Ronde van Vlaanderen 1 heli.csv\"\n",
    "heli_df = pd.read_csv(heli_path)\n",
    "heli_df['lat'] = heli_df.apply(lambda row: float(row['lat']) * 1 if row['NS'] == 'N' else float(row['lat']) * (-1), axis=1)\n",
    "heli_df['lng'] = heli_df.apply(lambda row: float(row['lng']) * 1 if row['EW'] == 'E' else float(row['lng']) * (-1), axis=1)\n",
    "heli_df = heli_df[['lat', 'lng', 'alt', 'seconds_from_start']]\n",
    "\n",
    "for index, row in df_intersections.iterrows() : \n",
    "    print(f\"Intersection: {row['lat']},{row['lon']}\")\n",
    "    bearing = calculate_bearing(heli_lat, heli_lon, row['lat'], row['lon'])\n",
    "    print(f\"Bearing = {bearing}\")\n",
    "    pitch = calculate_pitch(heli_lat, heli_lon, row['lat'], row['lon'], alt=altitude)\n",
    "    print(f\"Pitch = {pitch}\")\n",
    "    # get_mapbox_intersection_image(row['lat'], row['lon'], bearing, pitch)"
   ]
  },
  {
   "cell_type": "code",
   "execution_count": 48,
   "metadata": {},
   "outputs": [],
   "source": [
    "def get_skeleton(mask_bgr, contour) : \n",
    "    print(\"Getting the skeleton\")\n",
    "\n",
    "    mask_gray = cv2.cvtColor(mask_bgr, cv2.COLOR_BGR2GRAY)\n",
    "\n",
    "    # draw contour in white on black background\n",
    "    contour_mask_gray = np.zeros_like(mask_gray)\n",
    "    cv2.drawContours(contour_mask_gray, [contour], -1, 255, -1)\n",
    "\n",
    "    ret, contour_mask_thresh_gray = cv2.threshold(contour_mask_gray, 127, 255, cv2.THRESH_BINARY)\n",
    "    contour_mask_thresh_bgr = cv2.cvtColor(contour_mask_thresh_gray, cv2.COLOR_GRAY2BGR)\n",
    "    # plot_image(contour_mask_thresh_bgr)\n",
    "\n",
    "    \n",
    "    # To avoid the precision loss when converting the image to bool, \n",
    "    # you can also binarize the image using one of the available thresholding algorithms\n",
    "    thresh_otsu = threshold_otsu(contour_mask_thresh_gray)\n",
    "    contour_mask_thresh_gray = contour_mask_thresh_gray > thresh_otsu\n",
    "    \n",
    "    # skeletonize\n",
    "    # skeleton_gray = (skeletonize(contour_mask_gray)).astype(np.uint8)\n",
    "    skeleton_gray = skeletonize(contour_mask_thresh_gray, method='lee').astype(np.uint8)\n",
    "\n",
    "    # np.set_printoptions(threshold=np.inf)\n",
    "    # print(\"Skeleton image values:\")\n",
    "    # print(skeleton_gray)\n",
    "\n",
    "\n",
    "    # plt.figure(figsize=(20,10))\n",
    "    # plt.imshow(skeleton_gray, cmap='gray', interpolation='nearest')\n",
    "    # plt.show()\n",
    "\n",
    "    skeleton_bgr = cv2.cvtColor(skeleton_gray, cv2.COLOR_GRAY2BGR)\n",
    "\n",
    "    return skeleton_bgr\n",
    "            "
   ]
  },
  {
   "cell_type": "code",
   "execution_count": 49,
   "metadata": {},
   "outputs": [],
   "source": [
    "def is_valid_intersection(neighbourhood_patch) : \n",
    "    # A list of valid intersections             \n",
    "    # These are in the format (clockwise order)\n",
    "    # 2 3 4\n",
    "    # 1 C 5\n",
    "    # 8 7 6 \n",
    "    validIntersection = [[0,1,0,1,0,0,1,0],[0,0,1,0,1,0,0,1],[1,0,0,1,0,1,0,0],\n",
    "                         [0,1,0,0,1,0,1,0],[0,0,1,0,0,1,0,1],[1,0,0,1,0,0,1,0],\n",
    "                         [0,1,0,0,1,0,0,1],[1,0,1,0,0,1,0,0],[0,1,0,0,0,1,0,1],\n",
    "                         [0,1,0,1,0,0,0,1],[0,1,0,1,0,1,0,0],[0,0,0,1,0,1,0,1],\n",
    "                         [1,0,1,0,0,0,1,0],[1,0,1,0,1,0,0,0],[0,0,1,0,1,0,1,0],\n",
    "                         [1,0,0,0,1,0,1,0],[1,0,0,1,1,1,0,0],[0,0,1,0,0,1,1,1],\n",
    "                         [1,1,0,0,1,0,0,1],[0,1,1,1,0,0,1,0],[1,0,1,1,0,0,1,0],\n",
    "                         [1,0,1,0,0,1,1,0],[1,0,1,1,0,1,1,0],[0,1,1,0,1,0,1,1],\n",
    "                         [1,1,0,1,1,0,1,0],[1,1,0,0,1,0,1,0],[0,1,1,0,1,0,1,0],\n",
    "                         [0,0,1,0,1,0,1,1],[1,0,0,1,1,0,1,0],[1,0,1,0,1,1,0,1],\n",
    "                         [1,0,1,0,1,1,0,0],[1,0,1,0,1,0,0,1],[0,1,0,0,1,0,1,1],\n",
    "                         [0,1,1,0,1,0,0,1],[1,1,0,1,0,0,1,0],[0,1,0,1,1,0,1,0],\n",
    "                         [0,0,1,0,1,1,0,1],[1,0,1,0,0,1,0,1],[1,0,0,1,0,1,1,0],\n",
    "                         [1,0,1,1,0,1,0,0]]\n",
    "    \n",
    "    if neighbourhood_patch in validIntersection : \n",
    "        return True\n",
    "    else : \n",
    "        return False"
   ]
  },
  {
   "cell_type": "code",
   "execution_count": 50,
   "metadata": {},
   "outputs": [],
   "source": [
    "def get_skeleton_intersection(skeleton):\n",
    "    \"\"\" Given a skeletonised image, it will give the coordinates of the intersections of the skeleton\"\"\"\n",
    "    print(\"Getting intersections in skeleton (more than 2 neighbours)\")\n",
    "    skeleton_gray = cv2.cvtColor(skeleton, cv2.COLOR_BGR2GRAY)\n",
    "    image = skeleton_gray.copy()\n",
    "    image = image/255\n",
    "    intersections = []\n",
    "    for y in range(1,len(image)-1):\n",
    "        for x in range(1,len(image[y])-1):\n",
    "            # if we have a white pixel\n",
    "            if image[y][x] == 1:\n",
    "                neighbourhood_patch = [image[y][x-1], image[y-1][x-1], image[y-1][x], image[y-1][x+1], image[y][x+1], image[y+1][x+1], image[y+1][x], image[y+1][x-1]]\n",
    "                if is_valid_intersection(neighbourhood_patch):\n",
    "                    intersections.append((y,x))\n",
    "    # Filter intersections to make sure we don't count them twice or ones that are very close together\n",
    "    # for point1 in intersections:\n",
    "    #     for point2 in intersections:\n",
    "    #         if (((point1[0] - point2[0])**2 + (point1[1] - point2[1])**2) < 10**2) and (point1 != point2):\n",
    "    #             intersections.remove(point2)\n",
    "    # Remove duplicates\n",
    "    return intersections\n"
   ]
  },
  {
   "cell_type": "code",
   "execution_count": 51,
   "metadata": {},
   "outputs": [],
   "source": [
    "def get_neighbour_pixels(skel_contour_bgr, intersec) : \n",
    "    \n",
    "    # print(f\"Getting neighbour pixels for pixel {intersec}\")\n",
    "    \n",
    "    skel_contour_bgr_copy = skel_contour_bgr.copy()\n",
    "    \n",
    "    # converting to grayscale gives false values\n",
    "    # skel_contour_gray = cv2.cvtColor(skel_contour_bgr, cv2.COLOR_BGR2GRAY)\n",
    "\n",
    "    # plot_patch(skel_contour_bgr_copy, intersec, 7)\n",
    "\n",
    "\n",
    "    # Calculate neighbour pixels that define the roads that intersect (in patch values)\n",
    "    road_neighbour_pixels = []\n",
    "    for x in range(-1,2):\n",
    "        for y in range(-1,2):\n",
    "            pixel_color = skel_contour_bgr[intersec[0] + y, intersec[1] + x]\n",
    "            # print(f\"Pixel color = {pixel_color}\")\n",
    "            if np.all(pixel_color == np.array([255, 255, 255])) and (x != 0 or y != 0):\n",
    "                road_neighbour_pixels.append((intersec[0]+y, intersec[1]+x))\n",
    "                skel_contour_bgr_copy[intersec[0]+y, intersec[1]+x] = (0,0,255)\n",
    "                # print(f\"Neighbour pixel for pixel {intersec} within image: {intersec[0]+y}, {intersec[1]+x}\")\n",
    "\n",
    "    # plot_patch(skel_contour_bgr_copy, intersec, 7)\n",
    "\n",
    "    return road_neighbour_pixels"
   ]
  },
  {
   "cell_type": "code",
   "execution_count": 52,
   "metadata": {},
   "outputs": [],
   "source": [
    "def get_descriptors(skeleton_bgr, intersections, visualize=False) : \n",
    "    skeleton_gray = cv2.cvtColor(skeleton_bgr, cv2.COLOR_BGR2GRAY)\n",
    "\n",
    "    dict_angles = {}\n",
    "    dict_other_intersecs = {}\n",
    "    descriptors = []\n",
    "\n",
    "    skeleton_gray = cv2.cvtColor(skeleton_bgr, cv2.COLOR_BGR2GRAY)\n",
    "    image = skeleton_gray.copy()\n",
    "    image = image/255\n",
    "\n",
    "    for intersection_pixel in intersections :\n",
    "        dict_angles[intersection_pixel] = []\n",
    "        dict_other_intersecs[intersection_pixel] = []\n",
    "        # print(f\"Getting neighbour pixels for intersection pixel {intersection_pixel}\")\n",
    "        neighbour_road_pixels = get_neighbour_pixels(skeleton_bgr, intersection_pixel)\n",
    "        # print(f\"Neighbour pixels: {neighbour_road_pixels}\")\n",
    "\n",
    "        for neighbour_pixel in neighbour_road_pixels :\n",
    "            processed_pixels = [intersection_pixel] + neighbour_road_pixels\n",
    "            road_pixels = []\n",
    "            end_for_intersec_neighbour_pixel = False\n",
    "            reference_pixel = neighbour_pixel\n",
    "            count = 0\n",
    "            count_treshold = 12\n",
    "            skip_count_threshold = 2\n",
    "            \n",
    "            while count < count_treshold :\n",
    "                # print(f\"Getting new neighbour pixels for reference pixel {reference_pixel}\")\n",
    "                new_neighbour_pixels = get_neighbour_pixels(skeleton_bgr, reference_pixel)\n",
    "                # print(f\"New neighbour pixels: {new_neighbour_pixels}\")\n",
    "\n",
    "\n",
    "                new_neighbours_not_processed = [pixel for pixel in new_neighbour_pixels if pixel not in processed_pixels]\n",
    "                if len(new_neighbours_not_processed) > 0 :\n",
    "                    new_neighbour_pixel = new_neighbours_not_processed[0]\n",
    "                    y, x = new_neighbour_pixel\n",
    "                    new_neighbour_patch = [image[y][x-1], image[y-1][x-1], image[y-1][x], image[y-1][x+1], image[y][x+1], image[y+1][x+1], image[y+1][x], image[y+1][x-1]]\n",
    "                    if is_valid_intersection(new_neighbour_patch) : \n",
    "                        # print(f\"New neighbour pixel: {new_neighbour_pixel} is a valid intersection, end for this intersection pixel\")\n",
    "                        dict_other_intersecs[intersection_pixel].append(new_neighbour_pixel)\n",
    "                        end_for_intersec_neighbour_pixel = True\n",
    "                        break\n",
    "                    else : \n",
    "                        processed_pixels.append(new_neighbour_pixel)\n",
    "                        reference_pixel = new_neighbour_pixel\n",
    "\n",
    "                    if count >= skip_count_threshold : \n",
    "                        if count == skip_count_threshold :\n",
    "                            # print(\"Skip count threshold reached\")\n",
    "                            first_road_pixel = new_neighbour_pixel\n",
    "                        if count == skip_count_threshold + 1 : \n",
    "                            second_road_pixel = new_neighbour_pixel\n",
    "                        road_pixels.append(new_neighbour_pixel)\n",
    "                else : \n",
    "                    # print(\"No new neighbour pixels found, end for this intersection pixel\")\n",
    "                    end_for_intersec_neighbour_pixel = True\n",
    "                    break\n",
    "                \n",
    "                if end_for_intersec_neighbour_pixel is False :\n",
    "                    count += 1\n",
    "                else : \n",
    "                    break\n",
    "            \n",
    "            if count == count_treshold :\n",
    "                # print(\"Count threshold reached\")\n",
    "\n",
    "                skeleton_bgr_copy = skeleton_bgr.copy()\n",
    "\n",
    "                skeleton_bgr_copy[first_road_pixel[0], first_road_pixel[1]] = [0,0,255]\n",
    "                skeleton_bgr_copy[second_road_pixel[0], second_road_pixel[1]] = [0,255,0]\n",
    "                # all the other road pixels in blue \n",
    "                for pixel in road_pixels :\n",
    "                    if pixel != first_road_pixel and pixel != second_road_pixel :\n",
    "                        skeleton_bgr_copy[pixel[0], pixel[1]] = [255,0,0]\n",
    "\n",
    "                \n",
    "                plot_patch(skeleton_bgr_copy, first_road_pixel, 23)\n",
    "\n",
    "\n",
    "                # print(f\"Shape of skeleton_gray: {skeleton_gray.shape}\")\n",
    "\n",
    "\n",
    "                # Now use the first road pixel as origin and compute the angle of the road segment\n",
    "                # First reverse the y coordinates to make sure the origin is in the bottom left corner\n",
    "                road_pixels = [((skeleton_gray.shape[0]-1)-pixel[0], pixel[1]) for pixel in road_pixels]\n",
    "                # print(f\"Road pixels: {road_pixels}\")\n",
    "\n",
    "                first_road_pixel = ((skeleton_gray.shape[0]-1)-first_road_pixel[0], first_road_pixel[1])\n",
    "                second_road_pixel = ((skeleton_gray.shape[0]-1)-second_road_pixel[0], second_road_pixel[1])\n",
    "\n",
    "                # Adjust the coordinates of road pixels and intersection to be relative to the center\n",
    "                adjusted_road_pixels = [(pixel[0] - first_road_pixel[0], pixel[1] - first_road_pixel[1]) for pixel in road_pixels]\n",
    "                # print(f\"Adjusted road pixels: {adjusted_road_pixels}\")\n",
    "\n",
    "                second_road_pixel = (second_road_pixel[0] - first_road_pixel[0], second_road_pixel[1] - first_road_pixel[1])\n",
    "                first_road_pixel = (0,0)\n",
    "                # print(f\"First road pixel: {first_road_pixel}\")\n",
    "                # print(f\"Second road pixel: {second_road_pixel}\")\n",
    "\n",
    "                # For each set of coordinates, compute the best-fit line\n",
    "                x_values = np.array([coord[1] for coord in adjusted_road_pixels])\n",
    "                y_values = np.array([coord[0] for coord in adjusted_road_pixels])\n",
    "\n",
    "                positive_x_directions = 0\n",
    "                negative_x_directions = 0\n",
    "                positive_y_directions = 0\n",
    "                negative_y_directions = 0\n",
    "                for x in x_values:\n",
    "                    if x > 0:\n",
    "                        positive_x_directions += 1\n",
    "                    elif x < 0:\n",
    "                        negative_x_directions += 1\n",
    "                \n",
    "                for y in y_values:\n",
    "                    if y > 0:\n",
    "                        positive_y_directions += 1\n",
    "                    elif y < 0:\n",
    "                        negative_y_directions += 1\n",
    "\n",
    "                # Check if all x-values are the same\n",
    "                all_x_values_same = all(x == x_values[0] for x in x_values)\n",
    "                if all_x_values_same :\n",
    "                    print(\"All x-values are the same\")\n",
    "                    if second_road_pixel[0] > first_road_pixel[0] :\n",
    "                        # index 0 because y coordinate needed (index 1 is x coordinate)\n",
    "                        angle = 90\n",
    "                    else :\n",
    "                        angle = 270\n",
    "                    print(f\"Angle is: {angle}\")\n",
    "                    dict_angles[intersection_pixel].append(angle)\n",
    "                    continue\n",
    "\n",
    "                line = np.polyfit(x_values, y_values, deg=1)\n",
    "                \n",
    "                # print(f\"Line: {line}\")\n",
    "\n",
    "                # Now show the line on the patch\n",
    "                a = line[0]\n",
    "                b = line[1]\n",
    "                y = a * x_values + b\n",
    "                if visualize : \n",
    "                    plt.plot(x_values, y)\n",
    "                    plt.show()\n",
    "\n",
    "                # The slope of each line gives the direction of the road segment it fits\n",
    "                angle = np.degrees(np.arctan(a))\n",
    "                # print(f\"Angle: {angle}\")\n",
    "\n",
    "                if angle == 0 and negative_x_directions > positive_x_directions :\n",
    "                    angle = 180\n",
    "\n",
    "                if angle > 0 and negative_y_directions > positive_y_directions :\n",
    "                    angle = angle + 180\n",
    "                \n",
    "                if angle < 0 :\n",
    "                    if negative_y_directions < positive_y_directions :\n",
    "                        angle = angle + 180\n",
    "                    else : \n",
    "                        angle = angle + 360\n",
    "\n",
    "                print(f\"Angle is: {angle}\")\n",
    "                dict_angles[intersection_pixel].append(angle)\n",
    "            else : \n",
    "                print(\"Count threshold not reached\")\n",
    "    \n",
    "\n",
    "    processed_intersections = []\n",
    "    for intersection in dict_other_intersecs.keys() : \n",
    "        if intersection in processed_intersections :\n",
    "            continue\n",
    "        # print(f\"dict_other_intersecs[intersection]: \")\n",
    "        # print(dict_other_intersecs[intersection])\n",
    "        if len(dict_other_intersecs[intersection]) == 0 :\n",
    "            descriptor = dict_angles[intersection]\n",
    "            sorted_descriptor = sorted(descriptor)\n",
    "            descriptors.append(sorted_descriptor)\n",
    "            processed_intersections.append(intersection)\n",
    "        else :\n",
    "            for other_intersection in dict_other_intersecs[intersection] : \n",
    "                if other_intersection not in processed_intersections : \n",
    "                    descriptor = dict_angles[intersection] + dict_angles[other_intersection]\n",
    "                    sorted_descriptor = sorted(descriptor)\n",
    "                    descriptors.append(sorted_descriptor)\n",
    "                    processed_intersections.append(intersection)\n",
    "                    processed_intersections.append(other_intersection)\n",
    "                else: \n",
    "                    continue\n",
    "    \n",
    "    return descriptors\n"
   ]
  },
  {
   "cell_type": "code",
   "execution_count": 53,
   "metadata": {},
   "outputs": [],
   "source": [
    "def find_descriptors_in_segmentation_image(img_path) : \n",
    "    print(\"Finding descriptors in segmentation image\")\n",
    "    \n",
    "    img_bgr = cv2.imread(img_path)\n",
    "    print(\"Segmentation image\")\n",
    "    plot_image(img_bgr)\n",
    "\n",
    "    closing_bgr = isotropic_closing(img_bgr, radius=30)\n",
    "    closing_bgr = closing_bgr.astype(np.uint8) * 255\n",
    "    print(\"Isotropic closing of segmentation image\")\n",
    "    plot_image(closing_bgr)\n",
    "\n",
    "    closing_bgr_copy = closing_bgr.copy()\n",
    "    mask_bgr_copy = closing_bgr.copy()\n",
    "    closing_gray = cv2.cvtColor(closing_bgr, cv2.COLOR_BGR2GRAY)\n",
    "\n",
    "    contours, hierarchy = cv2.findContours(closing_gray, cv2.RETR_EXTERNAL, cv2.CHAIN_APPROX_SIMPLE)\n",
    "    print(f\"Number of contours: {len(contours)}\")\n",
    "    cv2.drawContours(closing_bgr_copy, contours, contourIdx=-1, color=(255, 0, 0), thickness=2)\n",
    "\n",
    "    descriptors = []\n",
    "\n",
    "    for contour in contours :\n",
    "        contour_length = cv2.arcLength(contour, closed=True)\n",
    "        print(f\"Contour length: {contour_length}\")\n",
    "        contour_area = cv2.contourArea(contour)\n",
    "        print(f\"Contour area: {contour_area}\")\n",
    "\n",
    "        # measure the irregularity of the polygon\n",
    "        if contour_length != 0 :\n",
    "            convex_hull = cv2.convexHull(contour)\n",
    "            convex_hull_area = cv2.contourArea(convex_hull)\n",
    "            print(f\"Convex hull area: {convex_hull_area}\")\n",
    "            # cv2.polylines(mask_bgr_copy, [convex_hull], isClosed=True, color=(0, 255, 0), thickness=3)\n",
    "            solidity = contour_area / convex_hull_area\n",
    "\n",
    "            # get skeleton of the contour\n",
    "            skeleton_contour_bgr = get_skeleton(mask_bgr_copy, contour)\n",
    "            \n",
    "            # find the intersections in the skeleton\n",
    "            skel_intersections = get_skeleton_intersection(skeleton_contour_bgr)\n",
    "            \n",
    "            #  make a decision based on the solidity\n",
    "            if solidity < 0.60 and skel_intersections != [] :\n",
    "                print(f\"Solidity = {solidity} -> this contour can be related to an intersection in the road\")\n",
    "\n",
    "                # further processing\n",
    "                if skel_intersections == [] : \n",
    "                    print(\"No intersection is found in a possible intersection contour\")\n",
    "                else : \n",
    "                    print(f\"Intersections = {skel_intersections}\")\n",
    "                    \n",
    "                    # visualization\n",
    "                    skeleton_contour_bgr_copy = skeleton_contour_bgr.copy()\n",
    "                    for intersection in skel_intersections :\n",
    "                        skeleton_contour_bgr_copy[intersection[0], intersection[1]] = [0, 0, 255]\n",
    "                    plot_image(skeleton_contour_bgr_copy)\n",
    "\n",
    "                    # now try and match intersection with the openstreetmap images\n",
    "                    descriptors = get_descriptors(skeleton_contour_bgr, skel_intersections)\n",
    "                    \n",
    "            else :\n",
    "                print(f\"Solidity = {solidity} -> no intersection in this contour\")\n",
    "        \n",
    "    if descriptors == [] :\n",
    "        return None\n",
    "    else :\n",
    "        return descriptors\n",
    "    "
   ]
  },
  {
   "cell_type": "code",
   "execution_count": 54,
   "metadata": {},
   "outputs": [
    {
     "name": "stdout",
     "output_type": "stream",
     "text": [
      "Finding descriptors in segmentation image\n",
      "Segmentation image\n"
     ]
    },
    {
     "data": {
      "image/png": "[encoded data removed]",
      "text/plain": [
       "<Figure size 2000x1000 with 1 Axes>"
      ]
     },
     "metadata": {},
     "output_type": "display_data"
    },
    {
     "name": "stdout",
     "output_type": "stream",
     "text": [
      "Isotropic closing of segmentation image\n"
     ]
    },
    {
     "data": {
      "image/png": "[encoded data removed]",
      "text/plain": [
       "<Figure size 2000x1000 with 1 Axes>"
      ]
     },
     "metadata": {},
     "output_type": "display_data"
    },
    {
     "name": "stdout",
     "output_type": "stream",
     "text": [
      "Number of contours: 1\n",
      "Contour length: 1410.746379852295\n",
      "Contour area: 30085.5\n",
      "Convex hull area: 66685.5\n",
      "Getting the skeleton\n",
      "Getting intersections in skeleton (more than 2 neighbours)\n",
      "Solidity = 0.4511550486987426 -> this contour can be related to an intersection in the road\n",
      "Intersections = [(373, 279)]\n"
     ]
    },
    {
     "data": {
      "image/png": "[encoded data removed]",
      "text/plain": [
       "<Figure size 2000x1000 with 1 Axes>"
      ]
     },
     "metadata": {},
     "output_type": "display_data"
    },
    {
     "data": {
      "image/png": "[encoded data removed]",
      "text/plain": [
       "<Figure size 640x480 with 1 Axes>"
      ]
     },
     "metadata": {},
     "output_type": "display_data"
    },
    {
     "name": "stdout",
     "output_type": "stream",
     "text": [
      "Angle is: 151.12259877771717\n"
     ]
    },
    {
     "data": {
      "image/png": "[encoded data removed]",
      "text/plain": [
       "<Figure size 640x480 with 1 Axes>"
      ]
     },
     "metadata": {},
     "output_type": "display_data"
    },
    {
     "name": "stdout",
     "output_type": "stream",
     "text": [
      "Angle is: 281.30993247402023\n"
     ]
    },
    {
     "data": {
      "image/png": "[encoded data removed]",
      "text/plain": [
       "<Figure size 640x480 with 1 Axes>"
      ]
     },
     "metadata": {},
     "output_type": "display_data"
    },
    {
     "name": "stdout",
     "output_type": "stream",
     "text": [
      "Angle is: 75.48894049983095\n",
      "Array of descriptors: [[75.48894049983095, 151.12259877771717, 281.30993247402023]]\n"
     ]
    }
   ],
   "source": [
    "# segm_img_des = find_descriptors_in_segmentation_image(sem_segm_img_path)\n",
    "segm_img_des = find_descriptors_in_segmentation_image(sem_segm_img_path) # without pruning\n",
    "print(f\"Array of descriptors: {segm_img_des}\")"
   ]
  },
  {
   "cell_type": "code",
   "execution_count": 55,
   "metadata": {},
   "outputs": [],
   "source": [
    "def find_descriptors_in_mapbox_image(img_path, image_name, vis=False) : \n",
    "    img_bgr = cv2.imread(img_path)\n",
    "    # print(\"Mapbox image\")\n",
    "    # plot_image(img_bgr)\n",
    "\n",
    "    new_width, new_height = img_bgr.shape[1], img_bgr.shape[0] - 100 \n",
    "    cropped_img_bgr = img_bgr[0:new_height, 0:new_width]\n",
    "    print(\"Cropped mapbox image\")\n",
    "    if vis : \n",
    "        plot_image(cropped_img_bgr)\n",
    "\n",
    "    print(\"Binary thresholding\")\n",
    "    img_gray = cv2.cvtColor(cropped_img_bgr, cv2.COLOR_BGR2GRAY)\n",
    "    ret, thresh_gray = cv2.threshold(img_gray, 127, 255, cv2.THRESH_BINARY)\n",
    "    thresh_bgr = cv2.cvtColor(thresh_gray, cv2.COLOR_GRAY2BGR)\n",
    "    if vis :\n",
    "        plot_image(thresh_bgr)\n",
    "\n",
    "    closing_bgr = isotropic_closing(thresh_bgr, radius=3)\n",
    "    closing_bgr = closing_bgr.astype(np.uint8) * 255\n",
    "    closing_gray = cv2.cvtColor(closing_bgr, cv2.COLOR_BGR2GRAY)\n",
    "    print(\"Isotropic closing of segmentation image\")\n",
    "    if vis : \n",
    "        plot_image(closing_bgr)\n",
    "\n",
    "    # To avoid the precision loss when converting the image to bool, \n",
    "    # you can also binarize the image using one of the available thresholding algorithms\n",
    "    thresh_otsu = threshold_otsu(closing_gray)\n",
    "    mask_gray = closing_gray > thresh_otsu\n",
    "    \n",
    "    # Skeletonize\n",
    "    # skeleton_gray = (skeletonize(contour_mask_gray)).astype(np.uint8)\n",
    "    skeleton_gray = skeletonize(mask_gray, method='lee').astype(np.uint8)\n",
    "\n",
    "    skeleton_bgr = cv2.cvtColor(skeleton_gray, cv2.COLOR_GRAY2BGR)\n",
    "    \n",
    "    # find the intersections in the skeleton\n",
    "    skel_intersections = get_skeleton_intersection(skeleton_bgr)\n",
    "\n",
    "    print(f\"{len(skel_intersections)} intersections found in the skeleton:\")\n",
    "    print(skel_intersections)\n",
    "\n",
    "    descriptors = []\n",
    "            \n",
    "    #  if there are intersections\n",
    "    if skel_intersections != [] :\n",
    "        # visualization\n",
    "        skeleton_bgr_copy = skeleton_bgr.copy()\n",
    "        for intersection in skel_intersections :\n",
    "            skeleton_bgr_copy[intersection[0], intersection[1]] = [0, 0, 255]\n",
    "\n",
    "        if vis : \n",
    "            plot_image(skeleton_bgr_copy)\n",
    "\n",
    "\n",
    "        print(f\"There are intersections in mapbox image {image_name}\")\n",
    "        descriptors = get_descriptors(skeleton_bgr, skel_intersections, visualize = vis)   \n",
    "    else :\n",
    "        print(\"No intersections found in the skeleton\")\n",
    "        \n",
    "    if descriptors == [] :\n",
    "        return None\n",
    "    else :\n",
    "        return descriptors"
   ]
  },
  {
   "cell_type": "code",
   "execution_count": 58,
   "metadata": {},
   "outputs": [
    {
     "name": "stdout",
     "output_type": "stream",
     "text": [
      "**************************************************\n",
      "Mapbox image: 50.7958647-3.5910548.jpg\n",
      "**************************************************\n",
      "Cropped mapbox image\n",
      "Binary thresholding\n",
      "Isotropic closing of segmentation image\n",
      "Getting intersections in skeleton (more than 2 neighbours)\n",
      "4 intersections found in the skeleton:\n",
      "[(212, 346), (227, 344), (247, 257), (262, 254)]\n",
      "There are intersections in mapbox image 50.7958647-3.5910548.jpg\n"
     ]
    },
    {
     "data": {
      "image/png": "[encoded data removed]",
      "text/plain": [
       "<Figure size 640x480 with 1 Axes>"
      ]
     },
     "metadata": {},
     "output_type": "display_data"
    },
    {
     "name": "stdout",
     "output_type": "stream",
     "text": [
      "All x-values are the same\n",
      "Angle is: 90\n"
     ]
    },
    {
     "data": {
      "image/png": "[encoded data removed]",
      "text/plain": [
       "<Figure size 640x480 with 1 Axes>"
      ]
     },
     "metadata": {},
     "output_type": "display_data"
    },
    {
     "name": "stdout",
     "output_type": "stream",
     "text": [
      "All x-values are the same\n",
      "Angle is: 270\n"
     ]
    },
    {
     "data": {
      "image/png": "[encoded data removed]",
      "text/plain": [
       "<Figure size 640x480 with 1 Axes>"
      ]
     },
     "metadata": {},
     "output_type": "display_data"
    },
    {
     "name": "stdout",
     "output_type": "stream",
     "text": [
      "Angle is: 5.882445590095342\n"
     ]
    },
    {
     "data": {
      "image/png": "[encoded data removed]",
      "text/plain": [
       "<Figure size 640x480 with 1 Axes>"
      ]
     },
     "metadata": {},
     "output_type": "display_data"
    },
    {
     "name": "stdout",
     "output_type": "stream",
     "text": [
      "Angle is: 185.53863753279052\n"
     ]
    },
    {
     "data": {
      "image/png": "[encoded data removed]",
      "text/plain": [
       "<Figure size 640x480 with 1 Axes>"
      ]
     },
     "metadata": {},
     "output_type": "display_data"
    },
    {
     "name": "stdout",
     "output_type": "stream",
     "text": [
      "All x-values are the same\n",
      "Angle is: 90\n"
     ]
    },
    {
     "data": {
      "image/png": "[encoded data removed]",
      "text/plain": [
       "<Figure size 640x480 with 1 Axes>"
      ]
     },
     "metadata": {},
     "output_type": "display_data"
    },
    {
     "name": "stdout",
     "output_type": "stream",
     "text": [
      "All x-values are the same\n",
      "Angle is: 270\n"
     ]
    },
    {
     "data": {
      "image/png": "[encoded data removed]",
      "text/plain": [
       "<Figure size 640x480 with 1 Axes>"
      ]
     },
     "metadata": {},
     "output_type": "display_data"
    },
    {
     "name": "stdout",
     "output_type": "stream",
     "text": [
      "Angle is: 78.69006752597979\n"
     ]
    },
    {
     "data": {
      "image/png": "[encoded data removed]",
      "text/plain": [
       "<Figure size 640x480 with 1 Axes>"
      ]
     },
     "metadata": {},
     "output_type": "display_data"
    },
    {
     "name": "stdout",
     "output_type": "stream",
     "text": [
      "All x-values are the same\n",
      "Angle is: 270\n"
     ]
    },
    {
     "data": {
      "image/png": "[encoded data removed]",
      "text/plain": [
       "<Figure size 640x480 with 1 Axes>"
      ]
     },
     "metadata": {},
     "output_type": "display_data"
    },
    {
     "name": "stdout",
     "output_type": "stream",
     "text": [
      "Angle is: 8.275892827075198\n"
     ]
    },
    {
     "data": {
      "image/png": "[encoded data removed]",
      "text/plain": [
       "<Figure size 640x480 with 1 Axes>"
      ]
     },
     "metadata": {},
     "output_type": "display_data"
    },
    {
     "name": "stdout",
     "output_type": "stream",
     "text": [
      "Angle is: 187.25319461272534\n"
     ]
    },
    {
     "data": {
      "image/png": "[encoded data removed]",
      "text/plain": [
       "<Figure size 640x480 with 1 Axes>"
      ]
     },
     "metadata": {},
     "output_type": "display_data"
    },
    {
     "name": "stdout",
     "output_type": "stream",
     "text": [
      "All x-values are the same\n",
      "Angle is: 90\n"
     ]
    },
    {
     "data": {
      "image/png": "[encoded data removed]",
      "text/plain": [
       "<Figure size 640x480 with 1 Axes>"
      ]
     },
     "metadata": {},
     "output_type": "display_data"
    },
    {
     "name": "stdout",
     "output_type": "stream",
     "text": [
      "All x-values are the same\n",
      "Angle is: 270\n",
      "Descriptors for mapbox image 50.7958647-3.5910548.jpg:\n",
      "[[5.882445590095342, 90, 270], [90, 185.53863753279052, 270], [8.275892827075198, 78.69006752597979, 270], [90, 187.25319461272534, 270]]\n",
      "Number of descriptors: 4\n",
      "Descriptor of segmentation image:\n",
      "[75.48894049983095, 151.12259877771717, 281.30993247402023]\n",
      "Descriptor of mapbox image:\n",
      "[5.882445590095342, 90, 270]\n",
      "Angle of segmentation image: 75.48894049983095\n",
      "Angle of mapbox image: 5.882445590095342\n",
      "Angle of mapbox image: 90\n",
      "Angle of mapbox image: 270\n",
      "Best diff = 14.511059500169054 with angle 90\n",
      "Angle of segmentation image: 151.12259877771717\n",
      "Angle of mapbox image: 5.882445590095342\n",
      "Angle of mapbox image: 90\n",
      "Angle of mapbox image: 270\n",
      "Best diff = 118.87740122228283 with angle 270\n",
      "Angle of segmentation image: 281.30993247402023\n",
      "Angle of mapbox image: 5.882445590095342\n",
      "Angle of mapbox image: 90\n",
      "Angle of mapbox image: 270\n",
      "Best diff = 84.57251311607513 with angle 5.882445590095342\n",
      "Result = 146.61145024843646\n",
      "Descriptor of mapbox image:\n",
      "[90, 185.53863753279052, 270]\n",
      "Angle of segmentation image: 75.48894049983095\n",
      "Angle of mapbox image: 90\n",
      "Angle of mapbox image: 185.53863753279052\n",
      "Angle of mapbox image: 270\n",
      "Best diff = 14.511059500169054 with angle 90\n",
      "Angle of segmentation image: 151.12259877771717\n",
      "Angle of mapbox image: 90\n",
      "Angle of mapbox image: 185.53863753279052\n",
      "Angle of mapbox image: 270\n",
      "Best diff = 34.416038755073345 with angle 185.53863753279052\n",
      "Angle of segmentation image: 281.30993247402023\n",
      "Angle of mapbox image: 90\n",
      "Angle of mapbox image: 185.53863753279052\n",
      "Angle of mapbox image: 270\n",
      "Best diff = 11.30993247402023 with angle 270\n",
      "Result = 39.02498102465976\n",
      "Descriptor of mapbox image:\n",
      "[8.275892827075198, 78.69006752597979, 270]\n",
      "Angle of segmentation image: 75.48894049983095\n",
      "Angle of mapbox image: 8.275892827075198\n",
      "Angle of mapbox image: 78.69006752597979\n",
      "Angle of mapbox image: 270\n",
      "Best diff = 3.201127026148839 with angle 78.69006752597979\n",
      "Angle of segmentation image: 151.12259877771717\n",
      "Angle of mapbox image: 8.275892827075198\n",
      "Angle of mapbox image: 78.69006752597979\n",
      "Angle of mapbox image: 270\n",
      "Best diff = 118.87740122228283 with angle 270\n",
      "Angle of segmentation image: 281.30993247402023\n",
      "Angle of mapbox image: 8.275892827075198\n",
      "Angle of mapbox image: 78.69006752597979\n",
      "Angle of mapbox image: 270\n",
      "Best diff = 86.96596035305498 with angle 8.275892827075198\n",
      "Result = 147.32671853988427\n",
      "Descriptor of mapbox image:\n",
      "[90, 187.25319461272534, 270]\n",
      "Angle of segmentation image: 75.48894049983095\n",
      "Angle of mapbox image: 90\n",
      "Angle of mapbox image: 187.25319461272534\n",
      "Angle of mapbox image: 270\n",
      "Best diff = 14.511059500169054 with angle 90\n",
      "Angle of segmentation image: 151.12259877771717\n",
      "Angle of mapbox image: 90\n",
      "Angle of mapbox image: 187.25319461272534\n",
      "Angle of mapbox image: 270\n",
      "Best diff = 36.130595835008165 with angle 187.25319461272534\n",
      "Angle of segmentation image: 281.30993247402023\n",
      "Angle of mapbox image: 90\n",
      "Angle of mapbox image: 187.25319461272534\n",
      "Angle of mapbox image: 270\n",
      "Best diff = 11.30993247402023 with angle 270\n",
      "Result = 40.545102981458236\n",
      "Score = 6.24699776089761\n",
      "**************************************************\n",
      "Mapbox image: 50.7959163-3.5913055.jpg\n",
      "**************************************************\n",
      "Cropped mapbox image\n",
      "Binary thresholding\n",
      "Isotropic closing of segmentation image\n",
      "Getting intersections in skeleton (more than 2 neighbours)\n",
      "4 intersections found in the skeleton:\n",
      "[(247, 255), (264, 255), (327, 197), (342, 197)]\n",
      "There are intersections in mapbox image 50.7959163-3.5913055.jpg\n"
     ]
    },
    {
     "data": {
      "image/png": "[encoded data removed]",
      "text/plain": [
       "<Figure size 640x480 with 1 Axes>"
      ]
     },
     "metadata": {},
     "output_type": "display_data"
    },
    {
     "name": "stdout",
     "output_type": "stream",
     "text": [
      "Angle is: 137.0863553097907\n"
     ]
    },
    {
     "data": {
      "image/png": "[encoded data removed]",
      "text/plain": [
       "<Figure size 640x480 with 1 Axes>"
      ]
     },
     "metadata": {},
     "output_type": "display_data"
    },
    {
     "name": "stdout",
     "output_type": "stream",
     "text": [
      "All x-values are the same\n",
      "Angle is: 270\n"
     ]
    },
    {
     "data": {
      "image/png": "[encoded data removed]",
      "text/plain": [
       "<Figure size 640x480 with 1 Axes>"
      ]
     },
     "metadata": {},
     "output_type": "display_data"
    },
    {
     "name": "stdout",
     "output_type": "stream",
     "text": [
      "Angle is: 31.471684533627307\n"
     ]
    },
    {
     "data": {
      "image/png": "[encoded data removed]",
      "text/plain": [
       "<Figure size 640x480 with 1 Axes>"
      ]
     },
     "metadata": {},
     "output_type": "display_data"
    },
    {
     "name": "stdout",
     "output_type": "stream",
     "text": [
      "Angle is: 213.20657031508955\n"
     ]
    },
    {
     "data": {
      "image/png": "[encoded data removed]",
      "text/plain": [
       "<Figure size 640x480 with 1 Axes>"
      ]
     },
     "metadata": {},
     "output_type": "display_data"
    },
    {
     "name": "stdout",
     "output_type": "stream",
     "text": [
      "All x-values are the same\n",
      "Angle is: 90\n"
     ]
    },
    {
     "data": {
      "image/png": "[encoded data removed]",
      "text/plain": [
       "<Figure size 640x480 with 1 Axes>"
      ]
     },
     "metadata": {},
     "output_type": "display_data"
    },
    {
     "name": "stdout",
     "output_type": "stream",
     "text": [
      "Angle is: 314.130065864371\n"
     ]
    },
    {
     "data": {
      "image/png": "[encoded data removed]",
      "text/plain": [
       "<Figure size 640x480 with 1 Axes>"
      ]
     },
     "metadata": {},
     "output_type": "display_data"
    },
    {
     "name": "stdout",
     "output_type": "stream",
     "text": [
      "Angle is: 134.42010300507155\n"
     ]
    },
    {
     "data": {
      "image/png": "[encoded data removed]",
      "text/plain": [
       "<Figure size 640x480 with 1 Axes>"
      ]
     },
     "metadata": {},
     "output_type": "display_data"
    },
    {
     "name": "stdout",
     "output_type": "stream",
     "text": [
      "All x-values are the same\n",
      "Angle is: 270\n"
     ]
    },
    {
     "data": {
      "image/png": "[encoded data removed]",
      "text/plain": [
       "<Figure size 640x480 with 1 Axes>"
      ]
     },
     "metadata": {},
     "output_type": "display_data"
    },
    {
     "name": "stdout",
     "output_type": "stream",
     "text": [
      "Angle is: 31.471684533627307\n"
     ]
    },
    {
     "data": {
      "image/png": "[encoded data removed]",
      "text/plain": [
       "<Figure size 640x480 with 1 Axes>"
      ]
     },
     "metadata": {},
     "output_type": "display_data"
    },
    {
     "name": "stdout",
     "output_type": "stream",
     "text": [
      "Angle is: 209.14297798197177\n"
     ]
    },
    {
     "data": {
      "image/png": "[encoded data removed]",
      "text/plain": [
       "<Figure size 640x480 with 1 Axes>"
      ]
     },
     "metadata": {},
     "output_type": "display_data"
    },
    {
     "name": "stdout",
     "output_type": "stream",
     "text": [
      "All x-values are the same\n",
      "Angle is: 90\n"
     ]
    },
    {
     "data": {
      "image/png": "[encoded data removed]",
      "text/plain": [
       "<Figure size 640x480 with 1 Axes>"
      ]
     },
     "metadata": {},
     "output_type": "display_data"
    },
    {
     "name": "stdout",
     "output_type": "stream",
     "text": [
      "Angle is: 311.9072254199365\n",
      "Descriptors for mapbox image 50.7959163-3.5913055.jpg:\n",
      "[[31.471684533627307, 137.0863553097907, 270], [90, 213.20657031508955, 314.130065864371], [31.471684533627307, 134.42010300507155, 270], [90, 209.14297798197177, 311.9072254199365]]\n",
      "Number of descriptors: 4\n",
      "Descriptor of segmentation image:\n",
      "[75.48894049983095, 151.12259877771717, 281.30993247402023]\n",
      "Descriptor of mapbox image:\n",
      "[31.471684533627307, 137.0863553097907, 270]\n",
      "Angle of segmentation image: 75.48894049983095\n",
      "Angle of mapbox image: 31.471684533627307\n",
      "Angle of mapbox image: 137.0863553097907\n",
      "Angle of mapbox image: 270\n",
      "Best diff = 44.017255966203635 with angle 31.471684533627307\n",
      "Angle of segmentation image: 151.12259877771717\n",
      "Angle of mapbox image: 31.471684533627307\n",
      "Angle of mapbox image: 137.0863553097907\n",
      "Angle of mapbox image: 270\n",
      "Best diff = 14.036243467926482 with angle 137.0863553097907\n",
      "Angle of segmentation image: 281.30993247402023\n",
      "Angle of mapbox image: 31.471684533627307\n",
      "Angle of mapbox image: 137.0863553097907\n",
      "Angle of mapbox image: 270\n",
      "Best diff = 11.30993247402023 with angle 270\n",
      "Result = 47.565213402780984\n",
      "Descriptor of mapbox image:\n",
      "[90, 213.20657031508955, 314.130065864371]\n",
      "Angle of segmentation image: 75.48894049983095\n",
      "Angle of mapbox image: 90\n",
      "Angle of mapbox image: 213.20657031508955\n",
      "Angle of mapbox image: 314.130065864371\n",
      "Best diff = 14.511059500169054 with angle 90\n",
      "Angle of segmentation image: 151.12259877771717\n",
      "Angle of mapbox image: 90\n",
      "Angle of mapbox image: 213.20657031508955\n",
      "Angle of mapbox image: 314.130065864371\n",
      "Best diff = 62.08397153737238 with angle 213.20657031508955\n",
      "Angle of segmentation image: 281.30993247402023\n",
      "Angle of mapbox image: 90\n",
      "Angle of mapbox image: 213.20657031508955\n",
      "Angle of mapbox image: 314.130065864371\n",
      "Best diff = 32.82013339035075 with angle 314.130065864371\n",
      "Result = 71.70879670884965\n",
      "Descriptor of mapbox image:\n",
      "[31.471684533627307, 134.42010300507155, 270]\n",
      "Angle of segmentation image: 75.48894049983095\n",
      "Angle of mapbox image: 31.471684533627307\n",
      "Angle of mapbox image: 134.42010300507155\n",
      "Angle of mapbox image: 270\n",
      "Best diff = 44.017255966203635 with angle 31.471684533627307\n",
      "Angle of segmentation image: 151.12259877771717\n",
      "Angle of mapbox image: 31.471684533627307\n",
      "Angle of mapbox image: 134.42010300507155\n",
      "Angle of mapbox image: 270\n",
      "Best diff = 16.70249577264562 with angle 134.42010300507155\n",
      "Angle of segmentation image: 281.30993247402023\n",
      "Angle of mapbox image: 31.471684533627307\n",
      "Angle of mapbox image: 134.42010300507155\n",
      "Angle of mapbox image: 270\n",
      "Best diff = 11.30993247402023 with angle 270\n",
      "Result = 48.419074344688084\n",
      "Descriptor of mapbox image:\n",
      "[90, 209.14297798197177, 311.9072254199365]\n",
      "Angle of segmentation image: 75.48894049983095\n",
      "Angle of mapbox image: 90\n",
      "Angle of mapbox image: 209.14297798197177\n",
      "Angle of mapbox image: 311.9072254199365\n",
      "Best diff = 14.511059500169054 with angle 90\n",
      "Angle of segmentation image: 151.12259877771717\n",
      "Angle of mapbox image: 90\n",
      "Angle of mapbox image: 209.14297798197177\n",
      "Angle of mapbox image: 311.9072254199365\n",
      "Best diff = 58.020379204254596 with angle 209.14297798197177\n",
      "Angle of segmentation image: 281.30993247402023\n",
      "Angle of mapbox image: 90\n",
      "Angle of mapbox image: 209.14297798197177\n",
      "Angle of mapbox image: 311.9072254199365\n",
      "Best diff = 30.59729294591625 with angle 311.9072254199365\n",
      "Result = 67.17983020551006\n",
      "Score = 6.896753830809172\n",
      "**************************************************\n",
      "Mapbox image: 50.796277-3.5913432.jpg\n",
      "**************************************************\n",
      "Cropped mapbox image\n",
      "Binary thresholding\n",
      "Isotropic closing of segmentation image\n",
      "Getting intersections in skeleton (more than 2 neighbours)\n",
      "0 intersections found in the skeleton:\n",
      "[]\n",
      "No intersections found in the skeleton\n",
      "Descriptors for mapbox image 50.796277-3.5913432.jpg:\n",
      "None\n",
      "**************************************************\n",
      "Mapbox image: 50.7976443-3.5937476.jpg\n",
      "**************************************************\n",
      "Cropped mapbox image\n",
      "Binary thresholding\n",
      "Isotropic closing of segmentation image\n",
      "Getting intersections in skeleton (more than 2 neighbours)\n",
      "3 intersections found in the skeleton:\n",
      "[(50, 100), (164, 411), (261, 252)]\n",
      "There are intersections in mapbox image 50.7976443-3.5937476.jpg\n"
     ]
    },
    {
     "data": {
      "image/png": "[encoded data removed]",
      "text/plain": [
       "<Figure size 640x480 with 1 Axes>"
      ]
     },
     "metadata": {},
     "output_type": "display_data"
    },
    {
     "name": "stdout",
     "output_type": "stream",
     "text": [
      "Angle is: 188.2758928270752\n"
     ]
    },
    {
     "data": {
      "image/png": "[encoded data removed]",
      "text/plain": [
       "<Figure size 640x480 with 1 Axes>"
      ]
     },
     "metadata": {},
     "output_type": "display_data"
    },
    {
     "name": "stdout",
     "output_type": "stream",
     "text": [
      "Angle is: 133.70627728358704\n"
     ]
    },
    {
     "data": {
      "image/png": "[encoded data removed]",
      "text/plain": [
       "<Figure size 640x480 with 1 Axes>"
      ]
     },
     "metadata": {},
     "output_type": "display_data"
    },
    {
     "name": "stdout",
     "output_type": "stream",
     "text": [
      "Angle is: 354.8055710922652\n"
     ]
    },
    {
     "data": {
      "image/png": "[encoded data removed]",
      "text/plain": [
       "<Figure size 640x480 with 1 Axes>"
      ]
     },
     "metadata": {},
     "output_type": "display_data"
    },
    {
     "name": "stdout",
     "output_type": "stream",
     "text": [
      "Angle is: 183.1221304621157\n"
     ]
    },
    {
     "data": {
      "image/png": "[encoded data removed]",
      "text/plain": [
       "<Figure size 640x480 with 1 Axes>"
      ]
     },
     "metadata": {},
     "output_type": "display_data"
    },
    {
     "name": "stdout",
     "output_type": "stream",
     "text": [
      "All x-values are the same\n",
      "Angle is: 90\n"
     ]
    },
    {
     "data": {
      "image/png": "[encoded data removed]",
      "text/plain": [
       "<Figure size 640x480 with 1 Axes>"
      ]
     },
     "metadata": {},
     "output_type": "display_data"
    },
    {
     "name": "stdout",
     "output_type": "stream",
     "text": [
      "Angle is: 325.0493485881249\n"
     ]
    },
    {
     "data": {
      "image/png": "[encoded data removed]",
      "text/plain": [
       "<Figure size 640x480 with 1 Axes>"
      ]
     },
     "metadata": {},
     "output_type": "display_data"
    },
    {
     "name": "stdout",
     "output_type": "stream",
     "text": [
      "Angle is: 159.40590977969123\n"
     ]
    },
    {
     "data": {
      "image/png": "[encoded data removed]",
      "text/plain": [
       "<Figure size 640x480 with 1 Axes>"
      ]
     },
     "metadata": {},
     "output_type": "display_data"
    },
    {
     "name": "stdout",
     "output_type": "stream",
     "text": [
      "Angle is: 258.69006752597977\n"
     ]
    },
    {
     "data": {
      "image/png": "[encoded data removed]",
      "text/plain": [
       "<Figure size 640x480 with 1 Axes>"
      ]
     },
     "metadata": {},
     "output_type": "display_data"
    },
    {
     "name": "stdout",
     "output_type": "stream",
     "text": [
      "Angle is: 10.304846468766035\n",
      "Descriptors for mapbox image 50.7976443-3.5937476.jpg:\n",
      "[[133.70627728358704, 188.2758928270752, 354.8055710922652], [90, 183.1221304621157, 325.0493485881249], [10.304846468766035, 159.40590977969123, 258.69006752597977]]\n",
      "Number of descriptors: 3\n",
      "Descriptor of segmentation image:\n",
      "[75.48894049983095, 151.12259877771717, 281.30993247402023]\n",
      "Descriptor of mapbox image:\n",
      "[133.70627728358704, 188.2758928270752, 354.8055710922652]\n",
      "Angle of segmentation image: 75.48894049983095\n",
      "Angle of mapbox image: 133.70627728358704\n",
      "Angle of mapbox image: 188.2758928270752\n",
      "Angle of mapbox image: 354.8055710922652\n",
      "Best diff = 58.217336783756096 with angle 133.70627728358704\n",
      "Angle of segmentation image: 151.12259877771717\n",
      "Angle of mapbox image: 133.70627728358704\n",
      "Angle of mapbox image: 188.2758928270752\n",
      "Angle of mapbox image: 354.8055710922652\n",
      "Best diff = 37.15329404935804 with angle 188.2758928270752\n",
      "Angle of segmentation image: 281.30993247402023\n",
      "Angle of mapbox image: 133.70627728358704\n",
      "Angle of mapbox image: 188.2758928270752\n",
      "Angle of mapbox image: 354.8055710922652\n",
      "Best diff = 73.49563861824498 with angle 354.8055710922652\n",
      "Result = 100.8525381773558\n",
      "Descriptor of mapbox image:\n",
      "[90, 183.1221304621157, 325.0493485881249]\n",
      "Angle of segmentation image: 75.48894049983095\n",
      "Angle of mapbox image: 90\n",
      "Angle of mapbox image: 183.1221304621157\n",
      "Angle of mapbox image: 325.0493485881249\n",
      "Best diff = 14.511059500169054 with angle 90\n",
      "Angle of segmentation image: 151.12259877771717\n",
      "Angle of mapbox image: 90\n",
      "Angle of mapbox image: 183.1221304621157\n",
      "Angle of mapbox image: 325.0493485881249\n",
      "Best diff = 31.999531684398534 with angle 183.1221304621157\n",
      "Angle of segmentation image: 281.30993247402023\n",
      "Angle of mapbox image: 90\n",
      "Angle of mapbox image: 183.1221304621157\n",
      "Angle of mapbox image: 325.0493485881249\n",
      "Best diff = 43.73941611410464 with angle 325.0493485881249\n",
      "Result = 56.104165601504754\n",
      "Descriptor of mapbox image:\n",
      "[10.304846468766035, 159.40590977969123, 258.69006752597977]\n",
      "Angle of segmentation image: 75.48894049983095\n",
      "Angle of mapbox image: 10.304846468766035\n",
      "Angle of mapbox image: 159.40590977969123\n",
      "Angle of mapbox image: 258.69006752597977\n",
      "Best diff = 65.18409403106492 with angle 10.304846468766035\n",
      "Angle of segmentation image: 151.12259877771717\n",
      "Angle of mapbox image: 10.304846468766035\n",
      "Angle of mapbox image: 159.40590977969123\n",
      "Angle of mapbox image: 258.69006752597977\n",
      "Best diff = 8.283311001974056 with angle 159.40590977969123\n",
      "Angle of segmentation image: 281.30993247402023\n",
      "Angle of mapbox image: 10.304846468766035\n",
      "Angle of mapbox image: 159.40590977969123\n",
      "Angle of mapbox image: 258.69006752597977\n",
      "Best diff = 22.61986494804046 with angle 258.69006752597977\n",
      "Result = 69.49271649657773\n",
      "Score = 7.49027139705263\n",
      "**************************************************\n",
      "Mapbox image: 50.798307-3.5917455.jpg\n",
      "**************************************************\n",
      "Cropped mapbox image\n",
      "Binary thresholding\n",
      "Isotropic closing of segmentation image\n",
      "Getting intersections in skeleton (more than 2 neighbours)\n",
      "8 intersections found in the skeleton:\n",
      "[(6, 9), (6, 61), (11, 212), (18, 138), (24, 109), (39, 418), (166, 194), (267, 257)]\n",
      "There are intersections in mapbox image 50.798307-3.5917455.jpg\n",
      "Count threshold not reached\n"
     ]
    },
    {
     "data": {
      "image/png": "[encoded data removed]",
      "text/plain": [
       "<Figure size 640x480 with 1 Axes>"
      ]
     },
     "metadata": {},
     "output_type": "display_data"
    },
    {
     "name": "stdout",
     "output_type": "stream",
     "text": [
      "Angle is: 10.304846468766035\n"
     ]
    },
    {
     "data": {
      "image/png": "[encoded data removed]",
      "text/plain": [
       "<Figure size 640x480 with 1 Axes>"
      ]
     },
     "metadata": {},
     "output_type": "display_data"
    },
    {
     "name": "stdout",
     "output_type": "stream",
     "text": [
      "Angle is: 356.8778695378843\n",
      "Count threshold not reached\n",
      "Count threshold not reached\n"
     ]
    },
    {
     "data": {
      "image/png": "[encoded data removed]",
      "text/plain": [
       "<Figure size 640x480 with 1 Axes>"
      ]
     },
     "metadata": {},
     "output_type": "display_data"
    },
    {
     "name": "stdout",
     "output_type": "stream",
     "text": [
      "Angle is: 346.3730051401085\n"
     ]
    },
    {
     "data": {
      "image/png": "[encoded data removed]",
      "text/plain": [
       "<Figure size 640x480 with 1 Axes>"
      ]
     },
     "metadata": {},
     "output_type": "display_data"
    },
    {
     "name": "stdout",
     "output_type": "stream",
     "text": [
      "Angle is: 188.61564818416412\n"
     ]
    },
    {
     "data": {
      "image/png": "[encoded data removed]",
      "text/plain": [
       "<Figure size 640x480 with 1 Axes>"
      ]
     },
     "metadata": {},
     "output_type": "display_data"
    },
    {
     "name": "stdout",
     "output_type": "stream",
     "text": [
      "Angle is: 241.2403814662775\n",
      "Count threshold not reached\n"
     ]
    },
    {
     "data": {
      "image/png": "[encoded data removed]",
      "text/plain": [
       "<Figure size 640x480 with 1 Axes>"
      ]
     },
     "metadata": {},
     "output_type": "display_data"
    },
    {
     "name": "stdout",
     "output_type": "stream",
     "text": [
      "Angle is: 193.95450917313684\n",
      "Count threshold not reached\n"
     ]
    },
    {
     "data": {
      "image/png": "[encoded data removed]",
      "text/plain": [
       "<Figure size 640x480 with 1 Axes>"
      ]
     },
     "metadata": {},
     "output_type": "display_data"
    },
    {
     "name": "stdout",
     "output_type": "stream",
     "text": [
      "Angle is: 359.6527571029142\n"
     ]
    },
    {
     "data": {
      "image/png": "[encoded data removed]",
      "text/plain": [
       "<Figure size 640x480 with 1 Axes>"
      ]
     },
     "metadata": {},
     "output_type": "display_data"
    },
    {
     "name": "stdout",
     "output_type": "stream",
     "text": [
      "Angle is: 192.6390624406301\n"
     ]
    },
    {
     "data": {
      "image/png": "[encoded data removed]",
      "text/plain": [
       "<Figure size 640x480 with 1 Axes>"
      ]
     },
     "metadata": {},
     "output_type": "display_data"
    },
    {
     "name": "stdout",
     "output_type": "stream",
     "text": [
      "Angle is: 162.82409638425327\n"
     ]
    },
    {
     "data": {
      "image/png": "[encoded data removed]",
      "text/plain": [
       "<Figure size 640x480 with 1 Axes>"
      ]
     },
     "metadata": {},
     "output_type": "display_data"
    },
    {
     "name": "stdout",
     "output_type": "stream",
     "text": [
      "Angle is: 0.0\n"
     ]
    },
    {
     "data": {
      "image/png": "[encoded data removed]",
      "text/plain": [
       "<Figure size 640x480 with 1 Axes>"
      ]
     },
     "metadata": {},
     "output_type": "display_data"
    },
    {
     "name": "stdout",
     "output_type": "stream",
     "text": [
      "Angle is: 166.37300514010846\n"
     ]
    },
    {
     "data": {
      "image/png": "[encoded data removed]",
      "text/plain": [
       "<Figure size 640x480 with 1 Axes>"
      ]
     },
     "metadata": {},
     "output_type": "display_data"
    },
    {
     "name": "stdout",
     "output_type": "stream",
     "text": [
      "Angle is: 211.97415935312918\n"
     ]
    },
    {
     "data": {
      "image/png": "[encoded data removed]",
      "text/plain": [
       "<Figure size 640x480 with 1 Axes>"
      ]
     },
     "metadata": {},
     "output_type": "display_data"
    },
    {
     "name": "stdout",
     "output_type": "stream",
     "text": [
      "Angle is: 354.4613624672095\n"
     ]
    },
    {
     "data": {
      "image/png": "[encoded data removed]",
      "text/plain": [
       "<Figure size 640x480 with 1 Axes>"
      ]
     },
     "metadata": {},
     "output_type": "display_data"
    },
    {
     "name": "stdout",
     "output_type": "stream",
     "text": [
      "Angle is: 152.47092812754337\n"
     ]
    },
    {
     "data": {
      "image/png": "[encoded data removed]",
      "text/plain": [
       "<Figure size 640x480 with 1 Axes>"
      ]
     },
     "metadata": {},
     "output_type": "display_data"
    },
    {
     "name": "stdout",
     "output_type": "stream",
     "text": [
      "Angle is: 258.69006752597977\n"
     ]
    },
    {
     "data": {
      "image/png": "[encoded data removed]",
      "text/plain": [
       "<Figure size 640x480 with 1 Axes>"
      ]
     },
     "metadata": {},
     "output_type": "display_data"
    },
    {
     "name": "stdout",
     "output_type": "stream",
     "text": [
      "Angle is: 75.16500780574127\n"
     ]
    },
    {
     "data": {
      "image/png": "[encoded data removed]",
      "text/plain": [
       "<Figure size 640x480 with 1 Axes>"
      ]
     },
     "metadata": {},
     "output_type": "display_data"
    },
    {
     "name": "stdout",
     "output_type": "stream",
     "text": [
      "All x-values are the same\n",
      "Angle is: 90\n"
     ]
    },
    {
     "data": {
      "image/png": "[encoded data removed]",
      "text/plain": [
       "<Figure size 640x480 with 1 Axes>"
      ]
     },
     "metadata": {},
     "output_type": "display_data"
    },
    {
     "name": "stdout",
     "output_type": "stream",
     "text": [
      "All x-values are the same\n",
      "Angle is: 270\n"
     ]
    },
    {
     "data": {
      "image/png": "[encoded data removed]",
      "text/plain": [
       "<Figure size 640x480 with 1 Axes>"
      ]
     },
     "metadata": {},
     "output_type": "display_data"
    },
    {
     "name": "stdout",
     "output_type": "stream",
     "text": [
      "Angle is: 32.223355230747885\n",
      "Descriptors for mapbox image 50.798307-3.5917455.jpg:\n",
      "[[10.304846468766035, 356.8778695378843], [346.3730051401085], [188.61564818416412, 241.2403814662775], [193.95450917313684, 359.6527571029142], [0.0, 162.82409638425327, 192.6390624406301], [166.37300514010846, 211.97415935312918, 354.4613624672095], [75.16500780574127, 152.47092812754337, 258.69006752597977], [32.223355230747885, 90, 270]]\n",
      "Number of descriptors: 8\n",
      "Descriptor of segmentation image:\n",
      "[75.48894049983095, 151.12259877771717, 281.30993247402023]\n",
      "Descriptor of mapbox image:\n",
      "[10.304846468766035, 356.8778695378843]\n",
      "Descriptor of mapbox image:\n",
      "[346.3730051401085]\n",
      "Descriptor of mapbox image:\n",
      "[188.61564818416412, 241.2403814662775]\n",
      "Descriptor of mapbox image:\n",
      "[193.95450917313684, 359.6527571029142]\n",
      "Descriptor of mapbox image:\n",
      "[0.0, 162.82409638425327, 192.6390624406301]\n",
      "Angle of segmentation image: 75.48894049983095\n",
      "Angle of mapbox image: 0.0\n",
      "Angle of mapbox image: 162.82409638425327\n",
      "Angle of mapbox image: 192.6390624406301\n",
      "Best diff = 75.48894049983095 with angle 0.0\n",
      "Angle of segmentation image: 151.12259877771717\n",
      "Angle of mapbox image: 0.0\n",
      "Angle of mapbox image: 162.82409638425327\n",
      "Angle of mapbox image: 192.6390624406301\n",
      "Best diff = 11.701497606536094 with angle 162.82409638425327\n",
      "Angle of segmentation image: 281.30993247402023\n",
      "Angle of mapbox image: 0.0\n",
      "Angle of mapbox image: 162.82409638425327\n",
      "Angle of mapbox image: 192.6390624406301\n",
      "Best diff = 88.67087003339012 with angle 192.6390624406301\n",
      "Result = 117.03857644597848\n",
      "Descriptor of mapbox image:\n",
      "[166.37300514010846, 211.97415935312918, 354.4613624672095]\n",
      "Angle of segmentation image: 75.48894049983095\n",
      "Angle of mapbox image: 166.37300514010846\n",
      "Angle of mapbox image: 211.97415935312918\n",
      "Angle of mapbox image: 354.4613624672095\n",
      "Best diff = 81.02757803262148 with angle 354.4613624672095\n",
      "Angle of segmentation image: 151.12259877771717\n",
      "Angle of mapbox image: 166.37300514010846\n",
      "Angle of mapbox image: 211.97415935312918\n",
      "Angle of mapbox image: 354.4613624672095\n",
      "Best diff = 15.250406362391288 with angle 166.37300514010846\n",
      "Angle of segmentation image: 281.30993247402023\n",
      "Angle of mapbox image: 166.37300514010846\n",
      "Angle of mapbox image: 211.97415935312918\n",
      "Angle of mapbox image: 354.4613624672095\n",
      "Best diff = 69.33577312089105 with angle 211.97415935312918\n",
      "Result = 107.72879248521402\n",
      "Descriptor of mapbox image:\n",
      "[75.16500780574127, 152.47092812754337, 258.69006752597977]\n",
      "Angle of segmentation image: 75.48894049983095\n",
      "Angle of mapbox image: 75.16500780574127\n",
      "Angle of mapbox image: 152.47092812754337\n",
      "Angle of mapbox image: 258.69006752597977\n",
      "Best diff = 0.3239326940896774 with angle 75.16500780574127\n",
      "Angle of segmentation image: 151.12259877771717\n",
      "Angle of mapbox image: 75.16500780574127\n",
      "Angle of mapbox image: 152.47092812754337\n",
      "Angle of mapbox image: 258.69006752597977\n",
      "Best diff = 1.3483293498262015 with angle 152.47092812754337\n",
      "Angle of segmentation image: 281.30993247402023\n",
      "Angle of mapbox image: 75.16500780574127\n",
      "Angle of mapbox image: 152.47092812754337\n",
      "Angle of mapbox image: 258.69006752597977\n",
      "Best diff = 22.61986494804046 with angle 258.69006752597977\n",
      "Result = 22.66233030148251\n",
      "Descriptor of mapbox image:\n",
      "[32.223355230747885, 90, 270]\n",
      "Angle of segmentation image: 75.48894049983095\n",
      "Angle of mapbox image: 32.223355230747885\n",
      "Angle of mapbox image: 90\n",
      "Angle of mapbox image: 270\n",
      "Best diff = 14.511059500169054 with angle 90\n",
      "Angle of segmentation image: 151.12259877771717\n",
      "Angle of mapbox image: 32.223355230747885\n",
      "Angle of mapbox image: 90\n",
      "Angle of mapbox image: 270\n",
      "Best diff = 118.87740122228283 with angle 270\n",
      "Angle of segmentation image: 281.30993247402023\n",
      "Angle of mapbox image: 32.223355230747885\n",
      "Angle of mapbox image: 90\n",
      "Angle of mapbox image: 270\n",
      "Best diff = 110.91342275672764 with angle 32.223355230747885\n",
      "Result = 163.23049567036685\n",
      "Score = 4.7604968544766955\n",
      "**************************************************\n",
      "Mapbox image: 50.7978828-3.5914551.jpg\n",
      "**************************************************\n",
      "Cropped mapbox image\n",
      "Binary thresholding\n",
      "Isotropic closing of segmentation image\n",
      "Getting intersections in skeleton (more than 2 neighbours)\n",
      "2 intersections found in the skeleton:\n",
      "[(86, 263), (157, 318)]\n",
      "There are intersections in mapbox image 50.7978828-3.5914551.jpg\n"
     ]
    },
    {
     "data": {
      "image/png": "[encoded data removed]",
      "text/plain": [
       "<Figure size 640x480 with 1 Axes>"
      ]
     },
     "metadata": {},
     "output_type": "display_data"
    },
    {
     "name": "stdout",
     "output_type": "stream",
     "text": [
      "Angle is: 160.63265245222377\n"
     ]
    },
    {
     "data": {
      "image/png": "[encoded data removed]",
      "text/plain": [
       "<Figure size 640x480 with 1 Axes>"
      ]
     },
     "metadata": {},
     "output_type": "display_data"
    },
    {
     "name": "stdout",
     "output_type": "stream",
     "text": [
      "Angle is: 258.69006752597977\n"
     ]
    },
    {
     "data": {
      "image/png": "[encoded data removed]",
      "text/plain": [
       "<Figure size 640x480 with 1 Axes>"
      ]
     },
     "metadata": {},
     "output_type": "display_data"
    },
    {
     "name": "stdout",
     "output_type": "stream",
     "text": [
      "All x-values are the same\n",
      "Angle is: 90\n"
     ]
    },
    {
     "data": {
      "image/png": "[encoded data removed]",
      "text/plain": [
       "<Figure size 640x480 with 1 Axes>"
      ]
     },
     "metadata": {},
     "output_type": "display_data"
    },
    {
     "name": "stdout",
     "output_type": "stream",
     "text": [
      "Angle is: 104.83499219425873\n"
     ]
    },
    {
     "data": {
      "image/png": "[encoded data removed]",
      "text/plain": [
       "<Figure size 640x480 with 1 Axes>"
      ]
     },
     "metadata": {},
     "output_type": "display_data"
    },
    {
     "name": "stdout",
     "output_type": "stream",
     "text": [
      "Angle is: 281.30993247402023\n"
     ]
    },
    {
     "data": {
      "image/png": "[encoded data removed]",
      "text/plain": [
       "<Figure size 640x480 with 1 Axes>"
      ]
     },
     "metadata": {},
     "output_type": "display_data"
    },
    {
     "name": "stdout",
     "output_type": "stream",
     "text": [
      "Angle is: 23.282356213489738\n",
      "Descriptors for mapbox image 50.7978828-3.5914551.jpg:\n",
      "[[90, 160.63265245222377, 258.69006752597977], [23.282356213489738, 104.83499219425873, 281.30993247402023]]\n",
      "Number of descriptors: 2\n",
      "Descriptor of segmentation image:\n",
      "[75.48894049983095, 151.12259877771717, 281.30993247402023]\n",
      "Descriptor of mapbox image:\n",
      "[90, 160.63265245222377, 258.69006752597977]\n",
      "Angle of segmentation image: 75.48894049983095\n",
      "Angle of mapbox image: 90\n",
      "Angle of mapbox image: 160.63265245222377\n",
      "Angle of mapbox image: 258.69006752597977\n",
      "Best diff = 14.511059500169054 with angle 90\n",
      "Angle of segmentation image: 151.12259877771717\n",
      "Angle of mapbox image: 90\n",
      "Angle of mapbox image: 160.63265245222377\n",
      "Angle of mapbox image: 258.69006752597977\n",
      "Best diff = 9.510053674506594 with angle 160.63265245222377\n",
      "Angle of segmentation image: 281.30993247402023\n",
      "Angle of mapbox image: 90\n",
      "Angle of mapbox image: 160.63265245222377\n",
      "Angle of mapbox image: 258.69006752597977\n",
      "Best diff = 22.61986494804046 with angle 258.69006752597977\n",
      "Result = 28.507372011061143\n",
      "Descriptor of mapbox image:\n",
      "[23.282356213489738, 104.83499219425873, 281.30993247402023]\n",
      "Angle of segmentation image: 75.48894049983095\n",
      "Angle of mapbox image: 23.282356213489738\n",
      "Angle of mapbox image: 104.83499219425873\n",
      "Angle of mapbox image: 281.30993247402023\n",
      "Best diff = 29.346051694427786 with angle 104.83499219425873\n",
      "Angle of segmentation image: 151.12259877771717\n",
      "Angle of mapbox image: 23.282356213489738\n",
      "Angle of mapbox image: 104.83499219425873\n",
      "Angle of mapbox image: 281.30993247402023\n",
      "Best diff = 127.84024256422744 with angle 23.282356213489738\n",
      "Angle of segmentation image: 281.30993247402023\n",
      "Angle of mapbox image: 23.282356213489738\n",
      "Angle of mapbox image: 104.83499219425873\n",
      "Angle of mapbox image: 281.30993247402023\n",
      "Best diff = 0.0 with angle 281.30993247402023\n",
      "Result = 131.1652330800069\n",
      "Score = 5.339229533468396\n",
      "**************************************************\n",
      "Mapbox image: 50.7954316-3.5882332.jpg\n",
      "**************************************************\n",
      "Cropped mapbox image\n",
      "Binary thresholding\n",
      "Isotropic closing of segmentation image\n",
      "Getting intersections in skeleton (more than 2 neighbours)\n",
      "1 intersections found in the skeleton:\n",
      "[(368, 276)]\n",
      "There are intersections in mapbox image 50.7954316-3.5882332.jpg\n"
     ]
    },
    {
     "data": {
      "image/png": "[encoded data removed]",
      "text/plain": [
       "<Figure size 640x480 with 1 Axes>"
      ]
     },
     "metadata": {},
     "output_type": "display_data"
    },
    {
     "name": "stdout",
     "output_type": "stream",
     "text": [
      "Angle is: 103.95450917313684\n"
     ]
    },
    {
     "data": {
      "image/png": "[encoded data removed]",
      "text/plain": [
       "<Figure size 640x480 with 1 Axes>"
      ]
     },
     "metadata": {},
     "output_type": "display_data"
    },
    {
     "name": "stdout",
     "output_type": "stream",
     "text": [
      "All x-values are the same\n",
      "Angle is: 270\n"
     ]
    },
    {
     "data": {
      "image/png": "[encoded data removed]",
      "text/plain": [
       "<Figure size 640x480 with 1 Axes>"
      ]
     },
     "metadata": {},
     "output_type": "display_data"
    },
    {
     "name": "stdout",
     "output_type": "stream",
     "text": [
      "Angle is: 7.253194612725335\n",
      "Descriptors for mapbox image 50.7954316-3.5882332.jpg:\n",
      "[[7.253194612725335, 103.95450917313684, 270]]\n",
      "Number of descriptors: 1\n",
      "Descriptor of segmentation image:\n",
      "[75.48894049983095, 151.12259877771717, 281.30993247402023]\n",
      "Descriptor of mapbox image:\n",
      "[7.253194612725335, 103.95450917313684, 270]\n",
      "Angle of segmentation image: 75.48894049983095\n",
      "Angle of mapbox image: 7.253194612725335\n",
      "Angle of mapbox image: 103.95450917313684\n",
      "Angle of mapbox image: 270\n",
      "Best diff = 28.465568673305896 with angle 103.95450917313684\n",
      "Angle of segmentation image: 151.12259877771717\n",
      "Angle of mapbox image: 7.253194612725335\n",
      "Angle of mapbox image: 103.95450917313684\n",
      "Angle of mapbox image: 270\n",
      "Best diff = 118.87740122228283 with angle 270\n",
      "Angle of segmentation image: 281.30993247402023\n",
      "Angle of mapbox image: 7.253194612725335\n",
      "Angle of mapbox image: 103.95450917313684\n",
      "Angle of mapbox image: 270\n",
      "Best diff = 85.94326213870511 with angle 7.253194612725335\n",
      "Result = 149.42680291132675\n",
      "Score = 12.224025642615723\n",
      "**************************************************\n",
      "Mapbox image: 50.79529-3.5912241.jpg\n",
      "**************************************************\n",
      "Cropped mapbox image\n",
      "Binary thresholding\n",
      "Isotropic closing of segmentation image\n",
      "Getting intersections in skeleton (more than 2 neighbours)\n",
      "1 intersections found in the skeleton:\n",
      "[(17, 352)]\n",
      "There are intersections in mapbox image 50.79529-3.5912241.jpg\n"
     ]
    },
    {
     "data": {
      "image/png": "[encoded data removed]",
      "text/plain": [
       "<Figure size 640x480 with 1 Axes>"
      ]
     },
     "metadata": {},
     "output_type": "display_data"
    },
    {
     "name": "stdout",
     "output_type": "stream",
     "text": [
      "Angle is: 150.3299661843394\n"
     ]
    },
    {
     "data": {
      "image/png": "[encoded data removed]",
      "text/plain": [
       "<Figure size 640x480 with 1 Axes>"
      ]
     },
     "metadata": {},
     "output_type": "display_data"
    },
    {
     "name": "stdout",
     "output_type": "stream",
     "text": [
      "Angle is: 251.7146481726805\n",
      "Count threshold not reached\n",
      "Descriptors for mapbox image 50.79529-3.5912241.jpg:\n",
      "[[150.3299661843394, 251.7146481726805]]\n",
      "Number of descriptors: 1\n",
      "Descriptor of segmentation image:\n",
      "[75.48894049983095, 151.12259877771717, 281.30993247402023]\n",
      "Descriptor of mapbox image:\n",
      "[150.3299661843394, 251.7146481726805]\n",
      "Score = 31.622776601683793\n",
      "**************************************************\n",
      "Mapbox image: 50.7967252-3.5912128.jpg\n",
      "**************************************************\n",
      "Cropped mapbox image\n",
      "Binary thresholding\n",
      "Isotropic closing of segmentation image\n",
      "Getting intersections in skeleton (more than 2 neighbours)\n",
      "0 intersections found in the skeleton:\n",
      "[]\n",
      "No intersections found in the skeleton\n",
      "Descriptors for mapbox image 50.7967252-3.5912128.jpg:\n",
      "None\n",
      "**************************************************\n",
      "Mapbox image: 50.7947793-3.5911626.jpg\n",
      "**************************************************\n",
      "Cropped mapbox image\n",
      "Binary thresholding\n",
      "Isotropic closing of segmentation image\n",
      "Getting intersections in skeleton (more than 2 neighbours)\n",
      "2 intersections found in the skeleton:\n",
      "[(253, 169), (266, 252)]\n",
      "There are intersections in mapbox image 50.7947793-3.5911626.jpg\n"
     ]
    },
    {
     "data": {
      "image/png": "[encoded data removed]",
      "text/plain": [
       "<Figure size 640x480 with 1 Axes>"
      ]
     },
     "metadata": {},
     "output_type": "display_data"
    },
    {
     "name": "stdout",
     "output_type": "stream",
     "text": [
      "Angle is: 251.70548172801531\n"
     ]
    },
    {
     "data": {
      "image/png": "[encoded data removed]",
      "text/plain": [
       "<Figure size 640x480 with 1 Axes>"
      ]
     },
     "metadata": {},
     "output_type": "display_data"
    },
    {
     "name": "stdout",
     "output_type": "stream",
     "text": [
      "Angle is: 76.93844891667189\n"
     ]
    },
    {
     "data": {
      "image/png": "[encoded data removed]",
      "text/plain": [
       "<Figure size 640x480 with 1 Axes>"
      ]
     },
     "metadata": {},
     "output_type": "display_data"
    },
    {
     "name": "stdout",
     "output_type": "stream",
     "text": [
      "Angle is: 0.0\n"
     ]
    },
    {
     "data": {
      "image/png": "[encoded data removed]",
      "text/plain": [
       "<Figure size 640x480 with 1 Axes>"
      ]
     },
     "metadata": {},
     "output_type": "display_data"
    },
    {
     "name": "stdout",
     "output_type": "stream",
     "text": [
      "Angle is: 146.07020257793937\n"
     ]
    },
    {
     "data": {
      "image/png": "[encoded data removed]",
      "text/plain": [
       "<Figure size 640x480 with 1 Axes>"
      ]
     },
     "metadata": {},
     "output_type": "display_data"
    },
    {
     "name": "stdout",
     "output_type": "stream",
     "text": [
      "Angle is: 256.04549082686316\n"
     ]
    },
    {
     "data": {
      "image/png": "[encoded data removed]",
      "text/plain": [
       "<Figure size 640x480 with 1 Axes>"
      ]
     },
     "metadata": {},
     "output_type": "display_data"
    },
    {
     "name": "stdout",
     "output_type": "stream",
     "text": [
      "Angle is: 75.16500780574127\n",
      "Descriptors for mapbox image 50.7947793-3.5911626.jpg:\n",
      "[[0.0, 76.93844891667189, 251.70548172801531], [75.16500780574127, 146.07020257793937, 256.04549082686316]]\n",
      "Number of descriptors: 2\n",
      "Descriptor of segmentation image:\n",
      "[75.48894049983095, 151.12259877771717, 281.30993247402023]\n",
      "Descriptor of mapbox image:\n",
      "[0.0, 76.93844891667189, 251.70548172801531]\n",
      "Angle of segmentation image: 75.48894049983095\n",
      "Angle of mapbox image: 0.0\n",
      "Angle of mapbox image: 76.93844891667189\n",
      "Angle of mapbox image: 251.70548172801531\n",
      "Best diff = 1.449508416840942 with angle 76.93844891667189\n",
      "Angle of segmentation image: 151.12259877771717\n",
      "Angle of mapbox image: 0.0\n",
      "Angle of mapbox image: 76.93844891667189\n",
      "Angle of mapbox image: 251.70548172801531\n",
      "Best diff = 100.58288295029814 with angle 251.70548172801531\n",
      "Angle of segmentation image: 281.30993247402023\n",
      "Angle of mapbox image: 0.0\n",
      "Angle of mapbox image: 76.93844891667189\n",
      "Angle of mapbox image: 251.70548172801531\n",
      "Best diff = 78.69006752597977 with angle 0.0\n",
      "Result = 127.71508972900236\n",
      "Descriptor of mapbox image:\n",
      "[75.16500780574127, 146.07020257793937, 256.04549082686316]\n",
      "Angle of segmentation image: 75.48894049983095\n",
      "Angle of mapbox image: 75.16500780574127\n",
      "Angle of mapbox image: 146.07020257793937\n",
      "Angle of mapbox image: 256.04549082686316\n",
      "Best diff = 0.3239326940896774 with angle 75.16500780574127\n",
      "Angle of segmentation image: 151.12259877771717\n",
      "Angle of mapbox image: 75.16500780574127\n",
      "Angle of mapbox image: 146.07020257793937\n",
      "Angle of mapbox image: 256.04549082686316\n",
      "Best diff = 5.052396199777803 with angle 146.07020257793937\n",
      "Angle of segmentation image: 281.30993247402023\n",
      "Angle of mapbox image: 75.16500780574127\n",
      "Angle of mapbox image: 146.07020257793937\n",
      "Angle of mapbox image: 256.04549082686316\n",
      "Best diff = 25.26444164715707 with angle 256.04549082686316\n",
      "Result = 25.76671596250547\n",
      "Score = 5.076092588054858\n",
      "**************************************************\n",
      "Mapbox image: 50.7975002-3.5913741.jpg\n",
      "**************************************************\n",
      "Cropped mapbox image\n",
      "Binary thresholding\n",
      "Isotropic closing of segmentation image\n",
      "Getting intersections in skeleton (more than 2 neighbours)\n",
      "2 intersections found in the skeleton:\n",
      "[(66, 311), (259, 255)]\n",
      "There are intersections in mapbox image 50.7975002-3.5913741.jpg\n"
     ]
    },
    {
     "data": {
      "image/png": "[encoded data removed]",
      "text/plain": [
       "<Figure size 640x480 with 1 Axes>"
      ]
     },
     "metadata": {},
     "output_type": "display_data"
    },
    {
     "name": "stdout",
     "output_type": "stream",
     "text": [
      "All x-values are the same\n",
      "Angle is: 90\n"
     ]
    },
    {
     "data": {
      "image/png": "[encoded data removed]",
      "text/plain": [
       "<Figure size 640x480 with 1 Axes>"
      ]
     },
     "metadata": {},
     "output_type": "display_data"
    },
    {
     "name": "stdout",
     "output_type": "stream",
     "text": [
      "All x-values are the same\n",
      "Angle is: 270\n"
     ]
    },
    {
     "data": {
      "image/png": "[encoded data removed]",
      "text/plain": [
       "<Figure size 640x480 with 1 Axes>"
      ]
     },
     "metadata": {},
     "output_type": "display_data"
    },
    {
     "name": "stdout",
     "output_type": "stream",
     "text": [
      "Angle is: 16.858398767738286\n"
     ]
    },
    {
     "data": {
      "image/png": "[encoded data removed]",
      "text/plain": [
       "<Figure size 640x480 with 1 Axes>"
      ]
     },
     "metadata": {},
     "output_type": "display_data"
    },
    {
     "name": "stdout",
     "output_type": "stream",
     "text": [
      "Angle is: 168.3565685012383\n"
     ]
    },
    {
     "data": {
      "image/png": "[encoded data removed]",
      "text/plain": [
       "<Figure size 640x480 with 1 Axes>"
      ]
     },
     "metadata": {},
     "output_type": "display_data"
    },
    {
     "name": "stdout",
     "output_type": "stream",
     "text": [
      "All x-values are the same\n",
      "Angle is: 270\n"
     ]
    },
    {
     "data": {
      "image/png": "[encoded data removed]",
      "text/plain": [
       "<Figure size 640x480 with 1 Axes>"
      ]
     },
     "metadata": {},
     "output_type": "display_data"
    },
    {
     "name": "stdout",
     "output_type": "stream",
     "text": [
      "All x-values are the same\n",
      "Angle is: 90\n",
      "Descriptors for mapbox image 50.7975002-3.5913741.jpg:\n",
      "[[16.858398767738286, 90, 270], [90, 168.3565685012383, 270]]\n",
      "Number of descriptors: 2\n",
      "Descriptor of segmentation image:\n",
      "[75.48894049983095, 151.12259877771717, 281.30993247402023]\n",
      "Descriptor of mapbox image:\n",
      "[16.858398767738286, 90, 270]\n",
      "Angle of segmentation image: 75.48894049983095\n",
      "Angle of mapbox image: 16.858398767738286\n",
      "Angle of mapbox image: 90\n",
      "Angle of mapbox image: 270\n",
      "Best diff = 14.511059500169054 with angle 90\n",
      "Angle of segmentation image: 151.12259877771717\n",
      "Angle of mapbox image: 16.858398767738286\n",
      "Angle of mapbox image: 90\n",
      "Angle of mapbox image: 270\n",
      "Best diff = 118.87740122228283 with angle 270\n",
      "Angle of segmentation image: 281.30993247402023\n",
      "Angle of mapbox image: 16.858398767738286\n",
      "Angle of mapbox image: 90\n",
      "Angle of mapbox image: 270\n",
      "Best diff = 95.54846629371804 with angle 16.858398767738286\n",
      "Result = 153.20547242270047\n",
      "Descriptor of mapbox image:\n",
      "[90, 168.3565685012383, 270]\n",
      "Angle of segmentation image: 75.48894049983095\n",
      "Angle of mapbox image: 90\n",
      "Angle of mapbox image: 168.3565685012383\n",
      "Angle of mapbox image: 270\n",
      "Best diff = 14.511059500169054 with angle 90\n",
      "Angle of segmentation image: 151.12259877771717\n",
      "Angle of mapbox image: 90\n",
      "Angle of mapbox image: 168.3565685012383\n",
      "Angle of mapbox image: 270\n",
      "Best diff = 17.23396972352114 with angle 168.3565685012383\n",
      "Angle of segmentation image: 281.30993247402023\n",
      "Angle of mapbox image: 90\n",
      "Angle of mapbox image: 168.3565685012383\n",
      "Angle of mapbox image: 270\n",
      "Best diff = 11.30993247402023 with angle 270\n",
      "Result = 25.209028795564247\n",
      "Score = 5.02085936823212\n",
      "**************************************************\n",
      "Mapbox image: 50.7969155-3.5948373.jpg\n",
      "**************************************************\n",
      "Cropped mapbox image\n",
      "Binary thresholding\n",
      "Isotropic closing of segmentation image\n",
      "Getting intersections in skeleton (more than 2 neighbours)\n",
      "7 intersections found in the skeleton:\n",
      "[(124, 276), (208, 262), (227, 15), (250, 256), (254, 501), (268, 108), (292, 183)]\n",
      "There are intersections in mapbox image 50.7969155-3.5948373.jpg\n"
     ]
    },
    {
     "data": {
      "image/png": "[encoded data removed]",
      "text/plain": [
       "<Figure size 640x480 with 1 Axes>"
      ]
     },
     "metadata": {},
     "output_type": "display_data"
    },
    {
     "name": "stdout",
     "output_type": "stream",
     "text": [
      "Angle is: 166.37300514010846\n"
     ]
    },
    {
     "data": {
      "image/png": "[encoded data removed]",
      "text/plain": [
       "<Figure size 640x480 with 1 Axes>"
      ]
     },
     "metadata": {},
     "output_type": "display_data"
    },
    {
     "name": "stdout",
     "output_type": "stream",
     "text": [
      "Angle is: 253.42904883308614\n"
     ]
    },
    {
     "data": {
      "image/png": "[encoded data removed]",
      "text/plain": [
       "<Figure size 640x480 with 1 Axes>"
      ]
     },
     "metadata": {},
     "output_type": "display_data"
    },
    {
     "name": "stdout",
     "output_type": "stream",
     "text": [
      "Angle is: 39.28940686250036\n"
     ]
    },
    {
     "data": {
      "image/png": "[encoded data removed]",
      "text/plain": [
       "<Figure size 640x480 with 1 Axes>"
      ]
     },
     "metadata": {},
     "output_type": "display_data"
    },
    {
     "name": "stdout",
     "output_type": "stream",
     "text": [
      "Angle is: 258.69006752597977\n"
     ]
    },
    {
     "data": {
      "image/png": "[encoded data removed]",
      "text/plain": [
       "<Figure size 640x480 with 1 Axes>"
      ]
     },
     "metadata": {},
     "output_type": "display_data"
    },
    {
     "name": "stdout",
     "output_type": "stream",
     "text": [
      "All x-values are the same\n",
      "Angle is: 90\n"
     ]
    },
    {
     "data": {
      "image/png": "[encoded data removed]",
      "text/plain": [
       "<Figure size 640x480 with 1 Axes>"
      ]
     },
     "metadata": {},
     "output_type": "display_data"
    },
    {
     "name": "stdout",
     "output_type": "stream",
     "text": [
      "Angle is: 344.422174225689\n",
      "Count threshold not reached\n"
     ]
    },
    {
     "data": {
      "image/png": "[encoded data removed]",
      "text/plain": [
       "<Figure size 640x480 with 1 Axes>"
      ]
     },
     "metadata": {},
     "output_type": "display_data"
    },
    {
     "name": "stdout",
     "output_type": "stream",
     "text": [
      "Angle is: 61.963354282738074\n"
     ]
    },
    {
     "data": {
      "image/png": "[encoded data removed]",
      "text/plain": [
       "<Figure size 640x480 with 1 Axes>"
      ]
     },
     "metadata": {},
     "output_type": "display_data"
    },
    {
     "name": "stdout",
     "output_type": "stream",
     "text": [
      "Angle is: 337.01128319791934\n"
     ]
    },
    {
     "data": {
      "image/png": "[encoded data removed]",
      "text/plain": [
       "<Figure size 640x480 with 1 Axes>"
      ]
     },
     "metadata": {},
     "output_type": "display_data"
    },
    {
     "name": "stdout",
     "output_type": "stream",
     "text": [
      "Angle is: 223.55500749402353\n"
     ]
    },
    {
     "data": {
      "image/png": "[encoded data removed]",
      "text/plain": [
       "<Figure size 640x480 with 1 Axes>"
      ]
     },
     "metadata": {},
     "output_type": "display_data"
    },
    {
     "name": "stdout",
     "output_type": "stream",
     "text": [
      "Angle is: 78.69006752597979\n"
     ]
    },
    {
     "data": {
      "image/png": "[encoded data removed]",
      "text/plain": [
       "<Figure size 640x480 with 1 Axes>"
      ]
     },
     "metadata": {},
     "output_type": "display_data"
    },
    {
     "name": "stdout",
     "output_type": "stream",
     "text": [
      "Angle is: 349.695153531234\n"
     ]
    },
    {
     "data": {
      "image/png": "[encoded data removed]",
      "text/plain": [
       "<Figure size 640x480 with 1 Axes>"
      ]
     },
     "metadata": {},
     "output_type": "display_data"
    },
    {
     "name": "stdout",
     "output_type": "stream",
     "text": [
      "Angle is: 185.53863753279052\n"
     ]
    },
    {
     "data": {
      "image/png": "[encoded data removed]",
      "text/plain": [
       "<Figure size 640x480 with 1 Axes>"
      ]
     },
     "metadata": {},
     "output_type": "display_data"
    },
    {
     "name": "stdout",
     "output_type": "stream",
     "text": [
      "Angle is: 123.81824578980333\n",
      "Count threshold not reached\n"
     ]
    },
    {
     "data": {
      "image/png": "[encoded data removed]",
      "text/plain": [
       "<Figure size 640x480 with 1 Axes>"
      ]
     },
     "metadata": {},
     "output_type": "display_data"
    },
    {
     "name": "stdout",
     "output_type": "stream",
     "text": [
      "Angle is: 146.07020257793937\n"
     ]
    },
    {
     "data": {
      "image/png": "[encoded data removed]",
      "text/plain": [
       "<Figure size 640x480 with 1 Axes>"
      ]
     },
     "metadata": {},
     "output_type": "display_data"
    },
    {
     "name": "stdout",
     "output_type": "stream",
     "text": [
      "Angle is: 200.89776549883885\n"
     ]
    },
    {
     "data": {
      "image/png": "[encoded data removed]",
      "text/plain": [
       "<Figure size 640x480 with 1 Axes>"
      ]
     },
     "metadata": {},
     "output_type": "display_data"
    },
    {
     "name": "stdout",
     "output_type": "stream",
     "text": [
      "Angle is: 354.4613624672095\n"
     ]
    },
    {
     "data": {
      "image/png": "[encoded data removed]",
      "text/plain": [
       "<Figure size 640x480 with 1 Axes>"
      ]
     },
     "metadata": {},
     "output_type": "display_data"
    },
    {
     "name": "stdout",
     "output_type": "stream",
     "text": [
      "Angle is: 154.415465455963\n"
     ]
    },
    {
     "data": {
      "image/png": "[encoded data removed]",
      "text/plain": [
       "<Figure size 640x480 with 1 Axes>"
      ]
     },
     "metadata": {},
     "output_type": "display_data"
    },
    {
     "name": "stdout",
     "output_type": "stream",
     "text": [
      "Angle is: 234.15104089980917\n"
     ]
    },
    {
     "data": {
      "image/png": "[encoded data removed]",
      "text/plain": [
       "<Figure size 640x480 with 1 Axes>"
      ]
     },
     "metadata": {},
     "output_type": "display_data"
    },
    {
     "name": "stdout",
     "output_type": "stream",
     "text": [
      "Angle is: 16.85839876773828\n",
      "Descriptors for mapbox image 50.7969155-3.5948373.jpg:\n",
      "[[39.28940686250036, 166.37300514010846, 253.42904883308614], [90, 258.69006752597977, 344.422174225689], [61.963354282738074, 337.01128319791934], [78.69006752597979, 223.55500749402353, 349.695153531234], [123.81824578980333, 185.53863753279052], [146.07020257793937, 200.89776549883885, 354.4613624672095], [16.85839876773828, 154.415465455963, 234.15104089980917]]\n",
      "Number of descriptors: 7\n",
      "Descriptor of segmentation image:\n",
      "[75.48894049983095, 151.12259877771717, 281.30993247402023]\n",
      "Descriptor of mapbox image:\n",
      "[39.28940686250036, 166.37300514010846, 253.42904883308614]\n",
      "Angle of segmentation image: 75.48894049983095\n",
      "Angle of mapbox image: 39.28940686250036\n",
      "Angle of mapbox image: 166.37300514010846\n",
      "Angle of mapbox image: 253.42904883308614\n",
      "Best diff = 36.19953363733059 with angle 39.28940686250036\n",
      "Angle of segmentation image: 151.12259877771717\n",
      "Angle of mapbox image: 39.28940686250036\n",
      "Angle of mapbox image: 166.37300514010846\n",
      "Angle of mapbox image: 253.42904883308614\n",
      "Best diff = 15.250406362391288 with angle 166.37300514010846\n",
      "Angle of segmentation image: 281.30993247402023\n",
      "Angle of mapbox image: 39.28940686250036\n",
      "Angle of mapbox image: 166.37300514010846\n",
      "Angle of mapbox image: 253.42904883308614\n",
      "Best diff = 27.880883640934087 with angle 253.42904883308614\n",
      "Result = 48.16974986833126\n",
      "Descriptor of mapbox image:\n",
      "[90, 258.69006752597977, 344.422174225689]\n",
      "Angle of segmentation image: 75.48894049983095\n",
      "Angle of mapbox image: 90\n",
      "Angle of mapbox image: 258.69006752597977\n",
      "Angle of mapbox image: 344.422174225689\n",
      "Best diff = 14.511059500169054 with angle 90\n",
      "Angle of segmentation image: 151.12259877771717\n",
      "Angle of mapbox image: 90\n",
      "Angle of mapbox image: 258.69006752597977\n",
      "Angle of mapbox image: 344.422174225689\n",
      "Best diff = 107.5674687482626 with angle 258.69006752597977\n",
      "Angle of segmentation image: 281.30993247402023\n",
      "Angle of mapbox image: 90\n",
      "Angle of mapbox image: 258.69006752597977\n",
      "Angle of mapbox image: 344.422174225689\n",
      "Best diff = 63.11224175166876 with angle 344.422174225689\n",
      "Result = 125.55670527553269\n",
      "Descriptor of mapbox image:\n",
      "[61.963354282738074, 337.01128319791934]\n",
      "Descriptor of mapbox image:\n",
      "[78.69006752597979, 223.55500749402353, 349.695153531234]\n",
      "Angle of segmentation image: 75.48894049983095\n",
      "Angle of mapbox image: 78.69006752597979\n",
      "Angle of mapbox image: 223.55500749402353\n",
      "Angle of mapbox image: 349.695153531234\n",
      "Best diff = 3.201127026148839 with angle 78.69006752597979\n",
      "Angle of segmentation image: 151.12259877771717\n",
      "Angle of mapbox image: 78.69006752597979\n",
      "Angle of mapbox image: 223.55500749402353\n",
      "Angle of mapbox image: 349.695153531234\n",
      "Best diff = 72.43240871630636 with angle 223.55500749402353\n",
      "Angle of segmentation image: 281.30993247402023\n",
      "Angle of mapbox image: 78.69006752597979\n",
      "Angle of mapbox image: 223.55500749402353\n",
      "Angle of mapbox image: 349.695153531234\n",
      "Best diff = 68.38522105721376 with angle 349.695153531234\n",
      "Result = 99.66563854071065\n",
      "Descriptor of mapbox image:\n",
      "[123.81824578980333, 185.53863753279052]\n",
      "Descriptor of mapbox image:\n",
      "[146.07020257793937, 200.89776549883885, 354.4613624672095]\n",
      "Angle of segmentation image: 75.48894049983095\n",
      "Angle of mapbox image: 146.07020257793937\n",
      "Angle of mapbox image: 200.89776549883885\n",
      "Angle of mapbox image: 354.4613624672095\n",
      "Best diff = 70.58126207810842 with angle 146.07020257793937\n",
      "Angle of segmentation image: 151.12259877771717\n",
      "Angle of mapbox image: 146.07020257793937\n",
      "Angle of mapbox image: 200.89776549883885\n",
      "Angle of mapbox image: 354.4613624672095\n",
      "Best diff = 49.77516672112168 with angle 200.89776549883885\n",
      "Angle of segmentation image: 281.30993247402023\n",
      "Angle of mapbox image: 146.07020257793937\n",
      "Angle of mapbox image: 200.89776549883885\n",
      "Angle of mapbox image: 354.4613624672095\n",
      "Best diff = 73.15142999318925 with angle 354.4613624672095\n",
      "Result = 113.18309718638447\n",
      "Descriptor of mapbox image:\n",
      "[16.85839876773828, 154.415465455963, 234.15104089980917]\n",
      "Angle of segmentation image: 75.48894049983095\n",
      "Angle of mapbox image: 16.85839876773828\n",
      "Angle of mapbox image: 154.415465455963\n",
      "Angle of mapbox image: 234.15104089980917\n",
      "Best diff = 58.63054173209267 with angle 16.85839876773828\n",
      "Angle of segmentation image: 151.12259877771717\n",
      "Angle of mapbox image: 16.85839876773828\n",
      "Angle of mapbox image: 154.415465455963\n",
      "Angle of mapbox image: 234.15104089980917\n",
      "Best diff = 3.292866678245815 with angle 154.415465455963\n",
      "Angle of segmentation image: 281.30993247402023\n",
      "Angle of mapbox image: 16.85839876773828\n",
      "Angle of mapbox image: 154.415465455963\n",
      "Angle of mapbox image: 234.15104089980917\n",
      "Best diff = 47.158891574211054 with angle 234.15104089980917\n",
      "Result = 75.31496829493827\n",
      "Score = 6.940443059944463\n",
      "**************************************************\n",
      "Mapbox image: 50.7961267-3.5930602.jpg\n",
      "**************************************************\n",
      "Cropped mapbox image\n",
      "Binary thresholding\n",
      "Isotropic closing of segmentation image\n",
      "Getting intersections in skeleton (more than 2 neighbours)\n",
      "1 intersections found in the skeleton:\n",
      "[(254, 254)]\n",
      "There are intersections in mapbox image 50.7961267-3.5930602.jpg\n"
     ]
    },
    {
     "data": {
      "image/png": "[encoded data removed]",
      "text/plain": [
       "<Figure size 640x480 with 1 Axes>"
      ]
     },
     "metadata": {},
     "output_type": "display_data"
    },
    {
     "name": "stdout",
     "output_type": "stream",
     "text": [
      "Angle is: 116.56505117707798\n"
     ]
    },
    {
     "data": {
      "image/png": "[encoded data removed]",
      "text/plain": [
       "<Figure size 640x480 with 1 Axes>"
      ]
     },
     "metadata": {},
     "output_type": "display_data"
    },
    {
     "name": "stdout",
     "output_type": "stream",
     "text": [
      "Angle is: 236.1817542101967\n"
     ]
    },
    {
     "data": {
      "image/png": "[encoded data removed]",
      "text/plain": [
       "<Figure size 640x480 with 1 Axes>"
      ]
     },
     "metadata": {},
     "output_type": "display_data"
    },
    {
     "name": "stdout",
     "output_type": "stream",
     "text": [
      "Angle is: 5.538637532790515\n",
      "Descriptors for mapbox image 50.7961267-3.5930602.jpg:\n",
      "[[5.538637532790515, 116.56505117707798, 236.1817542101967]]\n",
      "Number of descriptors: 1\n",
      "Descriptor of segmentation image:\n",
      "[75.48894049983095, 151.12259877771717, 281.30993247402023]\n",
      "Descriptor of mapbox image:\n",
      "[5.538637532790515, 116.56505117707798, 236.1817542101967]\n",
      "Angle of segmentation image: 75.48894049983095\n",
      "Angle of mapbox image: 5.538637532790515\n",
      "Angle of mapbox image: 116.56505117707798\n",
      "Angle of mapbox image: 236.1817542101967\n",
      "Best diff = 41.07611067724703 with angle 116.56505117707798\n",
      "Angle of segmentation image: 151.12259877771717\n",
      "Angle of mapbox image: 5.538637532790515\n",
      "Angle of mapbox image: 116.56505117707798\n",
      "Angle of mapbox image: 236.1817542101967\n",
      "Best diff = 85.05915543247951 with angle 236.1817542101967\n",
      "Angle of segmentation image: 281.30993247402023\n",
      "Angle of mapbox image: 5.538637532790515\n",
      "Angle of mapbox image: 116.56505117707798\n",
      "Angle of mapbox image: 236.1817542101967\n",
      "Best diff = 84.22870505877029 with angle 5.538637532790515\n",
      "Result = 126.55742391157254\n",
      "Score = 11.249774393807751\n",
      "**************************************************\n",
      "Mapbox image: 50.7969423-3.5925617.jpg\n",
      "**************************************************\n",
      "Cropped mapbox image\n",
      "Binary thresholding\n",
      "Isotropic closing of segmentation image\n",
      "Getting intersections in skeleton (more than 2 neighbours)\n",
      "2 intersections found in the skeleton:\n",
      "[(10, 315), (252, 259)]\n",
      "There are intersections in mapbox image 50.7969423-3.5925617.jpg\n"
     ]
    },
    {
     "data": {
      "image/png": "[encoded data removed]",
      "text/plain": [
       "<Figure size 640x480 with 1 Axes>"
      ]
     },
     "metadata": {},
     "output_type": "display_data"
    },
    {
     "name": "stdout",
     "output_type": "stream",
     "text": [
      "Angle is: 157.01128319791934\n"
     ]
    },
    {
     "data": {
      "image/png": "[encoded data removed]",
      "text/plain": [
       "<Figure size 640x480 with 1 Axes>"
      ]
     },
     "metadata": {},
     "output_type": "display_data"
    },
    {
     "name": "stdout",
     "output_type": "stream",
     "text": [
      "Angle is: 252.9509690278902\n"
     ]
    },
    {
     "data": {
      "image/png": "[encoded data removed]",
      "text/plain": [
       "<Figure size 640x480 with 1 Axes>"
      ]
     },
     "metadata": {},
     "output_type": "display_data"
    },
    {
     "name": "stdout",
     "output_type": "stream",
     "text": [
      "Angle is: 4.159642293712644\n"
     ]
    },
    {
     "data": {
      "image/png": "[encoded data removed]",
      "text/plain": [
       "<Figure size 640x480 with 1 Axes>"
      ]
     },
     "metadata": {},
     "output_type": "display_data"
    },
    {
     "name": "stdout",
     "output_type": "stream",
     "text": [
      "Angle is: 358.95837332399003\n"
     ]
    },
    {
     "data": {
      "image/png": "[encoded data removed]",
      "text/plain": [
       "<Figure size 640x480 with 1 Axes>"
      ]
     },
     "metadata": {},
     "output_type": "display_data"
    },
    {
     "name": "stdout",
     "output_type": "stream",
     "text": [
      "Angle is: 76.50426671920418\n"
     ]
    },
    {
     "data": {
      "image/png": "[encoded data removed]",
      "text/plain": [
       "<Figure size 640x480 with 1 Axes>"
      ]
     },
     "metadata": {},
     "output_type": "display_data"
    },
    {
     "name": "stdout",
     "output_type": "stream",
     "text": [
      "Angle is: 340.9422954898717\n",
      "Descriptors for mapbox image 50.7969423-3.5925617.jpg:\n",
      "[[4.159642293712644, 157.01128319791934, 252.9509690278902], [76.50426671920418, 340.9422954898717, 358.95837332399003]]\n",
      "Number of descriptors: 2\n",
      "Descriptor of segmentation image:\n",
      "[75.48894049983095, 151.12259877771717, 281.30993247402023]\n",
      "Descriptor of mapbox image:\n",
      "[4.159642293712644, 157.01128319791934, 252.9509690278902]\n",
      "Angle of segmentation image: 75.48894049983095\n",
      "Angle of mapbox image: 4.159642293712644\n",
      "Angle of mapbox image: 157.01128319791934\n",
      "Angle of mapbox image: 252.9509690278902\n",
      "Best diff = 71.3292982061183 with angle 4.159642293712644\n",
      "Angle of segmentation image: 151.12259877771717\n",
      "Angle of mapbox image: 4.159642293712644\n",
      "Angle of mapbox image: 157.01128319791934\n",
      "Angle of mapbox image: 252.9509690278902\n",
      "Best diff = 5.888684420202168 with angle 157.01128319791934\n",
      "Angle of segmentation image: 281.30993247402023\n",
      "Angle of mapbox image: 4.159642293712644\n",
      "Angle of mapbox image: 157.01128319791934\n",
      "Angle of mapbox image: 252.9509690278902\n",
      "Best diff = 28.35896344613002 with angle 252.9509690278902\n",
      "Result = 76.98555835036218\n",
      "Descriptor of mapbox image:\n",
      "[76.50426671920418, 340.9422954898717, 358.95837332399003]\n",
      "Angle of segmentation image: 75.48894049983095\n",
      "Angle of mapbox image: 76.50426671920418\n",
      "Angle of mapbox image: 340.9422954898717\n",
      "Angle of mapbox image: 358.95837332399003\n",
      "Best diff = 1.015326219373236 with angle 76.50426671920418\n",
      "Angle of segmentation image: 151.12259877771717\n",
      "Angle of mapbox image: 76.50426671920418\n",
      "Angle of mapbox image: 340.9422954898717\n",
      "Angle of mapbox image: 358.95837332399003\n",
      "Best diff = 152.1642254537271 with angle 358.95837332399003\n",
      "Angle of segmentation image: 281.30993247402023\n",
      "Angle of mapbox image: 76.50426671920418\n",
      "Angle of mapbox image: 340.9422954898717\n",
      "Angle of mapbox image: 358.95837332399003\n",
      "Best diff = 59.63236301585147 with angle 340.9422954898717\n",
      "Result = 163.43500577941904\n",
      "Score = 8.774141459445602\n",
      "**************************************************\n",
      "Mapbox image: 50.7950813-3.5911994.jpg\n",
      "**************************************************\n",
      "Cropped mapbox image\n",
      "Binary thresholding\n",
      "Isotropic closing of segmentation image\n",
      "Getting intersections in skeleton (more than 2 neighbours)\n",
      "2 intersections found in the skeleton:\n",
      "[(101, 218), (118, 292)]\n",
      "There are intersections in mapbox image 50.7950813-3.5911994.jpg\n"
     ]
    },
    {
     "data": {
      "image/png": "[encoded data removed]",
      "text/plain": [
       "<Figure size 640x480 with 1 Axes>"
      ]
     },
     "metadata": {},
     "output_type": "display_data"
    },
    {
     "name": "stdout",
     "output_type": "stream",
     "text": [
      "Angle is: 249.67686317033707\n"
     ]
    },
    {
     "data": {
      "image/png": "[encoded data removed]",
      "text/plain": [
       "<Figure size 640x480 with 1 Axes>"
      ]
     },
     "metadata": {},
     "output_type": "display_data"
    },
    {
     "name": "stdout",
     "output_type": "stream",
     "text": [
      "Angle is: 70.42687416958981\n"
     ]
    },
    {
     "data": {
      "image/png": "[encoded data removed]",
      "text/plain": [
       "<Figure size 640x480 with 1 Axes>"
      ]
     },
     "metadata": {},
     "output_type": "display_data"
    },
    {
     "name": "stdout",
     "output_type": "stream",
     "text": [
      "Angle is: 352.74680538727466\n"
     ]
    },
    {
     "data": {
      "image/png": "[encoded data removed]",
      "text/plain": [
       "<Figure size 640x480 with 1 Axes>"
      ]
     },
     "metadata": {},
     "output_type": "display_data"
    },
    {
     "name": "stdout",
     "output_type": "stream",
     "text": [
      "Angle is: 150.3299661843394\n"
     ]
    },
    {
     "data": {
      "image/png": "[encoded data removed]",
      "text/plain": [
       "<Figure size 640x480 with 1 Axes>"
      ]
     },
     "metadata": {},
     "output_type": "display_data"
    },
    {
     "name": "stdout",
     "output_type": "stream",
     "text": [
      "Angle is: 255.48894049983096\n"
     ]
    },
    {
     "data": {
      "image/png": "[encoded data removed]",
      "text/plain": [
       "<Figure size 640x480 with 1 Axes>"
      ]
     },
     "metadata": {},
     "output_type": "display_data"
    },
    {
     "name": "stdout",
     "output_type": "stream",
     "text": [
      "Angle is: 74.05460409907714\n",
      "Descriptors for mapbox image 50.7950813-3.5911994.jpg:\n",
      "[[70.42687416958981, 249.67686317033707, 352.74680538727466], [74.05460409907714, 150.3299661843394, 255.48894049983096]]\n",
      "Number of descriptors: 2\n",
      "Descriptor of segmentation image:\n",
      "[75.48894049983095, 151.12259877771717, 281.30993247402023]\n",
      "Descriptor of mapbox image:\n",
      "[70.42687416958981, 249.67686317033707, 352.74680538727466]\n",
      "Angle of segmentation image: 75.48894049983095\n",
      "Angle of mapbox image: 70.42687416958981\n",
      "Angle of mapbox image: 249.67686317033707\n",
      "Angle of mapbox image: 352.74680538727466\n",
      "Best diff = 5.062066330241137 with angle 70.42687416958981\n",
      "Angle of segmentation image: 151.12259877771717\n",
      "Angle of mapbox image: 70.42687416958981\n",
      "Angle of mapbox image: 249.67686317033707\n",
      "Angle of mapbox image: 352.74680538727466\n",
      "Best diff = 98.5542643926199 with angle 249.67686317033707\n",
      "Angle of segmentation image: 281.30993247402023\n",
      "Angle of mapbox image: 70.42687416958981\n",
      "Angle of mapbox image: 249.67686317033707\n",
      "Angle of mapbox image: 352.74680538727466\n",
      "Best diff = 71.43687291325443 with angle 352.74680538727466\n",
      "Result = 121.82690325673822\n",
      "Descriptor of mapbox image:\n",
      "[74.05460409907714, 150.3299661843394, 255.48894049983096]\n",
      "Angle of segmentation image: 75.48894049983095\n",
      "Angle of mapbox image: 74.05460409907714\n",
      "Angle of mapbox image: 150.3299661843394\n",
      "Angle of mapbox image: 255.48894049983096\n",
      "Best diff = 1.434336400753807 with angle 74.05460409907714\n",
      "Angle of segmentation image: 151.12259877771717\n",
      "Angle of mapbox image: 74.05460409907714\n",
      "Angle of mapbox image: 150.3299661843394\n",
      "Angle of mapbox image: 255.48894049983096\n",
      "Best diff = 0.7926325933777605 with angle 150.3299661843394\n",
      "Angle of segmentation image: 281.30993247402023\n",
      "Angle of mapbox image: 74.05460409907714\n",
      "Angle of mapbox image: 150.3299661843394\n",
      "Angle of mapbox image: 255.48894049983096\n",
      "Best diff = 25.82099197418927 with angle 255.48894049983096\n",
      "Result = 25.87294366456509\n",
      "Score = 5.08654535658192\n",
      "**************************************************\n",
      "Mapbox image: 50.7954945-3.5886356.jpg\n",
      "**************************************************\n",
      "Cropped mapbox image\n",
      "Binary thresholding\n",
      "Isotropic closing of segmentation image\n",
      "Getting intersections in skeleton (more than 2 neighbours)\n",
      "1 intersections found in the skeleton:\n",
      "[(255, 257)]\n",
      "There are intersections in mapbox image 50.7954945-3.5886356.jpg\n"
     ]
    },
    {
     "data": {
      "image/png": "[encoded data removed]",
      "text/plain": [
       "<Figure size 640x480 with 1 Axes>"
      ]
     },
     "metadata": {},
     "output_type": "display_data"
    },
    {
     "name": "stdout",
     "output_type": "stream",
     "text": [
      "Angle is: 103.4957332807958\n"
     ]
    },
    {
     "data": {
      "image/png": "[encoded data removed]",
      "text/plain": [
       "<Figure size 640x480 with 1 Axes>"
      ]
     },
     "metadata": {},
     "output_type": "display_data"
    },
    {
     "name": "stdout",
     "output_type": "stream",
     "text": [
      "All x-values are the same\n",
      "Angle is: 270\n"
     ]
    },
    {
     "data": {
      "image/png": "[encoded data removed]",
      "text/plain": [
       "<Figure size 640x480 with 1 Axes>"
      ]
     },
     "metadata": {},
     "output_type": "display_data"
    },
    {
     "name": "stdout",
     "output_type": "stream",
     "text": [
      "Angle is: 7.253194612725335\n",
      "Descriptors for mapbox image 50.7954945-3.5886356.jpg:\n",
      "[[7.253194612725335, 103.4957332807958, 270]]\n",
      "Number of descriptors: 1\n",
      "Descriptor of segmentation image:\n",
      "[75.48894049983095, 151.12259877771717, 281.30993247402023]\n",
      "Descriptor of mapbox image:\n",
      "[7.253194612725335, 103.4957332807958, 270]\n",
      "Angle of segmentation image: 75.48894049983095\n",
      "Angle of mapbox image: 7.253194612725335\n",
      "Angle of mapbox image: 103.4957332807958\n",
      "Angle of mapbox image: 270\n",
      "Best diff = 28.006792780964858 with angle 103.4957332807958\n",
      "Angle of segmentation image: 151.12259877771717\n",
      "Angle of mapbox image: 7.253194612725335\n",
      "Angle of mapbox image: 103.4957332807958\n",
      "Angle of mapbox image: 270\n",
      "Best diff = 118.87740122228283 with angle 270\n",
      "Angle of segmentation image: 281.30993247402023\n",
      "Angle of mapbox image: 7.253194612725335\n",
      "Angle of mapbox image: 103.4957332807958\n",
      "Angle of mapbox image: 270\n",
      "Best diff = 85.94326213870511 with angle 7.253194612725335\n",
      "Result = 149.34008594574232\n",
      "Score = 12.220478138998585\n",
      "**************************************************\n",
      "Mapbox image: 50.7953417-3.5910012.jpg\n",
      "**************************************************\n",
      "Cropped mapbox image\n",
      "Binary thresholding\n",
      "Isotropic closing of segmentation image\n",
      "Getting intersections in skeleton (more than 2 neighbours)\n",
      "0 intersections found in the skeleton:\n",
      "[]\n",
      "No intersections found in the skeleton\n",
      "Descriptors for mapbox image 50.7953417-3.5910012.jpg:\n",
      "None\n",
      "**************************************************\n",
      "Mapbox image: 50.7963052-3.5876732.jpg\n",
      "**************************************************\n",
      "Cropped mapbox image\n",
      "Binary thresholding\n",
      "Isotropic closing of segmentation image\n",
      "Getting intersections in skeleton (more than 2 neighbours)\n",
      "2 intersections found in the skeleton:\n",
      "[(111, 283), (254, 262)]\n",
      "There are intersections in mapbox image 50.7963052-3.5876732.jpg\n"
     ]
    },
    {
     "data": {
      "image/png": "[encoded data removed]",
      "text/plain": [
       "<Figure size 640x480 with 1 Axes>"
      ]
     },
     "metadata": {},
     "output_type": "display_data"
    },
    {
     "name": "stdout",
     "output_type": "stream",
     "text": [
      "Angle is: 152.19854122006586\n"
     ]
    },
    {
     "data": {
      "image/png": "[encoded data removed]",
      "text/plain": [
       "<Figure size 640x480 with 1 Axes>"
      ]
     },
     "metadata": {},
     "output_type": "display_data"
    },
    {
     "name": "stdout",
     "output_type": "stream",
     "text": [
      "Angle is: 321.3401917459099\n"
     ]
    },
    {
     "data": {
      "image/png": "[encoded data removed]",
      "text/plain": [
       "<Figure size 640x480 with 1 Axes>"
      ]
     },
     "metadata": {},
     "output_type": "display_data"
    },
    {
     "name": "stdout",
     "output_type": "stream",
     "text": [
      "Angle is: 22.988716802080642\n"
     ]
    },
    {
     "data": {
      "image/png": "[encoded data removed]",
      "text/plain": [
       "<Figure size 640x480 with 1 Axes>"
      ]
     },
     "metadata": {},
     "output_type": "display_data"
    },
    {
     "name": "stdout",
     "output_type": "stream",
     "text": [
      "Angle is: 213.20657031508952\n"
     ]
    },
    {
     "data": {
      "image/png": "[encoded data removed]",
      "text/plain": [
       "<Figure size 640x480 with 1 Axes>"
      ]
     },
     "metadata": {},
     "output_type": "display_data"
    },
    {
     "name": "stdout",
     "output_type": "stream",
     "text": [
      "Angle is: 42.77222573496257\n"
     ]
    },
    {
     "data": {
      "image/png": "[encoded data removed]",
      "text/plain": [
       "<Figure size 640x480 with 1 Axes>"
      ]
     },
     "metadata": {},
     "output_type": "display_data"
    },
    {
     "name": "stdout",
     "output_type": "stream",
     "text": [
      "Angle is: 334.415465455963\n",
      "Descriptors for mapbox image 50.7963052-3.5876732.jpg:\n",
      "[[22.988716802080642, 152.19854122006586, 321.3401917459099], [42.77222573496257, 213.20657031508952, 334.415465455963]]\n",
      "Number of descriptors: 2\n",
      "Descriptor of segmentation image:\n",
      "[75.48894049983095, 151.12259877771717, 281.30993247402023]\n",
      "Descriptor of mapbox image:\n",
      "[22.988716802080642, 152.19854122006586, 321.3401917459099]\n",
      "Angle of segmentation image: 75.48894049983095\n",
      "Angle of mapbox image: 22.988716802080642\n",
      "Angle of mapbox image: 152.19854122006586\n",
      "Angle of mapbox image: 321.3401917459099\n",
      "Best diff = 52.5002236977503 with angle 22.988716802080642\n",
      "Angle of segmentation image: 151.12259877771717\n",
      "Angle of mapbox image: 22.988716802080642\n",
      "Angle of mapbox image: 152.19854122006586\n",
      "Angle of mapbox image: 321.3401917459099\n",
      "Best diff = 1.0759424423486905 with angle 152.19854122006586\n",
      "Angle of segmentation image: 281.30993247402023\n",
      "Angle of mapbox image: 22.988716802080642\n",
      "Angle of mapbox image: 152.19854122006586\n",
      "Angle of mapbox image: 321.3401917459099\n",
      "Best diff = 40.03025927188969 with angle 321.3401917459099\n",
      "Result = 66.02918141115926\n",
      "Descriptor of mapbox image:\n",
      "[42.77222573496257, 213.20657031508952, 334.415465455963]\n",
      "Angle of segmentation image: 75.48894049983095\n",
      "Angle of mapbox image: 42.77222573496257\n",
      "Angle of mapbox image: 213.20657031508952\n",
      "Angle of mapbox image: 334.415465455963\n",
      "Best diff = 32.71671476486838 with angle 42.77222573496257\n",
      "Angle of segmentation image: 151.12259877771717\n",
      "Angle of mapbox image: 42.77222573496257\n",
      "Angle of mapbox image: 213.20657031508952\n",
      "Angle of mapbox image: 334.415465455963\n",
      "Best diff = 62.08397153737235 with angle 213.20657031508952\n",
      "Angle of segmentation image: 281.30993247402023\n",
      "Angle of mapbox image: 42.77222573496257\n",
      "Angle of mapbox image: 213.20657031508952\n",
      "Angle of mapbox image: 334.415465455963\n",
      "Best diff = 53.10553298194276 with angle 334.415465455963\n",
      "Result = 88.00568493089084\n",
      "Score = 8.125834197862964\n",
      "**************************************************\n",
      "Mapbox image: 50.7942715-3.59287.jpg\n",
      "**************************************************\n",
      "Cropped mapbox image\n",
      "Binary thresholding\n",
      "Isotropic closing of segmentation image\n",
      "Getting intersections in skeleton (more than 2 neighbours)\n",
      "3 intersections found in the skeleton:\n",
      "[(43, 287), (55, 276), (261, 254)]\n",
      "There are intersections in mapbox image 50.7942715-3.59287.jpg\n"
     ]
    },
    {
     "data": {
      "image/png": "[encoded data removed]",
      "text/plain": [
       "<Figure size 640x480 with 1 Axes>"
      ]
     },
     "metadata": {},
     "output_type": "display_data"
    },
    {
     "name": "stdout",
     "output_type": "stream",
     "text": [
      "Angle is: 139.48460600954462\n",
      "Count threshold not reached\n"
     ]
    },
    {
     "data": {
      "image/png": "[encoded data removed]",
      "text/plain": [
       "<Figure size 640x480 with 1 Axes>"
      ]
     },
     "metadata": {},
     "output_type": "display_data"
    },
    {
     "name": "stdout",
     "output_type": "stream",
     "text": [
      "Angle is: 182.77580344878314\n"
     ]
    },
    {
     "data": {
      "image/png": "[encoded data removed]",
      "text/plain": [
       "<Figure size 640x480 with 1 Axes>"
      ]
     },
     "metadata": {},
     "output_type": "display_data"
    },
    {
     "name": "stdout",
     "output_type": "stream",
     "text": [
      "Angle is: 183.1221304621157\n"
     ]
    },
    {
     "data": {
      "image/png": "[encoded data removed]",
      "text/plain": [
       "<Figure size 640x480 with 1 Axes>"
      ]
     },
     "metadata": {},
     "output_type": "display_data"
    },
    {
     "name": "stdout",
     "output_type": "stream",
     "text": [
      "Angle is: 258.69006752597977\n",
      "Count threshold not reached\n"
     ]
    },
    {
     "data": {
      "image/png": "[encoded data removed]",
      "text/plain": [
       "<Figure size 640x480 with 1 Axes>"
      ]
     },
     "metadata": {},
     "output_type": "display_data"
    },
    {
     "name": "stdout",
     "output_type": "stream",
     "text": [
      "Angle is: 174.46136246720948\n"
     ]
    },
    {
     "data": {
      "image/png": "[encoded data removed]",
      "text/plain": [
       "<Figure size 640x480 with 1 Axes>"
      ]
     },
     "metadata": {},
     "output_type": "display_data"
    },
    {
     "name": "stdout",
     "output_type": "stream",
     "text": [
      "All x-values are the same\n",
      "Angle is: 270\n"
     ]
    },
    {
     "data": {
      "image/png": "[encoded data removed]",
      "text/plain": [
       "<Figure size 640x480 with 1 Axes>"
      ]
     },
     "metadata": {},
     "output_type": "display_data"
    },
    {
     "name": "stdout",
     "output_type": "stream",
     "text": [
      "Angle is: 78.69006752597979\n",
      "Descriptors for mapbox image 50.7942715-3.59287.jpg:\n",
      "[[139.48460600954462, 182.77580344878314, 183.1221304621157, 258.69006752597977], [78.69006752597979, 174.46136246720948, 270]]\n",
      "Number of descriptors: 2\n",
      "Descriptor of segmentation image:\n",
      "[75.48894049983095, 151.12259877771717, 281.30993247402023]\n",
      "Descriptor of mapbox image:\n",
      "[139.48460600954462, 182.77580344878314, 183.1221304621157, 258.69006752597977]\n",
      "Angle of segmentation image: 75.48894049983095\n",
      "Angle of mapbox image: 139.48460600954462\n",
      "Angle of mapbox image: 182.77580344878314\n",
      "Angle of mapbox image: 183.1221304621157\n",
      "Angle of mapbox image: 258.69006752597977\n",
      "Best diff = 63.995665509713675 with angle 139.48460600954462\n",
      "Angle of segmentation image: 151.12259877771717\n",
      "Angle of mapbox image: 139.48460600954462\n",
      "Angle of mapbox image: 182.77580344878314\n",
      "Angle of mapbox image: 183.1221304621157\n",
      "Angle of mapbox image: 258.69006752597977\n",
      "Best diff = 31.653204671065964 with angle 182.77580344878314\n",
      "Angle of segmentation image: 281.30993247402023\n",
      "Angle of mapbox image: 139.48460600954462\n",
      "Angle of mapbox image: 182.77580344878314\n",
      "Angle of mapbox image: 183.1221304621157\n",
      "Angle of mapbox image: 258.69006752597977\n",
      "Best diff = 22.61986494804046 with angle 258.69006752597977\n",
      "Result = 74.89345004903392\n",
      "Descriptor of mapbox image:\n",
      "[78.69006752597979, 174.46136246720948, 270]\n",
      "Angle of segmentation image: 75.48894049983095\n",
      "Angle of mapbox image: 78.69006752597979\n",
      "Angle of mapbox image: 174.46136246720948\n",
      "Angle of mapbox image: 270\n",
      "Best diff = 3.201127026148839 with angle 78.69006752597979\n",
      "Angle of segmentation image: 151.12259877771717\n",
      "Angle of mapbox image: 78.69006752597979\n",
      "Angle of mapbox image: 174.46136246720948\n",
      "Angle of mapbox image: 270\n",
      "Best diff = 23.33876368949231 with angle 174.46136246720948\n",
      "Angle of segmentation image: 281.30993247402023\n",
      "Angle of mapbox image: 78.69006752597979\n",
      "Angle of mapbox image: 174.46136246720948\n",
      "Angle of mapbox image: 270\n",
      "Best diff = 11.30993247402023 with angle 270\n",
      "Result = 26.13158390450917\n",
      "Score = 5.111906093083985\n",
      "**************************************************\n",
      "Mapbox image: 50.7935559-3.5936877.jpg\n",
      "**************************************************\n",
      "Cropped mapbox image\n",
      "Binary thresholding\n",
      "Isotropic closing of segmentation image\n",
      "Getting intersections in skeleton (more than 2 neighbours)\n",
      "2 intersections found in the skeleton:\n",
      "[(243, 273), (265, 253)]\n",
      "There are intersections in mapbox image 50.7935559-3.5936877.jpg\n"
     ]
    },
    {
     "data": {
      "image/png": "[encoded data removed]",
      "text/plain": [
       "<Figure size 640x480 with 1 Axes>"
      ]
     },
     "metadata": {},
     "output_type": "display_data"
    },
    {
     "name": "stdout",
     "output_type": "stream",
     "text": [
      "Angle is: 129.33629374197943\n"
     ]
    },
    {
     "data": {
      "image/png": "[encoded data removed]",
      "text/plain": [
       "<Figure size 640x480 with 1 Axes>"
      ]
     },
     "metadata": {},
     "output_type": "display_data"
    },
    {
     "name": "stdout",
     "output_type": "stream",
     "text": [
      "Angle is: 213.93881753840822\n"
     ]
    },
    {
     "data": {
      "image/png": "[encoded data removed]",
      "text/plain": [
       "<Figure size 640x480 with 1 Axes>"
      ]
     },
     "metadata": {},
     "output_type": "display_data"
    },
    {
     "name": "stdout",
     "output_type": "stream",
     "text": [
      "Angle is: 7.253194612725332\n"
     ]
    },
    {
     "data": {
      "image/png": "[encoded data removed]",
      "text/plain": [
       "<Figure size 640x480 with 1 Axes>"
      ]
     },
     "metadata": {},
     "output_type": "display_data"
    },
    {
     "name": "stdout",
     "output_type": "stream",
     "text": [
      "Angle is: 187.25319461272534\n"
     ]
    },
    {
     "data": {
      "image/png": "[encoded data removed]",
      "text/plain": [
       "<Figure size 640x480 with 1 Axes>"
      ]
     },
     "metadata": {},
     "output_type": "display_data"
    },
    {
     "name": "stdout",
     "output_type": "stream",
     "text": [
      "Angle is: 51.07449257691838\n"
     ]
    },
    {
     "data": {
      "image/png": "[encoded data removed]",
      "text/plain": [
       "<Figure size 640x480 with 1 Axes>"
      ]
     },
     "metadata": {},
     "output_type": "display_data"
    },
    {
     "name": "stdout",
     "output_type": "stream",
     "text": [
      "Angle is: 258.69006752597977\n",
      "Descriptors for mapbox image 50.7935559-3.5936877.jpg:\n",
      "[[7.253194612725332, 129.33629374197943, 213.93881753840822], [51.07449257691838, 187.25319461272534, 258.69006752597977]]\n",
      "Number of descriptors: 2\n",
      "Descriptor of segmentation image:\n",
      "[75.48894049983095, 151.12259877771717, 281.30993247402023]\n",
      "Descriptor of mapbox image:\n",
      "[7.253194612725332, 129.33629374197943, 213.93881753840822]\n",
      "Angle of segmentation image: 75.48894049983095\n",
      "Angle of mapbox image: 7.253194612725332\n",
      "Angle of mapbox image: 129.33629374197943\n",
      "Angle of mapbox image: 213.93881753840822\n",
      "Best diff = 53.847353242148486 with angle 129.33629374197943\n",
      "Angle of segmentation image: 151.12259877771717\n",
      "Angle of mapbox image: 7.253194612725332\n",
      "Angle of mapbox image: 129.33629374197943\n",
      "Angle of mapbox image: 213.93881753840822\n",
      "Best diff = 62.816218760691044 with angle 213.93881753840822\n",
      "Angle of segmentation image: 281.30993247402023\n",
      "Angle of mapbox image: 7.253194612725332\n",
      "Angle of mapbox image: 129.33629374197943\n",
      "Angle of mapbox image: 213.93881753840822\n",
      "Best diff = 85.94326213870511 with angle 7.253194612725332\n",
      "Result = 119.29651754187084\n",
      "Descriptor of mapbox image:\n",
      "[51.07449257691838, 187.25319461272534, 258.69006752597977]\n",
      "Angle of segmentation image: 75.48894049983095\n",
      "Angle of mapbox image: 51.07449257691838\n",
      "Angle of mapbox image: 187.25319461272534\n",
      "Angle of mapbox image: 258.69006752597977\n",
      "Best diff = 24.414447922912565 with angle 51.07449257691838\n",
      "Angle of segmentation image: 151.12259877771717\n",
      "Angle of mapbox image: 51.07449257691838\n",
      "Angle of mapbox image: 187.25319461272534\n",
      "Angle of mapbox image: 258.69006752597977\n",
      "Best diff = 36.130595835008165 with angle 187.25319461272534\n",
      "Angle of segmentation image: 281.30993247402023\n",
      "Angle of mapbox image: 51.07449257691838\n",
      "Angle of mapbox image: 187.25319461272534\n",
      "Angle of mapbox image: 258.69006752597977\n",
      "Best diff = 22.61986494804046 with angle 258.69006752597977\n",
      "Result = 49.123757114464574\n",
      "Score = 7.008834219359492\n",
      "**************************************************\n",
      "Mapbox image: 50.7968232-3.5941811.jpg\n",
      "**************************************************\n",
      "Cropped mapbox image\n",
      "Binary thresholding\n",
      "Isotropic closing of segmentation image\n",
      "Getting intersections in skeleton (more than 2 neighbours)\n",
      "6 intersections found in the skeleton:\n",
      "[(65, 327), (124, 319), (134, 123), (152, 315), (163, 193), (181, 257)]\n",
      "There are intersections in mapbox image 50.7968232-3.5941811.jpg\n"
     ]
    },
    {
     "data": {
      "image/png": "[encoded data removed]",
      "text/plain": [
       "<Figure size 640x480 with 1 Axes>"
      ]
     },
     "metadata": {},
     "output_type": "display_data"
    },
    {
     "name": "stdout",
     "output_type": "stream",
     "text": [
      "Angle is: 172.74680538727466\n"
     ]
    },
    {
     "data": {
      "image/png": "[encoded data removed]",
      "text/plain": [
       "<Figure size 640x480 with 1 Axes>"
      ]
     },
     "metadata": {},
     "output_type": "display_data"
    },
    {
     "name": "stdout",
     "output_type": "stream",
     "text": [
      "Angle is: 252.9509690278902\n"
     ]
    },
    {
     "data": {
      "image/png": "[encoded data removed]",
      "text/plain": [
       "<Figure size 640x480 with 1 Axes>"
      ]
     },
     "metadata": {},
     "output_type": "display_data"
    },
    {
     "name": "stdout",
     "output_type": "stream",
     "text": [
      "Angle is: 34.639051932630515\n"
     ]
    },
    {
     "data": {
      "image/png": "[encoded data removed]",
      "text/plain": [
       "<Figure size 640x480 with 1 Axes>"
      ]
     },
     "metadata": {},
     "output_type": "display_data"
    },
    {
     "name": "stdout",
     "output_type": "stream",
     "text": [
      "Angle is: 78.69006752597979\n"
     ]
    },
    {
     "data": {
      "image/png": "[encoded data removed]",
      "text/plain": [
       "<Figure size 640x480 with 1 Axes>"
      ]
     },
     "metadata": {},
     "output_type": "display_data"
    },
    {
     "name": "stdout",
     "output_type": "stream",
     "text": [
      "Angle is: 258.69006752597977\n"
     ]
    },
    {
     "data": {
      "image/png": "[encoded data removed]",
      "text/plain": [
       "<Figure size 640x480 with 1 Axes>"
      ]
     },
     "metadata": {},
     "output_type": "display_data"
    },
    {
     "name": "stdout",
     "output_type": "stream",
     "text": [
      "Angle is: 348.69006752597977\n"
     ]
    },
    {
     "data": {
      "image/png": "[encoded data removed]",
      "text/plain": [
       "<Figure size 640x480 with 1 Axes>"
      ]
     },
     "metadata": {},
     "output_type": "display_data"
    },
    {
     "name": "stdout",
     "output_type": "stream",
     "text": [
      "Angle is: 191.6434314987617\n"
     ]
    },
    {
     "data": {
      "image/png": "[encoded data removed]",
      "text/plain": [
       "<Figure size 640x480 with 1 Axes>"
      ]
     },
     "metadata": {},
     "output_type": "display_data"
    },
    {
     "name": "stdout",
     "output_type": "stream",
     "text": [
      "Angle is: 54.672056237838675\n"
     ]
    },
    {
     "data": {
      "image/png": "[encoded data removed]",
      "text/plain": [
       "<Figure size 640x480 with 1 Axes>"
      ]
     },
     "metadata": {},
     "output_type": "display_data"
    },
    {
     "name": "stdout",
     "output_type": "stream",
     "text": [
      "Angle is: 341.2530990172167\n"
     ]
    },
    {
     "data": {
      "image/png": "[encoded data removed]",
      "text/plain": [
       "<Figure size 640x480 with 1 Axes>"
      ]
     },
     "metadata": {},
     "output_type": "display_data"
    },
    {
     "name": "stdout",
     "output_type": "stream",
     "text": [
      "Angle is: 214.63905193263048\n"
     ]
    },
    {
     "data": {
      "image/png": "[encoded data removed]",
      "text/plain": [
       "<Figure size 640x480 with 1 Axes>"
      ]
     },
     "metadata": {},
     "output_type": "display_data"
    },
    {
     "name": "stdout",
     "output_type": "stream",
     "text": [
      "Angle is: 78.69006752597979\n"
     ]
    },
    {
     "data": {
      "image/png": "[encoded data removed]",
      "text/plain": [
       "<Figure size 640x480 with 1 Axes>"
      ]
     },
     "metadata": {},
     "output_type": "display_data"
    },
    {
     "name": "stdout",
     "output_type": "stream",
     "text": [
      "Angle is: 346.04549082686316\n"
     ]
    },
    {
     "data": {
      "image/png": "[encoded data removed]",
      "text/plain": [
       "<Figure size 640x480 with 1 Axes>"
      ]
     },
     "metadata": {},
     "output_type": "display_data"
    },
    {
     "name": "stdout",
     "output_type": "stream",
     "text": [
      "Angle is: 196.53982400122894\n"
     ]
    },
    {
     "data": {
      "image/png": "[encoded data removed]",
      "text/plain": [
       "<Figure size 640x480 with 1 Axes>"
      ]
     },
     "metadata": {},
     "output_type": "display_data"
    },
    {
     "name": "stdout",
     "output_type": "stream",
     "text": [
      "Angle is: 148.0258406468708\n"
     ]
    },
    {
     "data": {
      "image/png": "[encoded data removed]",
      "text/plain": [
       "<Figure size 640x480 with 1 Axes>"
      ]
     },
     "metadata": {},
     "output_type": "display_data"
    },
    {
     "name": "stdout",
     "output_type": "stream",
     "text": [
      "Angle is: 356.8778695378843\n"
     ]
    },
    {
     "data": {
      "image/png": "[encoded data removed]",
      "text/plain": [
       "<Figure size 640x480 with 1 Axes>"
      ]
     },
     "metadata": {},
     "output_type": "display_data"
    },
    {
     "name": "stdout",
     "output_type": "stream",
     "text": [
      "Angle is: 226.35319195377969\n"
     ]
    },
    {
     "data": {
      "image/png": "[encoded data removed]",
      "text/plain": [
       "<Figure size 640x480 with 1 Axes>"
      ]
     },
     "metadata": {},
     "output_type": "display_data"
    },
    {
     "name": "stdout",
     "output_type": "stream",
     "text": [
      "Angle is: 157.01128319791934\n"
     ]
    },
    {
     "data": {
      "image/png": "[encoded data removed]",
      "text/plain": [
       "<Figure size 640x480 with 1 Axes>"
      ]
     },
     "metadata": {},
     "output_type": "display_data"
    },
    {
     "name": "stdout",
     "output_type": "stream",
     "text": [
      "Angle is: 14.606737354446999\n",
      "Descriptors for mapbox image 50.7968232-3.5941811.jpg:\n",
      "[[34.639051932630515, 172.74680538727466, 252.9509690278902], [78.69006752597979, 258.69006752597977, 348.69006752597977], [54.672056237838675, 191.6434314987617, 341.2530990172167], [78.69006752597979, 214.63905193263048, 346.04549082686316], [148.0258406468708, 196.53982400122894, 356.8778695378843], [14.606737354446999, 157.01128319791934, 226.35319195377969]]\n",
      "Number of descriptors: 6\n",
      "Descriptor of segmentation image:\n",
      "[75.48894049983095, 151.12259877771717, 281.30993247402023]\n",
      "Descriptor of mapbox image:\n",
      "[34.639051932630515, 172.74680538727466, 252.9509690278902]\n",
      "Angle of segmentation image: 75.48894049983095\n",
      "Angle of mapbox image: 34.639051932630515\n",
      "Angle of mapbox image: 172.74680538727466\n",
      "Angle of mapbox image: 252.9509690278902\n",
      "Best diff = 40.84988856720043 with angle 34.639051932630515\n",
      "Angle of segmentation image: 151.12259877771717\n",
      "Angle of mapbox image: 34.639051932630515\n",
      "Angle of mapbox image: 172.74680538727466\n",
      "Angle of mapbox image: 252.9509690278902\n",
      "Best diff = 21.62420660955749 with angle 172.74680538727466\n",
      "Angle of segmentation image: 281.30993247402023\n",
      "Angle of mapbox image: 34.639051932630515\n",
      "Angle of mapbox image: 172.74680538727466\n",
      "Angle of mapbox image: 252.9509690278902\n",
      "Best diff = 28.35896344613002 with angle 252.9509690278902\n",
      "Result = 54.22684312390369\n",
      "Descriptor of mapbox image:\n",
      "[78.69006752597979, 258.69006752597977, 348.69006752597977]\n",
      "Angle of segmentation image: 75.48894049983095\n",
      "Angle of mapbox image: 78.69006752597979\n",
      "Angle of mapbox image: 258.69006752597977\n",
      "Angle of mapbox image: 348.69006752597977\n",
      "Best diff = 3.201127026148839 with angle 78.69006752597979\n",
      "Angle of segmentation image: 151.12259877771717\n",
      "Angle of mapbox image: 78.69006752597979\n",
      "Angle of mapbox image: 258.69006752597977\n",
      "Angle of mapbox image: 348.69006752597977\n",
      "Best diff = 107.5674687482626 with angle 258.69006752597977\n",
      "Angle of segmentation image: 281.30993247402023\n",
      "Angle of mapbox image: 78.69006752597979\n",
      "Angle of mapbox image: 258.69006752597977\n",
      "Angle of mapbox image: 348.69006752597977\n",
      "Best diff = 67.38013505195954 with angle 348.69006752597977\n",
      "Result = 126.96885502660209\n",
      "Descriptor of mapbox image:\n",
      "[54.672056237838675, 191.6434314987617, 341.2530990172167]\n",
      "Angle of segmentation image: 75.48894049983095\n",
      "Angle of mapbox image: 54.672056237838675\n",
      "Angle of mapbox image: 191.6434314987617\n",
      "Angle of mapbox image: 341.2530990172167\n",
      "Best diff = 20.81688426199227 with angle 54.672056237838675\n",
      "Angle of segmentation image: 151.12259877771717\n",
      "Angle of mapbox image: 54.672056237838675\n",
      "Angle of mapbox image: 191.6434314987617\n",
      "Angle of mapbox image: 341.2530990172167\n",
      "Best diff = 40.52083272104451 with angle 191.6434314987617\n",
      "Angle of segmentation image: 281.30993247402023\n",
      "Angle of mapbox image: 54.672056237838675\n",
      "Angle of mapbox image: 191.6434314987617\n",
      "Angle of mapbox image: 341.2530990172167\n",
      "Best diff = 59.94316654319647 with angle 341.2530990172167\n",
      "Result = 75.2892008857143\n",
      "Descriptor of mapbox image:\n",
      "[78.69006752597979, 214.63905193263048, 346.04549082686316]\n",
      "Angle of segmentation image: 75.48894049983095\n",
      "Angle of mapbox image: 78.69006752597979\n",
      "Angle of mapbox image: 214.63905193263048\n",
      "Angle of mapbox image: 346.04549082686316\n",
      "Best diff = 3.201127026148839 with angle 78.69006752597979\n",
      "Angle of segmentation image: 151.12259877771717\n",
      "Angle of mapbox image: 78.69006752597979\n",
      "Angle of mapbox image: 214.63905193263048\n",
      "Angle of mapbox image: 346.04549082686316\n",
      "Best diff = 63.51645315491331 with angle 214.63905193263048\n",
      "Angle of segmentation image: 281.30993247402023\n",
      "Angle of mapbox image: 78.69006752597979\n",
      "Angle of mapbox image: 214.63905193263048\n",
      "Angle of mapbox image: 346.04549082686316\n",
      "Best diff = 64.73555835284293 with angle 346.04549082686316\n",
      "Result = 90.74844103824687\n",
      "Descriptor of mapbox image:\n",
      "[148.0258406468708, 196.53982400122894, 356.8778695378843]\n",
      "Angle of segmentation image: 75.48894049983095\n",
      "Angle of mapbox image: 148.0258406468708\n",
      "Angle of mapbox image: 196.53982400122894\n",
      "Angle of mapbox image: 356.8778695378843\n",
      "Best diff = 72.53690014703984 with angle 148.0258406468708\n",
      "Angle of segmentation image: 151.12259877771717\n",
      "Angle of mapbox image: 148.0258406468708\n",
      "Angle of mapbox image: 196.53982400122894\n",
      "Angle of mapbox image: 356.8778695378843\n",
      "Best diff = 45.417225223511764 with angle 196.53982400122894\n",
      "Angle of segmentation image: 281.30993247402023\n",
      "Angle of mapbox image: 148.0258406468708\n",
      "Angle of mapbox image: 196.53982400122894\n",
      "Angle of mapbox image: 356.8778695378843\n",
      "Best diff = 75.56793706386406 with angle 356.8778695378843\n",
      "Result = 114.1702209073493\n",
      "Descriptor of mapbox image:\n",
      "[14.606737354446999, 157.01128319791934, 226.35319195377969]\n",
      "Angle of segmentation image: 75.48894049983095\n",
      "Angle of mapbox image: 14.606737354446999\n",
      "Angle of mapbox image: 157.01128319791934\n",
      "Angle of mapbox image: 226.35319195377969\n",
      "Best diff = 60.88220314538395 with angle 14.606737354446999\n",
      "Angle of segmentation image: 151.12259877771717\n",
      "Angle of mapbox image: 14.606737354446999\n",
      "Angle of mapbox image: 157.01128319791934\n",
      "Angle of mapbox image: 226.35319195377969\n",
      "Best diff = 5.888684420202168 with angle 157.01128319791934\n",
      "Angle of segmentation image: 281.30993247402023\n",
      "Angle of mapbox image: 14.606737354446999\n",
      "Angle of mapbox image: 157.01128319791934\n",
      "Angle of mapbox image: 226.35319195377969\n",
      "Best diff = 54.956740520240544 with angle 226.35319195377969\n",
      "Result = 82.22872121494764\n",
      "Score = 7.36388777235936\n",
      "**************************************************\n",
      "Mapbox image: 50.7947894-3.5913995.jpg\n",
      "**************************************************\n",
      "Cropped mapbox image\n",
      "Binary thresholding\n",
      "Isotropic closing of segmentation image\n",
      "Getting intersections in skeleton (more than 2 neighbours)\n",
      "2 intersections found in the skeleton:\n",
      "[(254, 258), (278, 339)]\n",
      "There are intersections in mapbox image 50.7947894-3.5913995.jpg\n"
     ]
    },
    {
     "data": {
      "image/png": "[encoded data removed]",
      "text/plain": [
       "<Figure size 640x480 with 1 Axes>"
      ]
     },
     "metadata": {},
     "output_type": "display_data"
    },
    {
     "name": "stdout",
     "output_type": "stream",
     "text": [
      "Angle is: 247.01128319791937\n"
     ]
    },
    {
     "data": {
      "image/png": "[encoded data removed]",
      "text/plain": [
       "<Figure size 640x480 with 1 Axes>"
      ]
     },
     "metadata": {},
     "output_type": "display_data"
    },
    {
     "name": "stdout",
     "output_type": "stream",
     "text": [
      "Angle is: 71.7146481726805\n"
     ]
    },
    {
     "data": {
      "image/png": "[encoded data removed]",
      "text/plain": [
       "<Figure size 640x480 with 1 Axes>"
      ]
     },
     "metadata": {},
     "output_type": "display_data"
    },
    {
     "name": "stdout",
     "output_type": "stream",
     "text": [
      "Angle is: 351.7241071729248\n"
     ]
    },
    {
     "data": {
      "image/png": "[encoded data removed]",
      "text/plain": [
       "<Figure size 640x480 with 1 Axes>"
      ]
     },
     "metadata": {},
     "output_type": "display_data"
    },
    {
     "name": "stdout",
     "output_type": "stream",
     "text": [
      "Angle is: 140.71059313749964\n"
     ]
    },
    {
     "data": {
      "image/png": "[encoded data removed]",
      "text/plain": [
       "<Figure size 640x480 with 1 Axes>"
      ]
     },
     "metadata": {},
     "output_type": "display_data"
    },
    {
     "name": "stdout",
     "output_type": "stream",
     "text": [
      "Angle is: 258.69006752597977\n"
     ]
    },
    {
     "data": {
      "image/png": "[encoded data removed]",
      "text/plain": [
       "<Figure size 640x480 with 1 Axes>"
      ]
     },
     "metadata": {},
     "output_type": "display_data"
    },
    {
     "name": "stdout",
     "output_type": "stream",
     "text": [
      "Angle is: 70.42687416958981\n",
      "Descriptors for mapbox image 50.7947894-3.5913995.jpg:\n",
      "[[71.7146481726805, 247.01128319791937, 351.7241071729248], [70.42687416958981, 140.71059313749964, 258.69006752597977]]\n",
      "Number of descriptors: 2\n",
      "Descriptor of segmentation image:\n",
      "[75.48894049983095, 151.12259877771717, 281.30993247402023]\n",
      "Descriptor of mapbox image:\n",
      "[71.7146481726805, 247.01128319791937, 351.7241071729248]\n",
      "Angle of segmentation image: 75.48894049983095\n",
      "Angle of mapbox image: 71.7146481726805\n",
      "Angle of mapbox image: 247.01128319791937\n",
      "Angle of mapbox image: 351.7241071729248\n",
      "Best diff = 3.774292327150448 with angle 71.7146481726805\n",
      "Angle of segmentation image: 151.12259877771717\n",
      "Angle of mapbox image: 71.7146481726805\n",
      "Angle of mapbox image: 247.01128319791937\n",
      "Angle of mapbox image: 351.7241071729248\n",
      "Best diff = 95.8886844202022 with angle 247.01128319791937\n",
      "Angle of segmentation image: 281.30993247402023\n",
      "Angle of mapbox image: 71.7146481726805\n",
      "Angle of mapbox image: 247.01128319791937\n",
      "Angle of mapbox image: 351.7241071729248\n",
      "Best diff = 70.41417469890456 with angle 351.7241071729248\n",
      "Result = 119.02537998652122\n",
      "Descriptor of mapbox image:\n",
      "[70.42687416958981, 140.71059313749964, 258.69006752597977]\n",
      "Angle of segmentation image: 75.48894049983095\n",
      "Angle of mapbox image: 70.42687416958981\n",
      "Angle of mapbox image: 140.71059313749964\n",
      "Angle of mapbox image: 258.69006752597977\n",
      "Best diff = 5.062066330241137 with angle 70.42687416958981\n",
      "Angle of segmentation image: 151.12259877771717\n",
      "Angle of mapbox image: 70.42687416958981\n",
      "Angle of mapbox image: 140.71059313749964\n",
      "Angle of mapbox image: 258.69006752597977\n",
      "Best diff = 10.41200564021753 with angle 140.71059313749964\n",
      "Angle of segmentation image: 281.30993247402023\n",
      "Angle of mapbox image: 70.42687416958981\n",
      "Angle of mapbox image: 140.71059313749964\n",
      "Angle of mapbox image: 258.69006752597977\n",
      "Best diff = 22.61986494804046 with angle 258.69006752597977\n",
      "Result = 25.41048341238852\n",
      "Score = 5.04088121387407\n",
      "**************************************************\n",
      "Mapbox image: 50.7970808-3.5946203.jpg\n",
      "**************************************************\n",
      "Cropped mapbox image\n",
      "Binary thresholding\n",
      "Isotropic closing of segmentation image\n",
      "Getting intersections in skeleton (more than 2 neighbours)\n",
      "6 intersections found in the skeleton:\n",
      "[(119, 384), (207, 380), (210, 141), (242, 378), (253, 234), (280, 313)]\n",
      "There are intersections in mapbox image 50.7970808-3.5946203.jpg\n"
     ]
    },
    {
     "data": {
      "image/png": "[encoded data removed]",
      "text/plain": [
       "<Figure size 640x480 with 1 Axes>"
      ]
     },
     "metadata": {},
     "output_type": "display_data"
    },
    {
     "name": "stdout",
     "output_type": "stream",
     "text": [
      "Angle is: 174.46136246720948\n"
     ]
    },
    {
     "data": {
      "image/png": "[encoded data removed]",
      "text/plain": [
       "<Figure size 640x480 with 1 Axes>"
      ]
     },
     "metadata": {},
     "output_type": "display_data"
    },
    {
     "name": "stdout",
     "output_type": "stream",
     "text": [
      "Angle is: 258.69006752597977\n"
     ]
    },
    {
     "data": {
      "image/png": "[encoded data removed]",
      "text/plain": [
       "<Figure size 640x480 with 1 Axes>"
      ]
     },
     "metadata": {},
     "output_type": "display_data"
    },
    {
     "name": "stdout",
     "output_type": "stream",
     "text": [
      "Angle is: 35.6251279217423\n"
     ]
    },
    {
     "data": {
      "image/png": "[encoded data removed]",
      "text/plain": [
       "<Figure size 640x480 with 1 Axes>"
      ]
     },
     "metadata": {},
     "output_type": "display_data"
    },
    {
     "name": "stdout",
     "output_type": "stream",
     "text": [
      "Angle is: 101.30993247402021\n"
     ]
    },
    {
     "data": {
      "image/png": "[encoded data removed]",
      "text/plain": [
       "<Figure size 640x480 with 1 Axes>"
      ]
     },
     "metadata": {},
     "output_type": "display_data"
    },
    {
     "name": "stdout",
     "output_type": "stream",
     "text": [
      "Angle is: 258.69006752597977\n"
     ]
    },
    {
     "data": {
      "image/png": "[encoded data removed]",
      "text/plain": [
       "<Figure size 640x480 with 1 Axes>"
      ]
     },
     "metadata": {},
     "output_type": "display_data"
    },
    {
     "name": "stdout",
     "output_type": "stream",
     "text": [
      "Angle is: 356.8778695378843\n"
     ]
    },
    {
     "data": {
      "image/png": "[encoded data removed]",
      "text/plain": [
       "<Figure size 640x480 with 1 Axes>"
      ]
     },
     "metadata": {},
     "output_type": "display_data"
    },
    {
     "name": "stdout",
     "output_type": "stream",
     "text": [
      "Angle is: 183.1221304621157\n"
     ]
    },
    {
     "data": {
      "image/png": "[encoded data removed]",
      "text/plain": [
       "<Figure size 640x480 with 1 Axes>"
      ]
     },
     "metadata": {},
     "output_type": "display_data"
    },
    {
     "name": "stdout",
     "output_type": "stream",
     "text": [
      "Angle is: 60.77078073253677\n"
     ]
    },
    {
     "data": {
      "image/png": "[encoded data removed]",
      "text/plain": [
       "<Figure size 640x480 with 1 Axes>"
      ]
     },
     "metadata": {},
     "output_type": "display_data"
    },
    {
     "name": "stdout",
     "output_type": "stream",
     "text": [
      "Angle is: 336.7176437865103\n"
     ]
    },
    {
     "data": {
      "image/png": "[encoded data removed]",
      "text/plain": [
       "<Figure size 640x480 with 1 Axes>"
      ]
     },
     "metadata": {},
     "output_type": "display_data"
    },
    {
     "name": "stdout",
     "output_type": "stream",
     "text": [
      "All x-values are the same\n",
      "Angle is: 90\n"
     ]
    },
    {
     "data": {
      "image/png": "[encoded data removed]",
      "text/plain": [
       "<Figure size 640x480 with 1 Axes>"
      ]
     },
     "metadata": {},
     "output_type": "display_data"
    },
    {
     "name": "stdout",
     "output_type": "stream",
     "text": [
      "Angle is: 219.28024247046187\n"
     ]
    },
    {
     "data": {
      "image/png": "[encoded data removed]",
      "text/plain": [
       "<Figure size 640x480 with 1 Axes>"
      ]
     },
     "metadata": {},
     "output_type": "display_data"
    },
    {
     "name": "stdout",
     "output_type": "stream",
     "text": [
      "Angle is: 341.565051177078\n"
     ]
    },
    {
     "data": {
      "image/png": "[encoded data removed]",
      "text/plain": [
       "<Figure size 640x480 with 1 Axes>"
      ]
     },
     "metadata": {},
     "output_type": "display_data"
    },
    {
     "name": "stdout",
     "output_type": "stream",
     "text": [
      "Angle is: 143.9268632224611\n"
     ]
    },
    {
     "data": {
      "image/png": "[encoded data removed]",
      "text/plain": [
       "<Figure size 640x480 with 1 Axes>"
      ]
     },
     "metadata": {},
     "output_type": "display_data"
    },
    {
     "name": "stdout",
     "output_type": "stream",
     "text": [
      "Angle is: 198.12186024790134\n"
     ]
    },
    {
     "data": {
      "image/png": "[encoded data removed]",
      "text/plain": [
       "<Figure size 640x480 with 1 Axes>"
      ]
     },
     "metadata": {},
     "output_type": "display_data"
    },
    {
     "name": "stdout",
     "output_type": "stream",
     "text": [
      "Angle is: 351.7241071729248\n"
     ]
    },
    {
     "data": {
      "image/png": "[encoded data removed]",
      "text/plain": [
       "<Figure size 640x480 with 1 Axes>"
      ]
     },
     "metadata": {},
     "output_type": "display_data"
    },
    {
     "name": "stdout",
     "output_type": "stream",
     "text": [
      "Angle is: 151.65784555657865\n"
     ]
    },
    {
     "data": {
      "image/png": "[encoded data removed]",
      "text/plain": [
       "<Figure size 640x480 with 1 Axes>"
      ]
     },
     "metadata": {},
     "output_type": "display_data"
    },
    {
     "name": "stdout",
     "output_type": "stream",
     "text": [
      "Angle is: 230.9061411137705\n"
     ]
    },
    {
     "data": {
      "image/png": "[encoded data removed]",
      "text/plain": [
       "<Figure size 640x480 with 1 Axes>"
      ]
     },
     "metadata": {},
     "output_type": "display_data"
    },
    {
     "name": "stdout",
     "output_type": "stream",
     "text": [
      "Angle is: 22.98871680208064\n",
      "Descriptors for mapbox image 50.7970808-3.5946203.jpg:\n",
      "[[35.6251279217423, 174.46136246720948, 258.69006752597977], [101.30993247402021, 258.69006752597977, 356.8778695378843], [60.77078073253677, 183.1221304621157, 336.7176437865103], [90, 219.28024247046187, 341.565051177078], [143.9268632224611, 198.12186024790134, 351.7241071729248], [22.98871680208064, 151.65784555657865, 230.9061411137705]]\n",
      "Number of descriptors: 6\n",
      "Descriptor of segmentation image:\n",
      "[75.48894049983095, 151.12259877771717, 281.30993247402023]\n",
      "Descriptor of mapbox image:\n",
      "[35.6251279217423, 174.46136246720948, 258.69006752597977]\n",
      "Angle of segmentation image: 75.48894049983095\n",
      "Angle of mapbox image: 35.6251279217423\n",
      "Angle of mapbox image: 174.46136246720948\n",
      "Angle of mapbox image: 258.69006752597977\n",
      "Best diff = 39.86381257808865 with angle 35.6251279217423\n",
      "Angle of segmentation image: 151.12259877771717\n",
      "Angle of mapbox image: 35.6251279217423\n",
      "Angle of mapbox image: 174.46136246720948\n",
      "Angle of mapbox image: 258.69006752597977\n",
      "Best diff = 23.33876368949231 with angle 174.46136246720948\n",
      "Angle of segmentation image: 281.30993247402023\n",
      "Angle of mapbox image: 35.6251279217423\n",
      "Angle of mapbox image: 174.46136246720948\n",
      "Angle of mapbox image: 258.69006752597977\n",
      "Best diff = 22.61986494804046 with angle 258.69006752597977\n",
      "Result = 51.43422726242257\n",
      "Descriptor of mapbox image:\n",
      "[101.30993247402021, 258.69006752597977, 356.8778695378843]\n",
      "Angle of segmentation image: 75.48894049983095\n",
      "Angle of mapbox image: 101.30993247402021\n",
      "Angle of mapbox image: 258.69006752597977\n",
      "Angle of mapbox image: 356.8778695378843\n",
      "Best diff = 25.82099197418927 with angle 101.30993247402021\n",
      "Angle of segmentation image: 151.12259877771717\n",
      "Angle of mapbox image: 101.30993247402021\n",
      "Angle of mapbox image: 258.69006752597977\n",
      "Angle of mapbox image: 356.8778695378843\n",
      "Best diff = 107.5674687482626 with angle 258.69006752597977\n",
      "Angle of segmentation image: 281.30993247402023\n",
      "Angle of mapbox image: 101.30993247402021\n",
      "Angle of mapbox image: 258.69006752597977\n",
      "Angle of mapbox image: 356.8778695378843\n",
      "Best diff = 75.56793706386406 with angle 356.8778695378843\n",
      "Result = 133.97013499854256\n",
      "Descriptor of mapbox image:\n",
      "[60.77078073253677, 183.1221304621157, 336.7176437865103]\n",
      "Angle of segmentation image: 75.48894049983095\n",
      "Angle of mapbox image: 60.77078073253677\n",
      "Angle of mapbox image: 183.1221304621157\n",
      "Angle of mapbox image: 336.7176437865103\n",
      "Best diff = 14.718159767294175 with angle 60.77078073253677\n",
      "Angle of segmentation image: 151.12259877771717\n",
      "Angle of mapbox image: 60.77078073253677\n",
      "Angle of mapbox image: 183.1221304621157\n",
      "Angle of mapbox image: 336.7176437865103\n",
      "Best diff = 31.999531684398534 with angle 183.1221304621157\n",
      "Angle of segmentation image: 281.30993247402023\n",
      "Angle of mapbox image: 60.77078073253677\n",
      "Angle of mapbox image: 183.1221304621157\n",
      "Angle of mapbox image: 336.7176437865103\n",
      "Best diff = 55.40771131249005 with angle 336.7176437865103\n",
      "Result = 65.65522620359069\n",
      "Descriptor of mapbox image:\n",
      "[90, 219.28024247046187, 341.565051177078]\n",
      "Angle of segmentation image: 75.48894049983095\n",
      "Angle of mapbox image: 90\n",
      "Angle of mapbox image: 219.28024247046187\n",
      "Angle of mapbox image: 341.565051177078\n",
      "Best diff = 14.511059500169054 with angle 90\n",
      "Angle of segmentation image: 151.12259877771717\n",
      "Angle of mapbox image: 90\n",
      "Angle of mapbox image: 219.28024247046187\n",
      "Angle of mapbox image: 341.565051177078\n",
      "Best diff = 68.1576436927447 with angle 219.28024247046187\n",
      "Angle of segmentation image: 281.30993247402023\n",
      "Angle of mapbox image: 90\n",
      "Angle of mapbox image: 219.28024247046187\n",
      "Angle of mapbox image: 341.565051177078\n",
      "Best diff = 60.25511870305775 with angle 341.565051177078\n",
      "Result = 92.12336604512542\n",
      "Descriptor of mapbox image:\n",
      "[143.9268632224611, 198.12186024790134, 351.7241071729248]\n",
      "Angle of segmentation image: 75.48894049983095\n",
      "Angle of mapbox image: 143.9268632224611\n",
      "Angle of mapbox image: 198.12186024790134\n",
      "Angle of mapbox image: 351.7241071729248\n",
      "Best diff = 68.43792272263015 with angle 143.9268632224611\n",
      "Angle of segmentation image: 151.12259877771717\n",
      "Angle of mapbox image: 143.9268632224611\n",
      "Angle of mapbox image: 198.12186024790134\n",
      "Angle of mapbox image: 351.7241071729248\n",
      "Best diff = 46.999261470184166 with angle 198.12186024790134\n",
      "Angle of segmentation image: 281.30993247402023\n",
      "Angle of mapbox image: 143.9268632224611\n",
      "Angle of mapbox image: 198.12186024790134\n",
      "Angle of mapbox image: 351.7241071729248\n",
      "Best diff = 70.41417469890456 with angle 351.7241071729248\n",
      "Result = 108.86154437568523\n",
      "Descriptor of mapbox image:\n",
      "[22.98871680208064, 151.65784555657865, 230.9061411137705]\n",
      "Angle of segmentation image: 75.48894049983095\n",
      "Angle of mapbox image: 22.98871680208064\n",
      "Angle of mapbox image: 151.65784555657865\n",
      "Angle of mapbox image: 230.9061411137705\n",
      "Best diff = 52.50022369775031 with angle 22.98871680208064\n",
      "Angle of segmentation image: 151.12259877771717\n",
      "Angle of mapbox image: 22.98871680208064\n",
      "Angle of mapbox image: 151.65784555657865\n",
      "Angle of mapbox image: 230.9061411137705\n",
      "Best diff = 0.5352467788614774 with angle 151.65784555657865\n",
      "Angle of segmentation image: 281.30993247402023\n",
      "Angle of mapbox image: 22.98871680208064\n",
      "Angle of mapbox image: 151.65784555657865\n",
      "Angle of mapbox image: 230.9061411137705\n",
      "Best diff = 50.40379136024973 with angle 230.9061411137705\n",
      "Result = 72.78119373104353\n",
      "Score = 7.171765979340274\n",
      "**************************************************\n",
      "Mapbox image: 50.7948203-3.5940027.jpg\n",
      "**************************************************\n",
      "Cropped mapbox image\n",
      "Binary thresholding\n",
      "Isotropic closing of segmentation image\n",
      "Getting intersections in skeleton (more than 2 neighbours)\n",
      "1 intersections found in the skeleton:\n",
      "[(247, 270)]\n",
      "There are intersections in mapbox image 50.7948203-3.5940027.jpg\n"
     ]
    },
    {
     "data": {
      "image/png": "[encoded data removed]",
      "text/plain": [
       "<Figure size 640x480 with 1 Axes>"
      ]
     },
     "metadata": {},
     "output_type": "display_data"
    },
    {
     "name": "stdout",
     "output_type": "stream",
     "text": [
      "Angle is: 205.30137862541972\n"
     ]
    },
    {
     "data": {
      "image/png": "[encoded data removed]",
      "text/plain": [
       "<Figure size 640x480 with 1 Axes>"
      ]
     },
     "metadata": {},
     "output_type": "display_data"
    },
    {
     "name": "stdout",
     "output_type": "stream",
     "text": [
      "Angle is: 62.1160597690708\n"
     ]
    },
    {
     "data": {
      "image/png": "[encoded data removed]",
      "text/plain": [
       "<Figure size 640x480 with 1 Axes>"
      ]
     },
     "metadata": {},
     "output_type": "display_data"
    },
    {
     "name": "stdout",
     "output_type": "stream",
     "text": [
      "Angle is: 356.8778695378843\n",
      "Descriptors for mapbox image 50.7948203-3.5940027.jpg:\n",
      "[[62.1160597690708, 205.30137862541972, 356.8778695378843]]\n",
      "Number of descriptors: 1\n",
      "Descriptor of segmentation image:\n",
      "[75.48894049983095, 151.12259877771717, 281.30993247402023]\n",
      "Descriptor of mapbox image:\n",
      "[62.1160597690708, 205.30137862541972, 356.8778695378843]\n",
      "Angle of segmentation image: 75.48894049983095\n",
      "Angle of mapbox image: 62.1160597690708\n",
      "Angle of mapbox image: 205.30137862541972\n",
      "Angle of mapbox image: 356.8778695378843\n",
      "Best diff = 13.372880730760144 with angle 62.1160597690708\n",
      "Angle of segmentation image: 151.12259877771717\n",
      "Angle of mapbox image: 62.1160597690708\n",
      "Angle of mapbox image: 205.30137862541972\n",
      "Angle of mapbox image: 356.8778695378843\n",
      "Best diff = 54.17877984770254 with angle 205.30137862541972\n",
      "Angle of segmentation image: 281.30993247402023\n",
      "Angle of mapbox image: 62.1160597690708\n",
      "Angle of mapbox image: 205.30137862541972\n",
      "Angle of mapbox image: 356.8778695378843\n",
      "Best diff = 75.56793706386406 with angle 356.8778695378843\n",
      "Result = 93.93980645558663\n",
      "Score = 9.692254972687556\n",
      "**************************************************\n",
      "Mapbox image: 50.7969549-3.5946137.jpg\n",
      "**************************************************\n",
      "Cropped mapbox image\n",
      "Binary thresholding\n",
      "Isotropic closing of segmentation image\n",
      "Getting intersections in skeleton (more than 2 neighbours)\n",
      "6 intersections found in the skeleton:\n",
      "[(109, 325), (186, 316), (197, 86), (222, 313), (235, 174), (258, 247)]\n",
      "There are intersections in mapbox image 50.7969549-3.5946137.jpg\n"
     ]
    },
    {
     "data": {
      "image/png": "[encoded data removed]",
      "text/plain": [
       "<Figure size 640x480 with 1 Axes>"
      ]
     },
     "metadata": {},
     "output_type": "display_data"
    },
    {
     "name": "stdout",
     "output_type": "stream",
     "text": [
      "Angle is: 176.8778695378843\n"
     ]
    },
    {
     "data": {
      "image/png": "[encoded data removed]",
      "text/plain": [
       "<Figure size 640x480 with 1 Axes>"
      ]
     },
     "metadata": {},
     "output_type": "display_data"
    },
    {
     "name": "stdout",
     "output_type": "stream",
     "text": [
      "Angle is: 254.74488129694222\n"
     ]
    },
    {
     "data": {
      "image/png": "[encoded data removed]",
      "text/plain": [
       "<Figure size 640x480 with 1 Axes>"
      ]
     },
     "metadata": {},
     "output_type": "display_data"
    },
    {
     "name": "stdout",
     "output_type": "stream",
     "text": [
      "Angle is: 36.92541679466238\n"
     ]
    },
    {
     "data": {
      "image/png": "[encoded data removed]",
      "text/plain": [
       "<Figure size 640x480 with 1 Axes>"
      ]
     },
     "metadata": {},
     "output_type": "display_data"
    },
    {
     "name": "stdout",
     "output_type": "stream",
     "text": [
      "Angle is: 258.69006752597977\n"
     ]
    },
    {
     "data": {
      "image/png": "[encoded data removed]",
      "text/plain": [
       "<Figure size 640x480 with 1 Axes>"
      ]
     },
     "metadata": {},
     "output_type": "display_data"
    },
    {
     "name": "stdout",
     "output_type": "stream",
     "text": [
      "All x-values are the same\n",
      "Angle is: 90\n"
     ]
    },
    {
     "data": {
      "image/png": "[encoded data removed]",
      "text/plain": [
       "<Figure size 640x480 with 1 Axes>"
      ]
     },
     "metadata": {},
     "output_type": "display_data"
    },
    {
     "name": "stdout",
     "output_type": "stream",
     "text": [
      "Angle is: 351.7241071729248\n"
     ]
    },
    {
     "data": {
      "image/png": "[encoded data removed]",
      "text/plain": [
       "<Figure size 640x480 with 1 Axes>"
      ]
     },
     "metadata": {},
     "output_type": "display_data"
    },
    {
     "name": "stdout",
     "output_type": "stream",
     "text": [
      "Angle is: 359.6527571029142\n"
     ]
    },
    {
     "data": {
      "image/png": "[encoded data removed]",
      "text/plain": [
       "<Figure size 640x480 with 1 Axes>"
      ]
     },
     "metadata": {},
     "output_type": "display_data"
    },
    {
     "name": "stdout",
     "output_type": "stream",
     "text": [
      "Angle is: 57.38075692880717\n"
     ]
    },
    {
     "data": {
      "image/png": "[encoded data removed]",
      "text/plain": [
       "<Figure size 640x480 with 1 Axes>"
      ]
     },
     "metadata": {},
     "output_type": "display_data"
    },
    {
     "name": "stdout",
     "output_type": "stream",
     "text": [
      "Angle is: 337.01128319791934\n"
     ]
    },
    {
     "data": {
      "image/png": "[encoded data removed]",
      "text/plain": [
       "<Figure size 640x480 with 1 Axes>"
      ]
     },
     "metadata": {},
     "output_type": "display_data"
    },
    {
     "name": "stdout",
     "output_type": "stream",
     "text": [
      "Angle is: 78.69006752597979\n"
     ]
    },
    {
     "data": {
      "image/png": "[encoded data removed]",
      "text/plain": [
       "<Figure size 640x480 with 1 Axes>"
      ]
     },
     "metadata": {},
     "output_type": "display_data"
    },
    {
     "name": "stdout",
     "output_type": "stream",
     "text": [
      "Angle is: 218.22518501773868\n"
     ]
    },
    {
     "data": {
      "image/png": "[encoded data removed]",
      "text/plain": [
       "<Figure size 640x480 with 1 Axes>"
      ]
     },
     "metadata": {},
     "output_type": "display_data"
    },
    {
     "name": "stdout",
     "output_type": "stream",
     "text": [
      "Angle is: 346.04549082686316\n"
     ]
    },
    {
     "data": {
      "image/png": "[encoded data removed]",
      "text/plain": [
       "<Figure size 640x480 with 1 Axes>"
      ]
     },
     "metadata": {},
     "output_type": "display_data"
    },
    {
     "name": "stdout",
     "output_type": "stream",
     "text": [
      "Angle is: 147.93927193638118\n"
     ]
    },
    {
     "data": {
      "image/png": "[encoded data removed]",
      "text/plain": [
       "<Figure size 640x480 with 1 Axes>"
      ]
     },
     "metadata": {},
     "output_type": "display_data"
    },
    {
     "name": "stdout",
     "output_type": "stream",
     "text": [
      "Angle is: 198.43494882292202\n"
     ]
    },
    {
     "data": {
      "image/png": "[encoded data removed]",
      "text/plain": [
       "<Figure size 640x480 with 1 Axes>"
      ]
     },
     "metadata": {},
     "output_type": "display_data"
    },
    {
     "name": "stdout",
     "output_type": "stream",
     "text": [
      "Angle is: 356.8778695378843\n"
     ]
    },
    {
     "data": {
      "image/png": "[encoded data removed]",
      "text/plain": [
       "<Figure size 640x480 with 1 Axes>"
      ]
     },
     "metadata": {},
     "output_type": "display_data"
    },
    {
     "name": "stdout",
     "output_type": "stream",
     "text": [
      "Angle is: 152.19854122006586\n"
     ]
    },
    {
     "data": {
      "image/png": "[encoded data removed]",
      "text/plain": [
       "<Figure size 640x480 with 1 Axes>"
      ]
     },
     "metadata": {},
     "output_type": "display_data"
    },
    {
     "name": "stdout",
     "output_type": "stream",
     "text": [
      "Angle is: 233.23726391158277\n"
     ]
    },
    {
     "data": {
      "image/png": "[encoded data removed]",
      "text/plain": [
       "<Figure size 640x480 with 1 Axes>"
      ]
     },
     "metadata": {},
     "output_type": "display_data"
    },
    {
     "name": "stdout",
     "output_type": "stream",
     "text": [
      "Angle is: 18.746900982783288\n",
      "Descriptors for mapbox image 50.7969549-3.5946137.jpg:\n",
      "[[36.92541679466238, 176.8778695378843, 254.74488129694222], [90, 258.69006752597977, 351.7241071729248], [57.38075692880717, 337.01128319791934, 359.6527571029142], [78.69006752597979, 218.22518501773868, 346.04549082686316], [147.93927193638118, 198.43494882292202, 356.8778695378843], [18.746900982783288, 152.19854122006586, 233.23726391158277]]\n",
      "Number of descriptors: 6\n",
      "Descriptor of segmentation image:\n",
      "[75.48894049983095, 151.12259877771717, 281.30993247402023]\n",
      "Descriptor of mapbox image:\n",
      "[36.92541679466238, 176.8778695378843, 254.74488129694222]\n",
      "Angle of segmentation image: 75.48894049983095\n",
      "Angle of mapbox image: 36.92541679466238\n",
      "Angle of mapbox image: 176.8778695378843\n",
      "Angle of mapbox image: 254.74488129694222\n",
      "Best diff = 38.56352370516856 with angle 36.92541679466238\n",
      "Angle of segmentation image: 151.12259877771717\n",
      "Angle of mapbox image: 36.92541679466238\n",
      "Angle of mapbox image: 176.8778695378843\n",
      "Angle of mapbox image: 254.74488129694222\n",
      "Best diff = 25.75527076016712 with angle 176.8778695378843\n",
      "Angle of segmentation image: 281.30993247402023\n",
      "Angle of mapbox image: 36.92541679466238\n",
      "Angle of mapbox image: 176.8778695378843\n",
      "Angle of mapbox image: 254.74488129694222\n",
      "Best diff = 26.565051177078004 with angle 254.74488129694222\n",
      "Result = 53.44325286254001\n",
      "Descriptor of mapbox image:\n",
      "[90, 258.69006752597977, 351.7241071729248]\n",
      "Angle of segmentation image: 75.48894049983095\n",
      "Angle of mapbox image: 90\n",
      "Angle of mapbox image: 258.69006752597977\n",
      "Angle of mapbox image: 351.7241071729248\n",
      "Best diff = 14.511059500169054 with angle 90\n",
      "Angle of segmentation image: 151.12259877771717\n",
      "Angle of mapbox image: 90\n",
      "Angle of mapbox image: 258.69006752597977\n",
      "Angle of mapbox image: 351.7241071729248\n",
      "Best diff = 107.5674687482626 with angle 258.69006752597977\n",
      "Angle of segmentation image: 281.30993247402023\n",
      "Angle of mapbox image: 90\n",
      "Angle of mapbox image: 258.69006752597977\n",
      "Angle of mapbox image: 351.7241071729248\n",
      "Best diff = 70.41417469890456 with angle 351.7241071729248\n",
      "Result = 129.38117011085404\n",
      "Descriptor of mapbox image:\n",
      "[57.38075692880717, 337.01128319791934, 359.6527571029142]\n",
      "Angle of segmentation image: 75.48894049983095\n",
      "Angle of mapbox image: 57.38075692880717\n",
      "Angle of mapbox image: 337.01128319791934\n",
      "Angle of mapbox image: 359.6527571029142\n",
      "Best diff = 18.108183571023773 with angle 57.38075692880717\n",
      "Angle of segmentation image: 151.12259877771717\n",
      "Angle of mapbox image: 57.38075692880717\n",
      "Angle of mapbox image: 337.01128319791934\n",
      "Angle of mapbox image: 359.6527571029142\n",
      "Best diff = 151.46984167480292 with angle 359.6527571029142\n",
      "Angle of segmentation image: 281.30993247402023\n",
      "Angle of mapbox image: 57.38075692880717\n",
      "Angle of mapbox image: 337.01128319791934\n",
      "Angle of mapbox image: 359.6527571029142\n",
      "Best diff = 55.70135072389911 with angle 337.01128319791934\n",
      "Result = 162.39969126109378\n",
      "Descriptor of mapbox image:\n",
      "[78.69006752597979, 218.22518501773868, 346.04549082686316]\n",
      "Angle of segmentation image: 75.48894049983095\n",
      "Angle of mapbox image: 78.69006752597979\n",
      "Angle of mapbox image: 218.22518501773868\n",
      "Angle of mapbox image: 346.04549082686316\n",
      "Best diff = 3.201127026148839 with angle 78.69006752597979\n",
      "Angle of segmentation image: 151.12259877771717\n",
      "Angle of mapbox image: 78.69006752597979\n",
      "Angle of mapbox image: 218.22518501773868\n",
      "Angle of mapbox image: 346.04549082686316\n",
      "Best diff = 67.10258624002151 with angle 218.22518501773868\n",
      "Angle of segmentation image: 281.30993247402023\n",
      "Angle of mapbox image: 78.69006752597979\n",
      "Angle of mapbox image: 218.22518501773868\n",
      "Angle of mapbox image: 346.04549082686316\n",
      "Best diff = 64.73555835284293 with angle 346.04549082686316\n",
      "Result = 93.2936054056836\n",
      "Descriptor of mapbox image:\n",
      "[147.93927193638118, 198.43494882292202, 356.8778695378843]\n",
      "Angle of segmentation image: 75.48894049983095\n",
      "Angle of mapbox image: 147.93927193638118\n",
      "Angle of mapbox image: 198.43494882292202\n",
      "Angle of mapbox image: 356.8778695378843\n",
      "Best diff = 72.45033143655023 with angle 147.93927193638118\n",
      "Angle of segmentation image: 151.12259877771717\n",
      "Angle of mapbox image: 147.93927193638118\n",
      "Angle of mapbox image: 198.43494882292202\n",
      "Angle of mapbox image: 356.8778695378843\n",
      "Best diff = 47.31235004520485 with angle 198.43494882292202\n",
      "Angle of segmentation image: 281.30993247402023\n",
      "Angle of mapbox image: 147.93927193638118\n",
      "Angle of mapbox image: 198.43494882292202\n",
      "Angle of mapbox image: 356.8778695378843\n",
      "Best diff = 75.56793706386406 with angle 356.8778695378843\n",
      "Result = 114.88264492147668\n",
      "Descriptor of mapbox image:\n",
      "[18.746900982783288, 152.19854122006586, 233.23726391158277]\n",
      "Angle of segmentation image: 75.48894049983095\n",
      "Angle of mapbox image: 18.746900982783288\n",
      "Angle of mapbox image: 152.19854122006586\n",
      "Angle of mapbox image: 233.23726391158277\n",
      "Best diff = 56.74203951704766 with angle 18.746900982783288\n",
      "Angle of segmentation image: 151.12259877771717\n",
      "Angle of mapbox image: 18.746900982783288\n",
      "Angle of mapbox image: 152.19854122006586\n",
      "Angle of mapbox image: 233.23726391158277\n",
      "Best diff = 1.0759424423486905 with angle 152.19854122006586\n",
      "Angle of segmentation image: 281.30993247402023\n",
      "Angle of mapbox image: 18.746900982783288\n",
      "Angle of mapbox image: 152.19854122006586\n",
      "Angle of mapbox image: 233.23726391158277\n",
      "Best diff = 48.07266856243746 with angle 233.23726391158277\n",
      "Result = 74.37605907419005\n",
      "Score = 7.310489235512217\n",
      "**************************************************\n",
      "Mapbox image: 50.7943988-3.5911131.jpg\n",
      "**************************************************\n",
      "Cropped mapbox image\n",
      "Binary thresholding\n",
      "Isotropic closing of segmentation image\n",
      "Getting intersections in skeleton (more than 2 neighbours)\n",
      "0 intersections found in the skeleton:\n",
      "[]\n",
      "No intersections found in the skeleton\n",
      "Descriptors for mapbox image 50.7943988-3.5911131.jpg:\n",
      "None\n",
      "**************************************************\n",
      "Mapbox image: 50.796425-3.5911569.jpg\n",
      "**************************************************\n",
      "Cropped mapbox image\n",
      "Binary thresholding\n",
      "Isotropic closing of segmentation image\n",
      "Getting intersections in skeleton (more than 2 neighbours)\n",
      "0 intersections found in the skeleton:\n",
      "[]\n",
      "No intersections found in the skeleton\n",
      "Descriptors for mapbox image 50.796425-3.5911569.jpg:\n",
      "None\n",
      "**************************************************\n",
      "Mapbox image: 50.7965324-3.5951496.jpg\n",
      "**************************************************\n",
      "Cropped mapbox image\n",
      "Binary thresholding\n",
      "Isotropic closing of segmentation image\n",
      "Getting intersections in skeleton (more than 2 neighbours)\n",
      "9 intersections found in the skeleton:\n",
      "[(65, 407), (92, 441), (110, 465), (128, 497), (129, 497), (133, 50), (223, 15), (255, 249), (258, 264)]\n",
      "There are intersections in mapbox image 50.7965324-3.5951496.jpg\n"
     ]
    },
    {
     "data": {
      "image/png": "[encoded data removed]",
      "text/plain": [
       "<Figure size 640x480 with 1 Axes>"
      ]
     },
     "metadata": {},
     "output_type": "display_data"
    },
    {
     "name": "stdout",
     "output_type": "stream",
     "text": [
      "Angle is: 171.7241071729248\n"
     ]
    },
    {
     "data": {
      "image/png": "[encoded data removed]",
      "text/plain": [
       "<Figure size 640x480 with 1 Axes>"
      ]
     },
     "metadata": {},
     "output_type": "display_data"
    },
    {
     "name": "stdout",
     "output_type": "stream",
     "text": [
      "Angle is: 5.538637532790519\n"
     ]
    },
    {
     "data": {
      "image/png": "[encoded data removed]",
      "text/plain": [
       "<Figure size 640x480 with 1 Axes>"
      ]
     },
     "metadata": {},
     "output_type": "display_data"
    },
    {
     "name": "stdout",
     "output_type": "stream",
     "text": [
      "Angle is: 334.415465455963\n"
     ]
    },
    {
     "data": {
      "image/png": "[encoded data removed]",
      "text/plain": [
       "<Figure size 640x480 with 1 Axes>"
      ]
     },
     "metadata": {},
     "output_type": "display_data"
    },
    {
     "name": "stdout",
     "output_type": "stream",
     "text": [
      "Angle is: 193.62699485989154\n"
     ]
    },
    {
     "data": {
      "image/png": "[encoded data removed]",
      "text/plain": [
       "<Figure size 640x480 with 1 Axes>"
      ]
     },
     "metadata": {},
     "output_type": "display_data"
    },
    {
     "name": "stdout",
     "output_type": "stream",
     "text": [
      "Angle is: 142.73783956028123\n"
     ]
    },
    {
     "data": {
      "image/png": "[encoded data removed]",
      "text/plain": [
       "<Figure size 640x480 with 1 Axes>"
      ]
     },
     "metadata": {},
     "output_type": "display_data"
    },
    {
     "name": "stdout",
     "output_type": "stream",
     "text": [
      "Angle is: 326.5510072625253\n"
     ]
    },
    {
     "data": {
      "image/png": "[encoded data removed]",
      "text/plain": [
       "<Figure size 640x480 with 1 Axes>"
      ]
     },
     "metadata": {},
     "output_type": "display_data"
    },
    {
     "name": "stdout",
     "output_type": "stream",
     "text": [
      "Angle is: 193.62699485989154\n"
     ]
    },
    {
     "data": {
      "image/png": "[encoded data removed]",
      "text/plain": [
       "<Figure size 640x480 with 1 Axes>"
      ]
     },
     "metadata": {},
     "output_type": "display_data"
    },
    {
     "name": "stdout",
     "output_type": "stream",
     "text": [
      "Angle is: 143.0745832053376\n"
     ]
    },
    {
     "data": {
      "image/png": "[encoded data removed]",
      "text/plain": [
       "<Figure size 640x480 with 1 Axes>"
      ]
     },
     "metadata": {},
     "output_type": "display_data"
    },
    {
     "name": "stdout",
     "output_type": "stream",
     "text": [
      "Angle is: 333.2962183930344\n"
     ]
    },
    {
     "data": {
      "image/png": "[encoded data removed]",
      "text/plain": [
       "<Figure size 640x480 with 1 Axes>"
      ]
     },
     "metadata": {},
     "output_type": "display_data"
    },
    {
     "name": "stdout",
     "output_type": "stream",
     "text": [
      "Angle is: 147.03720232036574\n"
     ]
    },
    {
     "data": {
      "image/png": "[encoded data removed]",
      "text/plain": [
       "<Figure size 640x480 with 1 Axes>"
      ]
     },
     "metadata": {},
     "output_type": "display_data"
    },
    {
     "name": "stdout",
     "output_type": "stream",
     "text": [
      "Angle is: 195.57782577431104\n"
     ]
    },
    {
     "data": {
      "image/png": "[encoded data removed]",
      "text/plain": [
       "<Figure size 640x480 with 1 Axes>"
      ]
     },
     "metadata": {},
     "output_type": "display_data"
    },
    {
     "name": "stdout",
     "output_type": "stream",
     "text": [
      "Angle is: 8.615648184164117\n"
     ]
    },
    {
     "data": {
      "image/png": "[encoded data removed]",
      "text/plain": [
       "<Figure size 640x480 with 1 Axes>"
      ]
     },
     "metadata": {},
     "output_type": "display_data"
    },
    {
     "name": "stdout",
     "output_type": "stream",
     "text": [
      "Angle is: 191.30993247402023\n"
     ]
    },
    {
     "data": {
      "image/png": "[encoded data removed]",
      "text/plain": [
       "<Figure size 640x480 with 1 Axes>"
      ]
     },
     "metadata": {},
     "output_type": "display_data"
    },
    {
     "name": "stdout",
     "output_type": "stream",
     "text": [
      "Angle is: 147.03720232036574\n"
     ]
    },
    {
     "data": {
      "image/png": "[encoded data removed]",
      "text/plain": [
       "<Figure size 640x480 with 1 Axes>"
      ]
     },
     "metadata": {},
     "output_type": "display_data"
    },
    {
     "name": "stdout",
     "output_type": "stream",
     "text": [
      "Angle is: 326.5510072625253\n"
     ]
    },
    {
     "data": {
      "image/png": "[encoded data removed]",
      "text/plain": [
       "<Figure size 640x480 with 1 Axes>"
      ]
     },
     "metadata": {},
     "output_type": "display_data"
    },
    {
     "name": "stdout",
     "output_type": "stream",
     "text": [
      "Angle is: 176.8778695378843\n"
     ]
    },
    {
     "data": {
      "image/png": "[encoded data removed]",
      "text/plain": [
       "<Figure size 640x480 with 1 Axes>"
      ]
     },
     "metadata": {},
     "output_type": "display_data"
    },
    {
     "name": "stdout",
     "output_type": "stream",
     "text": [
      "Angle is: 242.21842592097957\n"
     ]
    },
    {
     "data": {
      "image/png": "[encoded data removed]",
      "text/plain": [
       "<Figure size 640x480 with 1 Axes>"
      ]
     },
     "metadata": {},
     "output_type": "display_data"
    },
    {
     "name": "stdout",
     "output_type": "stream",
     "text": [
      "Angle is: 38.93411270300349\n"
     ]
    },
    {
     "data": {
      "image/png": "[encoded data removed]",
      "text/plain": [
       "<Figure size 640x480 with 1 Axes>"
      ]
     },
     "metadata": {},
     "output_type": "display_data"
    },
    {
     "name": "stdout",
     "output_type": "stream",
     "text": [
      "Angle is: 73.42904883308616\n"
     ]
    },
    {
     "data": {
      "image/png": "[encoded data removed]",
      "text/plain": [
       "<Figure size 640x480 with 1 Axes>"
      ]
     },
     "metadata": {},
     "output_type": "display_data"
    },
    {
     "name": "stdout",
     "output_type": "stream",
     "text": [
      "Angle is: 243.31753960301296\n"
     ]
    },
    {
     "data": {
      "image/png": "[encoded data removed]",
      "text/plain": [
       "<Figure size 640x480 with 1 Axes>"
      ]
     },
     "metadata": {},
     "output_type": "display_data"
    },
    {
     "name": "stdout",
     "output_type": "stream",
     "text": [
      "Angle is: 341.87813975209866\n"
     ]
    },
    {
     "data": {
      "image/png": "[encoded data removed]",
      "text/plain": [
       "<Figure size 640x480 with 1 Axes>"
      ]
     },
     "metadata": {},
     "output_type": "display_data"
    },
    {
     "name": "stdout",
     "output_type": "stream",
     "text": [
      "Angle is: 188.2758928270752\n"
     ]
    },
    {
     "data": {
      "image/png": "[encoded data removed]",
      "text/plain": [
       "<Figure size 640x480 with 1 Axes>"
      ]
     },
     "metadata": {},
     "output_type": "display_data"
    },
    {
     "name": "stdout",
     "output_type": "stream",
     "text": [
      "Angle is: 120.01836742760909\n"
     ]
    },
    {
     "data": {
      "image/png": "[encoded data removed]",
      "text/plain": [
       "<Figure size 640x480 with 1 Axes>"
      ]
     },
     "metadata": {},
     "output_type": "display_data"
    },
    {
     "name": "stdout",
     "output_type": "stream",
     "text": [
      "Angle is: 348.3565685012383\n"
     ]
    },
    {
     "data": {
      "image/png": "[encoded data removed]",
      "text/plain": [
       "<Figure size 640x480 with 1 Axes>"
      ]
     },
     "metadata": {},
     "output_type": "display_data"
    },
    {
     "name": "stdout",
     "output_type": "stream",
     "text": [
      "Angle is: 169.69515353123396\n"
     ]
    },
    {
     "data": {
      "image/png": "[encoded data removed]",
      "text/plain": [
       "<Figure size 640x480 with 1 Axes>"
      ]
     },
     "metadata": {},
     "output_type": "display_data"
    },
    {
     "name": "stdout",
     "output_type": "stream",
     "text": [
      "Angle is: 306.6709547664834\n"
     ]
    },
    {
     "data": {
      "image/png": "[encoded data removed]",
      "text/plain": [
       "<Figure size 640x480 with 1 Axes>"
      ]
     },
     "metadata": {},
     "output_type": "display_data"
    },
    {
     "name": "stdout",
     "output_type": "stream",
     "text": [
      "Angle is: 21.200216655641025\n",
      "Descriptors for mapbox image 50.7965324-3.5951496.jpg:\n",
      "[[5.538637532790519, 171.7241071729248, 334.415465455963], [142.73783956028123, 193.62699485989154, 326.5510072625253], [143.0745832053376, 193.62699485989154, 333.2962183930344], [8.615648184164117, 147.03720232036574, 195.57782577431104], [147.03720232036574, 191.30993247402023, 326.5510072625253], [38.93411270300349, 176.8778695378843, 242.21842592097957], [73.42904883308616, 243.31753960301296, 341.87813975209866], [120.01836742760909, 188.2758928270752, 348.3565685012383], [21.200216655641025, 169.69515353123396, 306.6709547664834]]\n",
      "Number of descriptors: 9\n",
      "Descriptor of segmentation image:\n",
      "[75.48894049983095, 151.12259877771717, 281.30993247402023]\n",
      "Descriptor of mapbox image:\n",
      "[5.538637532790519, 171.7241071729248, 334.415465455963]\n",
      "Angle of segmentation image: 75.48894049983095\n",
      "Angle of mapbox image: 5.538637532790519\n",
      "Angle of mapbox image: 171.7241071729248\n",
      "Angle of mapbox image: 334.415465455963\n",
      "Best diff = 69.95030296704043 with angle 5.538637532790519\n",
      "Angle of segmentation image: 151.12259877771717\n",
      "Angle of mapbox image: 5.538637532790519\n",
      "Angle of mapbox image: 171.7241071729248\n",
      "Angle of mapbox image: 334.415465455963\n",
      "Best diff = 20.601508395207617 with angle 171.7241071729248\n",
      "Angle of segmentation image: 281.30993247402023\n",
      "Angle of mapbox image: 5.538637532790519\n",
      "Angle of mapbox image: 171.7241071729248\n",
      "Angle of mapbox image: 334.415465455963\n",
      "Best diff = 53.10553298194276 with angle 334.415465455963\n",
      "Result = 90.20900546306208\n",
      "Descriptor of mapbox image:\n",
      "[142.73783956028123, 193.62699485989154, 326.5510072625253]\n",
      "Angle of segmentation image: 75.48894049983095\n",
      "Angle of mapbox image: 142.73783956028123\n",
      "Angle of mapbox image: 193.62699485989154\n",
      "Angle of mapbox image: 326.5510072625253\n",
      "Best diff = 67.24889906045028 with angle 142.73783956028123\n",
      "Angle of segmentation image: 151.12259877771717\n",
      "Angle of mapbox image: 142.73783956028123\n",
      "Angle of mapbox image: 193.62699485989154\n",
      "Angle of mapbox image: 326.5510072625253\n",
      "Best diff = 42.50439608217437 with angle 193.62699485989154\n",
      "Angle of segmentation image: 281.30993247402023\n",
      "Angle of mapbox image: 142.73783956028123\n",
      "Angle of mapbox image: 193.62699485989154\n",
      "Angle of mapbox image: 326.5510072625253\n",
      "Best diff = 45.241074788505045 with angle 326.5510072625253\n",
      "Result = 91.51935838483625\n",
      "Descriptor of mapbox image:\n",
      "[143.0745832053376, 193.62699485989154, 333.2962183930344]\n",
      "Angle of segmentation image: 75.48894049983095\n",
      "Angle of mapbox image: 143.0745832053376\n",
      "Angle of mapbox image: 193.62699485989154\n",
      "Angle of mapbox image: 333.2962183930344\n",
      "Best diff = 67.58564270550666 with angle 143.0745832053376\n",
      "Angle of segmentation image: 151.12259877771717\n",
      "Angle of mapbox image: 143.0745832053376\n",
      "Angle of mapbox image: 193.62699485989154\n",
      "Angle of mapbox image: 333.2962183930344\n",
      "Best diff = 42.50439608217437 with angle 193.62699485989154\n",
      "Angle of segmentation image: 281.30993247402023\n",
      "Angle of mapbox image: 143.0745832053376\n",
      "Angle of mapbox image: 193.62699485989154\n",
      "Angle of mapbox image: 333.2962183930344\n",
      "Best diff = 51.986285919014165 with angle 333.2962183930344\n",
      "Result = 95.2733788100341\n",
      "Descriptor of mapbox image:\n",
      "[8.615648184164117, 147.03720232036574, 195.57782577431104]\n",
      "Angle of segmentation image: 75.48894049983095\n",
      "Angle of mapbox image: 8.615648184164117\n",
      "Angle of mapbox image: 147.03720232036574\n",
      "Angle of mapbox image: 195.57782577431104\n",
      "Best diff = 66.87329231566683 with angle 8.615648184164117\n",
      "Angle of segmentation image: 151.12259877771717\n",
      "Angle of mapbox image: 8.615648184164117\n",
      "Angle of mapbox image: 147.03720232036574\n",
      "Angle of mapbox image: 195.57782577431104\n",
      "Best diff = 4.085396457351436 with angle 147.03720232036574\n",
      "Angle of segmentation image: 281.30993247402023\n",
      "Angle of mapbox image: 8.615648184164117\n",
      "Angle of mapbox image: 147.03720232036574\n",
      "Angle of mapbox image: 195.57782577431104\n",
      "Best diff = 85.73210669970919 with angle 195.57782577431104\n",
      "Result = 108.80589050469963\n",
      "Descriptor of mapbox image:\n",
      "[147.03720232036574, 191.30993247402023, 326.5510072625253]\n",
      "Angle of segmentation image: 75.48894049983095\n",
      "Angle of mapbox image: 147.03720232036574\n",
      "Angle of mapbox image: 191.30993247402023\n",
      "Angle of mapbox image: 326.5510072625253\n",
      "Best diff = 71.54826182053479 with angle 147.03720232036574\n",
      "Angle of segmentation image: 151.12259877771717\n",
      "Angle of mapbox image: 147.03720232036574\n",
      "Angle of mapbox image: 191.30993247402023\n",
      "Angle of mapbox image: 326.5510072625253\n",
      "Best diff = 40.18733369630306 with angle 191.30993247402023\n",
      "Angle of segmentation image: 281.30993247402023\n",
      "Angle of mapbox image: 147.03720232036574\n",
      "Angle of mapbox image: 191.30993247402023\n",
      "Angle of mapbox image: 326.5510072625253\n",
      "Best diff = 45.241074788505045 with angle 326.5510072625253\n",
      "Result = 93.70661880132543\n",
      "Descriptor of mapbox image:\n",
      "[38.93411270300349, 176.8778695378843, 242.21842592097957]\n",
      "Angle of segmentation image: 75.48894049983095\n",
      "Angle of mapbox image: 38.93411270300349\n",
      "Angle of mapbox image: 176.8778695378843\n",
      "Angle of mapbox image: 242.21842592097957\n",
      "Best diff = 36.55482779682745 with angle 38.93411270300349\n",
      "Angle of segmentation image: 151.12259877771717\n",
      "Angle of mapbox image: 38.93411270300349\n",
      "Angle of mapbox image: 176.8778695378843\n",
      "Angle of mapbox image: 242.21842592097957\n",
      "Best diff = 25.75527076016712 with angle 176.8778695378843\n",
      "Angle of segmentation image: 281.30993247402023\n",
      "Angle of mapbox image: 38.93411270300349\n",
      "Angle of mapbox image: 176.8778695378843\n",
      "Angle of mapbox image: 242.21842592097957\n",
      "Best diff = 39.09150655304066 with angle 242.21842592097957\n",
      "Result = 59.39474128045049\n",
      "Descriptor of mapbox image:\n",
      "[73.42904883308616, 243.31753960301296, 341.87813975209866]\n",
      "Angle of segmentation image: 75.48894049983095\n",
      "Angle of mapbox image: 73.42904883308616\n",
      "Angle of mapbox image: 243.31753960301296\n",
      "Angle of mapbox image: 341.87813975209866\n",
      "Best diff = 2.0598916667447895 with angle 73.42904883308616\n",
      "Angle of segmentation image: 151.12259877771717\n",
      "Angle of mapbox image: 73.42904883308616\n",
      "Angle of mapbox image: 243.31753960301296\n",
      "Angle of mapbox image: 341.87813975209866\n",
      "Best diff = 92.19494082529579 with angle 243.31753960301296\n",
      "Angle of segmentation image: 281.30993247402023\n",
      "Angle of mapbox image: 73.42904883308616\n",
      "Angle of mapbox image: 243.31753960301296\n",
      "Angle of mapbox image: 341.87813975209866\n",
      "Best diff = 60.56820727807843 with angle 341.87813975209866\n",
      "Result = 110.32976932967271\n",
      "Descriptor of mapbox image:\n",
      "[120.01836742760909, 188.2758928270752, 348.3565685012383]\n",
      "Angle of segmentation image: 75.48894049983095\n",
      "Angle of mapbox image: 120.01836742760909\n",
      "Angle of mapbox image: 188.2758928270752\n",
      "Angle of mapbox image: 348.3565685012383\n",
      "Best diff = 44.52942692777815 with angle 120.01836742760909\n",
      "Angle of segmentation image: 151.12259877771717\n",
      "Angle of mapbox image: 120.01836742760909\n",
      "Angle of mapbox image: 188.2758928270752\n",
      "Angle of mapbox image: 348.3565685012383\n",
      "Best diff = 37.15329404935804 with angle 188.2758928270752\n",
      "Angle of segmentation image: 281.30993247402023\n",
      "Angle of mapbox image: 120.01836742760909\n",
      "Angle of mapbox image: 188.2758928270752\n",
      "Angle of mapbox image: 348.3565685012383\n",
      "Best diff = 67.04663602721809 with angle 348.3565685012383\n",
      "Result = 88.6481163014796\n",
      "Descriptor of mapbox image:\n",
      "[21.200216655641025, 169.69515353123396, 306.6709547664834]\n",
      "Angle of segmentation image: 75.48894049983095\n",
      "Angle of mapbox image: 21.200216655641025\n",
      "Angle of mapbox image: 169.69515353123396\n",
      "Angle of mapbox image: 306.6709547664834\n",
      "Best diff = 54.28872384418992 with angle 21.200216655641025\n",
      "Angle of segmentation image: 151.12259877771717\n",
      "Angle of mapbox image: 21.200216655641025\n",
      "Angle of mapbox image: 169.69515353123396\n",
      "Angle of mapbox image: 306.6709547664834\n",
      "Best diff = 18.572554753516783 with angle 169.69515353123396\n",
      "Angle of segmentation image: 281.30993247402023\n",
      "Angle of mapbox image: 21.200216655641025\n",
      "Angle of mapbox image: 169.69515353123396\n",
      "Angle of mapbox image: 306.6709547664834\n",
      "Best diff = 25.36102229246319 with angle 306.6709547664834\n",
      "Result = 62.73266117758682\n",
      "Score = 7.706798380679911\n",
      "**************************************************\n",
      "Top 3 results:\n",
      "**************************************************\n",
      "Score = 4.7604968544766955 with mapbox image 50.798307-3.5917455.jpg\n",
      "Score = 5.02085936823212 with mapbox image 50.7975002-3.5913741.jpg\n",
      "Score = 5.04088121387407 with mapbox image 50.7947894-3.5913995.jpg\n"
     ]
    }
   ],
   "source": [
    "best_mb_image = None\n",
    "scores = dict()\n",
    "visualize = False \n",
    "\n",
    "for mb_image in os.listdir(mapbox_imgs_dir_path) : \n",
    "    best_results = []\n",
    "    mb_image_path = os.path.join(mapbox_imgs_dir_path, mb_image)\n",
    "    print(50*\"*\")\n",
    "    print(f\"Mapbox image: {mb_image}\")\n",
    "    print(50*\"*\")\n",
    "    mb_image_bgr = cv2.imread(mb_image_path)\n",
    "    if visualize : \n",
    "        plot_image(mb_image_bgr)\n",
    "    des = find_descriptors_in_mapbox_image(mb_image_path, mb_image, vis=visualize)\n",
    "    print(f\"Descriptors for mapbox image {mb_image}:\")\n",
    "    print(des)\n",
    "\n",
    "    # matching process\n",
    "    if des is not None and segm_img_des is not None :\n",
    "        print(f\"Number of descriptors: {len(des)}\")\n",
    "        for des_segm in segm_img_des :\n",
    "            best_result_per_des = 1000 # best descriptor match for descriptor des_segm of segmentation image\n",
    "            print(f\"Descriptor of segmentation image:\")\n",
    "            print(des_segm)\n",
    "            for des_mb in des :\n",
    "                print(f\"Descriptor of mapbox image:\")\n",
    "                print(des_mb)\n",
    "\n",
    "                if len(des_mb) < len(des_segm) : \n",
    "                    continue\n",
    "\n",
    "                result = 0\n",
    "                processed_angles = []\n",
    "                for angle_des_segm in des_segm :\n",
    "                    print(f\"Angle of segmentation image: {angle_des_segm}\") \n",
    "                    best_diff = 1000\n",
    "                    for angle_des_mb in des_mb :\n",
    "                        print(f\"Angle of mapbox image: {angle_des_mb}\")\n",
    "                        if angle_des_mb in processed_angles : \n",
    "                            continue\n",
    "                        diff = min(abs(angle_des_segm-angle_des_mb), abs((angle_des_segm+360)-angle_des_mb), abs((angle_des_mb+360)-angle_des_segm))\n",
    "                        if diff < best_diff :\n",
    "                            best_diff = diff\n",
    "                            best_angle_des_mb = angle_des_mb\n",
    "                    \n",
    "                    print(f\"Best diff = {best_diff} with angle {best_angle_des_mb}\")\n",
    "                    processed_angles.append(best_angle_des_mb)\n",
    "                    result += best_diff**2\n",
    "                \n",
    "                \n",
    "                result = math.sqrt(result)\n",
    "                print(f\"Result = {result}\")\n",
    "            \n",
    "                if result < best_result_per_des :\n",
    "                    best_result_per_des = result\n",
    "\n",
    "            best_results.append(best_result_per_des)\n",
    "        \n",
    "        score =  math.sqrt(np.sum(best_results))\n",
    "        print(f\"Score = {score}\")\n",
    "        \n",
    "        # make sure there is at least one best result that is below the threshold \n",
    "        threshold = 40\n",
    "\n",
    "        # If at least one result is below the threshold, add the score to the dictionary\n",
    "        # if any(result < threshold for result in best_results) :\n",
    "        #   print(f\"At least one result is below the threshold, add the score to the dictionary for mapbox image {mb_image}\")\n",
    "        #   scores[mb_image] = score\n",
    "        scores[mb_image] = score\n",
    "    else:\n",
    "        continue\n",
    "\n",
    "\n",
    "# Get the lowest three values using sorted() and dictionary items()\n",
    "lowest_values = sorted(scores.values())[:3]\n",
    "print(50*\"*\")\n",
    "print(\"Top 3 results:\")\n",
    "print(50*\"*\")\n",
    "for value in lowest_values:\n",
    "    # For each value, get the corresponding key\n",
    "    for key in scores.keys():\n",
    "        if scores[key] == value:\n",
    "            print(f\"Score = {value} with mapbox image {key}\")"
   ]
  }
 ],
 "metadata": {
  "kernelspec": {
   "display_name": ".venv",
   "language": "python",
   "name": "python3"
  },
  "language_info": {
   "codemirror_mode": {
    "name": "ipython",
    "version": 3
   },
   "file_extension": ".py",
   "mimetype": "text/x-python",
   "name": "python",
   "nbconvert_exporter": "python",
   "pygments_lexer": "ipython3",
   "version": "3.10.11"
  },
  "orig_nbformat": 4
 },
 "nbformat": 4,
 "nbformat_minor": 2
}
