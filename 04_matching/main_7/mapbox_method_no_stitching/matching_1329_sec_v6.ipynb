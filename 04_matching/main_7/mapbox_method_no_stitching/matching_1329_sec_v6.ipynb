{
 "cells": [
  {
   "cell_type": "code",
   "execution_count": 2,
   "metadata": {},
   "outputs": [],
   "source": [
    "import os \n",
    "import sys\n",
    "import numpy as np\n",
    "import pandas as pd\n",
    "import matplotlib.pyplot as plt\n",
    "import math\n",
    "import requests\n",
    "import cv2 \n",
    "from numpy.polynomial import Polynomial\n",
    "from skimage.morphology import skeletonize, binary_closing, square, binary_erosion, binary_dilation, medial_axis, thin, disk, convex_hull_image, diamond, star, isotropic_closing, remove_small_objects\n",
    "from skimage.filters import threshold_otsu\n",
    "import json"
   ]
  },
  {
   "cell_type": "code",
   "execution_count": 3,
   "metadata": {},
   "outputs": [],
   "source": [
    "sem_segm_img_path = \"/Users/senneloobuyck/Documents/Thesis_project/04_matching/main_7/picked_masks/2023_RVV_1_mask_1329.jpg\"\n",
    "mapbox_imgs_dir_path = \"/Users/senneloobuyck/Documents/Thesis_project/04_matching/main_7/mapbox_method_no_stitching/mapbox_images_for_frame_1329_RVV1\"\n",
    "heli_lat =  50.801275\n",
    "heli_lon = 3.593557\n",
    "altitude = 174.99"
   ]
  },
  {
   "cell_type": "code",
   "execution_count": 4,
   "metadata": {},
   "outputs": [],
   "source": [
    "def plot_image(img):\n",
    "    plt.figure(figsize=(20,10))\n",
    "    plt.imshow(cv2.cvtColor(img, cv2.COLOR_BGR2RGB))\n",
    "    plt.show()"
   ]
  },
  {
   "cell_type": "code",
   "execution_count": 5,
   "metadata": {},
   "outputs": [],
   "source": [
    "def plot_patch(img, center_pixel, patch_size) : \n",
    "    # Calculate the patch boundaries\n",
    "    top = center_pixel[0] - patch_size // 2\n",
    "    bottom = top + patch_size\n",
    "    left = center_pixel[1] - patch_size // 2\n",
    "    right = left + patch_size\n",
    "\n",
    "    # Ensure the patch boundaries stay within the image dimensions\n",
    "    if top < 0:\n",
    "        top = 0\n",
    "    if bottom > img.shape[0]:\n",
    "        bottom = img.shape[0]\n",
    "    if left < 0:\n",
    "        left = 0\n",
    "    if right > img.shape[1]:\n",
    "        right = img.shape[1]\n",
    "\n",
    "    # Extract the patch from the image\n",
    "    patch = img[top:bottom, left:right]\n",
    "\n",
    "    # Plot the patch\n",
    "    plt.imshow(cv2.cvtColor(patch, cv2.COLOR_BGR2RGB))  # Assuming the image is grayscale\n",
    "    plt.axis('off')  # Hide axes\n",
    "    plt.show()"
   ]
  },
  {
   "cell_type": "code",
   "execution_count": 6,
   "metadata": {},
   "outputs": [],
   "source": [
    "def calculate_bearing(lat1, long1, lat2, long2) : \n",
    "    lat1 = math.radians(lat1)\n",
    "    long1 = math.radians(long1)\n",
    "    lat2 = math.radians(lat2)\n",
    "    long2 = math.radians(long2)\n",
    "\n",
    "    d_long = long2 - long1\n",
    "\n",
    "    y = math.sin(d_long) * math.cos(lat2)\n",
    "    x = math.cos(lat1) * math.sin(lat2) - math.sin(lat1) * math.cos(lat2) * math.cos(d_long)\n",
    "\n",
    "    brng = math.atan2(y, x)\n",
    "\n",
    "    brng = math.degrees(brng)\n",
    "    brng = (brng + 360) % 360\n",
    "    # brng = 360 - brng # count degrees clockwise - remove to make counter-clockwise\n",
    "    return brng"
   ]
  },
  {
   "cell_type": "code",
   "execution_count": 7,
   "metadata": {},
   "outputs": [],
   "source": [
    "def haversine(lat1, lon1, lat2, lon2) : \n",
    "    R = 6371\n",
    "    d_lat = math.radians(lat2 - lat1)\n",
    "    d_lon = math.radians(lon2 - lon1)\n",
    "    lat1 = math.radians(lat1)\n",
    "    lat2 = math.radians(lat2)\n",
    "    a = math.sin(d_lat/2)**2 + math.cos(lat1) * math.cos(lat2) * math.sin(d_lon/2)**2\n",
    "    c = 2 * math.atan2(math.sqrt(a), math.sqrt(1 - a))\n",
    "    d = R * c * 1000\n",
    "    return d"
   ]
  },
  {
   "cell_type": "code",
   "execution_count": 8,
   "metadata": {},
   "outputs": [],
   "source": [
    "# calculate pitch/tilt\n",
    "def calculate_pitch(heli_lat, heli_lon, intersec_lat, intersec_lon, alt) : \n",
    "    dist = haversine(heli_lat, heli_lon, intersec_lat, intersec_lon)\n",
    "\n",
    "    # result = heli_df[(heli_df['lat'] == heli_lat) & (heli_df['lng'] == heli_lon)]\n",
    "    # if not result.empty:\n",
    "    #    altitude = result.iloc[0]['alt']\n",
    "\n",
    "    print(f\"Distance: {dist}\")\n",
    "    print(f\"Altitude: {alt}\")\n",
    "\n",
    "    alpha_radian = math.atan2(alt, dist)\n",
    "    alpha_degrees = alpha_radian * (180.0 / math.pi)\n",
    "    pitch = 90 - alpha_degrees\n",
    "    return pitch "
   ]
  },
  {
   "cell_type": "code",
   "execution_count": 9,
   "metadata": {},
   "outputs": [],
   "source": [
    "def get_mapbox_intersection_image(lat, lon, bearing, tilt) : \n",
    "    if tilt > 60 :\n",
    "        tilt = 60\n",
    "    zoom = 18\n",
    "    width = 512\n",
    "    height = 512\n",
    "    access_token = \"pk.eyJ1Ijoic2VubmVsb29idXljayIsImEiOiJjbG1zeDVreHowZmw5Mm1xY2lxeTFtYTB2In0.ymj-xZAfeeivbksi1PJttw\" \n",
    "    styles_url = \"mapbox://styles/senneloobuyck/cllcojw8d00wy01pb6rqcdmm5\"\n",
    "\n",
    "    style_code = styles_url.split('/')[-1]\n",
    "\n",
    "    url = f\"https://api.mapbox.com/styles/v1/senneloobuyck/{style_code}/static/{str(lon)},{str(lat)},{str(zoom)},{str(bearing)},{str(tilt)}/{str(width)}x{str(height)}?access_token={access_token}\"\n",
    "\n",
    "    response = requests.get(url)\n",
    "\n",
    "    if response.status_code == 200:\n",
    "        with open(f\"{lat}_{lon}.jpg\", \"wb\") as f:\n",
    "            f.write(response.content)\n",
    "        print(f\"Image saved as {lat}_{lon}.jpg\")\n",
    "    else:\n",
    "        print(\"Failed to retrieve image for intersection lat = \" + str(lat) + \", lon = \" + str(lon))\n",
    "        print(response.text[:100])"
   ]
  },
  {
   "cell_type": "code",
   "execution_count": 10,
   "metadata": {},
   "outputs": [],
   "source": [
    "def get_intersection_coordinates(lat, lon) : \n",
    "    # some lists and dataframes to store the data\n",
    "    nodes = []\n",
    "    intersection_nodes = []\n",
    "    df_nodes = pd.DataFrame(columns=['id', 'lat', 'lon'])\n",
    "    df_intersections = pd.DataFrame(columns=['lat', 'lon'])\n",
    "\n",
    "    overpass_url = \"http://overpass-api.de/api/interpreter\"\n",
    "\n",
    "\n",
    "    # first get the ways around the point \n",
    "    # .w is a temporary variable that stores the result of the first query\n",
    "    # node(way_cnt:2-);   // select those nodes that are members of two or more of the given ways\n",
    "    overpass_query = f\"\"\"[out:json];\n",
    "                        way(around: 300, {lat},{lon})[\"highway\"~\"(motorway|trunk|primary|secondary|tertiary|unclassified|residential|motorway_link|trunk_link|primary_link|secondary_link|tertiary_link|living_street|service|pedestrian)\"]->.w;\n",
    "                        node(way_cnt.w:2-);  \n",
    "                        out;\"\"\"\n",
    "\n",
    "    response = requests.get(overpass_url, params={'data': overpass_query})\n",
    "\n",
    "    # print(response.json()['elements'])\n",
    "\n",
    "    for item in response.json()['elements']:\n",
    "        df_intersections.loc[len(df_intersections)] = {'lat': item['lat'], 'lon': item['lon']}\n",
    "\n",
    "\n",
    "    # print(df_intersections)\n",
    "    return df_intersections"
   ]
  },
  {
   "cell_type": "code",
   "execution_count": 11,
   "metadata": {},
   "outputs": [
    {
     "name": "stdout",
     "output_type": "stream",
     "text": [
      "Intersection: 50.799533,3.5919185\n",
      "Bearing = 210.73095314270734\n",
      "Distance: 225.3439034128123\n",
      "Altitude: 174.99\n",
      "Pitch = 52.16900189622998\n",
      "Intersection: 50.8009587,3.5921857\n",
      "Bearing = 249.95070046771502\n",
      "Distance: 102.58789718612624\n",
      "Altitude: 174.99\n",
      "Pitch = 30.380966365393583\n",
      "Intersection: 50.7989069,3.5945538\n",
      "Bearing = 165.10180794850226\n",
      "Distance: 272.47986418065693\n",
      "Altitude: 174.99\n",
      "Pitch = 57.2909123720395\n",
      "Intersection: 50.801701,3.5923755\n",
      "Bearing = 299.7050365859298\n",
      "Distance: 95.59304576981852\n",
      "Altitude: 174.99\n",
      "Pitch = 28.64677342692407\n",
      "Intersection: 50.8007761,3.5927866\n",
      "Bearing = 224.303155548858\n",
      "Distance: 77.51629429836424\n",
      "Altitude: 174.99\n",
      "Pitch = 23.892172292468288\n",
      "Intersection: 50.8008391,3.5926009\n",
      "Bearing = 234.1949407109589\n",
      "Distance: 82.84958521318617\n",
      "Altitude: 174.99\n",
      "Pitch = 25.335367242831467\n",
      "Intersection: 50.803516,3.5951223\n",
      "Bearing = 23.817925873020442\n",
      "Distance: 272.3873044562206\n",
      "Altitude: 174.99\n",
      "Pitch = 57.28206071750175\n",
      "Intersection: 50.8037365,3.5944906\n",
      "Bearing = 13.479323991435365\n",
      "Distance: 281.45978960514157\n",
      "Altitude: 174.99\n",
      "Pitch = 58.129836508283965\n",
      "Intersection: 50.8035677,3.5949456\n",
      "Bearing = 20.945105840093447\n",
      "Distance: 272.974785559398\n",
      "Altitude: 174.99\n",
      "Pitch = 57.33817043619332\n",
      "Intersection: 50.8002026,3.592017\n",
      "Bearing = 222.22746633122708\n",
      "Distance: 161.03596190874043\n",
      "Altitude: 174.99\n",
      "Pitch = 42.622063526848834\n",
      "Intersection: 50.8001734,3.5924075\n",
      "Bearing = 213.40534102172154\n",
      "Distance: 146.73240320218355\n",
      "Altitude: 174.99\n",
      "Pitch = 39.98046508271699\n",
      "Intersection: 50.8014454,3.5930797\n",
      "Bearing = 299.461273474626\n",
      "Distance: 38.524540222288394\n",
      "Altitude: 174.99\n",
      "Pitch = 12.41576943105413\n",
      "Intersection: 50.799644,3.5930147\n",
      "Bearing = 191.86793340206341\n",
      "Distance: 185.3201449556354\n",
      "Altitude: 174.99\n",
      "Pitch = 46.64222858280709\n",
      "Intersection: 50.8009171,3.5921758\n",
      "Bearing = 247.70717252676013\n",
      "Distance: 104.90779363066213\n",
      "Altitude: 174.99\n",
      "Pitch = 30.942997637265023\n",
      "Intersection: 50.8000803,3.5916233\n",
      "Bearing = 225.6511762450901\n",
      "Distance: 190.0401572853794\n",
      "Altitude: 174.99\n",
      "Pitch = 47.360962125407674\n",
      "Intersection: 50.7998387,3.5910411\n",
      "Bearing = 227.910276464901\n",
      "Distance: 238.26317561124546\n",
      "Altitude: 174.99\n",
      "Pitch = 53.7049519748695\n",
      "Intersection: 50.8000098,3.5914461\n",
      "Bearing = 226.5199023355652\n",
      "Distance: 204.44874080952303\n",
      "Altitude: 174.99\n",
      "Pitch = 49.439405609197976\n"
     ]
    }
   ],
   "source": [
    "df_intersections = get_intersection_coordinates(heli_lat, heli_lon)\n",
    "\n",
    "# read in csv file with heli coordinates\n",
    "heli_path = \"/Users/senneloobuyck/Documents/Thesis_project/01_inputs/csv-files/2023 Ronde van Vlaanderen 1 heli.csv\"\n",
    "heli_df = pd.read_csv(heli_path)\n",
    "heli_df['lat'] = heli_df.apply(lambda row: float(row['lat']) * 1 if row['NS'] == 'N' else float(row['lat']) * (-1), axis=1)\n",
    "heli_df['lng'] = heli_df.apply(lambda row: float(row['lng']) * 1 if row['EW'] == 'E' else float(row['lng']) * (-1), axis=1)\n",
    "heli_df = heli_df[['lat', 'lng', 'alt', 'seconds_from_start']]\n",
    "\n",
    "for index, row in df_intersections.iterrows() : \n",
    "    print(f\"Intersection: {row['lat']},{row['lon']}\")\n",
    "    bearing = calculate_bearing(heli_lat, heli_lon, row['lat'], row['lon'])\n",
    "    print(f\"Bearing = {bearing}\")\n",
    "    pitch = calculate_pitch(heli_lat, heli_lon, row['lat'], row['lon'], alt=altitude)\n",
    "    print(f\"Pitch = {pitch}\")\n",
    "    # get_mapbox_intersection_image(row['lat'], row['lon'], bearing, pitch)"
   ]
  },
  {
   "cell_type": "code",
   "execution_count": 12,
   "metadata": {},
   "outputs": [],
   "source": [
    "def get_skeleton(mask_bgr, contour) : \n",
    "    print(\"Getting the skeleton\")\n",
    "\n",
    "    mask_gray = cv2.cvtColor(mask_bgr, cv2.COLOR_BGR2GRAY)\n",
    "\n",
    "    # draw contour in white on black background\n",
    "    contour_mask_gray = np.zeros_like(mask_gray)\n",
    "    cv2.drawContours(contour_mask_gray, [contour], -1, 255, -1)\n",
    "\n",
    "    ret, contour_mask_thresh_gray = cv2.threshold(contour_mask_gray, 127, 255, cv2.THRESH_BINARY)\n",
    "    contour_mask_thresh_bgr = cv2.cvtColor(contour_mask_thresh_gray, cv2.COLOR_GRAY2BGR)\n",
    "    # plot_image(contour_mask_thresh_bgr)\n",
    "\n",
    "    \n",
    "    # To avoid the precision loss when converting the image to bool, \n",
    "    # you can also binarize the image using one of the available thresholding algorithms\n",
    "    thresh_otsu = threshold_otsu(contour_mask_thresh_gray)\n",
    "    contour_mask_thresh_gray = contour_mask_thresh_gray > thresh_otsu\n",
    "    \n",
    "    # skeletonize\n",
    "    # skeleton_gray = (skeletonize(contour_mask_gray)).astype(np.uint8)\n",
    "    skeleton_gray = skeletonize(contour_mask_thresh_gray, method='lee').astype(np.uint8)\n",
    "\n",
    "    # np.set_printoptions(threshold=np.inf)\n",
    "    # print(\"Skeleton image values:\")\n",
    "    # print(skeleton_gray)\n",
    "\n",
    "\n",
    "    # plt.figure(figsize=(20,10))\n",
    "    # plt.imshow(skeleton_gray, cmap='gray', interpolation='nearest')\n",
    "    # plt.show()\n",
    "\n",
    "    skeleton_bgr = cv2.cvtColor(skeleton_gray, cv2.COLOR_GRAY2BGR)\n",
    "\n",
    "    return skeleton_bgr\n",
    "            "
   ]
  },
  {
   "cell_type": "code",
   "execution_count": 13,
   "metadata": {},
   "outputs": [],
   "source": [
    "def is_valid_intersection(neighbourhood_patch) : \n",
    "    # A list of valid intersections             \n",
    "    # These are in the format (clockwise order)\n",
    "    # 2 3 4\n",
    "    # 1 C 5\n",
    "    # 8 7 6 \n",
    "    validIntersection = [[0,1,0,1,0,0,1,0],[0,0,1,0,1,0,0,1],[1,0,0,1,0,1,0,0],\n",
    "                         [0,1,0,0,1,0,1,0],[0,0,1,0,0,1,0,1],[1,0,0,1,0,0,1,0],\n",
    "                         [0,1,0,0,1,0,0,1],[1,0,1,0,0,1,0,0],[0,1,0,0,0,1,0,1],\n",
    "                         [0,1,0,1,0,0,0,1],[0,1,0,1,0,1,0,0],[0,0,0,1,0,1,0,1],\n",
    "                         [1,0,1,0,0,0,1,0],[1,0,1,0,1,0,0,0],[0,0,1,0,1,0,1,0],\n",
    "                         [1,0,0,0,1,0,1,0],[1,0,0,1,1,1,0,0],[0,0,1,0,0,1,1,1],\n",
    "                         [1,1,0,0,1,0,0,1],[0,1,1,1,0,0,1,0],[1,0,1,1,0,0,1,0],\n",
    "                         [1,0,1,0,0,1,1,0],[1,0,1,1,0,1,1,0],[0,1,1,0,1,0,1,1],\n",
    "                         [1,1,0,1,1,0,1,0],[1,1,0,0,1,0,1,0],[0,1,1,0,1,0,1,0],\n",
    "                         [0,0,1,0,1,0,1,1],[1,0,0,1,1,0,1,0],[1,0,1,0,1,1,0,1],\n",
    "                         [1,0,1,0,1,1,0,0],[1,0,1,0,1,0,0,1],[0,1,0,0,1,0,1,1],\n",
    "                         [0,1,1,0,1,0,0,1],[1,1,0,1,0,0,1,0],[0,1,0,1,1,0,1,0],\n",
    "                         [0,0,1,0,1,1,0,1],[1,0,1,0,0,1,0,1],[1,0,0,1,0,1,1,0],\n",
    "                         [1,0,1,1,0,1,0,0]]\n",
    "    \n",
    "    if neighbourhood_patch in validIntersection : \n",
    "        return True\n",
    "    else : \n",
    "        return False"
   ]
  },
  {
   "cell_type": "code",
   "execution_count": 14,
   "metadata": {},
   "outputs": [],
   "source": [
    "def get_skeleton_intersection(skeleton):\n",
    "    \"\"\" Given a skeletonised image, it will give the coordinates of the intersections of the skeleton\"\"\"\n",
    "    print(\"Getting intersections in skeleton (more than 2 neighbours)\")\n",
    "    skeleton_gray = cv2.cvtColor(skeleton, cv2.COLOR_BGR2GRAY)\n",
    "    image = skeleton_gray.copy()\n",
    "    image = image/255\n",
    "    intersections = []\n",
    "    for y in range(1,len(image)-1):\n",
    "        for x in range(1,len(image[y])-1):\n",
    "            # if we have a white pixel\n",
    "            if image[y][x] == 1:\n",
    "                neighbourhood_patch = [image[y][x-1], image[y-1][x-1], image[y-1][x], image[y-1][x+1], image[y][x+1], image[y+1][x+1], image[y+1][x], image[y+1][x-1]]\n",
    "                if is_valid_intersection(neighbourhood_patch):\n",
    "                    intersections.append((y,x))\n",
    "    # Filter intersections to make sure we don't count them twice or ones that are very close together\n",
    "    # for point1 in intersections:\n",
    "    #     for point2 in intersections:\n",
    "    #         if (((point1[0] - point2[0])**2 + (point1[1] - point2[1])**2) < 10**2) and (point1 != point2):\n",
    "    #             intersections.remove(point2)\n",
    "    # Remove duplicates\n",
    "    return intersections\n"
   ]
  },
  {
   "cell_type": "code",
   "execution_count": 15,
   "metadata": {},
   "outputs": [],
   "source": [
    "def get_neighbour_pixels(skel_contour_bgr, intersec) : \n",
    "    \n",
    "    # print(f\"Getting neighbour pixels for pixel {intersec}\")\n",
    "    \n",
    "    skel_contour_bgr_copy = skel_contour_bgr.copy()\n",
    "    \n",
    "    # converting to grayscale gives false values\n",
    "    # skel_contour_gray = cv2.cvtColor(skel_contour_bgr, cv2.COLOR_BGR2GRAY)\n",
    "\n",
    "    # plot_patch(skel_contour_bgr_copy, intersec, 7)\n",
    "\n",
    "\n",
    "    # Calculate neighbour pixels that define the roads that intersect (in patch values)\n",
    "    road_neighbour_pixels = []\n",
    "    for x in range(-1,2):\n",
    "        for y in range(-1,2):\n",
    "            pixel_color = skel_contour_bgr[intersec[0] + y, intersec[1] + x]\n",
    "            # print(f\"Pixel color = {pixel_color}\")\n",
    "            if np.all(pixel_color == np.array([255, 255, 255])) and (x != 0 or y != 0):\n",
    "                road_neighbour_pixels.append((intersec[0]+y, intersec[1]+x))\n",
    "                skel_contour_bgr_copy[intersec[0]+y, intersec[1]+x] = (0,0,255)\n",
    "                # print(f\"Neighbour pixel for pixel {intersec} within image: {intersec[0]+y}, {intersec[1]+x}\")\n",
    "\n",
    "    # plot_patch(skel_contour_bgr_copy, intersec, 7)\n",
    "\n",
    "    return road_neighbour_pixels"
   ]
  },
  {
   "cell_type": "code",
   "execution_count": 16,
   "metadata": {},
   "outputs": [],
   "source": [
    "def get_descriptors(skeleton_bgr, intersections, visualize=False) : \n",
    "    skeleton_gray = cv2.cvtColor(skeleton_bgr, cv2.COLOR_BGR2GRAY)\n",
    "\n",
    "    dict_angles = {}\n",
    "    dict_other_intersecs = {}\n",
    "    descriptors = []\n",
    "\n",
    "    skeleton_gray = cv2.cvtColor(skeleton_bgr, cv2.COLOR_BGR2GRAY)\n",
    "    image = skeleton_gray.copy()\n",
    "    image = image/255\n",
    "\n",
    "    for intersection_pixel in intersections :\n",
    "        dict_angles[intersection_pixel] = []\n",
    "        dict_other_intersecs[intersection_pixel] = []\n",
    "        # print(f\"Getting neighbour pixels for intersection pixel {intersection_pixel}\")\n",
    "        neighbour_road_pixels = get_neighbour_pixels(skeleton_bgr, intersection_pixel)\n",
    "        # print(f\"Neighbour pixels: {neighbour_road_pixels}\")\n",
    "\n",
    "        for neighbour_pixel in neighbour_road_pixels :\n",
    "            processed_pixels = [intersection_pixel] + neighbour_road_pixels\n",
    "            road_pixels = []\n",
    "            end_for_intersec_neighbour_pixel = False\n",
    "            reference_pixel = neighbour_pixel\n",
    "            count = 0\n",
    "            count_treshold = 12\n",
    "            skip_count_threshold = 2\n",
    "            \n",
    "            while count < count_treshold :\n",
    "                # print(f\"Getting new neighbour pixels for reference pixel {reference_pixel}\")\n",
    "                new_neighbour_pixels = get_neighbour_pixels(skeleton_bgr, reference_pixel)\n",
    "                # print(f\"New neighbour pixels: {new_neighbour_pixels}\")\n",
    "\n",
    "\n",
    "                new_neighbours_not_processed = [pixel for pixel in new_neighbour_pixels if pixel not in processed_pixels]\n",
    "                if len(new_neighbours_not_processed) > 0 :\n",
    "                    new_neighbour_pixel = new_neighbours_not_processed[0]\n",
    "                    y, x = new_neighbour_pixel\n",
    "                    new_neighbour_patch = [image[y][x-1], image[y-1][x-1], image[y-1][x], image[y-1][x+1], image[y][x+1], image[y+1][x+1], image[y+1][x], image[y+1][x-1]]\n",
    "                    if is_valid_intersection(new_neighbour_patch) : \n",
    "                        # print(f\"New neighbour pixel: {new_neighbour_pixel} is a valid intersection, end for this intersection pixel\")\n",
    "                        dict_other_intersecs[intersection_pixel].append(new_neighbour_pixel)\n",
    "                        end_for_intersec_neighbour_pixel = True\n",
    "                        break\n",
    "                    else : \n",
    "                        processed_pixels.append(new_neighbour_pixel)\n",
    "                        reference_pixel = new_neighbour_pixel\n",
    "\n",
    "                    if count >= skip_count_threshold : \n",
    "                        if count == skip_count_threshold :\n",
    "                            # print(\"Skip count threshold reached\")\n",
    "                            first_road_pixel = new_neighbour_pixel\n",
    "                        if count == skip_count_threshold + 1 : \n",
    "                            second_road_pixel = new_neighbour_pixel\n",
    "                        road_pixels.append(new_neighbour_pixel)\n",
    "                else : \n",
    "                    # print(\"No new neighbour pixels found, end for this intersection pixel\")\n",
    "                    end_for_intersec_neighbour_pixel = True\n",
    "                    break\n",
    "                \n",
    "                if end_for_intersec_neighbour_pixel is False :\n",
    "                    count += 1\n",
    "                else : \n",
    "                    break\n",
    "            \n",
    "            if count == count_treshold :\n",
    "                # print(\"Count threshold reached\")\n",
    "\n",
    "                skeleton_bgr_copy = skeleton_bgr.copy()\n",
    "\n",
    "                skeleton_bgr_copy[first_road_pixel[0], first_road_pixel[1]] = [0,0,255]\n",
    "                skeleton_bgr_copy[second_road_pixel[0], second_road_pixel[1]] = [0,255,0]\n",
    "                # all the other road pixels in blue \n",
    "                for pixel in road_pixels :\n",
    "                    if pixel != first_road_pixel and pixel != second_road_pixel :\n",
    "                        skeleton_bgr_copy[pixel[0], pixel[1]] = [255,0,0]\n",
    "\n",
    "                \n",
    "                plot_patch(skeleton_bgr_copy, first_road_pixel, 23)\n",
    "\n",
    "\n",
    "                # print(f\"Shape of skeleton_gray: {skeleton_gray.shape}\")\n",
    "\n",
    "\n",
    "                # Now use the first road pixel as origin and compute the angle of the road segment\n",
    "                # First reverse the y coordinates to make sure the origin is in the bottom left corner\n",
    "                road_pixels = [((skeleton_gray.shape[0]-1)-pixel[0], pixel[1]) for pixel in road_pixels]\n",
    "                # print(f\"Road pixels: {road_pixels}\")\n",
    "\n",
    "                first_road_pixel = ((skeleton_gray.shape[0]-1)-first_road_pixel[0], first_road_pixel[1])\n",
    "                second_road_pixel = ((skeleton_gray.shape[0]-1)-second_road_pixel[0], second_road_pixel[1])\n",
    "\n",
    "                # Adjust the coordinates of road pixels and intersection to be relative to the center\n",
    "                adjusted_road_pixels = [(pixel[0] - first_road_pixel[0], pixel[1] - first_road_pixel[1]) for pixel in road_pixels]\n",
    "                # print(f\"Adjusted road pixels: {adjusted_road_pixels}\")\n",
    "\n",
    "                second_road_pixel = (second_road_pixel[0] - first_road_pixel[0], second_road_pixel[1] - first_road_pixel[1])\n",
    "                first_road_pixel = (0,0)\n",
    "                # print(f\"First road pixel: {first_road_pixel}\")\n",
    "                # print(f\"Second road pixel: {second_road_pixel}\")\n",
    "\n",
    "                # For each set of coordinates, compute the best-fit line\n",
    "                x_values = np.array([coord[1] for coord in adjusted_road_pixels])\n",
    "                y_values = np.array([coord[0] for coord in adjusted_road_pixels])\n",
    "\n",
    "                positive_x_directions = 0\n",
    "                negative_x_directions = 0\n",
    "                positive_y_directions = 0\n",
    "                negative_y_directions = 0\n",
    "                for x in x_values:\n",
    "                    if x > 0:\n",
    "                        positive_x_directions += 1\n",
    "                    elif x < 0:\n",
    "                        negative_x_directions += 1\n",
    "                \n",
    "                for y in y_values:\n",
    "                    if y > 0:\n",
    "                        positive_y_directions += 1\n",
    "                    elif y < 0:\n",
    "                        negative_y_directions += 1\n",
    "\n",
    "                # Check if all x-values are the same\n",
    "                all_x_values_same = all(x == x_values[0] for x in x_values)\n",
    "                if all_x_values_same :\n",
    "                    print(\"All x-values are the same\")\n",
    "                    if second_road_pixel[0] > first_road_pixel[0] :\n",
    "                        # index 0 because y coordinate needed (index 1 is x coordinate)\n",
    "                        angle = 90\n",
    "                    else :\n",
    "                        angle = 270\n",
    "                    print(f\"Angle is: {angle}\")\n",
    "                    dict_angles[intersection_pixel].append(angle)\n",
    "                    continue\n",
    "\n",
    "                line = np.polyfit(x_values, y_values, deg=1)\n",
    "                \n",
    "                # print(f\"Line: {line}\")\n",
    "\n",
    "                # Now show the line on the patch\n",
    "                a = line[0]\n",
    "                b = line[1]\n",
    "                y = a * x_values + b\n",
    "                if visualize : \n",
    "                    plt.plot(x_values, y)\n",
    "                    plt.show()\n",
    "\n",
    "                # The slope of each line gives the direction of the road segment it fits\n",
    "                angle = np.degrees(np.arctan(a))\n",
    "                # print(f\"Angle: {angle}\")\n",
    "\n",
    "                if angle == 0 and negative_x_directions > positive_x_directions :\n",
    "                    angle = 180\n",
    "\n",
    "                if angle > 0 and negative_y_directions > positive_y_directions :\n",
    "                    angle = angle + 180\n",
    "                \n",
    "                if angle < 0 :\n",
    "                    if negative_y_directions < positive_y_directions :\n",
    "                        angle = angle + 180\n",
    "                    else : \n",
    "                        angle = angle + 360\n",
    "\n",
    "                print(f\"Angle is: {angle}\")\n",
    "                dict_angles[intersection_pixel].append(angle)\n",
    "            else : \n",
    "                print(\"Count threshold not reached\")\n",
    "    \n",
    "\n",
    "    processed_intersections = []\n",
    "    for intersection in dict_other_intersecs.keys() : \n",
    "        if intersection in processed_intersections :\n",
    "            continue\n",
    "        # print(f\"dict_other_intersecs[intersection]: \")\n",
    "        # print(dict_other_intersecs[intersection])\n",
    "        if len(dict_other_intersecs[intersection]) == 0 :\n",
    "            descriptor = dict_angles[intersection]\n",
    "            sorted_descriptor = sorted(descriptor)\n",
    "            descriptors.append(sorted_descriptor)\n",
    "            processed_intersections.append(intersection)\n",
    "        else :\n",
    "            for other_intersection in dict_other_intersecs[intersection] : \n",
    "                if other_intersection not in processed_intersections : \n",
    "                    descriptor = dict_angles[intersection] + dict_angles[other_intersection]\n",
    "                    sorted_descriptor = sorted(descriptor)\n",
    "                    descriptors.append(sorted_descriptor)\n",
    "                    processed_intersections.append(intersection)\n",
    "                    processed_intersections.append(other_intersection)\n",
    "                else: \n",
    "                    continue\n",
    "    \n",
    "    return descriptors\n"
   ]
  },
  {
   "cell_type": "code",
   "execution_count": 17,
   "metadata": {},
   "outputs": [],
   "source": [
    "def find_descriptors_in_segmentation_image(img_path) : \n",
    "    print(\"Finding descriptors in segmentation image\")\n",
    "    \n",
    "    img_bgr = cv2.imread(img_path)\n",
    "    print(\"Segmentation image\")\n",
    "    plot_image(img_bgr)\n",
    "\n",
    "    closing_bgr = isotropic_closing(img_bgr, radius=20)\n",
    "    closing_bgr = closing_bgr.astype(np.uint8) * 255\n",
    "    print(\"Isotropic closing of segmentation image\")\n",
    "    plot_image(closing_bgr)\n",
    "\n",
    "    closing_bgr_copy = closing_bgr.copy()\n",
    "    mask_bgr_copy = closing_bgr.copy()\n",
    "    closing_gray = cv2.cvtColor(closing_bgr, cv2.COLOR_BGR2GRAY)\n",
    "\n",
    "    contours, hierarchy = cv2.findContours(closing_gray, cv2.RETR_EXTERNAL, cv2.CHAIN_APPROX_SIMPLE)\n",
    "    print(f\"Number of contours: {len(contours)}\")\n",
    "    cv2.drawContours(closing_bgr_copy, contours, contourIdx=-1, color=(255, 0, 0), thickness=2)\n",
    "\n",
    "    descriptors = []\n",
    "\n",
    "    for contour in contours :\n",
    "        contour_length = cv2.arcLength(contour, closed=True)\n",
    "        print(f\"Contour length: {contour_length}\")\n",
    "        contour_area = cv2.contourArea(contour)\n",
    "        print(f\"Contour area: {contour_area}\")\n",
    "\n",
    "        # measure the irregularity of the polygon\n",
    "        if contour_length != 0 :\n",
    "            convex_hull = cv2.convexHull(contour)\n",
    "            convex_hull_area = cv2.contourArea(convex_hull)\n",
    "            print(f\"Convex hull area: {convex_hull_area}\")\n",
    "            # cv2.polylines(mask_bgr_copy, [convex_hull], isClosed=True, color=(0, 255, 0), thickness=3)\n",
    "            solidity = contour_area / convex_hull_area\n",
    "\n",
    "            # get skeleton of the contour\n",
    "            skeleton_contour_bgr = get_skeleton(mask_bgr_copy, contour)\n",
    "            \n",
    "            # find the intersections in the skeleton\n",
    "            skel_intersections = get_skeleton_intersection(skeleton_contour_bgr)\n",
    "            \n",
    "            #  make a decision based on the solidity\n",
    "            if solidity < 0.60 and skel_intersections != [] :\n",
    "                print(f\"Solidity = {solidity} -> this contour can be related to an intersection in the road\")\n",
    "\n",
    "                # further processing\n",
    "                if skel_intersections == [] : \n",
    "                    print(\"No intersection is found in a possible intersection contour\")\n",
    "                else : \n",
    "                    print(f\"Intersections = {skel_intersections}\")\n",
    "                    \n",
    "                    # visualization\n",
    "                    skeleton_contour_bgr_copy = skeleton_contour_bgr.copy()\n",
    "                    for intersection in skel_intersections :\n",
    "                        skeleton_contour_bgr_copy[intersection[0], intersection[1]] = [0, 0, 255]\n",
    "                    plot_image(skeleton_contour_bgr_copy)\n",
    "\n",
    "                    # now try and match intersection with the openstreetmap images\n",
    "                    descriptors = get_descriptors(skeleton_contour_bgr, skel_intersections)\n",
    "                    \n",
    "            else :\n",
    "                print(f\"Solidity = {solidity} -> no intersection in this contour\")\n",
    "        \n",
    "    if descriptors == [] :\n",
    "        return None\n",
    "    else :\n",
    "        return descriptors\n",
    "    "
   ]
  },
  {
   "cell_type": "code",
   "execution_count": 18,
   "metadata": {},
   "outputs": [
    {
     "name": "stdout",
     "output_type": "stream",
     "text": [
      "Finding descriptors in segmentation image\n",
      "Segmentation image\n"
     ]
    },
    {
     "data": {
      "image/png": "[encoded data removed]",
      "text/plain": [
       "<Figure size 2000x1000 with 1 Axes>"
      ]
     },
     "metadata": {},
     "output_type": "display_data"
    },
    {
     "name": "stdout",
     "output_type": "stream",
     "text": [
      "Isotropic closing of segmentation image\n"
     ]
    },
    {
     "data": {
      "image/png": "[encoded data removed]",
      "text/plain": [
       "<Figure size 2000x1000 with 1 Axes>"
      ]
     },
     "metadata": {},
     "output_type": "display_data"
    },
    {
     "name": "stdout",
     "output_type": "stream",
     "text": [
      "Number of contours: 1\n",
      "Contour length: 2571.1252311468124\n",
      "Contour area: 80621.0\n",
      "Convex hull area: 160719.0\n",
      "Getting the skeleton\n",
      "Getting intersections in skeleton (more than 2 neighbours)\n",
      "Solidity = 0.5016270633839185 -> this contour can be related to an intersection in the road\n",
      "Intersections = [(194, 276), (270, 220)]\n"
     ]
    },
    {
     "data": {
      "image/png": "[encoded data removed]",
      "text/plain": [
       "<Figure size 2000x1000 with 1 Axes>"
      ]
     },
     "metadata": {},
     "output_type": "display_data"
    },
    {
     "data": {
      "image/png": "[encoded data removed]",
      "text/plain": [
       "<Figure size 640x480 with 1 Axes>"
      ]
     },
     "metadata": {},
     "output_type": "display_data"
    },
    {
     "name": "stdout",
     "output_type": "stream",
     "text": [
      "Angle is: 253.42904883308614\n"
     ]
    },
    {
     "data": {
      "image/png": "[encoded data removed]",
      "text/plain": [
       "<Figure size 640x480 with 1 Axes>"
      ]
     },
     "metadata": {},
     "output_type": "display_data"
    },
    {
     "name": "stdout",
     "output_type": "stream",
     "text": [
      "Angle is: 76.04549082686316\n"
     ]
    },
    {
     "data": {
      "image/png": "[encoded data removed]",
      "text/plain": [
       "<Figure size 640x480 with 1 Axes>"
      ]
     },
     "metadata": {},
     "output_type": "display_data"
    },
    {
     "name": "stdout",
     "output_type": "stream",
     "text": [
      "Angle is: 315.0\n"
     ]
    },
    {
     "data": {
      "image/png": "[encoded data removed]",
      "text/plain": [
       "<Figure size 640x480 with 1 Axes>"
      ]
     },
     "metadata": {},
     "output_type": "display_data"
    },
    {
     "name": "stdout",
     "output_type": "stream",
     "text": [
      "Angle is: 180\n"
     ]
    },
    {
     "data": {
      "image/png": "[encoded data removed]",
      "text/plain": [
       "<Figure size 640x480 with 1 Axes>"
      ]
     },
     "metadata": {},
     "output_type": "display_data"
    },
    {
     "name": "stdout",
     "output_type": "stream",
     "text": [
      "Angle is: 45.0\n"
     ]
    },
    {
     "data": {
      "image/png": "[encoded data removed]",
      "text/plain": [
       "<Figure size 640x480 with 1 Axes>"
      ]
     },
     "metadata": {},
     "output_type": "display_data"
    },
    {
     "name": "stdout",
     "output_type": "stream",
     "text": [
      "Angle is: 294.39529595601016\n",
      "Array of descriptors: [[76.04549082686316, 253.42904883308614, 315.0], [45.0, 180, 294.39529595601016]]\n"
     ]
    }
   ],
   "source": [
    "# segm_img_des = find_descriptors_in_segmentation_image(sem_segm_img_path)\n",
    "segm_img_des = find_descriptors_in_segmentation_image(sem_segm_img_path) # without pruning\n",
    "print(f\"Array of descriptors: {segm_img_des}\")"
   ]
  },
  {
   "cell_type": "code",
   "execution_count": 19,
   "metadata": {},
   "outputs": [],
   "source": [
    "def find_descriptors_in_mapbox_image(img_path, image_name, vis=False) : \n",
    "    img_bgr = cv2.imread(img_path)\n",
    "    # print(\"Mapbox image\")\n",
    "    # plot_image(img_bgr)\n",
    "\n",
    "    new_width, new_height = img_bgr.shape[1], img_bgr.shape[0] - 100 \n",
    "    cropped_img_bgr = img_bgr[0:new_height, 0:new_width]\n",
    "    print(\"Cropped mapbox image\")\n",
    "    if vis : \n",
    "        plot_image(cropped_img_bgr)\n",
    "\n",
    "    print(\"Binary thresholding\")\n",
    "    img_gray = cv2.cvtColor(cropped_img_bgr, cv2.COLOR_BGR2GRAY)\n",
    "    ret, thresh_gray = cv2.threshold(img_gray, 127, 255, cv2.THRESH_BINARY)\n",
    "    thresh_bgr = cv2.cvtColor(thresh_gray, cv2.COLOR_GRAY2BGR)\n",
    "    if vis :\n",
    "        plot_image(thresh_bgr)\n",
    "\n",
    "    closing_bgr = isotropic_closing(thresh_bgr, radius=3)\n",
    "    closing_bgr = closing_bgr.astype(np.uint8) * 255\n",
    "    closing_gray = cv2.cvtColor(closing_bgr, cv2.COLOR_BGR2GRAY)\n",
    "    print(\"Isotropic closing of segmentation image\")\n",
    "    if vis : \n",
    "        plot_image(closing_bgr)\n",
    "\n",
    "    # To avoid the precision loss when converting the image to bool, \n",
    "    # you can also binarize the image using one of the available thresholding algorithms\n",
    "    thresh_otsu = threshold_otsu(closing_gray)\n",
    "    mask_gray = closing_gray > thresh_otsu\n",
    "    \n",
    "    # Skeletonize\n",
    "    # skeleton_gray = (skeletonize(contour_mask_gray)).astype(np.uint8)\n",
    "    skeleton_gray = skeletonize(mask_gray, method='lee').astype(np.uint8)\n",
    "\n",
    "    skeleton_bgr = cv2.cvtColor(skeleton_gray, cv2.COLOR_GRAY2BGR)\n",
    "    \n",
    "    # find the intersections in the skeleton\n",
    "    skel_intersections = get_skeleton_intersection(skeleton_bgr)\n",
    "\n",
    "    print(f\"{len(skel_intersections)} intersections found in the skeleton:\")\n",
    "    print(skel_intersections)\n",
    "\n",
    "    descriptors = []\n",
    "            \n",
    "    #  if there are intersections\n",
    "    if skel_intersections != [] :\n",
    "        # visualization\n",
    "        skeleton_bgr_copy = skeleton_bgr.copy()\n",
    "        for intersection in skel_intersections :\n",
    "            skeleton_bgr_copy[intersection[0], intersection[1]] = [0, 0, 255]\n",
    "\n",
    "        if vis : \n",
    "            plot_image(skeleton_bgr_copy)\n",
    "\n",
    "\n",
    "        print(f\"There are intersections in mapbox image {image_name}\")\n",
    "        descriptors = get_descriptors(skeleton_bgr, skel_intersections, visualize = vis)   \n",
    "    else :\n",
    "        print(\"No intersections found in the skeleton\")\n",
    "        \n",
    "    if descriptors == [] :\n",
    "        return None\n",
    "    else :\n",
    "        return descriptors"
   ]
  },
  {
   "cell_type": "code",
   "execution_count": 20,
   "metadata": {},
   "outputs": [
    {
     "name": "stdout",
     "output_type": "stream",
     "text": [
      "**************************************************\n",
      "Mapbox image: 50.799644_3.5930147.jpg\n",
      "**************************************************\n",
      "Cropped mapbox image\n",
      "Binary thresholding\n",
      "Isotropic closing of segmentation image\n",
      "Getting intersections in skeleton (more than 2 neighbours)\n",
      "1 intersections found in the skeleton:\n",
      "[(254, 258)]\n",
      "There are intersections in mapbox image 50.799644_3.5930147.jpg\n"
     ]
    },
    {
     "data": {
      "image/png": "[encoded data removed]",
      "text/plain": [
       "<Figure size 640x480 with 1 Axes>"
      ]
     },
     "metadata": {},
     "output_type": "display_data"
    },
    {
     "name": "stdout",
     "output_type": "stream",
     "text": [
      "Angle is: 158.79978334435896\n"
     ]
    },
    {
     "data": {
      "image/png": "[encoded data removed]",
      "text/plain": [
       "<Figure size 640x480 with 1 Axes>"
      ]
     },
     "metadata": {},
     "output_type": "display_data"
    },
    {
     "name": "stdout",
     "output_type": "stream",
     "text": [
      "Angle is: 328.02584064687085\n"
     ]
    },
    {
     "data": {
      "image/png": "[encoded data removed]",
      "text/plain": [
       "<Figure size 640x480 with 1 Axes>"
      ]
     },
     "metadata": {},
     "output_type": "display_data"
    },
    {
     "name": "stdout",
     "output_type": "stream",
     "text": [
      "Angle is: 55.89947668419478\n",
      "Descriptors for mapbox image 50.799644_3.5930147.jpg:\n",
      "[[55.89947668419478, 158.79978334435896, 328.02584064687085]]\n",
      "Number of descriptors: 1\n",
      "Descriptor of segmentation image:\n",
      "[76.04549082686316, 253.42904883308614, 315.0]\n",
      "Descriptor of mapbox image:\n",
      "[55.89947668419478, 158.79978334435896, 328.02584064687085]\n",
      "Angle of segmentation image: 76.04549082686316\n",
      "Angle of mapbox image: 55.89947668419478\n",
      "Angle of mapbox image: 158.79978334435896\n",
      "Angle of mapbox image: 328.02584064687085\n",
      "Best diff = 20.146014142668378 with angle 55.89947668419478\n",
      "Angle of segmentation image: 253.42904883308614\n",
      "Angle of mapbox image: 55.89947668419478\n",
      "Angle of mapbox image: 158.79978334435896\n",
      "Angle of mapbox image: 328.02584064687085\n",
      "Best diff = 74.5967918137847 with angle 328.02584064687085\n",
      "Angle of segmentation image: 315.0\n",
      "Angle of mapbox image: 55.89947668419478\n",
      "Angle of mapbox image: 158.79978334435896\n",
      "Angle of mapbox image: 328.02584064687085\n",
      "Best diff = 156.20021665564104 with angle 158.79978334435896\n",
      "Result = 174.2671825617633\n",
      "Descriptor of segmentation image:\n",
      "[45.0, 180, 294.39529595601016]\n",
      "Descriptor of mapbox image:\n",
      "[55.89947668419478, 158.79978334435896, 328.02584064687085]\n",
      "Angle of segmentation image: 45.0\n",
      "Angle of mapbox image: 55.89947668419478\n",
      "Angle of mapbox image: 158.79978334435896\n",
      "Angle of mapbox image: 328.02584064687085\n",
      "Best diff = 10.89947668419478 with angle 55.89947668419478\n",
      "Angle of segmentation image: 180\n",
      "Angle of mapbox image: 55.89947668419478\n",
      "Angle of mapbox image: 158.79978334435896\n",
      "Angle of mapbox image: 328.02584064687085\n",
      "Best diff = 21.200216655641043 with angle 158.79978334435896\n",
      "Angle of segmentation image: 294.39529595601016\n",
      "Angle of mapbox image: 55.89947668419478\n",
      "Angle of mapbox image: 158.79978334435896\n",
      "Angle of mapbox image: 328.02584064687085\n",
      "Best diff = 33.63054469086069 with angle 328.02584064687085\n",
      "Result = 41.22209740466154\n",
      "Score = 14.679553125569758\n",
      "**************************************************\n",
      "Mapbox image: 50.799533_3.5919185.jpg\n",
      "**************************************************\n",
      "Cropped mapbox image\n",
      "Binary thresholding\n",
      "Isotropic closing of segmentation image\n",
      "Getting intersections in skeleton (more than 2 neighbours)\n",
      "2 intersections found in the skeleton:\n",
      "[(10, 62), (74, 156)]\n",
      "There are intersections in mapbox image 50.799533_3.5919185.jpg\n"
     ]
    },
    {
     "data": {
      "image/png": "[encoded data removed]",
      "text/plain": [
       "<Figure size 640x480 with 1 Axes>"
      ]
     },
     "metadata": {},
     "output_type": "display_data"
    },
    {
     "name": "stdout",
     "output_type": "stream",
     "text": [
      "Angle is: 198.12186024790137\n",
      "Count threshold not reached\n"
     ]
    },
    {
     "data": {
      "image/png": "[encoded data removed]",
      "text/plain": [
       "<Figure size 640x480 with 1 Axes>"
      ]
     },
     "metadata": {},
     "output_type": "display_data"
    },
    {
     "name": "stdout",
     "output_type": "stream",
     "text": [
      "Angle is: 304.46907214732516\n"
     ]
    },
    {
     "data": {
      "image/png": "[encoded data removed]",
      "text/plain": [
       "<Figure size 640x480 with 1 Axes>"
      ]
     },
     "metadata": {},
     "output_type": "display_data"
    },
    {
     "name": "stdout",
     "output_type": "stream",
     "text": [
      "Angle is: 124.46907214732516\n"
     ]
    },
    {
     "data": {
      "image/png": "[encoded data removed]",
      "text/plain": [
       "<Figure size 640x480 with 1 Axes>"
      ]
     },
     "metadata": {},
     "output_type": "display_data"
    },
    {
     "name": "stdout",
     "output_type": "stream",
     "text": [
      "Angle is: 300.7841465263264\n"
     ]
    },
    {
     "data": {
      "image/png": "[encoded data removed]",
      "text/plain": [
       "<Figure size 640x480 with 1 Axes>"
      ]
     },
     "metadata": {},
     "output_type": "display_data"
    },
    {
     "name": "stdout",
     "output_type": "stream",
     "text": [
      "Angle is: 22.98871680208065\n",
      "Descriptors for mapbox image 50.799533_3.5919185.jpg:\n",
      "[[198.12186024790137, 304.46907214732516], [22.98871680208065, 124.46907214732516, 300.7841465263264]]\n",
      "Number of descriptors: 2\n",
      "Descriptor of segmentation image:\n",
      "[76.04549082686316, 253.42904883308614, 315.0]\n",
      "Descriptor of mapbox image:\n",
      "[198.12186024790137, 304.46907214732516]\n",
      "Descriptor of mapbox image:\n",
      "[22.98871680208065, 124.46907214732516, 300.7841465263264]\n",
      "Angle of segmentation image: 76.04549082686316\n",
      "Angle of mapbox image: 22.98871680208065\n",
      "Angle of mapbox image: 124.46907214732516\n",
      "Angle of mapbox image: 300.7841465263264\n",
      "Best diff = 48.423581320462006 with angle 124.46907214732516\n",
      "Angle of segmentation image: 253.42904883308614\n",
      "Angle of mapbox image: 22.98871680208065\n",
      "Angle of mapbox image: 124.46907214732516\n",
      "Angle of mapbox image: 300.7841465263264\n",
      "Best diff = 47.35509769324028 with angle 300.7841465263264\n",
      "Angle of segmentation image: 315.0\n",
      "Angle of mapbox image: 22.98871680208065\n",
      "Angle of mapbox image: 124.46907214732516\n",
      "Angle of mapbox image: 300.7841465263264\n",
      "Best diff = 67.98871680208066 with angle 22.98871680208065\n",
      "Result = 95.96777645558562\n",
      "Descriptor of segmentation image:\n",
      "[45.0, 180, 294.39529595601016]\n",
      "Descriptor of mapbox image:\n",
      "[198.12186024790137, 304.46907214732516]\n",
      "Descriptor of mapbox image:\n",
      "[22.98871680208065, 124.46907214732516, 300.7841465263264]\n",
      "Angle of segmentation image: 45.0\n",
      "Angle of mapbox image: 22.98871680208065\n",
      "Angle of mapbox image: 124.46907214732516\n",
      "Angle of mapbox image: 300.7841465263264\n",
      "Best diff = 22.01128319791935 with angle 22.98871680208065\n",
      "Angle of segmentation image: 180\n",
      "Angle of mapbox image: 22.98871680208065\n",
      "Angle of mapbox image: 124.46907214732516\n",
      "Angle of mapbox image: 300.7841465263264\n",
      "Best diff = 55.530927852674836 with angle 124.46907214732516\n",
      "Angle of segmentation image: 294.39529595601016\n",
      "Angle of mapbox image: 22.98871680208065\n",
      "Angle of mapbox image: 124.46907214732516\n",
      "Angle of mapbox image: 300.7841465263264\n",
      "Best diff = 6.388850570316265 with angle 300.7841465263264\n",
      "Result = 60.07493610323539\n",
      "Score = 12.491705750569896\n",
      "**************************************************\n",
      "Mapbox image: 50.8007761_3.5927866.jpg\n",
      "**************************************************\n",
      "Cropped mapbox image\n",
      "Binary thresholding\n",
      "Isotropic closing of segmentation image\n",
      "Getting intersections in skeleton (more than 2 neighbours)\n",
      "6 intersections found in the skeleton:\n",
      "[(165, 466), (186, 473), (234, 324), (238, 334), (254, 250), (258, 260)]\n",
      "There are intersections in mapbox image 50.8007761_3.5927866.jpg\n"
     ]
    },
    {
     "data": {
      "image/png": "[encoded data removed]",
      "text/plain": [
       "<Figure size 640x480 with 1 Axes>"
      ]
     },
     "metadata": {},
     "output_type": "display_data"
    },
    {
     "name": "stdout",
     "output_type": "stream",
     "text": [
      "Angle is: 136.60600298928225\n"
     ]
    },
    {
     "data": {
      "image/png": "[encoded data removed]",
      "text/plain": [
       "<Figure size 640x480 with 1 Axes>"
      ]
     },
     "metadata": {},
     "output_type": "display_data"
    },
    {
     "name": "stdout",
     "output_type": "stream",
     "text": [
      "Angle is: 294.39529595601016\n"
     ]
    },
    {
     "data": {
      "image/png": "[encoded data removed]",
      "text/plain": [
       "<Figure size 640x480 with 1 Axes>"
      ]
     },
     "metadata": {},
     "output_type": "display_data"
    },
    {
     "name": "stdout",
     "output_type": "stream",
     "text": [
      "Angle is: 55.25119875081743\n"
     ]
    },
    {
     "data": {
      "image/png": "[encoded data removed]",
      "text/plain": [
       "<Figure size 640x480 with 1 Axes>"
      ]
     },
     "metadata": {},
     "output_type": "display_data"
    },
    {
     "name": "stdout",
     "output_type": "stream",
     "text": [
      "Angle is: 200.2892005377698\n"
     ]
    },
    {
     "data": {
      "image/png": "[encoded data removed]",
      "text/plain": [
       "<Figure size 640x480 with 1 Axes>"
      ]
     },
     "metadata": {},
     "output_type": "display_data"
    },
    {
     "name": "stdout",
     "output_type": "stream",
     "text": [
      "Angle is: 109.57312583041019\n"
     ]
    },
    {
     "data": {
      "image/png": "[encoded data removed]",
      "text/plain": [
       "<Figure size 640x480 with 1 Axes>"
      ]
     },
     "metadata": {},
     "output_type": "display_data"
    },
    {
     "name": "stdout",
     "output_type": "stream",
     "text": [
      "Angle is: 337.01128319791934\n"
     ]
    },
    {
     "data": {
      "image/png": "[encoded data removed]",
      "text/plain": [
       "<Figure size 640x480 with 1 Axes>"
      ]
     },
     "metadata": {},
     "output_type": "display_data"
    },
    {
     "name": "stdout",
     "output_type": "stream",
     "text": [
      "Angle is: 198.12186024790137\n"
     ]
    },
    {
     "data": {
      "image/png": "[encoded data removed]",
      "text/plain": [
       "<Figure size 640x480 with 1 Axes>"
      ]
     },
     "metadata": {},
     "output_type": "display_data"
    },
    {
     "name": "stdout",
     "output_type": "stream",
     "text": [
      "Angle is: 101.30993247402021\n",
      "Count threshold not reached\n"
     ]
    },
    {
     "data": {
      "image/png": "[encoded data removed]",
      "text/plain": [
       "<Figure size 640x480 with 1 Axes>"
      ]
     },
     "metadata": {},
     "output_type": "display_data"
    },
    {
     "name": "stdout",
     "output_type": "stream",
     "text": [
      "Angle is: 141.74557964748286\n"
     ]
    },
    {
     "data": {
      "image/png": "[encoded data removed]",
      "text/plain": [
       "<Figure size 640x480 with 1 Axes>"
      ]
     },
     "metadata": {},
     "output_type": "display_data"
    },
    {
     "name": "stdout",
     "output_type": "stream",
     "text": [
      "Angle is: 21.501434324047914\n"
     ]
    },
    {
     "data": {
      "image/png": "[encoded data removed]",
      "text/plain": [
       "<Figure size 640x480 with 1 Axes>"
      ]
     },
     "metadata": {},
     "output_type": "display_data"
    },
    {
     "name": "stdout",
     "output_type": "stream",
     "text": [
      "Angle is: 283.4957332807958\n"
     ]
    },
    {
     "data": {
      "image/png": "[encoded data removed]",
      "text/plain": [
       "<Figure size 640x480 with 1 Axes>"
      ]
     },
     "metadata": {},
     "output_type": "display_data"
    },
    {
     "name": "stdout",
     "output_type": "stream",
     "text": [
      "Angle is: 195.57782577431104\n"
     ]
    },
    {
     "data": {
      "image/png": "[encoded data removed]",
      "text/plain": [
       "<Figure size 640x480 with 1 Axes>"
      ]
     },
     "metadata": {},
     "output_type": "display_data"
    },
    {
     "name": "stdout",
     "output_type": "stream",
     "text": [
      "Angle is: 104.03624346792647\n",
      "Count threshold not reached\n"
     ]
    },
    {
     "data": {
      "image/png": "[encoded data removed]",
      "text/plain": [
       "<Figure size 640x480 with 1 Axes>"
      ]
     },
     "metadata": {},
     "output_type": "display_data"
    },
    {
     "name": "stdout",
     "output_type": "stream",
     "text": [
      "Angle is: 141.42969302095804\n"
     ]
    },
    {
     "data": {
      "image/png": "[encoded data removed]",
      "text/plain": [
       "<Figure size 640x480 with 1 Axes>"
      ]
     },
     "metadata": {},
     "output_type": "display_data"
    },
    {
     "name": "stdout",
     "output_type": "stream",
     "text": [
      "Angle is: 281.30993247402023\n"
     ]
    },
    {
     "data": {
      "image/png": "[encoded data removed]",
      "text/plain": [
       "<Figure size 640x480 with 1 Axes>"
      ]
     },
     "metadata": {},
     "output_type": "display_data"
    },
    {
     "name": "stdout",
     "output_type": "stream",
     "text": [
      "Angle is: 18.434948822922017\n",
      "Descriptors for mapbox image 50.8007761_3.5927866.jpg:\n",
      "[[55.25119875081743, 136.60600298928225, 294.39529595601016], [109.57312583041019, 200.2892005377698, 337.01128319791934], [21.501434324047914, 101.30993247402021, 141.74557964748286, 198.12186024790137, 283.4957332807958], [18.434948822922017, 104.03624346792647, 141.42969302095804, 195.57782577431104, 281.30993247402023]]\n",
      "Number of descriptors: 4\n",
      "Descriptor of segmentation image:\n",
      "[76.04549082686316, 253.42904883308614, 315.0]\n",
      "Descriptor of mapbox image:\n",
      "[55.25119875081743, 136.60600298928225, 294.39529595601016]\n",
      "Angle of segmentation image: 76.04549082686316\n",
      "Angle of mapbox image: 55.25119875081743\n",
      "Angle of mapbox image: 136.60600298928225\n",
      "Angle of mapbox image: 294.39529595601016\n",
      "Best diff = 20.79429207604573 with angle 55.25119875081743\n",
      "Angle of segmentation image: 253.42904883308614\n",
      "Angle of mapbox image: 55.25119875081743\n",
      "Angle of mapbox image: 136.60600298928225\n",
      "Angle of mapbox image: 294.39529595601016\n",
      "Best diff = 40.96624712292402 with angle 294.39529595601016\n",
      "Angle of segmentation image: 315.0\n",
      "Angle of mapbox image: 55.25119875081743\n",
      "Angle of mapbox image: 136.60600298928225\n",
      "Angle of mapbox image: 294.39529595601016\n",
      "Best diff = 178.39399701071775 with angle 136.60600298928225\n",
      "Result = 184.21469581914565\n",
      "Descriptor of mapbox image:\n",
      "[109.57312583041019, 200.2892005377698, 337.01128319791934]\n",
      "Angle of segmentation image: 76.04549082686316\n",
      "Angle of mapbox image: 109.57312583041019\n",
      "Angle of mapbox image: 200.2892005377698\n",
      "Angle of mapbox image: 337.01128319791934\n",
      "Best diff = 33.52763500354703 with angle 109.57312583041019\n",
      "Angle of segmentation image: 253.42904883308614\n",
      "Angle of mapbox image: 109.57312583041019\n",
      "Angle of mapbox image: 200.2892005377698\n",
      "Angle of mapbox image: 337.01128319791934\n",
      "Best diff = 53.13984829531634 with angle 200.2892005377698\n",
      "Angle of segmentation image: 315.0\n",
      "Angle of mapbox image: 109.57312583041019\n",
      "Angle of mapbox image: 200.2892005377698\n",
      "Angle of mapbox image: 337.01128319791934\n",
      "Best diff = 22.01128319791934 with angle 337.01128319791934\n",
      "Result = 66.57659028366739\n",
      "Descriptor of mapbox image:\n",
      "[21.501434324047914, 101.30993247402021, 141.74557964748286, 198.12186024790137, 283.4957332807958]\n",
      "Angle of segmentation image: 76.04549082686316\n",
      "Angle of mapbox image: 21.501434324047914\n",
      "Angle of mapbox image: 101.30993247402021\n",
      "Angle of mapbox image: 141.74557964748286\n",
      "Angle of mapbox image: 198.12186024790137\n",
      "Angle of mapbox image: 283.4957332807958\n",
      "Best diff = 25.264441647157057 with angle 101.30993247402021\n",
      "Angle of segmentation image: 253.42904883308614\n",
      "Angle of mapbox image: 21.501434324047914\n",
      "Angle of mapbox image: 101.30993247402021\n",
      "Angle of mapbox image: 141.74557964748286\n",
      "Angle of mapbox image: 198.12186024790137\n",
      "Angle of mapbox image: 283.4957332807958\n",
      "Best diff = 30.066684447709633 with angle 283.4957332807958\n",
      "Angle of segmentation image: 315.0\n",
      "Angle of mapbox image: 21.501434324047914\n",
      "Angle of mapbox image: 101.30993247402021\n",
      "Angle of mapbox image: 141.74557964748286\n",
      "Angle of mapbox image: 198.12186024790137\n",
      "Angle of mapbox image: 283.4957332807958\n",
      "Best diff = 66.50143432404792 with angle 21.501434324047914\n",
      "Result = 77.23171817703144\n",
      "Descriptor of mapbox image:\n",
      "[18.434948822922017, 104.03624346792647, 141.42969302095804, 195.57782577431104, 281.30993247402023]\n",
      "Angle of segmentation image: 76.04549082686316\n",
      "Angle of mapbox image: 18.434948822922017\n",
      "Angle of mapbox image: 104.03624346792647\n",
      "Angle of mapbox image: 141.42969302095804\n",
      "Angle of mapbox image: 195.57782577431104\n",
      "Angle of mapbox image: 281.30993247402023\n",
      "Best diff = 27.99075264106331 with angle 104.03624346792647\n",
      "Angle of segmentation image: 253.42904883308614\n",
      "Angle of mapbox image: 18.434948822922017\n",
      "Angle of mapbox image: 104.03624346792647\n",
      "Angle of mapbox image: 141.42969302095804\n",
      "Angle of mapbox image: 195.57782577431104\n",
      "Angle of mapbox image: 281.30993247402023\n",
      "Best diff = 27.880883640934087 with angle 281.30993247402023\n",
      "Angle of segmentation image: 315.0\n",
      "Angle of mapbox image: 18.434948822922017\n",
      "Angle of mapbox image: 104.03624346792647\n",
      "Angle of mapbox image: 141.42969302095804\n",
      "Angle of mapbox image: 195.57782577431104\n",
      "Angle of mapbox image: 281.30993247402023\n",
      "Best diff = 63.434948822922024 with angle 18.434948822922017\n",
      "Result = 74.73164415546626\n",
      "Descriptor of segmentation image:\n",
      "[45.0, 180, 294.39529595601016]\n",
      "Descriptor of mapbox image:\n",
      "[55.25119875081743, 136.60600298928225, 294.39529595601016]\n",
      "Angle of segmentation image: 45.0\n",
      "Angle of mapbox image: 55.25119875081743\n",
      "Angle of mapbox image: 136.60600298928225\n",
      "Angle of mapbox image: 294.39529595601016\n",
      "Best diff = 10.25119875081743 with angle 55.25119875081743\n",
      "Angle of segmentation image: 180\n",
      "Angle of mapbox image: 55.25119875081743\n",
      "Angle of mapbox image: 136.60600298928225\n",
      "Angle of mapbox image: 294.39529595601016\n",
      "Best diff = 43.393997010717754 with angle 136.60600298928225\n",
      "Angle of segmentation image: 294.39529595601016\n",
      "Angle of mapbox image: 55.25119875081743\n",
      "Angle of mapbox image: 136.60600298928225\n",
      "Angle of mapbox image: 294.39529595601016\n",
      "Best diff = 0.0 with angle 294.39529595601016\n",
      "Result = 44.588407152475654\n",
      "Descriptor of mapbox image:\n",
      "[109.57312583041019, 200.2892005377698, 337.01128319791934]\n",
      "Angle of segmentation image: 45.0\n",
      "Angle of mapbox image: 109.57312583041019\n",
      "Angle of mapbox image: 200.2892005377698\n",
      "Angle of mapbox image: 337.01128319791934\n",
      "Best diff = 64.57312583041019 with angle 109.57312583041019\n",
      "Angle of segmentation image: 180\n",
      "Angle of mapbox image: 109.57312583041019\n",
      "Angle of mapbox image: 200.2892005377698\n",
      "Angle of mapbox image: 337.01128319791934\n",
      "Best diff = 20.2892005377698 with angle 200.2892005377698\n",
      "Angle of segmentation image: 294.39529595601016\n",
      "Angle of mapbox image: 109.57312583041019\n",
      "Angle of mapbox image: 200.2892005377698\n",
      "Angle of mapbox image: 337.01128319791934\n",
      "Best diff = 42.61598724190918 with angle 337.01128319791934\n",
      "Result = 79.98413971891172\n",
      "Descriptor of mapbox image:\n",
      "[21.501434324047914, 101.30993247402021, 141.74557964748286, 198.12186024790137, 283.4957332807958]\n",
      "Angle of segmentation image: 45.0\n",
      "Angle of mapbox image: 21.501434324047914\n",
      "Angle of mapbox image: 101.30993247402021\n",
      "Angle of mapbox image: 141.74557964748286\n",
      "Angle of mapbox image: 198.12186024790137\n",
      "Angle of mapbox image: 283.4957332807958\n",
      "Best diff = 23.498565675952086 with angle 21.501434324047914\n",
      "Angle of segmentation image: 180\n",
      "Angle of mapbox image: 21.501434324047914\n",
      "Angle of mapbox image: 101.30993247402021\n",
      "Angle of mapbox image: 141.74557964748286\n",
      "Angle of mapbox image: 198.12186024790137\n",
      "Angle of mapbox image: 283.4957332807958\n",
      "Best diff = 18.121860247901367 with angle 198.12186024790137\n",
      "Angle of segmentation image: 294.39529595601016\n",
      "Angle of mapbox image: 21.501434324047914\n",
      "Angle of mapbox image: 101.30993247402021\n",
      "Angle of mapbox image: 141.74557964748286\n",
      "Angle of mapbox image: 198.12186024790137\n",
      "Angle of mapbox image: 283.4957332807958\n",
      "Best diff = 10.899562675214383 with angle 283.4957332807958\n",
      "Result = 31.613049112390723\n",
      "Descriptor of mapbox image:\n",
      "[18.434948822922017, 104.03624346792647, 141.42969302095804, 195.57782577431104, 281.30993247402023]\n",
      "Angle of segmentation image: 45.0\n",
      "Angle of mapbox image: 18.434948822922017\n",
      "Angle of mapbox image: 104.03624346792647\n",
      "Angle of mapbox image: 141.42969302095804\n",
      "Angle of mapbox image: 195.57782577431104\n",
      "Angle of mapbox image: 281.30993247402023\n",
      "Best diff = 26.565051177077983 with angle 18.434948822922017\n",
      "Angle of segmentation image: 180\n",
      "Angle of mapbox image: 18.434948822922017\n",
      "Angle of mapbox image: 104.03624346792647\n",
      "Angle of mapbox image: 141.42969302095804\n",
      "Angle of mapbox image: 195.57782577431104\n",
      "Angle of mapbox image: 281.30993247402023\n",
      "Best diff = 15.577825774311037 with angle 195.57782577431104\n",
      "Angle of segmentation image: 294.39529595601016\n",
      "Angle of mapbox image: 18.434948822922017\n",
      "Angle of mapbox image: 104.03624346792647\n",
      "Angle of mapbox image: 141.42969302095804\n",
      "Angle of mapbox image: 195.57782577431104\n",
      "Angle of mapbox image: 281.30993247402023\n",
      "Best diff = 13.08536348198993 with angle 281.30993247402023\n",
      "Result = 33.46038459658462\n",
      "Score = 9.909068543312136\n",
      "**************************************************\n",
      "Mapbox image: 50.8014454_3.5930797.jpg\n",
      "**************************************************\n",
      "Cropped mapbox image\n",
      "Binary thresholding\n",
      "Isotropic closing of segmentation image\n",
      "Getting intersections in skeleton (more than 2 neighbours)\n",
      "0 intersections found in the skeleton:\n",
      "[]\n",
      "No intersections found in the skeleton\n",
      "Descriptors for mapbox image 50.8014454_3.5930797.jpg:\n",
      "None\n",
      "**************************************************\n",
      "Mapbox image: 50.7998387_3.5910411.jpg\n",
      "**************************************************\n",
      "Cropped mapbox image\n",
      "Binary thresholding\n",
      "Isotropic closing of segmentation image\n",
      "Getting intersections in skeleton (more than 2 neighbours)\n",
      "3 intersections found in the skeleton:\n",
      "[(250, 258), (380, 226), (400, 506)]\n",
      "There are intersections in mapbox image 50.7998387_3.5910411.jpg\n"
     ]
    },
    {
     "data": {
      "image/png": "[encoded data removed]",
      "text/plain": [
       "<Figure size 640x480 with 1 Axes>"
      ]
     },
     "metadata": {},
     "output_type": "display_data"
    },
    {
     "name": "stdout",
     "output_type": "stream",
     "text": [
      "Angle is: 255.16500780574125\n",
      "Count threshold not reached\n"
     ]
    },
    {
     "data": {
      "image/png": "[encoded data removed]",
      "text/plain": [
       "<Figure size 640x480 with 1 Axes>"
      ]
     },
     "metadata": {},
     "output_type": "display_data"
    },
    {
     "name": "stdout",
     "output_type": "stream",
     "text": [
      "Angle is: 343.14160123226173\n"
     ]
    },
    {
     "data": {
      "image/png": "[encoded data removed]",
      "text/plain": [
       "<Figure size 640x480 with 1 Axes>"
      ]
     },
     "metadata": {},
     "output_type": "display_data"
    },
    {
     "name": "stdout",
     "output_type": "stream",
     "text": [
      "Angle is: 253.05077576617856\n"
     ]
    },
    {
     "data": {
      "image/png": "[encoded data removed]",
      "text/plain": [
       "<Figure size 640x480 with 1 Axes>"
      ]
     },
     "metadata": {},
     "output_type": "display_data"
    },
    {
     "name": "stdout",
     "output_type": "stream",
     "text": [
      "Angle is: 78.69006752597979\n"
     ]
    },
    {
     "data": {
      "image/png": "[encoded data removed]",
      "text/plain": [
       "<Figure size 640x480 with 1 Axes>"
      ]
     },
     "metadata": {},
     "output_type": "display_data"
    },
    {
     "name": "stdout",
     "output_type": "stream",
     "text": [
      "Angle is: 336.7176437865103\n"
     ]
    },
    {
     "data": {
      "image/png": "[encoded data removed]",
      "text/plain": [
       "<Figure size 640x480 with 1 Axes>"
      ]
     },
     "metadata": {},
     "output_type": "display_data"
    },
    {
     "name": "stdout",
     "output_type": "stream",
     "text": [
      "Angle is: 180\n"
     ]
    },
    {
     "data": {
      "image/png": "[encoded data removed]",
      "text/plain": [
       "<Figure size 640x480 with 1 Axes>"
      ]
     },
     "metadata": {},
     "output_type": "display_data"
    },
    {
     "name": "stdout",
     "output_type": "stream",
     "text": [
      "Angle is: 78.69006752597979\n",
      "Count threshold not reached\n",
      "Descriptors for mapbox image 50.7998387_3.5910411.jpg:\n",
      "[[255.16500780574125, 343.14160123226173], [78.69006752597979, 253.05077576617856, 336.7176437865103], [78.69006752597979, 180]]\n",
      "Number of descriptors: 3\n",
      "Descriptor of segmentation image:\n",
      "[76.04549082686316, 253.42904883308614, 315.0]\n",
      "Descriptor of mapbox image:\n",
      "[255.16500780574125, 343.14160123226173]\n",
      "Descriptor of mapbox image:\n",
      "[78.69006752597979, 253.05077576617856, 336.7176437865103]\n",
      "Angle of segmentation image: 76.04549082686316\n",
      "Angle of mapbox image: 78.69006752597979\n",
      "Angle of mapbox image: 253.05077576617856\n",
      "Angle of mapbox image: 336.7176437865103\n",
      "Best diff = 2.6445766991166266 with angle 78.69006752597979\n",
      "Angle of segmentation image: 253.42904883308614\n",
      "Angle of mapbox image: 78.69006752597979\n",
      "Angle of mapbox image: 253.05077576617856\n",
      "Angle of mapbox image: 336.7176437865103\n",
      "Best diff = 0.3782730669075818 with angle 253.05077576617856\n",
      "Angle of segmentation image: 315.0\n",
      "Angle of mapbox image: 78.69006752597979\n",
      "Angle of mapbox image: 253.05077576617856\n",
      "Angle of mapbox image: 336.7176437865103\n",
      "Best diff = 21.71764378651028 with angle 336.7176437865103\n",
      "Result = 21.881337437835167\n",
      "Descriptor of mapbox image:\n",
      "[78.69006752597979, 180]\n",
      "Descriptor of segmentation image:\n",
      "[45.0, 180, 294.39529595601016]\n",
      "Descriptor of mapbox image:\n",
      "[255.16500780574125, 343.14160123226173]\n",
      "Descriptor of mapbox image:\n",
      "[78.69006752597979, 253.05077576617856, 336.7176437865103]\n",
      "Angle of segmentation image: 45.0\n",
      "Angle of mapbox image: 78.69006752597979\n",
      "Angle of mapbox image: 253.05077576617856\n",
      "Angle of mapbox image: 336.7176437865103\n",
      "Best diff = 33.690067525979785 with angle 78.69006752597979\n",
      "Angle of segmentation image: 180\n",
      "Angle of mapbox image: 78.69006752597979\n",
      "Angle of mapbox image: 253.05077576617856\n",
      "Angle of mapbox image: 336.7176437865103\n",
      "Best diff = 73.05077576617856 with angle 253.05077576617856\n",
      "Angle of segmentation image: 294.39529595601016\n",
      "Angle of mapbox image: 78.69006752597979\n",
      "Angle of mapbox image: 253.05077576617856\n",
      "Angle of mapbox image: 336.7176437865103\n",
      "Best diff = 42.32234783050012 with angle 336.7176437865103\n",
      "Result = 90.89894177509119\n",
      "Descriptor of mapbox image:\n",
      "[78.69006752597979, 180]\n",
      "Score = 10.619805987536983\n",
      "**************************************************\n",
      "Mapbox image: 50.8008391_3.5926009.jpg\n",
      "**************************************************\n",
      "Cropped mapbox image\n",
      "Binary thresholding\n",
      "Isotropic closing of segmentation image\n",
      "Getting intersections in skeleton (more than 2 neighbours)\n",
      "6 intersections found in the skeleton:\n",
      "[(165, 378), (184, 388), (255, 249), (256, 260), (287, 178), (288, 189)]\n",
      "There are intersections in mapbox image 50.8008391_3.5926009.jpg\n"
     ]
    },
    {
     "data": {
      "image/png": "[encoded data removed]",
      "text/plain": [
       "<Figure size 640x480 with 1 Axes>"
      ]
     },
     "metadata": {},
     "output_type": "display_data"
    },
    {
     "name": "stdout",
     "output_type": "stream",
     "text": [
      "Angle is: 145.83181467497465\n"
     ]
    },
    {
     "data": {
      "image/png": "[encoded data removed]",
      "text/plain": [
       "<Figure size 640x480 with 1 Axes>"
      ]
     },
     "metadata": {},
     "output_type": "display_data"
    },
    {
     "name": "stdout",
     "output_type": "stream",
     "text": [
      "Angle is: 65.97678420183026\n"
     ]
    },
    {
     "data": {
      "image/png": "[encoded data removed]",
      "text/plain": [
       "<Figure size 640x480 with 1 Axes>"
      ]
     },
     "metadata": {},
     "output_type": "display_data"
    },
    {
     "name": "stdout",
     "output_type": "stream",
     "text": [
      "Angle is: 305.8489591001908\n"
     ]
    },
    {
     "data": {
      "image/png": "[encoded data removed]",
      "text/plain": [
       "<Figure size 640x480 with 1 Axes>"
      ]
     },
     "metadata": {},
     "output_type": "display_data"
    },
    {
     "name": "stdout",
     "output_type": "stream",
     "text": [
      "Angle is: 211.47168453362733\n"
     ]
    },
    {
     "data": {
      "image/png": "[encoded data removed]",
      "text/plain": [
       "<Figure size 640x480 with 1 Axes>"
      ]
     },
     "metadata": {},
     "output_type": "display_data"
    },
    {
     "name": "stdout",
     "output_type": "stream",
     "text": [
      "Angle is: 119.1676133795778\n"
     ]
    },
    {
     "data": {
      "image/png": "[encoded data removed]",
      "text/plain": [
       "<Figure size 640x480 with 1 Axes>"
      ]
     },
     "metadata": {},
     "output_type": "display_data"
    },
    {
     "name": "stdout",
     "output_type": "stream",
     "text": [
      "Angle is: 343.14160123226173\n"
     ]
    },
    {
     "data": {
      "image/png": "[encoded data removed]",
      "text/plain": [
       "<Figure size 640x480 with 1 Axes>"
      ]
     },
     "metadata": {},
     "output_type": "display_data"
    },
    {
     "name": "stdout",
     "output_type": "stream",
     "text": [
      "Angle is: 205.86635679409454\n"
     ]
    },
    {
     "data": {
      "image/png": "[encoded data removed]",
      "text/plain": [
       "<Figure size 640x480 with 1 Axes>"
      ]
     },
     "metadata": {},
     "output_type": "display_data"
    },
    {
     "name": "stdout",
     "output_type": "stream",
     "text": [
      "Angle is: 108.29451827198469\n",
      "Count threshold not reached\n",
      "Count threshold not reached\n"
     ]
    },
    {
     "data": {
      "image/png": "[encoded data removed]",
      "text/plain": [
       "<Figure size 640x480 with 1 Axes>"
      ]
     },
     "metadata": {},
     "output_type": "display_data"
    },
    {
     "name": "stdout",
     "output_type": "stream",
     "text": [
      "Angle is: 283.95450917313684\n"
     ]
    },
    {
     "data": {
      "image/png": "[encoded data removed]",
      "text/plain": [
       "<Figure size 640x480 with 1 Axes>"
      ]
     },
     "metadata": {},
     "output_type": "display_data"
    },
    {
     "name": "stdout",
     "output_type": "stream",
     "text": [
      "Angle is: 27.801458779934144\n"
     ]
    },
    {
     "data": {
      "image/png": "[encoded data removed]",
      "text/plain": [
       "<Figure size 640x480 with 1 Axes>"
      ]
     },
     "metadata": {},
     "output_type": "display_data"
    },
    {
     "name": "stdout",
     "output_type": "stream",
     "text": [
      "Angle is: 203.28235621348972\n"
     ]
    },
    {
     "data": {
      "image/png": "[encoded data removed]",
      "text/plain": [
       "<Figure size 640x480 with 1 Axes>"
      ]
     },
     "metadata": {},
     "output_type": "display_data"
    },
    {
     "name": "stdout",
     "output_type": "stream",
     "text": [
      "Angle is: 105.64224645720873\n",
      "Count threshold not reached\n"
     ]
    },
    {
     "data": {
      "image/png": "[encoded data removed]",
      "text/plain": [
       "<Figure size 640x480 with 1 Axes>"
      ]
     },
     "metadata": {},
     "output_type": "display_data"
    },
    {
     "name": "stdout",
     "output_type": "stream",
     "text": [
      "Angle is: 156.72709593591802\n"
     ]
    },
    {
     "data": {
      "image/png": "[encoded data removed]",
      "text/plain": [
       "<Figure size 640x480 with 1 Axes>"
      ]
     },
     "metadata": {},
     "output_type": "display_data"
    },
    {
     "name": "stdout",
     "output_type": "stream",
     "text": [
      "Angle is: 281.30993247402023\n"
     ]
    },
    {
     "data": {
      "image/png": "[encoded data removed]",
      "text/plain": [
       "<Figure size 640x480 with 1 Axes>"
      ]
     },
     "metadata": {},
     "output_type": "display_data"
    },
    {
     "name": "stdout",
     "output_type": "stream",
     "text": [
      "Angle is: 28.342154443421347\n",
      "Descriptors for mapbox image 50.8008391_3.5926009.jpg:\n",
      "[[65.97678420183026, 145.83181467497465, 305.8489591001908], [119.1676133795778, 211.47168453362733, 343.14160123226173], [27.801458779934144, 108.29451827198469, 205.86635679409454, 283.95450917313684], [28.342154443421347, 105.64224645720873, 156.72709593591802, 203.28235621348972, 281.30993247402023]]\n",
      "Number of descriptors: 4\n",
      "Descriptor of segmentation image:\n",
      "[76.04549082686316, 253.42904883308614, 315.0]\n",
      "Descriptor of mapbox image:\n",
      "[65.97678420183026, 145.83181467497465, 305.8489591001908]\n",
      "Angle of segmentation image: 76.04549082686316\n",
      "Angle of mapbox image: 65.97678420183026\n",
      "Angle of mapbox image: 145.83181467497465\n",
      "Angle of mapbox image: 305.8489591001908\n",
      "Best diff = 10.068706625032902 with angle 65.97678420183026\n",
      "Angle of segmentation image: 253.42904883308614\n",
      "Angle of mapbox image: 65.97678420183026\n",
      "Angle of mapbox image: 145.83181467497465\n",
      "Angle of mapbox image: 305.8489591001908\n",
      "Best diff = 52.41991026710468 with angle 305.8489591001908\n",
      "Angle of segmentation image: 315.0\n",
      "Angle of mapbox image: 65.97678420183026\n",
      "Angle of mapbox image: 145.83181467497465\n",
      "Angle of mapbox image: 305.8489591001908\n",
      "Best diff = 169.16818532502535 with angle 145.83181467497465\n",
      "Result = 177.38968620434056\n",
      "Descriptor of mapbox image:\n",
      "[119.1676133795778, 211.47168453362733, 343.14160123226173]\n",
      "Angle of segmentation image: 76.04549082686316\n",
      "Angle of mapbox image: 119.1676133795778\n",
      "Angle of mapbox image: 211.47168453362733\n",
      "Angle of mapbox image: 343.14160123226173\n",
      "Best diff = 43.12212255271464 with angle 119.1676133795778\n",
      "Angle of segmentation image: 253.42904883308614\n",
      "Angle of mapbox image: 119.1676133795778\n",
      "Angle of mapbox image: 211.47168453362733\n",
      "Angle of mapbox image: 343.14160123226173\n",
      "Best diff = 41.95736429945882 with angle 211.47168453362733\n",
      "Angle of segmentation image: 315.0\n",
      "Angle of mapbox image: 119.1676133795778\n",
      "Angle of mapbox image: 211.47168453362733\n",
      "Angle of mapbox image: 343.14160123226173\n",
      "Best diff = 28.141601232261735 with angle 343.14160123226173\n",
      "Result = 66.42204146459575\n",
      "Descriptor of mapbox image:\n",
      "[27.801458779934144, 108.29451827198469, 205.86635679409454, 283.95450917313684]\n",
      "Angle of segmentation image: 76.04549082686316\n",
      "Angle of mapbox image: 27.801458779934144\n",
      "Angle of mapbox image: 108.29451827198469\n",
      "Angle of mapbox image: 205.86635679409454\n",
      "Angle of mapbox image: 283.95450917313684\n",
      "Best diff = 32.24902744512153 with angle 108.29451827198469\n",
      "Angle of segmentation image: 253.42904883308614\n",
      "Angle of mapbox image: 27.801458779934144\n",
      "Angle of mapbox image: 108.29451827198469\n",
      "Angle of mapbox image: 205.86635679409454\n",
      "Angle of mapbox image: 283.95450917313684\n",
      "Best diff = 30.5254603400507 with angle 283.95450917313684\n",
      "Angle of segmentation image: 315.0\n",
      "Angle of mapbox image: 27.801458779934144\n",
      "Angle of mapbox image: 108.29451827198469\n",
      "Angle of mapbox image: 205.86635679409454\n",
      "Angle of mapbox image: 283.95450917313684\n",
      "Best diff = 72.80145877993414 with angle 27.801458779934144\n",
      "Result = 85.27517751734474\n",
      "Descriptor of mapbox image:\n",
      "[28.342154443421347, 105.64224645720873, 156.72709593591802, 203.28235621348972, 281.30993247402023]\n",
      "Angle of segmentation image: 76.04549082686316\n",
      "Angle of mapbox image: 28.342154443421347\n",
      "Angle of mapbox image: 105.64224645720873\n",
      "Angle of mapbox image: 156.72709593591802\n",
      "Angle of mapbox image: 203.28235621348972\n",
      "Angle of mapbox image: 281.30993247402023\n",
      "Best diff = 29.59675563034557 with angle 105.64224645720873\n",
      "Angle of segmentation image: 253.42904883308614\n",
      "Angle of mapbox image: 28.342154443421347\n",
      "Angle of mapbox image: 105.64224645720873\n",
      "Angle of mapbox image: 156.72709593591802\n",
      "Angle of mapbox image: 203.28235621348972\n",
      "Angle of mapbox image: 281.30993247402023\n",
      "Best diff = 27.880883640934087 with angle 281.30993247402023\n",
      "Angle of segmentation image: 315.0\n",
      "Angle of mapbox image: 28.342154443421347\n",
      "Angle of mapbox image: 105.64224645720873\n",
      "Angle of mapbox image: 156.72709593591802\n",
      "Angle of mapbox image: 203.28235621348972\n",
      "Angle of mapbox image: 281.30993247402023\n",
      "Best diff = 73.34215444342135 with angle 28.342154443421347\n",
      "Result = 83.85930619105055\n",
      "Descriptor of segmentation image:\n",
      "[45.0, 180, 294.39529595601016]\n",
      "Descriptor of mapbox image:\n",
      "[65.97678420183026, 145.83181467497465, 305.8489591001908]\n",
      "Angle of segmentation image: 45.0\n",
      "Angle of mapbox image: 65.97678420183026\n",
      "Angle of mapbox image: 145.83181467497465\n",
      "Angle of mapbox image: 305.8489591001908\n",
      "Best diff = 20.976784201830256 with angle 65.97678420183026\n",
      "Angle of segmentation image: 180\n",
      "Angle of mapbox image: 65.97678420183026\n",
      "Angle of mapbox image: 145.83181467497465\n",
      "Angle of mapbox image: 305.8489591001908\n",
      "Best diff = 34.16818532502535 with angle 145.83181467497465\n",
      "Angle of segmentation image: 294.39529595601016\n",
      "Angle of mapbox image: 65.97678420183026\n",
      "Angle of mapbox image: 145.83181467497465\n",
      "Angle of mapbox image: 305.8489591001908\n",
      "Best diff = 11.453663144180666 with angle 305.8489591001908\n",
      "Result = 41.69744312635723\n",
      "Descriptor of mapbox image:\n",
      "[119.1676133795778, 211.47168453362733, 343.14160123226173]\n",
      "Angle of segmentation image: 45.0\n",
      "Angle of mapbox image: 119.1676133795778\n",
      "Angle of mapbox image: 211.47168453362733\n",
      "Angle of mapbox image: 343.14160123226173\n",
      "Best diff = 61.858398767738265 with angle 343.14160123226173\n",
      "Angle of segmentation image: 180\n",
      "Angle of mapbox image: 119.1676133795778\n",
      "Angle of mapbox image: 211.47168453362733\n",
      "Angle of mapbox image: 343.14160123226173\n",
      "Best diff = 31.471684533627325 with angle 211.47168453362733\n",
      "Angle of segmentation image: 294.39529595601016\n",
      "Angle of mapbox image: 119.1676133795778\n",
      "Angle of mapbox image: 211.47168453362733\n",
      "Angle of mapbox image: 343.14160123226173\n",
      "Best diff = 175.22768257643236 with angle 119.1676133795778\n",
      "Result = 188.47193203922865\n",
      "Descriptor of mapbox image:\n",
      "[27.801458779934144, 108.29451827198469, 205.86635679409454, 283.95450917313684]\n",
      "Angle of segmentation image: 45.0\n",
      "Angle of mapbox image: 27.801458779934144\n",
      "Angle of mapbox image: 108.29451827198469\n",
      "Angle of mapbox image: 205.86635679409454\n",
      "Angle of mapbox image: 283.95450917313684\n",
      "Best diff = 17.198541220065856 with angle 27.801458779934144\n",
      "Angle of segmentation image: 180\n",
      "Angle of mapbox image: 27.801458779934144\n",
      "Angle of mapbox image: 108.29451827198469\n",
      "Angle of mapbox image: 205.86635679409454\n",
      "Angle of mapbox image: 283.95450917313684\n",
      "Best diff = 25.866356794094543 with angle 205.86635679409454\n",
      "Angle of segmentation image: 294.39529595601016\n",
      "Angle of mapbox image: 27.801458779934144\n",
      "Angle of mapbox image: 108.29451827198469\n",
      "Angle of mapbox image: 205.86635679409454\n",
      "Angle of mapbox image: 283.95450917313684\n",
      "Best diff = 10.440786782873317 with angle 283.95450917313684\n",
      "Result = 32.76992924226611\n",
      "Descriptor of mapbox image:\n",
      "[28.342154443421347, 105.64224645720873, 156.72709593591802, 203.28235621348972, 281.30993247402023]\n",
      "Angle of segmentation image: 45.0\n",
      "Angle of mapbox image: 28.342154443421347\n",
      "Angle of mapbox image: 105.64224645720873\n",
      "Angle of mapbox image: 156.72709593591802\n",
      "Angle of mapbox image: 203.28235621348972\n",
      "Angle of mapbox image: 281.30993247402023\n",
      "Best diff = 16.657845556578653 with angle 28.342154443421347\n",
      "Angle of segmentation image: 180\n",
      "Angle of mapbox image: 28.342154443421347\n",
      "Angle of mapbox image: 105.64224645720873\n",
      "Angle of mapbox image: 156.72709593591802\n",
      "Angle of mapbox image: 203.28235621348972\n",
      "Angle of mapbox image: 281.30993247402023\n",
      "Best diff = 23.272904064081985 with angle 156.72709593591802\n",
      "Angle of segmentation image: 294.39529595601016\n",
      "Angle of mapbox image: 28.342154443421347\n",
      "Angle of mapbox image: 105.64224645720873\n",
      "Angle of mapbox image: 156.72709593591802\n",
      "Angle of mapbox image: 203.28235621348972\n",
      "Angle of mapbox image: 281.30993247402023\n",
      "Best diff = 13.08536348198993 with angle 281.30993247402023\n",
      "Result = 31.469646004024046\n",
      "Score = 9.894022815246577\n",
      "**************************************************\n",
      "Mapbox image: 50.8001734_3.5924075.jpg\n",
      "**************************************************\n",
      "Cropped mapbox image\n",
      "Binary thresholding\n",
      "Isotropic closing of segmentation image\n",
      "Getting intersections in skeleton (more than 2 neighbours)\n",
      "3 intersections found in the skeleton:\n",
      "[(79, 458), (116, 442), (205, 383)]\n",
      "There are intersections in mapbox image 50.8001734_3.5924075.jpg\n"
     ]
    },
    {
     "data": {
      "image/png": "[encoded data removed]",
      "text/plain": [
       "<Figure size 640x480 with 1 Axes>"
      ]
     },
     "metadata": {},
     "output_type": "display_data"
    },
    {
     "name": "stdout",
     "output_type": "stream",
     "text": [
      "Angle is: 247.01128319791937\n"
     ]
    },
    {
     "data": {
      "image/png": "[encoded data removed]",
      "text/plain": [
       "<Figure size 640x480 with 1 Axes>"
      ]
     },
     "metadata": {},
     "output_type": "display_data"
    },
    {
     "name": "stdout",
     "output_type": "stream",
     "text": [
      "Angle is: 69.67686317033706\n"
     ]
    },
    {
     "data": {
      "image/png": "[encoded data removed]",
      "text/plain": [
       "<Figure size 640x480 with 1 Axes>"
      ]
     },
     "metadata": {},
     "output_type": "display_data"
    },
    {
     "name": "stdout",
     "output_type": "stream",
     "text": [
      "Angle is: 335.55604521958344\n"
     ]
    },
    {
     "data": {
      "image/png": "[encoded data removed]",
      "text/plain": [
       "<Figure size 640x480 with 1 Axes>"
      ]
     },
     "metadata": {},
     "output_type": "display_data"
    },
    {
     "name": "stdout",
     "output_type": "stream",
     "text": [
      "Angle is: 243.43494882292202\n"
     ]
    },
    {
     "data": {
      "image/png": "[encoded data removed]",
      "text/plain": [
       "<Figure size 640x480 with 1 Axes>"
      ]
     },
     "metadata": {},
     "output_type": "display_data"
    },
    {
     "name": "stdout",
     "output_type": "stream",
     "text": [
      "Angle is: 68.1985905136482\n"
     ]
    },
    {
     "data": {
      "image/png": "[encoded data removed]",
      "text/plain": [
       "<Figure size 640x480 with 1 Axes>"
      ]
     },
     "metadata": {},
     "output_type": "display_data"
    },
    {
     "name": "stdout",
     "output_type": "stream",
     "text": [
      "Angle is: 337.01128319791934\n"
     ]
    },
    {
     "data": {
      "image/png": "[encoded data removed]",
      "text/plain": [
       "<Figure size 640x480 with 1 Axes>"
      ]
     },
     "metadata": {},
     "output_type": "display_data"
    },
    {
     "name": "stdout",
     "output_type": "stream",
     "text": [
      "Angle is: 133.16925135197448\n"
     ]
    },
    {
     "data": {
      "image/png": "[encoded data removed]",
      "text/plain": [
       "<Figure size 640x480 with 1 Axes>"
      ]
     },
     "metadata": {},
     "output_type": "display_data"
    },
    {
     "name": "stdout",
     "output_type": "stream",
     "text": [
      "Angle is: 33.69006752597979\n"
     ]
    },
    {
     "data": {
      "image/png": "[encoded data removed]",
      "text/plain": [
       "<Figure size 640x480 with 1 Axes>"
      ]
     },
     "metadata": {},
     "output_type": "display_data"
    },
    {
     "name": "stdout",
     "output_type": "stream",
     "text": [
      "Angle is: 291.8014094863518\n",
      "Descriptors for mapbox image 50.8001734_3.5924075.jpg:\n",
      "[[69.67686317033706, 247.01128319791937, 335.55604521958344], [68.1985905136482, 243.43494882292202, 337.01128319791934], [33.69006752597979, 133.16925135197448, 291.8014094863518]]\n",
      "Number of descriptors: 3\n",
      "Descriptor of segmentation image:\n",
      "[76.04549082686316, 253.42904883308614, 315.0]\n",
      "Descriptor of mapbox image:\n",
      "[69.67686317033706, 247.01128319791937, 335.55604521958344]\n",
      "Angle of segmentation image: 76.04549082686316\n",
      "Angle of mapbox image: 69.67686317033706\n",
      "Angle of mapbox image: 247.01128319791937\n",
      "Angle of mapbox image: 335.55604521958344\n",
      "Best diff = 6.368627656526101 with angle 69.67686317033706\n",
      "Angle of segmentation image: 253.42904883308614\n",
      "Angle of mapbox image: 69.67686317033706\n",
      "Angle of mapbox image: 247.01128319791937\n",
      "Angle of mapbox image: 335.55604521958344\n",
      "Best diff = 6.417765635166774 with angle 247.01128319791937\n",
      "Angle of segmentation image: 315.0\n",
      "Angle of mapbox image: 69.67686317033706\n",
      "Angle of mapbox image: 247.01128319791937\n",
      "Angle of mapbox image: 335.55604521958344\n",
      "Best diff = 20.55604521958344 with angle 335.55604521958344\n",
      "Result = 22.45658320058855\n",
      "Descriptor of mapbox image:\n",
      "[68.1985905136482, 243.43494882292202, 337.01128319791934]\n",
      "Angle of segmentation image: 76.04549082686316\n",
      "Angle of mapbox image: 68.1985905136482\n",
      "Angle of mapbox image: 243.43494882292202\n",
      "Angle of mapbox image: 337.01128319791934\n",
      "Best diff = 7.8469003132149595 with angle 68.1985905136482\n",
      "Angle of segmentation image: 253.42904883308614\n",
      "Angle of mapbox image: 68.1985905136482\n",
      "Angle of mapbox image: 243.43494882292202\n",
      "Angle of mapbox image: 337.01128319791934\n",
      "Best diff = 9.994100010164118 with angle 243.43494882292202\n",
      "Angle of segmentation image: 315.0\n",
      "Angle of mapbox image: 68.1985905136482\n",
      "Angle of mapbox image: 243.43494882292202\n",
      "Angle of mapbox image: 337.01128319791934\n",
      "Best diff = 22.01128319791934 with angle 337.01128319791934\n",
      "Result = 25.41559496761195\n",
      "Descriptor of mapbox image:\n",
      "[33.69006752597979, 133.16925135197448, 291.8014094863518]\n",
      "Angle of segmentation image: 76.04549082686316\n",
      "Angle of mapbox image: 33.69006752597979\n",
      "Angle of mapbox image: 133.16925135197448\n",
      "Angle of mapbox image: 291.8014094863518\n",
      "Best diff = 42.355423300883366 with angle 33.69006752597979\n",
      "Angle of segmentation image: 253.42904883308614\n",
      "Angle of mapbox image: 33.69006752597979\n",
      "Angle of mapbox image: 133.16925135197448\n",
      "Angle of mapbox image: 291.8014094863518\n",
      "Best diff = 38.37236065326567 with angle 291.8014094863518\n",
      "Angle of segmentation image: 315.0\n",
      "Angle of mapbox image: 33.69006752597979\n",
      "Angle of mapbox image: 133.16925135197448\n",
      "Angle of mapbox image: 291.8014094863518\n",
      "Best diff = 178.16925135197448 with angle 133.16925135197448\n",
      "Result = 187.11146964423205\n",
      "Descriptor of segmentation image:\n",
      "[45.0, 180, 294.39529595601016]\n",
      "Descriptor of mapbox image:\n",
      "[69.67686317033706, 247.01128319791937, 335.55604521958344]\n",
      "Angle of segmentation image: 45.0\n",
      "Angle of mapbox image: 69.67686317033706\n",
      "Angle of mapbox image: 247.01128319791937\n",
      "Angle of mapbox image: 335.55604521958344\n",
      "Best diff = 24.676863170337057 with angle 69.67686317033706\n",
      "Angle of segmentation image: 180\n",
      "Angle of mapbox image: 69.67686317033706\n",
      "Angle of mapbox image: 247.01128319791937\n",
      "Angle of mapbox image: 335.55604521958344\n",
      "Best diff = 67.01128319791937 with angle 247.01128319791937\n",
      "Angle of segmentation image: 294.39529595601016\n",
      "Angle of mapbox image: 69.67686317033706\n",
      "Angle of mapbox image: 247.01128319791937\n",
      "Angle of mapbox image: 335.55604521958344\n",
      "Best diff = 41.16074926357328 with angle 335.55604521958344\n",
      "Result = 82.42370370044067\n",
      "Descriptor of mapbox image:\n",
      "[68.1985905136482, 243.43494882292202, 337.01128319791934]\n",
      "Angle of segmentation image: 45.0\n",
      "Angle of mapbox image: 68.1985905136482\n",
      "Angle of mapbox image: 243.43494882292202\n",
      "Angle of mapbox image: 337.01128319791934\n",
      "Best diff = 23.1985905136482 with angle 68.1985905136482\n",
      "Angle of segmentation image: 180\n",
      "Angle of mapbox image: 68.1985905136482\n",
      "Angle of mapbox image: 243.43494882292202\n",
      "Angle of mapbox image: 337.01128319791934\n",
      "Best diff = 63.434948822922024 with angle 243.43494882292202\n",
      "Angle of segmentation image: 294.39529595601016\n",
      "Angle of mapbox image: 68.1985905136482\n",
      "Angle of mapbox image: 243.43494882292202\n",
      "Angle of mapbox image: 337.01128319791934\n",
      "Best diff = 42.61598724190918 with angle 337.01128319791934\n",
      "Result = 79.86419537307836\n",
      "Descriptor of mapbox image:\n",
      "[33.69006752597979, 133.16925135197448, 291.8014094863518]\n",
      "Angle of segmentation image: 45.0\n",
      "Angle of mapbox image: 33.69006752597979\n",
      "Angle of mapbox image: 133.16925135197448\n",
      "Angle of mapbox image: 291.8014094863518\n",
      "Best diff = 11.309932474020208 with angle 33.69006752597979\n",
      "Angle of segmentation image: 180\n",
      "Angle of mapbox image: 33.69006752597979\n",
      "Angle of mapbox image: 133.16925135197448\n",
      "Angle of mapbox image: 291.8014094863518\n",
      "Best diff = 46.83074864802552 with angle 133.16925135197448\n",
      "Angle of segmentation image: 294.39529595601016\n",
      "Angle of mapbox image: 33.69006752597979\n",
      "Angle of mapbox image: 133.16925135197448\n",
      "Angle of mapbox image: 291.8014094863518\n",
      "Best diff = 2.5938864696583437 with angle 291.8014094863518\n",
      "Result = 48.24688423638274\n",
      "Score = 8.408535391908112\n",
      "**************************************************\n",
      "Mapbox image: 50.803516_3.5951223.jpg\n",
      "**************************************************\n",
      "Cropped mapbox image\n",
      "Binary thresholding\n",
      "Isotropic closing of segmentation image\n",
      "Getting intersections in skeleton (more than 2 neighbours)\n",
      "2 intersections found in the skeleton:\n",
      "[(249, 258), (262, 179)]\n",
      "There are intersections in mapbox image 50.803516_3.5951223.jpg\n"
     ]
    },
    {
     "data": {
      "image/png": "[encoded data removed]",
      "text/plain": [
       "<Figure size 640x480 with 1 Axes>"
      ]
     },
     "metadata": {},
     "output_type": "display_data"
    },
    {
     "name": "stdout",
     "output_type": "stream",
     "text": [
      "Angle is: 255.16500780574125\n"
     ]
    },
    {
     "data": {
      "image/png": "[encoded data removed]",
      "text/plain": [
       "<Figure size 640x480 with 1 Axes>"
      ]
     },
     "metadata": {},
     "output_type": "display_data"
    },
    {
     "name": "stdout",
     "output_type": "stream",
     "text": [
      "Angle is: 78.69006752597979\n"
     ]
    },
    {
     "data": {
      "image/png": "[encoded data removed]",
      "text/plain": [
       "<Figure size 640x480 with 1 Axes>"
      ]
     },
     "metadata": {},
     "output_type": "display_data"
    },
    {
     "name": "stdout",
     "output_type": "stream",
     "text": [
      "Angle is: 337.01128319791934\n"
     ]
    },
    {
     "data": {
      "image/png": "[encoded data removed]",
      "text/plain": [
       "<Figure size 640x480 with 1 Axes>"
      ]
     },
     "metadata": {},
     "output_type": "display_data"
    },
    {
     "name": "stdout",
     "output_type": "stream",
     "text": [
      "Angle is: 150.3299661843394\n"
     ]
    },
    {
     "data": {
      "image/png": "[encoded data removed]",
      "text/plain": [
       "<Figure size 640x480 with 1 Axes>"
      ]
     },
     "metadata": {},
     "output_type": "display_data"
    },
    {
     "name": "stdout",
     "output_type": "stream",
     "text": [
      "Angle is: 258.69006752597977\n"
     ]
    },
    {
     "data": {
      "image/png": "[encoded data removed]",
      "text/plain": [
       "<Figure size 640x480 with 1 Axes>"
      ]
     },
     "metadata": {},
     "output_type": "display_data"
    },
    {
     "name": "stdout",
     "output_type": "stream",
     "text": [
      "Angle is: 70.42687416958981\n",
      "Descriptors for mapbox image 50.803516_3.5951223.jpg:\n",
      "[[78.69006752597979, 255.16500780574125, 337.01128319791934], [70.42687416958981, 150.3299661843394, 258.69006752597977]]\n",
      "Number of descriptors: 2\n",
      "Descriptor of segmentation image:\n",
      "[76.04549082686316, 253.42904883308614, 315.0]\n",
      "Descriptor of mapbox image:\n",
      "[78.69006752597979, 255.16500780574125, 337.01128319791934]\n",
      "Angle of segmentation image: 76.04549082686316\n",
      "Angle of mapbox image: 78.69006752597979\n",
      "Angle of mapbox image: 255.16500780574125\n",
      "Angle of mapbox image: 337.01128319791934\n",
      "Best diff = 2.6445766991166266 with angle 78.69006752597979\n",
      "Angle of segmentation image: 253.42904883308614\n",
      "Angle of mapbox image: 78.69006752597979\n",
      "Angle of mapbox image: 255.16500780574125\n",
      "Angle of mapbox image: 337.01128319791934\n",
      "Best diff = 1.7359589726551121 with angle 255.16500780574125\n",
      "Angle of segmentation image: 315.0\n",
      "Angle of mapbox image: 78.69006752597979\n",
      "Angle of mapbox image: 255.16500780574125\n",
      "Angle of mapbox image: 337.01128319791934\n",
      "Best diff = 22.01128319791934 with angle 337.01128319791934\n",
      "Result = 22.237444266175434\n",
      "Descriptor of mapbox image:\n",
      "[70.42687416958981, 150.3299661843394, 258.69006752597977]\n",
      "Angle of segmentation image: 76.04549082686316\n",
      "Angle of mapbox image: 70.42687416958981\n",
      "Angle of mapbox image: 150.3299661843394\n",
      "Angle of mapbox image: 258.69006752597977\n",
      "Best diff = 5.61861665727335 with angle 70.42687416958981\n",
      "Angle of segmentation image: 253.42904883308614\n",
      "Angle of mapbox image: 70.42687416958981\n",
      "Angle of mapbox image: 150.3299661843394\n",
      "Angle of mapbox image: 258.69006752597977\n",
      "Best diff = 5.261018692893629 with angle 258.69006752597977\n",
      "Angle of segmentation image: 315.0\n",
      "Angle of mapbox image: 70.42687416958981\n",
      "Angle of mapbox image: 150.3299661843394\n",
      "Angle of mapbox image: 258.69006752597977\n",
      "Best diff = 164.6700338156606 with angle 150.3299661843394\n",
      "Result = 164.84983229496828\n",
      "Descriptor of segmentation image:\n",
      "[45.0, 180, 294.39529595601016]\n",
      "Descriptor of mapbox image:\n",
      "[78.69006752597979, 255.16500780574125, 337.01128319791934]\n",
      "Angle of segmentation image: 45.0\n",
      "Angle of mapbox image: 78.69006752597979\n",
      "Angle of mapbox image: 255.16500780574125\n",
      "Angle of mapbox image: 337.01128319791934\n",
      "Best diff = 33.690067525979785 with angle 78.69006752597979\n",
      "Angle of segmentation image: 180\n",
      "Angle of mapbox image: 78.69006752597979\n",
      "Angle of mapbox image: 255.16500780574125\n",
      "Angle of mapbox image: 337.01128319791934\n",
      "Best diff = 75.16500780574125 with angle 255.16500780574125\n",
      "Angle of segmentation image: 294.39529595601016\n",
      "Angle of mapbox image: 78.69006752597979\n",
      "Angle of mapbox image: 255.16500780574125\n",
      "Angle of mapbox image: 337.01128319791934\n",
      "Best diff = 42.61598724190918 with angle 337.01128319791934\n",
      "Result = 92.74115276911749\n",
      "Descriptor of mapbox image:\n",
      "[70.42687416958981, 150.3299661843394, 258.69006752597977]\n",
      "Angle of segmentation image: 45.0\n",
      "Angle of mapbox image: 70.42687416958981\n",
      "Angle of mapbox image: 150.3299661843394\n",
      "Angle of mapbox image: 258.69006752597977\n",
      "Best diff = 25.42687416958981 with angle 70.42687416958981\n",
      "Angle of segmentation image: 180\n",
      "Angle of mapbox image: 70.42687416958981\n",
      "Angle of mapbox image: 150.3299661843394\n",
      "Angle of mapbox image: 258.69006752597977\n",
      "Best diff = 29.670033815660588 with angle 150.3299661843394\n",
      "Angle of segmentation image: 294.39529595601016\n",
      "Angle of mapbox image: 70.42687416958981\n",
      "Angle of mapbox image: 150.3299661843394\n",
      "Angle of mapbox image: 258.69006752597977\n",
      "Best diff = 35.70522843003039 with angle 258.69006752597977\n",
      "Result = 52.93108891662108\n",
      "Score = 8.669978845579527\n",
      "**************************************************\n",
      "Mapbox image: 50.7989069_3.5945538.jpg\n",
      "**************************************************\n",
      "Cropped mapbox image\n",
      "Binary thresholding\n",
      "Isotropic closing of segmentation image\n",
      "Getting intersections in skeleton (more than 2 neighbours)\n",
      "3 intersections found in the skeleton:\n",
      "[(11, 358), (46, 369), (254, 256)]\n",
      "There are intersections in mapbox image 50.7989069_3.5945538.jpg\n"
     ]
    },
    {
     "data": {
      "image/png": "[encoded data removed]",
      "text/plain": [
       "<Figure size 640x480 with 1 Axes>"
      ]
     },
     "metadata": {},
     "output_type": "display_data"
    },
    {
     "name": "stdout",
     "output_type": "stream",
     "text": [
      "Angle is: 180\n",
      "Count threshold not reached\n"
     ]
    },
    {
     "data": {
      "image/png": "[encoded data removed]",
      "text/plain": [
       "<Figure size 640x480 with 1 Axes>"
      ]
     },
     "metadata": {},
     "output_type": "display_data"
    },
    {
     "name": "stdout",
     "output_type": "stream",
     "text": [
      "Angle is: 306.54497232282256\n"
     ]
    },
    {
     "data": {
      "image/png": "[encoded data removed]",
      "text/plain": [
       "<Figure size 640x480 with 1 Axes>"
      ]
     },
     "metadata": {},
     "output_type": "display_data"
    },
    {
     "name": "stdout",
     "output_type": "stream",
     "text": [
      "Angle is: 180\n"
     ]
    },
    {
     "data": {
      "image/png": "[encoded data removed]",
      "text/plain": [
       "<Figure size 640x480 with 1 Axes>"
      ]
     },
     "metadata": {},
     "output_type": "display_data"
    },
    {
     "name": "stdout",
     "output_type": "stream",
     "text": [
      "Angle is: 101.30993247402021\n"
     ]
    },
    {
     "data": {
      "image/png": "[encoded data removed]",
      "text/plain": [
       "<Figure size 640x480 with 1 Axes>"
      ]
     },
     "metadata": {},
     "output_type": "display_data"
    },
    {
     "name": "stdout",
     "output_type": "stream",
     "text": [
      "All x-values are the same\n",
      "Angle is: 270\n"
     ]
    },
    {
     "data": {
      "image/png": "[encoded data removed]",
      "text/plain": [
       "<Figure size 640x480 with 1 Axes>"
      ]
     },
     "metadata": {},
     "output_type": "display_data"
    },
    {
     "name": "stdout",
     "output_type": "stream",
     "text": [
      "Angle is: 248.3607173574298\n"
     ]
    },
    {
     "data": {
      "image/png": "[encoded data removed]",
      "text/plain": [
       "<Figure size 640x480 with 1 Axes>"
      ]
     },
     "metadata": {},
     "output_type": "display_data"
    },
    {
     "name": "stdout",
     "output_type": "stream",
     "text": [
      "All x-values are the same\n",
      "Angle is: 90\n"
     ]
    },
    {
     "data": {
      "image/png": "[encoded data removed]",
      "text/plain": [
       "<Figure size 640x480 with 1 Axes>"
      ]
     },
     "metadata": {},
     "output_type": "display_data"
    },
    {
     "name": "stdout",
     "output_type": "stream",
     "text": [
      "Angle is: 346.37300514010843\n",
      "Descriptors for mapbox image 50.7989069_3.5945538.jpg:\n",
      "[[180, 306.54497232282256], [101.30993247402021, 180, 270], [90, 248.3607173574298, 346.37300514010843]]\n",
      "Number of descriptors: 3\n",
      "Descriptor of segmentation image:\n",
      "[76.04549082686316, 253.42904883308614, 315.0]\n",
      "Descriptor of mapbox image:\n",
      "[180, 306.54497232282256]\n",
      "Descriptor of mapbox image:\n",
      "[101.30993247402021, 180, 270]\n",
      "Angle of segmentation image: 76.04549082686316\n",
      "Angle of mapbox image: 101.30993247402021\n",
      "Angle of mapbox image: 180\n",
      "Angle of mapbox image: 270\n",
      "Best diff = 25.264441647157057 with angle 101.30993247402021\n",
      "Angle of segmentation image: 253.42904883308614\n",
      "Angle of mapbox image: 101.30993247402021\n",
      "Angle of mapbox image: 180\n",
      "Angle of mapbox image: 270\n",
      "Best diff = 16.570951166913858 with angle 270\n",
      "Angle of segmentation image: 315.0\n",
      "Angle of mapbox image: 101.30993247402021\n",
      "Angle of mapbox image: 180\n",
      "Angle of mapbox image: 270\n",
      "Best diff = 135.0 with angle 180\n",
      "Result = 138.33975724396385\n",
      "Descriptor of mapbox image:\n",
      "[90, 248.3607173574298, 346.37300514010843]\n",
      "Angle of segmentation image: 76.04549082686316\n",
      "Angle of mapbox image: 90\n",
      "Angle of mapbox image: 248.3607173574298\n",
      "Angle of mapbox image: 346.37300514010843\n",
      "Best diff = 13.954509173136842 with angle 90\n",
      "Angle of segmentation image: 253.42904883308614\n",
      "Angle of mapbox image: 90\n",
      "Angle of mapbox image: 248.3607173574298\n",
      "Angle of mapbox image: 346.37300514010843\n",
      "Best diff = 5.0683314756563504 with angle 248.3607173574298\n",
      "Angle of segmentation image: 315.0\n",
      "Angle of mapbox image: 90\n",
      "Angle of mapbox image: 248.3607173574298\n",
      "Angle of mapbox image: 346.37300514010843\n",
      "Best diff = 31.373005140108432 with angle 346.37300514010843\n",
      "Result = 34.708525778712634\n",
      "Descriptor of segmentation image:\n",
      "[45.0, 180, 294.39529595601016]\n",
      "Descriptor of mapbox image:\n",
      "[180, 306.54497232282256]\n",
      "Descriptor of mapbox image:\n",
      "[101.30993247402021, 180, 270]\n",
      "Angle of segmentation image: 45.0\n",
      "Angle of mapbox image: 101.30993247402021\n",
      "Angle of mapbox image: 180\n",
      "Angle of mapbox image: 270\n",
      "Best diff = 56.309932474020215 with angle 101.30993247402021\n",
      "Angle of segmentation image: 180\n",
      "Angle of mapbox image: 101.30993247402021\n",
      "Angle of mapbox image: 180\n",
      "Angle of mapbox image: 270\n",
      "Best diff = 0 with angle 180\n",
      "Angle of segmentation image: 294.39529595601016\n",
      "Angle of mapbox image: 101.30993247402021\n",
      "Angle of mapbox image: 180\n",
      "Angle of mapbox image: 270\n",
      "Best diff = 24.39529595601016 with angle 270\n",
      "Result = 61.36724663865931\n",
      "Descriptor of mapbox image:\n",
      "[90, 248.3607173574298, 346.37300514010843]\n",
      "Angle of segmentation image: 45.0\n",
      "Angle of mapbox image: 90\n",
      "Angle of mapbox image: 248.3607173574298\n",
      "Angle of mapbox image: 346.37300514010843\n",
      "Best diff = 45.0 with angle 90\n",
      "Angle of segmentation image: 180\n",
      "Angle of mapbox image: 90\n",
      "Angle of mapbox image: 248.3607173574298\n",
      "Angle of mapbox image: 346.37300514010843\n",
      "Best diff = 68.36071735742979 with angle 248.3607173574298\n",
      "Angle of segmentation image: 294.39529595601016\n",
      "Angle of mapbox image: 90\n",
      "Angle of mapbox image: 248.3607173574298\n",
      "Angle of mapbox image: 346.37300514010843\n",
      "Best diff = 51.97770918409827 with angle 346.37300514010843\n",
      "Result = 96.95292635938894\n",
      "Score = 9.801824953414132\n",
      "**************************************************\n",
      "Mapbox image: 50.8000803_3.5916233.jpg\n",
      "**************************************************\n",
      "Cropped mapbox image\n",
      "Binary thresholding\n",
      "Isotropic closing of segmentation image\n",
      "Getting intersections in skeleton (more than 2 neighbours)\n",
      "4 intersections found in the skeleton:\n",
      "[(203, 273), (221, 488), (251, 259), (374, 199)]\n",
      "There are intersections in mapbox image 50.8000803_3.5916233.jpg\n"
     ]
    },
    {
     "data": {
      "image/png": "[encoded data removed]",
      "text/plain": [
       "<Figure size 640x480 with 1 Axes>"
      ]
     },
     "metadata": {},
     "output_type": "display_data"
    },
    {
     "name": "stdout",
     "output_type": "stream",
     "text": [
      "Angle is: 254.35775354279127\n"
     ]
    },
    {
     "data": {
      "image/png": "[encoded data removed]",
      "text/plain": [
       "<Figure size 640x480 with 1 Axes>"
      ]
     },
     "metadata": {},
     "output_type": "display_data"
    },
    {
     "name": "stdout",
     "output_type": "stream",
     "text": [
      "Angle is: 76.04549082686316\n"
     ]
    },
    {
     "data": {
      "image/png": "[encoded data removed]",
      "text/plain": [
       "<Figure size 640x480 with 1 Axes>"
      ]
     },
     "metadata": {},
     "output_type": "display_data"
    },
    {
     "name": "stdout",
     "output_type": "stream",
     "text": [
      "Angle is: 345.71890426402916\n"
     ]
    },
    {
     "data": {
      "image/png": "[encoded data removed]",
      "text/plain": [
       "<Figure size 640x480 with 1 Axes>"
      ]
     },
     "metadata": {},
     "output_type": "display_data"
    },
    {
     "name": "stdout",
     "output_type": "stream",
     "text": [
      "Angle is: 180\n"
     ]
    },
    {
     "data": {
      "image/png": "[encoded data removed]",
      "text/plain": [
       "<Figure size 640x480 with 1 Axes>"
      ]
     },
     "metadata": {},
     "output_type": "display_data"
    },
    {
     "name": "stdout",
     "output_type": "stream",
     "text": [
      "Angle is: 67.72973207994468\n"
     ]
    },
    {
     "data": {
      "image/png": "[encoded data removed]",
      "text/plain": [
       "<Figure size 640x480 with 1 Axes>"
      ]
     },
     "metadata": {},
     "output_type": "display_data"
    },
    {
     "name": "stdout",
     "output_type": "stream",
     "text": [
      "Angle is: 320.1036514085458\n"
     ]
    },
    {
     "data": {
      "image/png": "[encoded data removed]",
      "text/plain": [
       "<Figure size 640x480 with 1 Axes>"
      ]
     },
     "metadata": {},
     "output_type": "display_data"
    },
    {
     "name": "stdout",
     "output_type": "stream",
     "text": [
      "Angle is: 248.36071735742976\n"
     ]
    },
    {
     "data": {
      "image/png": "[encoded data removed]",
      "text/plain": [
       "<Figure size 640x480 with 1 Axes>"
      ]
     },
     "metadata": {},
     "output_type": "display_data"
    },
    {
     "name": "stdout",
     "output_type": "stream",
     "text": [
      "Angle is: 68.36071735742978\n"
     ]
    },
    {
     "data": {
      "image/png": "[encoded data removed]",
      "text/plain": [
       "<Figure size 640x480 with 1 Axes>"
      ]
     },
     "metadata": {},
     "output_type": "display_data"
    },
    {
     "name": "stdout",
     "output_type": "stream",
     "text": [
      "Angle is: 341.87813975209866\n"
     ]
    },
    {
     "data": {
      "image/png": "[encoded data removed]",
      "text/plain": [
       "<Figure size 640x480 with 1 Axes>"
      ]
     },
     "metadata": {},
     "output_type": "display_data"
    },
    {
     "name": "stdout",
     "output_type": "stream",
     "text": [
      "Angle is: 146.3099324740202\n"
     ]
    },
    {
     "data": {
      "image/png": "[encoded data removed]",
      "text/plain": [
       "<Figure size 640x480 with 1 Axes>"
      ]
     },
     "metadata": {},
     "output_type": "display_data"
    },
    {
     "name": "stdout",
     "output_type": "stream",
     "text": [
      "Angle is: 289.57312583041016\n"
     ]
    },
    {
     "data": {
      "image/png": "[encoded data removed]",
      "text/plain": [
       "<Figure size 640x480 with 1 Axes>"
      ]
     },
     "metadata": {},
     "output_type": "display_data"
    },
    {
     "name": "stdout",
     "output_type": "stream",
     "text": [
      "Angle is: 42.082992713372285\n",
      "Descriptors for mapbox image 50.8000803_3.5916233.jpg:\n",
      "[[76.04549082686316, 254.35775354279127, 345.71890426402916], [67.72973207994468, 180, 320.1036514085458], [68.36071735742978, 248.36071735742976, 341.87813975209866], [42.082992713372285, 146.3099324740202, 289.57312583041016]]\n",
      "Number of descriptors: 4\n",
      "Descriptor of segmentation image:\n",
      "[76.04549082686316, 253.42904883308614, 315.0]\n",
      "Descriptor of mapbox image:\n",
      "[76.04549082686316, 254.35775354279127, 345.71890426402916]\n",
      "Angle of segmentation image: 76.04549082686316\n",
      "Angle of mapbox image: 76.04549082686316\n",
      "Angle of mapbox image: 254.35775354279127\n",
      "Angle of mapbox image: 345.71890426402916\n",
      "Best diff = 0.0 with angle 76.04549082686316\n",
      "Angle of segmentation image: 253.42904883308614\n",
      "Angle of mapbox image: 76.04549082686316\n",
      "Angle of mapbox image: 254.35775354279127\n",
      "Angle of mapbox image: 345.71890426402916\n",
      "Best diff = 0.92870470970513 with angle 254.35775354279127\n",
      "Angle of segmentation image: 315.0\n",
      "Angle of mapbox image: 76.04549082686316\n",
      "Angle of mapbox image: 254.35775354279127\n",
      "Angle of mapbox image: 345.71890426402916\n",
      "Best diff = 30.718904264029163 with angle 345.71890426402916\n",
      "Result = 30.73293952130869\n",
      "Descriptor of mapbox image:\n",
      "[67.72973207994468, 180, 320.1036514085458]\n",
      "Angle of segmentation image: 76.04549082686316\n",
      "Angle of mapbox image: 67.72973207994468\n",
      "Angle of mapbox image: 180\n",
      "Angle of mapbox image: 320.1036514085458\n",
      "Best diff = 8.315758746918476 with angle 67.72973207994468\n",
      "Angle of segmentation image: 253.42904883308614\n",
      "Angle of mapbox image: 67.72973207994468\n",
      "Angle of mapbox image: 180\n",
      "Angle of mapbox image: 320.1036514085458\n",
      "Best diff = 66.67460257545963 with angle 320.1036514085458\n",
      "Angle of segmentation image: 315.0\n",
      "Angle of mapbox image: 67.72973207994468\n",
      "Angle of mapbox image: 180\n",
      "Angle of mapbox image: 320.1036514085458\n",
      "Best diff = 135.0 with angle 180\n",
      "Result = 150.79673229925257\n",
      "Descriptor of mapbox image:\n",
      "[68.36071735742978, 248.36071735742976, 341.87813975209866]\n",
      "Angle of segmentation image: 76.04549082686316\n",
      "Angle of mapbox image: 68.36071735742978\n",
      "Angle of mapbox image: 248.36071735742976\n",
      "Angle of mapbox image: 341.87813975209866\n",
      "Best diff = 7.684773469433381 with angle 68.36071735742978\n",
      "Angle of segmentation image: 253.42904883308614\n",
      "Angle of mapbox image: 68.36071735742978\n",
      "Angle of mapbox image: 248.36071735742976\n",
      "Angle of mapbox image: 341.87813975209866\n",
      "Best diff = 5.068331475656379 with angle 248.36071735742976\n",
      "Angle of segmentation image: 315.0\n",
      "Angle of mapbox image: 68.36071735742978\n",
      "Angle of mapbox image: 248.36071735742976\n",
      "Angle of mapbox image: 341.87813975209866\n",
      "Best diff = 26.87813975209866 with angle 341.87813975209866\n",
      "Result = 28.410880376309755\n",
      "Descriptor of mapbox image:\n",
      "[42.082992713372285, 146.3099324740202, 289.57312583041016]\n",
      "Angle of segmentation image: 76.04549082686316\n",
      "Angle of mapbox image: 42.082992713372285\n",
      "Angle of mapbox image: 146.3099324740202\n",
      "Angle of mapbox image: 289.57312583041016\n",
      "Best diff = 33.962498113490874 with angle 42.082992713372285\n",
      "Angle of segmentation image: 253.42904883308614\n",
      "Angle of mapbox image: 42.082992713372285\n",
      "Angle of mapbox image: 146.3099324740202\n",
      "Angle of mapbox image: 289.57312583041016\n",
      "Best diff = 36.14407699732402 with angle 289.57312583041016\n",
      "Angle of segmentation image: 315.0\n",
      "Angle of mapbox image: 42.082992713372285\n",
      "Angle of mapbox image: 146.3099324740202\n",
      "Angle of mapbox image: 289.57312583041016\n",
      "Best diff = 168.6900675259798 with angle 146.3099324740202\n",
      "Result = 175.82998737990337\n",
      "Descriptor of segmentation image:\n",
      "[45.0, 180, 294.39529595601016]\n",
      "Descriptor of mapbox image:\n",
      "[76.04549082686316, 254.35775354279127, 345.71890426402916]\n",
      "Angle of segmentation image: 45.0\n",
      "Angle of mapbox image: 76.04549082686316\n",
      "Angle of mapbox image: 254.35775354279127\n",
      "Angle of mapbox image: 345.71890426402916\n",
      "Best diff = 31.04549082686316 with angle 76.04549082686316\n",
      "Angle of segmentation image: 180\n",
      "Angle of mapbox image: 76.04549082686316\n",
      "Angle of mapbox image: 254.35775354279127\n",
      "Angle of mapbox image: 345.71890426402916\n",
      "Best diff = 74.35775354279127 with angle 254.35775354279127\n",
      "Angle of segmentation image: 294.39529595601016\n",
      "Angle of mapbox image: 76.04549082686316\n",
      "Angle of mapbox image: 254.35775354279127\n",
      "Angle of mapbox image: 345.71890426402916\n",
      "Best diff = 51.323608308019004 with angle 345.71890426402916\n",
      "Result = 95.5353902088974\n",
      "Descriptor of mapbox image:\n",
      "[67.72973207994468, 180, 320.1036514085458]\n",
      "Angle of segmentation image: 45.0\n",
      "Angle of mapbox image: 67.72973207994468\n",
      "Angle of mapbox image: 180\n",
      "Angle of mapbox image: 320.1036514085458\n",
      "Best diff = 22.729732079944682 with angle 67.72973207994468\n",
      "Angle of segmentation image: 180\n",
      "Angle of mapbox image: 67.72973207994468\n",
      "Angle of mapbox image: 180\n",
      "Angle of mapbox image: 320.1036514085458\n",
      "Best diff = 0 with angle 180\n",
      "Angle of segmentation image: 294.39529595601016\n",
      "Angle of mapbox image: 67.72973207994468\n",
      "Angle of mapbox image: 180\n",
      "Angle of mapbox image: 320.1036514085458\n",
      "Best diff = 25.708355452535613 with angle 320.1036514085458\n",
      "Result = 34.31559791843913\n",
      "Descriptor of mapbox image:\n",
      "[68.36071735742978, 248.36071735742976, 341.87813975209866]\n",
      "Angle of segmentation image: 45.0\n",
      "Angle of mapbox image: 68.36071735742978\n",
      "Angle of mapbox image: 248.36071735742976\n",
      "Angle of mapbox image: 341.87813975209866\n",
      "Best diff = 23.360717357429778 with angle 68.36071735742978\n",
      "Angle of segmentation image: 180\n",
      "Angle of mapbox image: 68.36071735742978\n",
      "Angle of mapbox image: 248.36071735742976\n",
      "Angle of mapbox image: 341.87813975209866\n",
      "Best diff = 68.36071735742976 with angle 248.36071735742976\n",
      "Angle of segmentation image: 294.39529595601016\n",
      "Angle of mapbox image: 68.36071735742978\n",
      "Angle of mapbox image: 248.36071735742976\n",
      "Angle of mapbox image: 341.87813975209866\n",
      "Best diff = 47.4828437960885 with angle 341.87813975209866\n",
      "Result = 86.44958789976884\n",
      "Descriptor of mapbox image:\n",
      "[42.082992713372285, 146.3099324740202, 289.57312583041016]\n",
      "Angle of segmentation image: 45.0\n",
      "Angle of mapbox image: 42.082992713372285\n",
      "Angle of mapbox image: 146.3099324740202\n",
      "Angle of mapbox image: 289.57312583041016\n",
      "Best diff = 2.9170072866277152 with angle 42.082992713372285\n",
      "Angle of segmentation image: 180\n",
      "Angle of mapbox image: 42.082992713372285\n",
      "Angle of mapbox image: 146.3099324740202\n",
      "Angle of mapbox image: 289.57312583041016\n",
      "Best diff = 33.6900675259798 with angle 146.3099324740202\n",
      "Angle of segmentation image: 294.39529595601016\n",
      "Angle of mapbox image: 42.082992713372285\n",
      "Angle of mapbox image: 146.3099324740202\n",
      "Angle of mapbox image: 289.57312583041016\n",
      "Best diff = 4.822170125599996 with angle 289.57312583041016\n",
      "Result = 34.15820408240965\n",
      "Score = 7.910062228498547\n",
      "**************************************************\n",
      "Mapbox image: 50.801701_3.5923755.jpg\n",
      "**************************************************\n",
      "Cropped mapbox image\n",
      "Binary thresholding\n",
      "Isotropic closing of segmentation image\n",
      "Getting intersections in skeleton (more than 2 neighbours)\n",
      "1 intersections found in the skeleton:\n",
      "[(252, 261)]\n",
      "There are intersections in mapbox image 50.801701_3.5923755.jpg\n"
     ]
    },
    {
     "data": {
      "image/png": "[encoded data removed]",
      "text/plain": [
       "<Figure size 640x480 with 1 Axes>"
      ]
     },
     "metadata": {},
     "output_type": "display_data"
    },
    {
     "name": "stdout",
     "output_type": "stream",
     "text": [
      "All x-values are the same\n",
      "Angle is: 90\n"
     ]
    },
    {
     "data": {
      "image/png": "[encoded data removed]",
      "text/plain": [
       "<Figure size 640x480 with 1 Axes>"
      ]
     },
     "metadata": {},
     "output_type": "display_data"
    },
    {
     "name": "stdout",
     "output_type": "stream",
     "text": [
      "Angle is: 200.2892005377698\n"
     ]
    },
    {
     "data": {
      "image/png": "[encoded data removed]",
      "text/plain": [
       "<Figure size 640x480 with 1 Axes>"
      ]
     },
     "metadata": {},
     "output_type": "display_data"
    },
    {
     "name": "stdout",
     "output_type": "stream",
     "text": [
      "Angle is: 3.1221304621157078\n",
      "Descriptors for mapbox image 50.801701_3.5923755.jpg:\n",
      "[[3.1221304621157078, 90, 200.2892005377698]]\n",
      "Number of descriptors: 1\n",
      "Descriptor of segmentation image:\n",
      "[76.04549082686316, 253.42904883308614, 315.0]\n",
      "Descriptor of mapbox image:\n",
      "[3.1221304621157078, 90, 200.2892005377698]\n",
      "Angle of segmentation image: 76.04549082686316\n",
      "Angle of mapbox image: 3.1221304621157078\n",
      "Angle of mapbox image: 90\n",
      "Angle of mapbox image: 200.2892005377698\n",
      "Best diff = 13.954509173136842 with angle 90\n",
      "Angle of segmentation image: 253.42904883308614\n",
      "Angle of mapbox image: 3.1221304621157078\n",
      "Angle of mapbox image: 90\n",
      "Angle of mapbox image: 200.2892005377698\n",
      "Best diff = 53.13984829531634 with angle 200.2892005377698\n",
      "Angle of segmentation image: 315.0\n",
      "Angle of mapbox image: 3.1221304621157078\n",
      "Angle of mapbox image: 90\n",
      "Angle of mapbox image: 200.2892005377698\n",
      "Best diff = 48.122130462115706 with angle 3.1221304621157078\n",
      "Result = 73.03636931916373\n",
      "Descriptor of segmentation image:\n",
      "[45.0, 180, 294.39529595601016]\n",
      "Descriptor of mapbox image:\n",
      "[3.1221304621157078, 90, 200.2892005377698]\n",
      "Angle of segmentation image: 45.0\n",
      "Angle of mapbox image: 3.1221304621157078\n",
      "Angle of mapbox image: 90\n",
      "Angle of mapbox image: 200.2892005377698\n",
      "Best diff = 41.877869537884294 with angle 3.1221304621157078\n",
      "Angle of segmentation image: 180\n",
      "Angle of mapbox image: 3.1221304621157078\n",
      "Angle of mapbox image: 90\n",
      "Angle of mapbox image: 200.2892005377698\n",
      "Best diff = 20.2892005377698 with angle 200.2892005377698\n",
      "Angle of segmentation image: 294.39529595601016\n",
      "Angle of mapbox image: 3.1221304621157078\n",
      "Angle of mapbox image: 90\n",
      "Angle of mapbox image: 200.2892005377698\n",
      "Best diff = 155.60470404398984 with angle 90\n",
      "Result = 162.4137664611949\n",
      "Score = 15.344384503145072\n",
      "**************************************************\n",
      "Mapbox image: 50.8000098_3.5914461.jpg\n",
      "**************************************************\n",
      "Cropped mapbox image\n",
      "Binary thresholding\n",
      "Isotropic closing of segmentation image\n",
      "Getting intersections in skeleton (more than 2 neighbours)\n",
      "4 intersections found in the skeleton:\n",
      "[(152, 284), (251, 258), (268, 488), (303, 243)]\n",
      "There are intersections in mapbox image 50.8000098_3.5914461.jpg\n"
     ]
    },
    {
     "data": {
      "image/png": "[encoded data removed]",
      "text/plain": [
       "<Figure size 640x480 with 1 Axes>"
      ]
     },
     "metadata": {},
     "output_type": "display_data"
    },
    {
     "name": "stdout",
     "output_type": "stream",
     "text": [
      "Angle is: 253.17859010995915\n",
      "Count threshold not reached\n"
     ]
    },
    {
     "data": {
      "image/png": "[encoded data removed]",
      "text/plain": [
       "<Figure size 640x480 with 1 Axes>"
      ]
     },
     "metadata": {},
     "output_type": "display_data"
    },
    {
     "name": "stdout",
     "output_type": "stream",
     "text": [
      "Angle is: 344.7448812969422\n"
     ]
    },
    {
     "data": {
      "image/png": "[encoded data removed]",
      "text/plain": [
       "<Figure size 640x480 with 1 Axes>"
      ]
     },
     "metadata": {},
     "output_type": "display_data"
    },
    {
     "name": "stdout",
     "output_type": "stream",
     "text": [
      "Angle is: 255.16500780574125\n"
     ]
    },
    {
     "data": {
      "image/png": "[encoded data removed]",
      "text/plain": [
       "<Figure size 640x480 with 1 Axes>"
      ]
     },
     "metadata": {},
     "output_type": "display_data"
    },
    {
     "name": "stdout",
     "output_type": "stream",
     "text": [
      "Angle is: 74.35775354279127\n"
     ]
    },
    {
     "data": {
      "image/png": "[encoded data removed]",
      "text/plain": [
       "<Figure size 640x480 with 1 Axes>"
      ]
     },
     "metadata": {},
     "output_type": "display_data"
    },
    {
     "name": "stdout",
     "output_type": "stream",
     "text": [
      "Angle is: 344.7448812969422\n"
     ]
    },
    {
     "data": {
      "image/png": "[encoded data removed]",
      "text/plain": [
       "<Figure size 640x480 with 1 Axes>"
      ]
     },
     "metadata": {},
     "output_type": "display_data"
    },
    {
     "name": "stdout",
     "output_type": "stream",
     "text": [
      "Angle is: 185.53863753279052\n"
     ]
    },
    {
     "data": {
      "image/png": "[encoded data removed]",
      "text/plain": [
       "<Figure size 640x480 with 1 Axes>"
      ]
     },
     "metadata": {},
     "output_type": "display_data"
    },
    {
     "name": "stdout",
     "output_type": "stream",
     "text": [
      "Angle is: 74.05460409907714\n"
     ]
    },
    {
     "data": {
      "image/png": "[encoded data removed]",
      "text/plain": [
       "<Figure size 640x480 with 1 Axes>"
      ]
     },
     "metadata": {},
     "output_type": "display_data"
    },
    {
     "name": "stdout",
     "output_type": "stream",
     "text": [
      "Angle is: 319.68589983950267\n"
     ]
    },
    {
     "data": {
      "image/png": "[encoded data removed]",
      "text/plain": [
       "<Figure size 640x480 with 1 Axes>"
      ]
     },
     "metadata": {},
     "output_type": "display_data"
    },
    {
     "name": "stdout",
     "output_type": "stream",
     "text": [
      "Angle is: 251.7054817280153\n"
     ]
    },
    {
     "data": {
      "image/png": "[encoded data removed]",
      "text/plain": [
       "<Figure size 640x480 with 1 Axes>"
      ]
     },
     "metadata": {},
     "output_type": "display_data"
    },
    {
     "name": "stdout",
     "output_type": "stream",
     "text": [
      "Angle is: 73.05077576617856\n"
     ]
    },
    {
     "data": {
      "image/png": "[encoded data removed]",
      "text/plain": [
       "<Figure size 640x480 with 1 Axes>"
      ]
     },
     "metadata": {},
     "output_type": "display_data"
    },
    {
     "name": "stdout",
     "output_type": "stream",
     "text": [
      "Angle is: 343.4601759987711\n",
      "Descriptors for mapbox image 50.8000098_3.5914461.jpg:\n",
      "[[253.17859010995915, 344.7448812969422], [74.35775354279127, 255.16500780574125, 344.7448812969422], [74.05460409907714, 185.53863753279052, 319.68589983950267], [73.05077576617856, 251.7054817280153, 343.4601759987711]]\n",
      "Number of descriptors: 4\n",
      "Descriptor of segmentation image:\n",
      "[76.04549082686316, 253.42904883308614, 315.0]\n",
      "Descriptor of mapbox image:\n",
      "[253.17859010995915, 344.7448812969422]\n",
      "Descriptor of mapbox image:\n",
      "[74.35775354279127, 255.16500780574125, 344.7448812969422]\n",
      "Angle of segmentation image: 76.04549082686316\n",
      "Angle of mapbox image: 74.35775354279127\n",
      "Angle of mapbox image: 255.16500780574125\n",
      "Angle of mapbox image: 344.7448812969422\n",
      "Best diff = 1.6877372840718863 with angle 74.35775354279127\n",
      "Angle of segmentation image: 253.42904883308614\n",
      "Angle of mapbox image: 74.35775354279127\n",
      "Angle of mapbox image: 255.16500780574125\n",
      "Angle of mapbox image: 344.7448812969422\n",
      "Best diff = 1.7359589726551121 with angle 255.16500780574125\n",
      "Angle of segmentation image: 315.0\n",
      "Angle of mapbox image: 74.35775354279127\n",
      "Angle of mapbox image: 255.16500780574125\n",
      "Angle of mapbox image: 344.7448812969422\n",
      "Best diff = 29.744881296942197 with angle 344.7448812969422\n",
      "Result = 29.843256760346545\n",
      "Descriptor of mapbox image:\n",
      "[74.05460409907714, 185.53863753279052, 319.68589983950267]\n",
      "Angle of segmentation image: 76.04549082686316\n",
      "Angle of mapbox image: 74.05460409907714\n",
      "Angle of mapbox image: 185.53863753279052\n",
      "Angle of mapbox image: 319.68589983950267\n",
      "Best diff = 1.9908867277860196 with angle 74.05460409907714\n",
      "Angle of segmentation image: 253.42904883308614\n",
      "Angle of mapbox image: 74.05460409907714\n",
      "Angle of mapbox image: 185.53863753279052\n",
      "Angle of mapbox image: 319.68589983950267\n",
      "Best diff = 66.25685100641653 with angle 319.68589983950267\n",
      "Angle of segmentation image: 315.0\n",
      "Angle of mapbox image: 74.05460409907714\n",
      "Angle of mapbox image: 185.53863753279052\n",
      "Angle of mapbox image: 319.68589983950267\n",
      "Best diff = 129.46136246720948 with angle 185.53863753279052\n",
      "Result = 145.44476032884634\n",
      "Descriptor of mapbox image:\n",
      "[73.05077576617856, 251.7054817280153, 343.4601759987711]\n",
      "Angle of segmentation image: 76.04549082686316\n",
      "Angle of mapbox image: 73.05077576617856\n",
      "Angle of mapbox image: 251.7054817280153\n",
      "Angle of mapbox image: 343.4601759987711\n",
      "Best diff = 2.994715060684598 with angle 73.05077576617856\n",
      "Angle of segmentation image: 253.42904883308614\n",
      "Angle of mapbox image: 73.05077576617856\n",
      "Angle of mapbox image: 251.7054817280153\n",
      "Angle of mapbox image: 343.4601759987711\n",
      "Best diff = 1.723567105070856 with angle 251.7054817280153\n",
      "Angle of segmentation image: 315.0\n",
      "Angle of mapbox image: 73.05077576617856\n",
      "Angle of mapbox image: 251.7054817280153\n",
      "Angle of mapbox image: 343.4601759987711\n",
      "Best diff = 28.460175998771092 with angle 343.4601759987711\n",
      "Result = 28.669157988008642\n",
      "Descriptor of segmentation image:\n",
      "[45.0, 180, 294.39529595601016]\n",
      "Descriptor of mapbox image:\n",
      "[253.17859010995915, 344.7448812969422]\n",
      "Descriptor of mapbox image:\n",
      "[74.35775354279127, 255.16500780574125, 344.7448812969422]\n",
      "Angle of segmentation image: 45.0\n",
      "Angle of mapbox image: 74.35775354279127\n",
      "Angle of mapbox image: 255.16500780574125\n",
      "Angle of mapbox image: 344.7448812969422\n",
      "Best diff = 29.357753542791272 with angle 74.35775354279127\n",
      "Angle of segmentation image: 180\n",
      "Angle of mapbox image: 74.35775354279127\n",
      "Angle of mapbox image: 255.16500780574125\n",
      "Angle of mapbox image: 344.7448812969422\n",
      "Best diff = 75.16500780574125 with angle 255.16500780574125\n",
      "Angle of segmentation image: 294.39529595601016\n",
      "Angle of mapbox image: 74.35775354279127\n",
      "Angle of mapbox image: 255.16500780574125\n",
      "Angle of mapbox image: 344.7448812969422\n",
      "Best diff = 50.34958534093204 with angle 344.7448812969422\n",
      "Result = 95.11433559416906\n",
      "Descriptor of mapbox image:\n",
      "[74.05460409907714, 185.53863753279052, 319.68589983950267]\n",
      "Angle of segmentation image: 45.0\n",
      "Angle of mapbox image: 74.05460409907714\n",
      "Angle of mapbox image: 185.53863753279052\n",
      "Angle of mapbox image: 319.68589983950267\n",
      "Best diff = 29.05460409907714 with angle 74.05460409907714\n",
      "Angle of segmentation image: 180\n",
      "Angle of mapbox image: 74.05460409907714\n",
      "Angle of mapbox image: 185.53863753279052\n",
      "Angle of mapbox image: 319.68589983950267\n",
      "Best diff = 5.538637532790517 with angle 185.53863753279052\n",
      "Angle of segmentation image: 294.39529595601016\n",
      "Angle of mapbox image: 74.05460409907714\n",
      "Angle of mapbox image: 185.53863753279052\n",
      "Angle of mapbox image: 319.68589983950267\n",
      "Best diff = 25.29060388349251 with angle 319.68589983950267\n",
      "Result = 38.916078552000485\n",
      "Descriptor of mapbox image:\n",
      "[73.05077576617856, 251.7054817280153, 343.4601759987711]\n",
      "Angle of segmentation image: 45.0\n",
      "Angle of mapbox image: 73.05077576617856\n",
      "Angle of mapbox image: 251.7054817280153\n",
      "Angle of mapbox image: 343.4601759987711\n",
      "Best diff = 28.05077576617856 with angle 73.05077576617856\n",
      "Angle of segmentation image: 180\n",
      "Angle of mapbox image: 73.05077576617856\n",
      "Angle of mapbox image: 251.7054817280153\n",
      "Angle of mapbox image: 343.4601759987711\n",
      "Best diff = 71.70548172801529 with angle 251.7054817280153\n",
      "Angle of segmentation image: 294.39529595601016\n",
      "Angle of mapbox image: 73.05077576617856\n",
      "Angle of mapbox image: 251.7054817280153\n",
      "Angle of mapbox image: 343.4601759987711\n",
      "Best diff = 49.06488004276093 with angle 343.4601759987711\n",
      "Result = 91.30106562653955\n",
      "Score = 8.22102405664946\n",
      "**************************************************\n",
      "Mapbox image: 50.8009171_3.5921758.jpg\n",
      "**************************************************\n",
      "Cropped mapbox image\n",
      "Binary thresholding\n",
      "Isotropic closing of segmentation image\n",
      "Getting intersections in skeleton (more than 2 neighbours)\n",
      "4 intersections found in the skeleton:\n",
      "[(251, 254), (268, 268), (377, 138), (377, 146)]\n",
      "There are intersections in mapbox image 50.8009171_3.5921758.jpg\n"
     ]
    },
    {
     "data": {
      "image/png": "[encoded data removed]",
      "text/plain": [
       "<Figure size 640x480 with 1 Axes>"
      ]
     },
     "metadata": {},
     "output_type": "display_data"
    },
    {
     "name": "stdout",
     "output_type": "stream",
     "text": [
      "Angle is: 164.42217422568896\n"
     ]
    },
    {
     "data": {
      "image/png": "[encoded data removed]",
      "text/plain": [
       "<Figure size 640x480 with 1 Axes>"
      ]
     },
     "metadata": {},
     "output_type": "display_data"
    },
    {
     "name": "stdout",
     "output_type": "stream",
     "text": [
      "Angle is: 324.65989307844234\n"
     ]
    },
    {
     "data": {
      "image/png": "[encoded data removed]",
      "text/plain": [
       "<Figure size 640x480 with 1 Axes>"
      ]
     },
     "metadata": {},
     "output_type": "display_data"
    },
    {
     "name": "stdout",
     "output_type": "stream",
     "text": [
      "Angle is: 75.96375653207353\n"
     ]
    },
    {
     "data": {
      "image/png": "[encoded data removed]",
      "text/plain": [
       "<Figure size 640x480 with 1 Axes>"
      ]
     },
     "metadata": {},
     "output_type": "display_data"
    },
    {
     "name": "stdout",
     "output_type": "stream",
     "text": [
      "Angle is: 140.71975752953813\n"
     ]
    },
    {
     "data": {
      "image/png": "[encoded data removed]",
      "text/plain": [
       "<Figure size 640x480 with 1 Axes>"
      ]
     },
     "metadata": {},
     "output_type": "display_data"
    },
    {
     "name": "stdout",
     "output_type": "stream",
     "text": [
      "Angle is: 235.25119875081742\n"
     ]
    },
    {
     "data": {
      "image/png": "[encoded data removed]",
      "text/plain": [
       "<Figure size 640x480 with 1 Axes>"
      ]
     },
     "metadata": {},
     "output_type": "display_data"
    },
    {
     "name": "stdout",
     "output_type": "stream",
     "text": [
      "Angle is: 348.69006752597977\n"
     ]
    },
    {
     "data": {
      "image/png": "[encoded data removed]",
      "text/plain": [
       "<Figure size 640x480 with 1 Axes>"
      ]
     },
     "metadata": {},
     "output_type": "display_data"
    },
    {
     "name": "stdout",
     "output_type": "stream",
     "text": [
      "Angle is: 225.00000000000003\n"
     ]
    },
    {
     "data": {
      "image/png": "[encoded data removed]",
      "text/plain": [
       "<Figure size 640x480 with 1 Axes>"
      ]
     },
     "metadata": {},
     "output_type": "display_data"
    },
    {
     "name": "stdout",
     "output_type": "stream",
     "text": [
      "Angle is: 118.07248693585296\n",
      "Count threshold not reached\n"
     ]
    },
    {
     "data": {
      "image/png": "[encoded data removed]",
      "text/plain": [
       "<Figure size 640x480 with 1 Axes>"
      ]
     },
     "metadata": {},
     "output_type": "display_data"
    },
    {
     "name": "stdout",
     "output_type": "stream",
     "text": [
      "Angle is: 143.22880299642554\n"
     ]
    },
    {
     "data": {
      "image/png": "[encoded data removed]",
      "text/plain": [
       "<Figure size 640x480 with 1 Axes>"
      ]
     },
     "metadata": {},
     "output_type": "display_data"
    },
    {
     "name": "stdout",
     "output_type": "stream",
     "text": [
      "Angle is: 296.9697573188014\n"
     ]
    },
    {
     "data": {
      "image/png": "[encoded data removed]",
      "text/plain": [
       "<Figure size 640x480 with 1 Axes>"
      ]
     },
     "metadata": {},
     "output_type": "display_data"
    },
    {
     "name": "stdout",
     "output_type": "stream",
     "text": [
      "Angle is: 47.56975510495161\n",
      "Descriptors for mapbox image 50.8009171_3.5921758.jpg:\n",
      "[[75.96375653207353, 164.42217422568896, 324.65989307844234], [140.71975752953813, 235.25119875081742, 348.69006752597977], [47.56975510495161, 118.07248693585296, 143.22880299642554, 225.00000000000003, 296.9697573188014]]\n",
      "Number of descriptors: 3\n",
      "Descriptor of segmentation image:\n",
      "[76.04549082686316, 253.42904883308614, 315.0]\n",
      "Descriptor of mapbox image:\n",
      "[75.96375653207353, 164.42217422568896, 324.65989307844234]\n",
      "Angle of segmentation image: 76.04549082686316\n",
      "Angle of mapbox image: 75.96375653207353\n",
      "Angle of mapbox image: 164.42217422568896\n",
      "Angle of mapbox image: 324.65989307844234\n",
      "Best diff = 0.08173429478962646 with angle 75.96375653207353\n",
      "Angle of segmentation image: 253.42904883308614\n",
      "Angle of mapbox image: 75.96375653207353\n",
      "Angle of mapbox image: 164.42217422568896\n",
      "Angle of mapbox image: 324.65989307844234\n",
      "Best diff = 71.2308442453562 with angle 324.65989307844234\n",
      "Angle of segmentation image: 315.0\n",
      "Angle of mapbox image: 75.96375653207353\n",
      "Angle of mapbox image: 164.42217422568896\n",
      "Angle of mapbox image: 324.65989307844234\n",
      "Best diff = 150.57782577431104 with angle 164.42217422568896\n",
      "Result = 166.57587300482598\n",
      "Descriptor of mapbox image:\n",
      "[140.71975752953813, 235.25119875081742, 348.69006752597977]\n",
      "Angle of segmentation image: 76.04549082686316\n",
      "Angle of mapbox image: 140.71975752953813\n",
      "Angle of mapbox image: 235.25119875081742\n",
      "Angle of mapbox image: 348.69006752597977\n",
      "Best diff = 64.67426670267497 with angle 140.71975752953813\n",
      "Angle of segmentation image: 253.42904883308614\n",
      "Angle of mapbox image: 140.71975752953813\n",
      "Angle of mapbox image: 235.25119875081742\n",
      "Angle of mapbox image: 348.69006752597977\n",
      "Best diff = 18.17785008226872 with angle 235.25119875081742\n",
      "Angle of segmentation image: 315.0\n",
      "Angle of mapbox image: 140.71975752953813\n",
      "Angle of mapbox image: 235.25119875081742\n",
      "Angle of mapbox image: 348.69006752597977\n",
      "Best diff = 33.69006752597977 with angle 348.69006752597977\n",
      "Result = 75.1546116818339\n",
      "Descriptor of mapbox image:\n",
      "[47.56975510495161, 118.07248693585296, 143.22880299642554, 225.00000000000003, 296.9697573188014]\n",
      "Angle of segmentation image: 76.04549082686316\n",
      "Angle of mapbox image: 47.56975510495161\n",
      "Angle of mapbox image: 118.07248693585296\n",
      "Angle of mapbox image: 143.22880299642554\n",
      "Angle of mapbox image: 225.00000000000003\n",
      "Angle of mapbox image: 296.9697573188014\n",
      "Best diff = 28.475735721911548 with angle 47.56975510495161\n",
      "Angle of segmentation image: 253.42904883308614\n",
      "Angle of mapbox image: 47.56975510495161\n",
      "Angle of mapbox image: 118.07248693585296\n",
      "Angle of mapbox image: 143.22880299642554\n",
      "Angle of mapbox image: 225.00000000000003\n",
      "Angle of mapbox image: 296.9697573188014\n",
      "Best diff = 28.429048833086114 with angle 225.00000000000003\n",
      "Angle of segmentation image: 315.0\n",
      "Angle of mapbox image: 47.56975510495161\n",
      "Angle of mapbox image: 118.07248693585296\n",
      "Angle of mapbox image: 143.22880299642554\n",
      "Angle of mapbox image: 225.00000000000003\n",
      "Angle of mapbox image: 296.9697573188014\n",
      "Best diff = 18.030242681198615 with angle 296.9697573188014\n",
      "Result = 44.09272041506467\n",
      "Descriptor of segmentation image:\n",
      "[45.0, 180, 294.39529595601016]\n",
      "Descriptor of mapbox image:\n",
      "[75.96375653207353, 164.42217422568896, 324.65989307844234]\n",
      "Angle of segmentation image: 45.0\n",
      "Angle of mapbox image: 75.96375653207353\n",
      "Angle of mapbox image: 164.42217422568896\n",
      "Angle of mapbox image: 324.65989307844234\n",
      "Best diff = 30.963756532073532 with angle 75.96375653207353\n",
      "Angle of segmentation image: 180\n",
      "Angle of mapbox image: 75.96375653207353\n",
      "Angle of mapbox image: 164.42217422568896\n",
      "Angle of mapbox image: 324.65989307844234\n",
      "Best diff = 15.577825774311037 with angle 164.42217422568896\n",
      "Angle of segmentation image: 294.39529595601016\n",
      "Angle of mapbox image: 75.96375653207353\n",
      "Angle of mapbox image: 164.42217422568896\n",
      "Angle of mapbox image: 324.65989307844234\n",
      "Best diff = 30.26459712243218 with angle 324.65989307844234\n",
      "Result = 46.01487491469955\n",
      "Descriptor of mapbox image:\n",
      "[140.71975752953813, 235.25119875081742, 348.69006752597977]\n",
      "Angle of segmentation image: 45.0\n",
      "Angle of mapbox image: 140.71975752953813\n",
      "Angle of mapbox image: 235.25119875081742\n",
      "Angle of mapbox image: 348.69006752597977\n",
      "Best diff = 56.30993247402023 with angle 348.69006752597977\n",
      "Angle of segmentation image: 180\n",
      "Angle of mapbox image: 140.71975752953813\n",
      "Angle of mapbox image: 235.25119875081742\n",
      "Angle of mapbox image: 348.69006752597977\n",
      "Best diff = 39.28024247046187 with angle 140.71975752953813\n",
      "Angle of segmentation image: 294.39529595601016\n",
      "Angle of mapbox image: 140.71975752953813\n",
      "Angle of mapbox image: 235.25119875081742\n",
      "Angle of mapbox image: 348.69006752597977\n",
      "Best diff = 59.144097205192736 with angle 235.25119875081742\n",
      "Result = 90.61881801250932\n",
      "Descriptor of mapbox image:\n",
      "[47.56975510495161, 118.07248693585296, 143.22880299642554, 225.00000000000003, 296.9697573188014]\n",
      "Angle of segmentation image: 45.0\n",
      "Angle of mapbox image: 47.56975510495161\n",
      "Angle of mapbox image: 118.07248693585296\n",
      "Angle of mapbox image: 143.22880299642554\n",
      "Angle of mapbox image: 225.00000000000003\n",
      "Angle of mapbox image: 296.9697573188014\n",
      "Best diff = 2.5697551049516107 with angle 47.56975510495161\n",
      "Angle of segmentation image: 180\n",
      "Angle of mapbox image: 47.56975510495161\n",
      "Angle of mapbox image: 118.07248693585296\n",
      "Angle of mapbox image: 143.22880299642554\n",
      "Angle of mapbox image: 225.00000000000003\n",
      "Angle of mapbox image: 296.9697573188014\n",
      "Best diff = 36.77119700357446 with angle 143.22880299642554\n",
      "Angle of segmentation image: 294.39529595601016\n",
      "Angle of mapbox image: 47.56975510495161\n",
      "Angle of mapbox image: 118.07248693585296\n",
      "Angle of mapbox image: 143.22880299642554\n",
      "Angle of mapbox image: 225.00000000000003\n",
      "Angle of mapbox image: 296.9697573188014\n",
      "Best diff = 2.574461362791226 with angle 296.9697573188014\n",
      "Result = 36.9506755240498\n",
      "Score = 9.002410562683446\n",
      "**************************************************\n",
      "Mapbox image: 50.8002026_3.592017.jpg\n",
      "**************************************************\n",
      "Cropped mapbox image\n",
      "Binary thresholding\n",
      "Isotropic closing of segmentation image\n",
      "Getting intersections in skeleton (more than 2 neighbours)\n",
      "4 intersections found in the skeleton:\n",
      "[(33, 350), (112, 326), (153, 312), (252, 259)]\n",
      "There are intersections in mapbox image 50.8002026_3.592017.jpg\n"
     ]
    },
    {
     "data": {
      "image/png": "[encoded data removed]",
      "text/plain": [
       "<Figure size 640x480 with 1 Axes>"
      ]
     },
     "metadata": {},
     "output_type": "display_data"
    },
    {
     "name": "stdout",
     "output_type": "stream",
     "text": [
      "Angle is: 250.4268741695898\n",
      "Count threshold not reached\n"
     ]
    },
    {
     "data": {
      "image/png": "[encoded data removed]",
      "text/plain": [
       "<Figure size 640x480 with 1 Axes>"
      ]
     },
     "metadata": {},
     "output_type": "display_data"
    },
    {
     "name": "stdout",
     "output_type": "stream",
     "text": [
      "Angle is: 346.04549082686316\n"
     ]
    },
    {
     "data": {
      "image/png": "[encoded data removed]",
      "text/plain": [
       "<Figure size 640x480 with 1 Axes>"
      ]
     },
     "metadata": {},
     "output_type": "display_data"
    },
    {
     "name": "stdout",
     "output_type": "stream",
     "text": [
      "Angle is: 250.4268741695898\n"
     ]
    },
    {
     "data": {
      "image/png": "[encoded data removed]",
      "text/plain": [
       "<Figure size 640x480 with 1 Axes>"
      ]
     },
     "metadata": {},
     "output_type": "display_data"
    },
    {
     "name": "stdout",
     "output_type": "stream",
     "text": [
      "Angle is: 74.35775354279127\n"
     ]
    },
    {
     "data": {
      "image/png": "[encoded data removed]",
      "text/plain": [
       "<Figure size 640x480 with 1 Axes>"
      ]
     },
     "metadata": {},
     "output_type": "display_data"
    },
    {
     "name": "stdout",
     "output_type": "stream",
     "text": [
      "Angle is: 342.82409638425327\n"
     ]
    },
    {
     "data": {
      "image/png": "[encoded data removed]",
      "text/plain": [
       "<Figure size 640x480 with 1 Axes>"
      ]
     },
     "metadata": {},
     "output_type": "display_data"
    },
    {
     "name": "stdout",
     "output_type": "stream",
     "text": [
      "Angle is: 247.01128319791937\n"
     ]
    },
    {
     "data": {
      "image/png": "[encoded data removed]",
      "text/plain": [
       "<Figure size 640x480 with 1 Axes>"
      ]
     },
     "metadata": {},
     "output_type": "display_data"
    },
    {
     "name": "stdout",
     "output_type": "stream",
     "text": [
      "Angle is: 68.19859051364818\n"
     ]
    },
    {
     "data": {
      "image/png": "[encoded data removed]",
      "text/plain": [
       "<Figure size 640x480 with 1 Axes>"
      ]
     },
     "metadata": {},
     "output_type": "display_data"
    },
    {
     "name": "stdout",
     "output_type": "stream",
     "text": [
      "Angle is: 346.7014296695057\n"
     ]
    },
    {
     "data": {
      "image/png": "[encoded data removed]",
      "text/plain": [
       "<Figure size 640x480 with 1 Axes>"
      ]
     },
     "metadata": {},
     "output_type": "display_data"
    },
    {
     "name": "stdout",
     "output_type": "stream",
     "text": [
      "Angle is: 144.37487207825768\n"
     ]
    },
    {
     "data": {
      "image/png": "[encoded data removed]",
      "text/plain": [
       "<Figure size 640x480 with 1 Axes>"
      ]
     },
     "metadata": {},
     "output_type": "display_data"
    },
    {
     "name": "stdout",
     "output_type": "stream",
     "text": [
      "Angle is: 40.51539399045538\n"
     ]
    },
    {
     "data": {
      "image/png": "[encoded data removed]",
      "text/plain": [
       "<Figure size 640x480 with 1 Axes>"
      ]
     },
     "metadata": {},
     "output_type": "display_data"
    },
    {
     "name": "stdout",
     "output_type": "stream",
     "text": [
      "Angle is: 291.8014094863518\n",
      "Descriptors for mapbox image 50.8002026_3.592017.jpg:\n",
      "[[250.4268741695898, 346.04549082686316], [74.35775354279127, 250.4268741695898, 342.82409638425327], [68.19859051364818, 247.01128319791937, 346.7014296695057], [40.51539399045538, 144.37487207825768, 291.8014094863518]]\n",
      "Number of descriptors: 4\n",
      "Descriptor of segmentation image:\n",
      "[76.04549082686316, 253.42904883308614, 315.0]\n",
      "Descriptor of mapbox image:\n",
      "[250.4268741695898, 346.04549082686316]\n",
      "Descriptor of mapbox image:\n",
      "[74.35775354279127, 250.4268741695898, 342.82409638425327]\n",
      "Angle of segmentation image: 76.04549082686316\n",
      "Angle of mapbox image: 74.35775354279127\n",
      "Angle of mapbox image: 250.4268741695898\n",
      "Angle of mapbox image: 342.82409638425327\n",
      "Best diff = 1.6877372840718863 with angle 74.35775354279127\n",
      "Angle of segmentation image: 253.42904883308614\n",
      "Angle of mapbox image: 74.35775354279127\n",
      "Angle of mapbox image: 250.4268741695898\n",
      "Angle of mapbox image: 342.82409638425327\n",
      "Best diff = 3.0021746634963336 with angle 250.4268741695898\n",
      "Angle of segmentation image: 315.0\n",
      "Angle of mapbox image: 74.35775354279127\n",
      "Angle of mapbox image: 250.4268741695898\n",
      "Angle of mapbox image: 342.82409638425327\n",
      "Best diff = 27.824096384253266 with angle 342.82409638425327\n",
      "Result = 28.0364378880485\n",
      "Descriptor of mapbox image:\n",
      "[68.19859051364818, 247.01128319791937, 346.7014296695057]\n",
      "Angle of segmentation image: 76.04549082686316\n",
      "Angle of mapbox image: 68.19859051364818\n",
      "Angle of mapbox image: 247.01128319791937\n",
      "Angle of mapbox image: 346.7014296695057\n",
      "Best diff = 7.846900313214974 with angle 68.19859051364818\n",
      "Angle of segmentation image: 253.42904883308614\n",
      "Angle of mapbox image: 68.19859051364818\n",
      "Angle of mapbox image: 247.01128319791937\n",
      "Angle of mapbox image: 346.7014296695057\n",
      "Best diff = 6.417765635166774 with angle 247.01128319791937\n",
      "Angle of segmentation image: 315.0\n",
      "Angle of mapbox image: 68.19859051364818\n",
      "Angle of mapbox image: 247.01128319791937\n",
      "Angle of mapbox image: 346.7014296695057\n",
      "Best diff = 31.70142966950573 with angle 346.7014296695057\n",
      "Result = 33.282761354251825\n",
      "Descriptor of mapbox image:\n",
      "[40.51539399045538, 144.37487207825768, 291.8014094863518]\n",
      "Angle of segmentation image: 76.04549082686316\n",
      "Angle of mapbox image: 40.51539399045538\n",
      "Angle of mapbox image: 144.37487207825768\n",
      "Angle of mapbox image: 291.8014094863518\n",
      "Best diff = 35.53009683640778 with angle 40.51539399045538\n",
      "Angle of segmentation image: 253.42904883308614\n",
      "Angle of mapbox image: 40.51539399045538\n",
      "Angle of mapbox image: 144.37487207825768\n",
      "Angle of mapbox image: 291.8014094863518\n",
      "Best diff = 38.37236065326567 with angle 291.8014094863518\n",
      "Angle of segmentation image: 315.0\n",
      "Angle of mapbox image: 40.51539399045538\n",
      "Angle of mapbox image: 144.37487207825768\n",
      "Angle of mapbox image: 291.8014094863518\n",
      "Best diff = 170.62512792174232 with angle 144.37487207825768\n",
      "Result = 178.45940748982594\n",
      "Descriptor of segmentation image:\n",
      "[45.0, 180, 294.39529595601016]\n",
      "Descriptor of mapbox image:\n",
      "[250.4268741695898, 346.04549082686316]\n",
      "Descriptor of mapbox image:\n",
      "[74.35775354279127, 250.4268741695898, 342.82409638425327]\n",
      "Angle of segmentation image: 45.0\n",
      "Angle of mapbox image: 74.35775354279127\n",
      "Angle of mapbox image: 250.4268741695898\n",
      "Angle of mapbox image: 342.82409638425327\n",
      "Best diff = 29.357753542791272 with angle 74.35775354279127\n",
      "Angle of segmentation image: 180\n",
      "Angle of mapbox image: 74.35775354279127\n",
      "Angle of mapbox image: 250.4268741695898\n",
      "Angle of mapbox image: 342.82409638425327\n",
      "Best diff = 70.42687416958981 with angle 250.4268741695898\n",
      "Angle of segmentation image: 294.39529595601016\n",
      "Angle of mapbox image: 74.35775354279127\n",
      "Angle of mapbox image: 250.4268741695898\n",
      "Angle of mapbox image: 342.82409638425327\n",
      "Best diff = 48.42880042824311 with angle 342.82409638425327\n",
      "Result = 90.3724018121523\n",
      "Descriptor of mapbox image:\n",
      "[68.19859051364818, 247.01128319791937, 346.7014296695057]\n",
      "Angle of segmentation image: 45.0\n",
      "Angle of mapbox image: 68.19859051364818\n",
      "Angle of mapbox image: 247.01128319791937\n",
      "Angle of mapbox image: 346.7014296695057\n",
      "Best diff = 23.198590513648185 with angle 68.19859051364818\n",
      "Angle of segmentation image: 180\n",
      "Angle of mapbox image: 68.19859051364818\n",
      "Angle of mapbox image: 247.01128319791937\n",
      "Angle of mapbox image: 346.7014296695057\n",
      "Best diff = 67.01128319791937 with angle 247.01128319791937\n",
      "Angle of segmentation image: 294.39529595601016\n",
      "Angle of mapbox image: 68.19859051364818\n",
      "Angle of mapbox image: 247.01128319791937\n",
      "Angle of mapbox image: 346.7014296695057\n",
      "Best diff = 52.30613371349557 with angle 346.7014296695057\n",
      "Result = 88.11707156791898\n",
      "Descriptor of mapbox image:\n",
      "[40.51539399045538, 144.37487207825768, 291.8014094863518]\n",
      "Angle of segmentation image: 45.0\n",
      "Angle of mapbox image: 40.51539399045538\n",
      "Angle of mapbox image: 144.37487207825768\n",
      "Angle of mapbox image: 291.8014094863518\n",
      "Best diff = 4.4846060095446205 with angle 40.51539399045538\n",
      "Angle of segmentation image: 180\n",
      "Angle of mapbox image: 40.51539399045538\n",
      "Angle of mapbox image: 144.37487207825768\n",
      "Angle of mapbox image: 291.8014094863518\n",
      "Best diff = 35.62512792174232 with angle 144.37487207825768\n",
      "Angle of segmentation image: 294.39529595601016\n",
      "Angle of mapbox image: 40.51539399045538\n",
      "Angle of mapbox image: 144.37487207825768\n",
      "Angle of mapbox image: 291.8014094863518\n",
      "Best diff = 2.5938864696583437 with angle 291.8014094863518\n",
      "Result = 35.999856631920416\n",
      "Score = 8.00226808598468\n",
      "**************************************************\n",
      "Mapbox image: 50.8009587_3.5921857.jpg\n",
      "**************************************************\n",
      "Cropped mapbox image\n",
      "Binary thresholding\n",
      "Isotropic closing of segmentation image\n",
      "Getting intersections in skeleton (more than 2 neighbours)\n",
      "4 intersections found in the skeleton:\n",
      "[(241, 232), (257, 247), (369, 122), (369, 128)]\n",
      "There are intersections in mapbox image 50.8009587_3.5921857.jpg\n"
     ]
    },
    {
     "data": {
      "image/png": "[encoded data removed]",
      "text/plain": [
       "<Figure size 640x480 with 1 Axes>"
      ]
     },
     "metadata": {},
     "output_type": "display_data"
    },
    {
     "name": "stdout",
     "output_type": "stream",
     "text": [
      "Angle is: 167.3609375593699\n"
     ]
    },
    {
     "data": {
      "image/png": "[encoded data removed]",
      "text/plain": [
       "<Figure size 640x480 with 1 Axes>"
      ]
     },
     "metadata": {},
     "output_type": "display_data"
    },
    {
     "name": "stdout",
     "output_type": "stream",
     "text": [
      "Angle is: 329.29225507742154\n"
     ]
    },
    {
     "data": {
      "image/png": "[encoded data removed]",
      "text/plain": [
       "<Figure size 640x480 with 1 Axes>"
      ]
     },
     "metadata": {},
     "output_type": "display_data"
    },
    {
     "name": "stdout",
     "output_type": "stream",
     "text": [
      "Angle is: 75.16500780574127\n"
     ]
    },
    {
     "data": {
      "image/png": "[encoded data removed]",
      "text/plain": [
       "<Figure size 640x480 with 1 Axes>"
      ]
     },
     "metadata": {},
     "output_type": "display_data"
    },
    {
     "name": "stdout",
     "output_type": "stream",
     "text": [
      "Angle is: 146.3099324740202\n"
     ]
    },
    {
     "data": {
      "image/png": "[encoded data removed]",
      "text/plain": [
       "<Figure size 640x480 with 1 Axes>"
      ]
     },
     "metadata": {},
     "output_type": "display_data"
    },
    {
     "name": "stdout",
     "output_type": "stream",
     "text": [
      "Angle is: 240.7707807325368\n"
     ]
    },
    {
     "data": {
      "image/png": "[encoded data removed]",
      "text/plain": [
       "<Figure size 640x480 with 1 Axes>"
      ]
     },
     "metadata": {},
     "output_type": "display_data"
    },
    {
     "name": "stdout",
     "output_type": "stream",
     "text": [
      "Angle is: 348.69006752597977\n"
     ]
    },
    {
     "data": {
      "image/png": "[encoded data removed]",
      "text/plain": [
       "<Figure size 640x480 with 1 Axes>"
      ]
     },
     "metadata": {},
     "output_type": "display_data"
    },
    {
     "name": "stdout",
     "output_type": "stream",
     "text": [
      "Angle is: 128.03962624250565\n"
     ]
    },
    {
     "data": {
      "image/png": "[encoded data removed]",
      "text/plain": [
       "<Figure size 640x480 with 1 Axes>"
      ]
     },
     "metadata": {},
     "output_type": "display_data"
    },
    {
     "name": "stdout",
     "output_type": "stream",
     "text": [
      "Angle is: 225.00000000000003\n",
      "Count threshold not reached\n",
      "Count threshold not reached\n"
     ]
    },
    {
     "data": {
      "image/png": "[encoded data removed]",
      "text/plain": [
       "<Figure size 640x480 with 1 Axes>"
      ]
     },
     "metadata": {},
     "output_type": "display_data"
    },
    {
     "name": "stdout",
     "output_type": "stream",
     "text": [
      "Angle is: 45.0\n"
     ]
    },
    {
     "data": {
      "image/png": "[encoded data removed]",
      "text/plain": [
       "<Figure size 640x480 with 1 Axes>"
      ]
     },
     "metadata": {},
     "output_type": "display_data"
    },
    {
     "name": "stdout",
     "output_type": "stream",
     "text": [
      "Angle is: 296.9697573188014\n",
      "Descriptors for mapbox image 50.8009587_3.5921857.jpg:\n",
      "[[75.16500780574127, 167.3609375593699, 329.29225507742154], [146.3099324740202, 240.7707807325368, 348.69006752597977], [45.0, 128.03962624250565, 225.00000000000003, 296.9697573188014]]\n",
      "Number of descriptors: 3\n",
      "Descriptor of segmentation image:\n",
      "[76.04549082686316, 253.42904883308614, 315.0]\n",
      "Descriptor of mapbox image:\n",
      "[75.16500780574127, 167.3609375593699, 329.29225507742154]\n",
      "Angle of segmentation image: 76.04549082686316\n",
      "Angle of mapbox image: 75.16500780574127\n",
      "Angle of mapbox image: 167.3609375593699\n",
      "Angle of mapbox image: 329.29225507742154\n",
      "Best diff = 0.8804830211218899 with angle 75.16500780574127\n",
      "Angle of segmentation image: 253.42904883308614\n",
      "Angle of mapbox image: 75.16500780574127\n",
      "Angle of mapbox image: 167.3609375593699\n",
      "Angle of mapbox image: 329.29225507742154\n",
      "Best diff = 75.8632062443354 with angle 329.29225507742154\n",
      "Angle of segmentation image: 315.0\n",
      "Angle of mapbox image: 75.16500780574127\n",
      "Angle of mapbox image: 167.3609375593699\n",
      "Angle of mapbox image: 329.29225507742154\n",
      "Best diff = 147.6390624406301 with angle 167.3609375593699\n",
      "Result = 165.9918494094494\n",
      "Descriptor of mapbox image:\n",
      "[146.3099324740202, 240.7707807325368, 348.69006752597977]\n",
      "Angle of segmentation image: 76.04549082686316\n",
      "Angle of mapbox image: 146.3099324740202\n",
      "Angle of mapbox image: 240.7707807325368\n",
      "Angle of mapbox image: 348.69006752597977\n",
      "Best diff = 70.26444164715704 with angle 146.3099324740202\n",
      "Angle of segmentation image: 253.42904883308614\n",
      "Angle of mapbox image: 146.3099324740202\n",
      "Angle of mapbox image: 240.7707807325368\n",
      "Angle of mapbox image: 348.69006752597977\n",
      "Best diff = 12.65826810054935 with angle 240.7707807325368\n",
      "Angle of segmentation image: 315.0\n",
      "Angle of mapbox image: 146.3099324740202\n",
      "Angle of mapbox image: 240.7707807325368\n",
      "Angle of mapbox image: 348.69006752597977\n",
      "Best diff = 33.69006752597977 with angle 348.69006752597977\n",
      "Result = 78.94519720158534\n",
      "Descriptor of mapbox image:\n",
      "[45.0, 128.03962624250565, 225.00000000000003, 296.9697573188014]\n",
      "Angle of segmentation image: 76.04549082686316\n",
      "Angle of mapbox image: 45.0\n",
      "Angle of mapbox image: 128.03962624250565\n",
      "Angle of mapbox image: 225.00000000000003\n",
      "Angle of mapbox image: 296.9697573188014\n",
      "Best diff = 31.04549082686316 with angle 45.0\n",
      "Angle of segmentation image: 253.42904883308614\n",
      "Angle of mapbox image: 45.0\n",
      "Angle of mapbox image: 128.03962624250565\n",
      "Angle of mapbox image: 225.00000000000003\n",
      "Angle of mapbox image: 296.9697573188014\n",
      "Best diff = 28.429048833086114 with angle 225.00000000000003\n",
      "Angle of segmentation image: 315.0\n",
      "Angle of mapbox image: 45.0\n",
      "Angle of mapbox image: 128.03962624250565\n",
      "Angle of mapbox image: 225.00000000000003\n",
      "Angle of mapbox image: 296.9697573188014\n",
      "Best diff = 18.030242681198615 with angle 296.9697573188014\n",
      "Result = 45.79435521303642\n",
      "Descriptor of segmentation image:\n",
      "[45.0, 180, 294.39529595601016]\n",
      "Descriptor of mapbox image:\n",
      "[75.16500780574127, 167.3609375593699, 329.29225507742154]\n",
      "Angle of segmentation image: 45.0\n",
      "Angle of mapbox image: 75.16500780574127\n",
      "Angle of mapbox image: 167.3609375593699\n",
      "Angle of mapbox image: 329.29225507742154\n",
      "Best diff = 30.16500780574127 with angle 75.16500780574127\n",
      "Angle of segmentation image: 180\n",
      "Angle of mapbox image: 75.16500780574127\n",
      "Angle of mapbox image: 167.3609375593699\n",
      "Angle of mapbox image: 329.29225507742154\n",
      "Best diff = 12.639062440630113 with angle 167.3609375593699\n",
      "Angle of segmentation image: 294.39529595601016\n",
      "Angle of mapbox image: 75.16500780574127\n",
      "Angle of mapbox image: 167.3609375593699\n",
      "Angle of mapbox image: 329.29225507742154\n",
      "Best diff = 34.896959121411385 with angle 329.29225507742154\n",
      "Result = 47.82751667419119\n",
      "Descriptor of mapbox image:\n",
      "[146.3099324740202, 240.7707807325368, 348.69006752597977]\n",
      "Angle of segmentation image: 45.0\n",
      "Angle of mapbox image: 146.3099324740202\n",
      "Angle of mapbox image: 240.7707807325368\n",
      "Angle of mapbox image: 348.69006752597977\n",
      "Best diff = 56.30993247402023 with angle 348.69006752597977\n",
      "Angle of segmentation image: 180\n",
      "Angle of mapbox image: 146.3099324740202\n",
      "Angle of mapbox image: 240.7707807325368\n",
      "Angle of mapbox image: 348.69006752597977\n",
      "Best diff = 33.6900675259798 with angle 146.3099324740202\n",
      "Angle of segmentation image: 294.39529595601016\n",
      "Angle of mapbox image: 146.3099324740202\n",
      "Angle of mapbox image: 240.7707807325368\n",
      "Angle of mapbox image: 348.69006752597977\n",
      "Best diff = 53.62451522347337 with angle 240.7707807325368\n",
      "Result = 84.74324620927808\n",
      "Descriptor of mapbox image:\n",
      "[45.0, 128.03962624250565, 225.00000000000003, 296.9697573188014]\n",
      "Angle of segmentation image: 45.0\n",
      "Angle of mapbox image: 45.0\n",
      "Angle of mapbox image: 128.03962624250565\n",
      "Angle of mapbox image: 225.00000000000003\n",
      "Angle of mapbox image: 296.9697573188014\n",
      "Best diff = 0.0 with angle 45.0\n",
      "Angle of segmentation image: 180\n",
      "Angle of mapbox image: 45.0\n",
      "Angle of mapbox image: 128.03962624250565\n",
      "Angle of mapbox image: 225.00000000000003\n",
      "Angle of mapbox image: 296.9697573188014\n",
      "Best diff = 45.00000000000003 with angle 225.00000000000003\n",
      "Angle of segmentation image: 294.39529595601016\n",
      "Angle of mapbox image: 45.0\n",
      "Angle of mapbox image: 128.03962624250565\n",
      "Angle of mapbox image: 225.00000000000003\n",
      "Angle of mapbox image: 296.9697573188014\n",
      "Best diff = 2.574461362791226 with angle 296.9697573188014\n",
      "Result = 45.073582632274835\n",
      "Score = 9.532467563297095\n",
      "**************************************************\n",
      "Mapbox image: 50.8037365_3.5944906.jpg\n",
      "**************************************************\n",
      "Cropped mapbox image\n",
      "Binary thresholding\n",
      "Isotropic closing of segmentation image\n",
      "Getting intersections in skeleton (more than 2 neighbours)\n",
      "2 intersections found in the skeleton:\n",
      "[(253, 261), (295, 455)]\n",
      "There are intersections in mapbox image 50.8037365_3.5944906.jpg\n"
     ]
    },
    {
     "data": {
      "image/png": "[encoded data removed]",
      "text/plain": [
       "<Figure size 640x480 with 1 Axes>"
      ]
     },
     "metadata": {},
     "output_type": "display_data"
    },
    {
     "name": "stdout",
     "output_type": "stream",
     "text": [
      "Angle is: 235.07795507138053\n"
     ]
    },
    {
     "data": {
      "image/png": "[encoded data removed]",
      "text/plain": [
       "<Figure size 640x480 with 1 Axes>"
      ]
     },
     "metadata": {},
     "output_type": "display_data"
    },
    {
     "name": "stdout",
     "output_type": "stream",
     "text": [
      "Angle is: 69.62356478616361\n"
     ]
    },
    {
     "data": {
      "image/png": "[encoded data removed]",
      "text/plain": [
       "<Figure size 640x480 with 1 Axes>"
      ]
     },
     "metadata": {},
     "output_type": "display_data"
    },
    {
     "name": "stdout",
     "output_type": "stream",
     "text": [
      "Angle is: 347.3609375593699\n"
     ]
    },
    {
     "data": {
      "image/png": "[encoded data removed]",
      "text/plain": [
       "<Figure size 640x480 with 1 Axes>"
      ]
     },
     "metadata": {},
     "output_type": "display_data"
    },
    {
     "name": "stdout",
     "output_type": "stream",
     "text": [
      "Angle is: 146.07020257793937\n"
     ]
    },
    {
     "data": {
      "image/png": "[encoded data removed]",
      "text/plain": [
       "<Figure size 640x480 with 1 Axes>"
      ]
     },
     "metadata": {},
     "output_type": "display_data"
    },
    {
     "name": "stdout",
     "output_type": "stream",
     "text": [
      "Angle is: 258.69006752597977\n"
     ]
    },
    {
     "data": {
      "image/png": "[encoded data removed]",
      "text/plain": [
       "<Figure size 640x480 with 1 Axes>"
      ]
     },
     "metadata": {},
     "output_type": "display_data"
    },
    {
     "name": "stdout",
     "output_type": "stream",
     "text": [
      "Angle is: 78.69006752597979\n",
      "Descriptors for mapbox image 50.8037365_3.5944906.jpg:\n",
      "[[69.62356478616361, 235.07795507138053, 347.3609375593699], [78.69006752597979, 146.07020257793937, 258.69006752597977]]\n",
      "Number of descriptors: 2\n",
      "Descriptor of segmentation image:\n",
      "[76.04549082686316, 253.42904883308614, 315.0]\n",
      "Descriptor of mapbox image:\n",
      "[69.62356478616361, 235.07795507138053, 347.3609375593699]\n",
      "Angle of segmentation image: 76.04549082686316\n",
      "Angle of mapbox image: 69.62356478616361\n",
      "Angle of mapbox image: 235.07795507138053\n",
      "Angle of mapbox image: 347.3609375593699\n",
      "Best diff = 6.421926040699546 with angle 69.62356478616361\n",
      "Angle of segmentation image: 253.42904883308614\n",
      "Angle of mapbox image: 69.62356478616361\n",
      "Angle of mapbox image: 235.07795507138053\n",
      "Angle of mapbox image: 347.3609375593699\n",
      "Best diff = 18.351093761705613 with angle 235.07795507138053\n",
      "Angle of segmentation image: 315.0\n",
      "Angle of mapbox image: 69.62356478616361\n",
      "Angle of mapbox image: 235.07795507138053\n",
      "Angle of mapbox image: 347.3609375593699\n",
      "Best diff = 32.360937559369916 with angle 347.3609375593699\n",
      "Result = 37.752272197108404\n",
      "Descriptor of mapbox image:\n",
      "[78.69006752597979, 146.07020257793937, 258.69006752597977]\n",
      "Angle of segmentation image: 76.04549082686316\n",
      "Angle of mapbox image: 78.69006752597979\n",
      "Angle of mapbox image: 146.07020257793937\n",
      "Angle of mapbox image: 258.69006752597977\n",
      "Best diff = 2.6445766991166266 with angle 78.69006752597979\n",
      "Angle of segmentation image: 253.42904883308614\n",
      "Angle of mapbox image: 78.69006752597979\n",
      "Angle of mapbox image: 146.07020257793937\n",
      "Angle of mapbox image: 258.69006752597977\n",
      "Best diff = 5.261018692893629 with angle 258.69006752597977\n",
      "Angle of segmentation image: 315.0\n",
      "Angle of mapbox image: 78.69006752597979\n",
      "Angle of mapbox image: 146.07020257793937\n",
      "Angle of mapbox image: 258.69006752597977\n",
      "Best diff = 168.92979742206063 with angle 146.07020257793937\n",
      "Result = 169.03238908760335\n",
      "Descriptor of segmentation image:\n",
      "[45.0, 180, 294.39529595601016]\n",
      "Descriptor of mapbox image:\n",
      "[69.62356478616361, 235.07795507138053, 347.3609375593699]\n",
      "Angle of segmentation image: 45.0\n",
      "Angle of mapbox image: 69.62356478616361\n",
      "Angle of mapbox image: 235.07795507138053\n",
      "Angle of mapbox image: 347.3609375593699\n",
      "Best diff = 24.623564786163612 with angle 69.62356478616361\n",
      "Angle of segmentation image: 180\n",
      "Angle of mapbox image: 69.62356478616361\n",
      "Angle of mapbox image: 235.07795507138053\n",
      "Angle of mapbox image: 347.3609375593699\n",
      "Best diff = 55.07795507138053 with angle 235.07795507138053\n",
      "Angle of segmentation image: 294.39529595601016\n",
      "Angle of mapbox image: 69.62356478616361\n",
      "Angle of mapbox image: 235.07795507138053\n",
      "Angle of mapbox image: 347.3609375593699\n",
      "Best diff = 52.96564160335976 with angle 347.3609375593699\n",
      "Result = 80.28237831603498\n",
      "Descriptor of mapbox image:\n",
      "[78.69006752597979, 146.07020257793937, 258.69006752597977]\n",
      "Angle of segmentation image: 45.0\n",
      "Angle of mapbox image: 78.69006752597979\n",
      "Angle of mapbox image: 146.07020257793937\n",
      "Angle of mapbox image: 258.69006752597977\n",
      "Best diff = 33.690067525979785 with angle 78.69006752597979\n",
      "Angle of segmentation image: 180\n",
      "Angle of mapbox image: 78.69006752597979\n",
      "Angle of mapbox image: 146.07020257793937\n",
      "Angle of mapbox image: 258.69006752597977\n",
      "Best diff = 33.92979742206063 with angle 146.07020257793937\n",
      "Angle of segmentation image: 294.39529595601016\n",
      "Angle of mapbox image: 78.69006752597979\n",
      "Angle of mapbox image: 146.07020257793937\n",
      "Angle of mapbox image: 258.69006752597977\n",
      "Best diff = 35.70522843003039 with angle 258.69006752597977\n",
      "Result = 59.67507972552529\n",
      "Score = 9.870529465162125\n",
      "**************************************************\n",
      "Mapbox image: 50.8035677_3.5949456.jpg\n",
      "**************************************************\n",
      "Cropped mapbox image\n",
      "Binary thresholding\n",
      "Isotropic closing of segmentation image\n",
      "Getting intersections in skeleton (more than 2 neighbours)\n",
      "3 intersections found in the skeleton:\n",
      "[(235, 74), (254, 330), (263, 252)]\n",
      "There are intersections in mapbox image 50.8035677_3.5949456.jpg\n"
     ]
    },
    {
     "data": {
      "image/png": "[encoded data removed]",
      "text/plain": [
       "<Figure size 640x480 with 1 Axes>"
      ]
     },
     "metadata": {},
     "output_type": "display_data"
    },
    {
     "name": "stdout",
     "output_type": "stream",
     "text": [
      "Angle is: 229.34512930106865\n"
     ]
    },
    {
     "data": {
      "image/png": "[encoded data removed]",
      "text/plain": [
       "<Figure size 640x480 with 1 Axes>"
      ]
     },
     "metadata": {},
     "output_type": "display_data"
    },
    {
     "name": "stdout",
     "output_type": "stream",
     "text": [
      "Angle is: 57.63821031939823\n"
     ]
    },
    {
     "data": {
      "image/png": "[encoded data removed]",
      "text/plain": [
       "<Figure size 640x480 with 1 Axes>"
      ]
     },
     "metadata": {},
     "output_type": "display_data"
    },
    {
     "name": "stdout",
     "output_type": "stream",
     "text": [
      "Angle is: 346.37300514010843\n"
     ]
    },
    {
     "data": {
      "image/png": "[encoded data removed]",
      "text/plain": [
       "<Figure size 640x480 with 1 Axes>"
      ]
     },
     "metadata": {},
     "output_type": "display_data"
    },
    {
     "name": "stdout",
     "output_type": "stream",
     "text": [
      "All x-values are the same\n",
      "Angle is: 90\n"
     ]
    },
    {
     "data": {
      "image/png": "[encoded data removed]",
      "text/plain": [
       "<Figure size 640x480 with 1 Axes>"
      ]
     },
     "metadata": {},
     "output_type": "display_data"
    },
    {
     "name": "stdout",
     "output_type": "stream",
     "text": [
      "Angle is: 258.69006752597977\n"
     ]
    },
    {
     "data": {
      "image/png": "[encoded data removed]",
      "text/plain": [
       "<Figure size 640x480 with 1 Axes>"
      ]
     },
     "metadata": {},
     "output_type": "display_data"
    },
    {
     "name": "stdout",
     "output_type": "stream",
     "text": [
      "Angle is: 347.3609375593699\n"
     ]
    },
    {
     "data": {
      "image/png": "[encoded data removed]",
      "text/plain": [
       "<Figure size 640x480 with 1 Axes>"
      ]
     },
     "metadata": {},
     "output_type": "display_data"
    },
    {
     "name": "stdout",
     "output_type": "stream",
     "text": [
      "Angle is: 152.19854122006586\n"
     ]
    },
    {
     "data": {
      "image/png": "[encoded data removed]",
      "text/plain": [
       "<Figure size 640x480 with 1 Axes>"
      ]
     },
     "metadata": {},
     "output_type": "display_data"
    },
    {
     "name": "stdout",
     "output_type": "stream",
     "text": [
      "All x-values are the same\n",
      "Angle is: 270\n"
     ]
    },
    {
     "data": {
      "image/png": "[encoded data removed]",
      "text/plain": [
       "<Figure size 640x480 with 1 Axes>"
      ]
     },
     "metadata": {},
     "output_type": "display_data"
    },
    {
     "name": "stdout",
     "output_type": "stream",
     "text": [
      "Angle is: 74.35775354279127\n",
      "Descriptors for mapbox image 50.8035677_3.5949456.jpg:\n",
      "[[57.63821031939823, 229.34512930106865, 346.37300514010843], [90, 258.69006752597977, 347.3609375593699], [74.35775354279127, 152.19854122006586, 270]]\n",
      "Number of descriptors: 3\n",
      "Descriptor of segmentation image:\n",
      "[76.04549082686316, 253.42904883308614, 315.0]\n",
      "Descriptor of mapbox image:\n",
      "[57.63821031939823, 229.34512930106865, 346.37300514010843]\n",
      "Angle of segmentation image: 76.04549082686316\n",
      "Angle of mapbox image: 57.63821031939823\n",
      "Angle of mapbox image: 229.34512930106865\n",
      "Angle of mapbox image: 346.37300514010843\n",
      "Best diff = 18.407280507464925 with angle 57.63821031939823\n",
      "Angle of segmentation image: 253.42904883308614\n",
      "Angle of mapbox image: 57.63821031939823\n",
      "Angle of mapbox image: 229.34512930106865\n",
      "Angle of mapbox image: 346.37300514010843\n",
      "Best diff = 24.08391953201749 with angle 229.34512930106865\n",
      "Angle of segmentation image: 315.0\n",
      "Angle of mapbox image: 57.63821031939823\n",
      "Angle of mapbox image: 229.34512930106865\n",
      "Angle of mapbox image: 346.37300514010843\n",
      "Best diff = 31.373005140108432 with angle 346.37300514010843\n",
      "Result = 43.624862260257764\n",
      "Descriptor of mapbox image:\n",
      "[90, 258.69006752597977, 347.3609375593699]\n",
      "Angle of segmentation image: 76.04549082686316\n",
      "Angle of mapbox image: 90\n",
      "Angle of mapbox image: 258.69006752597977\n",
      "Angle of mapbox image: 347.3609375593699\n",
      "Best diff = 13.954509173136842 with angle 90\n",
      "Angle of segmentation image: 253.42904883308614\n",
      "Angle of mapbox image: 90\n",
      "Angle of mapbox image: 258.69006752597977\n",
      "Angle of mapbox image: 347.3609375593699\n",
      "Best diff = 5.261018692893629 with angle 258.69006752597977\n",
      "Angle of segmentation image: 315.0\n",
      "Angle of mapbox image: 90\n",
      "Angle of mapbox image: 258.69006752597977\n",
      "Angle of mapbox image: 347.3609375593699\n",
      "Best diff = 32.360937559369916 with angle 347.3609375593699\n",
      "Result = 35.631964914547936\n",
      "Descriptor of mapbox image:\n",
      "[74.35775354279127, 152.19854122006586, 270]\n",
      "Angle of segmentation image: 76.04549082686316\n",
      "Angle of mapbox image: 74.35775354279127\n",
      "Angle of mapbox image: 152.19854122006586\n",
      "Angle of mapbox image: 270\n",
      "Best diff = 1.6877372840718863 with angle 74.35775354279127\n",
      "Angle of segmentation image: 253.42904883308614\n",
      "Angle of mapbox image: 74.35775354279127\n",
      "Angle of mapbox image: 152.19854122006586\n",
      "Angle of mapbox image: 270\n",
      "Best diff = 16.570951166913858 with angle 270\n",
      "Angle of segmentation image: 315.0\n",
      "Angle of mapbox image: 74.35775354279127\n",
      "Angle of mapbox image: 152.19854122006586\n",
      "Angle of mapbox image: 270\n",
      "Best diff = 162.80145877993414 with angle 152.19854122006586\n",
      "Result = 163.65133626277205\n",
      "Descriptor of segmentation image:\n",
      "[45.0, 180, 294.39529595601016]\n",
      "Descriptor of mapbox image:\n",
      "[57.63821031939823, 229.34512930106865, 346.37300514010843]\n",
      "Angle of segmentation image: 45.0\n",
      "Angle of mapbox image: 57.63821031939823\n",
      "Angle of mapbox image: 229.34512930106865\n",
      "Angle of mapbox image: 346.37300514010843\n",
      "Best diff = 12.638210319398233 with angle 57.63821031939823\n",
      "Angle of segmentation image: 180\n",
      "Angle of mapbox image: 57.63821031939823\n",
      "Angle of mapbox image: 229.34512930106865\n",
      "Angle of mapbox image: 346.37300514010843\n",
      "Best diff = 49.34512930106865 with angle 229.34512930106865\n",
      "Angle of segmentation image: 294.39529595601016\n",
      "Angle of mapbox image: 57.63821031939823\n",
      "Angle of mapbox image: 229.34512930106865\n",
      "Angle of mapbox image: 346.37300514010843\n",
      "Best diff = 51.97770918409827 with angle 346.37300514010843\n",
      "Result = 72.77601526494304\n",
      "Descriptor of mapbox image:\n",
      "[90, 258.69006752597977, 347.3609375593699]\n",
      "Angle of segmentation image: 45.0\n",
      "Angle of mapbox image: 90\n",
      "Angle of mapbox image: 258.69006752597977\n",
      "Angle of mapbox image: 347.3609375593699\n",
      "Best diff = 45.0 with angle 90\n",
      "Angle of segmentation image: 180\n",
      "Angle of mapbox image: 90\n",
      "Angle of mapbox image: 258.69006752597977\n",
      "Angle of mapbox image: 347.3609375593699\n",
      "Best diff = 78.69006752597977 with angle 258.69006752597977\n",
      "Angle of segmentation image: 294.39529595601016\n",
      "Angle of mapbox image: 90\n",
      "Angle of mapbox image: 258.69006752597977\n",
      "Angle of mapbox image: 347.3609375593699\n",
      "Best diff = 52.96564160335976 with angle 347.3609375593699\n",
      "Result = 104.98802749694276\n",
      "Descriptor of mapbox image:\n",
      "[74.35775354279127, 152.19854122006586, 270]\n",
      "Angle of segmentation image: 45.0\n",
      "Angle of mapbox image: 74.35775354279127\n",
      "Angle of mapbox image: 152.19854122006586\n",
      "Angle of mapbox image: 270\n",
      "Best diff = 29.357753542791272 with angle 74.35775354279127\n",
      "Angle of segmentation image: 180\n",
      "Angle of mapbox image: 74.35775354279127\n",
      "Angle of mapbox image: 152.19854122006586\n",
      "Angle of mapbox image: 270\n",
      "Best diff = 27.801458779934137 with angle 152.19854122006586\n",
      "Angle of segmentation image: 294.39529595601016\n",
      "Angle of mapbox image: 74.35775354279127\n",
      "Angle of mapbox image: 152.19854122006586\n",
      "Angle of mapbox image: 270\n",
      "Best diff = 24.39529595601016 with angle 270\n",
      "Result = 47.22212689145816\n",
      "Score = 9.102422304310325\n",
      "**************************************************\n",
      "Top 3 results:\n",
      "**************************************************\n",
      "Score = 7.910062228498547 with mapbox image 50.8000803_3.5916233.jpg\n",
      "Score = 8.00226808598468 with mapbox image 50.8002026_3.592017.jpg\n",
      "Score = 8.22102405664946 with mapbox image 50.8000098_3.5914461.jpg\n"
     ]
    }
   ],
   "source": [
    "best_mb_image = None\n",
    "scores = dict()\n",
    "visualize = False \n",
    "\n",
    "for mb_image in os.listdir(mapbox_imgs_dir_path) : \n",
    "    best_results = []\n",
    "    mb_image_path = os.path.join(mapbox_imgs_dir_path, mb_image)\n",
    "    print(50*\"*\")\n",
    "    print(f\"Mapbox image: {mb_image}\")\n",
    "    print(50*\"*\")\n",
    "    mb_image_bgr = cv2.imread(mb_image_path)\n",
    "    if visualize : \n",
    "        plot_image(mb_image_bgr)\n",
    "    des = find_descriptors_in_mapbox_image(mb_image_path, mb_image, vis=visualize)\n",
    "    print(f\"Descriptors for mapbox image {mb_image}:\")\n",
    "    print(des)\n",
    "\n",
    "    # matching process\n",
    "    if des is not None and segm_img_des is not None :\n",
    "        print(f\"Number of descriptors: {len(des)}\")\n",
    "        for des_segm in segm_img_des :\n",
    "            best_result_per_des = 1000 # best descriptor match for descriptor des_segm of segmentation image\n",
    "            print(f\"Descriptor of segmentation image:\")\n",
    "            print(des_segm)\n",
    "            for des_mb in des :\n",
    "                print(f\"Descriptor of mapbox image:\")\n",
    "                print(des_mb)\n",
    "\n",
    "                if len(des_mb) < len(des_segm) : \n",
    "                    continue\n",
    "\n",
    "                result = 0\n",
    "                processed_angles = []\n",
    "                for angle_des_segm in des_segm :\n",
    "                    print(f\"Angle of segmentation image: {angle_des_segm}\") \n",
    "                    best_diff = 1000\n",
    "                    for angle_des_mb in des_mb :\n",
    "                        print(f\"Angle of mapbox image: {angle_des_mb}\")\n",
    "                        if angle_des_mb in processed_angles : \n",
    "                            continue\n",
    "                        diff = min(abs(angle_des_segm-angle_des_mb), abs((angle_des_segm+360)-angle_des_mb), abs((angle_des_mb+360)-angle_des_segm))\n",
    "                        if diff < best_diff :\n",
    "                            best_diff = diff\n",
    "                            best_angle_des_mb = angle_des_mb\n",
    "                    \n",
    "                    print(f\"Best diff = {best_diff} with angle {best_angle_des_mb}\")\n",
    "                    processed_angles.append(best_angle_des_mb)\n",
    "                    result += best_diff**2\n",
    "                \n",
    "                \n",
    "                result = math.sqrt(result)\n",
    "                print(f\"Result = {result}\")\n",
    "            \n",
    "                if result < best_result_per_des :\n",
    "                    best_result_per_des = result\n",
    "\n",
    "            best_results.append(best_result_per_des)\n",
    "        \n",
    "        score =  math.sqrt(np.sum(best_results))\n",
    "        print(f\"Score = {score}\")\n",
    "        \n",
    "        # make sure there is at least one best result that is below the threshold \n",
    "        threshold = 40\n",
    "\n",
    "        # If at least one result is below the threshold, add the score to the dictionary\n",
    "        # if any(result < threshold for result in best_results) :\n",
    "        #   print(f\"At least one result is below the threshold, add the score to the dictionary for mapbox image {mb_image}\")\n",
    "        #   scores[mb_image] = score\n",
    "        scores[mb_image] = score\n",
    "    else:\n",
    "        continue\n",
    "\n",
    "\n",
    "# Get the lowest three values using sorted() and dictionary items()\n",
    "lowest_values = sorted(scores.values())[:3]\n",
    "print(50*\"*\")\n",
    "print(\"Top 3 results:\")\n",
    "print(50*\"*\")\n",
    "for value in lowest_values:\n",
    "    # For each value, get the corresponding key\n",
    "    for key in scores.keys():\n",
    "        if scores[key] == value:\n",
    "            print(f\"Score = {value} with mapbox image {key}\")"
   ]
  }
 ],
 "metadata": {
  "kernelspec": {
   "display_name": ".venv",
   "language": "python",
   "name": "python3"
  },
  "language_info": {
   "codemirror_mode": {
    "name": "ipython",
    "version": 3
   },
   "file_extension": ".py",
   "mimetype": "text/x-python",
   "name": "python",
   "nbconvert_exporter": "python",
   "pygments_lexer": "ipython3",
   "version": "3.10.11"
  },
  "orig_nbformat": 4
 },
 "nbformat": 4,
 "nbformat_minor": 2
}
