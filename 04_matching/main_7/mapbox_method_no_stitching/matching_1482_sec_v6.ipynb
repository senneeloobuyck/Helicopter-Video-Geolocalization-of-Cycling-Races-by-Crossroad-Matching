{
 "cells": [
  {
   "cell_type": "code",
   "execution_count": 12,
   "metadata": {},
   "outputs": [],
   "source": [
    "import os \n",
    "import sys\n",
    "import numpy as np\n",
    "import pandas as pd\n",
    "import matplotlib.pyplot as plt\n",
    "import math\n",
    "import requests\n",
    "import cv2 \n",
    "from numpy.polynomial import Polynomial\n",
    "from skimage.morphology import skeletonize, binary_closing, square, binary_erosion, binary_dilation, medial_axis, thin, disk, convex_hull_image, diamond, star, isotropic_closing, remove_small_objects\n",
    "from skimage.filters import threshold_otsu\n",
    "import json"
   ]
  },
  {
   "cell_type": "code",
   "execution_count": 13,
   "metadata": {},
   "outputs": [],
   "source": [
    "sem_segm_img_path = \"/Users/senneloobuyck/Documents/Thesis_project/04_matching/main_7/picked_masks/2023_RVV_1_mask_1482.jpg\"\n",
    "mapbox_imgs_dir_path = \"/Users/senneloobuyck/Documents/Thesis_project/04_matching/main_7/mapbox_method_no_stitching/mapbox_images_for_frame_1482_RVV1\"\n",
    "heli_lat = 50.820577\n",
    "heli_lon = 3.602197\n",
    "altitude = 143.98"
   ]
  },
  {
   "cell_type": "code",
   "execution_count": 14,
   "metadata": {},
   "outputs": [],
   "source": [
    "def plot_image(img):\n",
    "    plt.figure(figsize=(20,10))\n",
    "    plt.imshow(cv2.cvtColor(img, cv2.COLOR_BGR2RGB))\n",
    "    plt.show()"
   ]
  },
  {
   "cell_type": "code",
   "execution_count": 15,
   "metadata": {},
   "outputs": [],
   "source": [
    "def plot_patch(img, center_pixel, patch_size) : \n",
    "    # Calculate the patch boundaries\n",
    "    top = center_pixel[0] - patch_size // 2\n",
    "    bottom = top + patch_size\n",
    "    left = center_pixel[1] - patch_size // 2\n",
    "    right = left + patch_size\n",
    "\n",
    "    # Ensure the patch boundaries stay within the image dimensions\n",
    "    if top < 0:\n",
    "        top = 0\n",
    "    if bottom > img.shape[0]:\n",
    "        bottom = img.shape[0]\n",
    "    if left < 0:\n",
    "        left = 0\n",
    "    if right > img.shape[1]:\n",
    "        right = img.shape[1]\n",
    "\n",
    "    # Extract the patch from the image\n",
    "    patch = img[top:bottom, left:right]\n",
    "\n",
    "    # Plot the patch\n",
    "    plt.imshow(cv2.cvtColor(patch, cv2.COLOR_BGR2RGB))  # Assuming the image is grayscale\n",
    "    plt.axis('off')  # Hide axes\n",
    "    plt.show()"
   ]
  },
  {
   "cell_type": "code",
   "execution_count": 16,
   "metadata": {},
   "outputs": [],
   "source": [
    "def calculate_bearing(lat1, long1, lat2, long2) : \n",
    "    lat1 = math.radians(lat1)\n",
    "    long1 = math.radians(long1)\n",
    "    lat2 = math.radians(lat2)\n",
    "    long2 = math.radians(long2)\n",
    "\n",
    "    d_long = long2 - long1\n",
    "\n",
    "    y = math.sin(d_long) * math.cos(lat2)\n",
    "    x = math.cos(lat1) * math.sin(lat2) - math.sin(lat1) * math.cos(lat2) * math.cos(d_long)\n",
    "\n",
    "    brng = math.atan2(y, x)\n",
    "\n",
    "    brng = math.degrees(brng)\n",
    "    brng = (brng + 360) % 360\n",
    "    # brng = 360 - brng # count degrees clockwise - remove to make counter-clockwise\n",
    "    return brng"
   ]
  },
  {
   "cell_type": "code",
   "execution_count": 17,
   "metadata": {},
   "outputs": [],
   "source": [
    "def haversine(lat1, lon1, lat2, lon2) : \n",
    "    R = 6371\n",
    "    d_lat = math.radians(lat2 - lat1)\n",
    "    d_lon = math.radians(lon2 - lon1)\n",
    "    lat1 = math.radians(lat1)\n",
    "    lat2 = math.radians(lat2)\n",
    "    a = math.sin(d_lat/2)**2 + math.cos(lat1) * math.cos(lat2) * math.sin(d_lon/2)**2\n",
    "    c = 2 * math.atan2(math.sqrt(a), math.sqrt(1 - a))\n",
    "    d = R * c * 1000\n",
    "    return d"
   ]
  },
  {
   "cell_type": "code",
   "execution_count": 18,
   "metadata": {},
   "outputs": [],
   "source": [
    "# calculate pitch/tilt\n",
    "def calculate_pitch(heli_lat, heli_lon, intersec_lat, intersec_lon, alt) : \n",
    "    dist = haversine(heli_lat, heli_lon, intersec_lat, intersec_lon)\n",
    "\n",
    "    # result = heli_df[(heli_df['lat'] == heli_lat) & (heli_df['lng'] == heli_lon)]\n",
    "    # if not result.empty:\n",
    "    #    altitude = result.iloc[0]['alt']\n",
    "\n",
    "    print(f\"Distance: {dist}\")\n",
    "    print(f\"Altitude: {alt}\")\n",
    "\n",
    "    alpha_radian = math.atan2(alt, dist)\n",
    "    alpha_degrees = alpha_radian * (180.0 / math.pi)\n",
    "    pitch = 90 - alpha_degrees\n",
    "    return pitch "
   ]
  },
  {
   "cell_type": "code",
   "execution_count": 19,
   "metadata": {},
   "outputs": [],
   "source": [
    "def get_mapbox_intersection_image(lat, lon, bearing, tilt) : \n",
    "    if tilt > 60 :\n",
    "        tilt = 60\n",
    "    zoom = 18\n",
    "    width = 512\n",
    "    height = 512\n",
    "    access_token = \"pk.eyJ1Ijoic2VubmVsb29idXljayIsImEiOiJjbG1zeDVreHowZmw5Mm1xY2lxeTFtYTB2In0.ymj-xZAfeeivbksi1PJttw\" \n",
    "    styles_url = \"mapbox://styles/senneloobuyck/cllcojw8d00wy01pb6rqcdmm5\"\n",
    "\n",
    "    style_code = styles_url.split('/')[-1]\n",
    "\n",
    "    url = f\"https://api.mapbox.com/styles/v1/senneloobuyck/{style_code}/static/{str(lon)},{str(lat)},{str(zoom)},{str(bearing)},{str(tilt)}/{str(width)}x{str(height)}?access_token={access_token}\"\n",
    "\n",
    "    response = requests.get(url)\n",
    "\n",
    "    if response.status_code == 200:\n",
    "        with open(f\"{lat}_{lon}.jpg\", \"wb\") as f:\n",
    "            f.write(response.content)\n",
    "        print(f\"Image saved as {lat}_{lon}.jpg\")\n",
    "    else:\n",
    "        print(\"Failed to retrieve image for intersection lat = \" + str(lat) + \", lon = \" + str(lon))\n",
    "        print(response.text[:100])"
   ]
  },
  {
   "cell_type": "code",
   "execution_count": 20,
   "metadata": {},
   "outputs": [],
   "source": [
    "def get_intersection_coordinates(lat, lon) : \n",
    "    # some lists and dataframes to store the data\n",
    "    nodes = []\n",
    "    intersection_nodes = []\n",
    "    df_nodes = pd.DataFrame(columns=['id', 'lat', 'lon'])\n",
    "    df_intersections = pd.DataFrame(columns=['lat', 'lon'])\n",
    "\n",
    "    overpass_url = \"http://overpass-api.de/api/interpreter\"\n",
    "\n",
    "\n",
    "    # first get the ways around the point \n",
    "    # .w is a temporary variable that stores the result of the first query\n",
    "    # node(way_cnt:2-);   // select those nodes that are members of two or more of the given ways\n",
    "    overpass_query = f\"\"\"[out:json];\n",
    "                        way(around: 300, {lat},{lon})[\"highway\"~\"(motorway|trunk|primary|secondary|tertiary|unclassified|residential|motorway_link|trunk_link|primary_link|secondary_link|tertiary_link|living_street|service|pedestrian)\"]->.w;\n",
    "                        node(way_cnt.w:2-);  \n",
    "                        out;\"\"\"\n",
    "\n",
    "    response = requests.get(overpass_url, params={'data': overpass_query})\n",
    "\n",
    "    # print(response.json()['elements'])\n",
    "\n",
    "    for item in response.json()['elements']:\n",
    "        df_intersections.loc[len(df_intersections)] = {'lat': item['lat'], 'lon': item['lon']}\n",
    "\n",
    "\n",
    "    # print(df_intersections)\n",
    "    return df_intersections"
   ]
  },
  {
   "cell_type": "code",
   "execution_count": 21,
   "metadata": {},
   "outputs": [
    {
     "name": "stdout",
     "output_type": "stream",
     "text": [
      "Intersection: 50.8224194,3.6036744\n",
      "Bearing = 26.86547340085309\n",
      "Distance: 229.6530189766899\n",
      "Altitude: 143.98\n",
      "Pitch = 57.91451632368099\n",
      "Intersection: 50.8224207,3.6038774\n",
      "Bearing = 29.93200644284707\n",
      "Distance: 236.5648909606438\n",
      "Altitude: 143.98\n",
      "Pitch = 58.674138403147516\n",
      "Intersection: 50.8224098,3.6035905\n",
      "Bearing = 25.65529353269426\n",
      "Distance: 226.08782533988915\n",
      "Altitude: 143.98\n",
      "Pitch = 57.5097045164931\n"
     ]
    }
   ],
   "source": [
    "df_intersections = get_intersection_coordinates(heli_lat, heli_lon)\n",
    "\n",
    "# read in csv file with heli coordinates\n",
    "heli_path = \"/Users/senneloobuyck/Documents/Thesis_project/01_inputs/csv-files/2023 Ronde van Vlaanderen 1 heli.csv\"\n",
    "heli_df = pd.read_csv(heli_path)\n",
    "heli_df['lat'] = heli_df.apply(lambda row: float(row['lat']) * 1 if row['NS'] == 'N' else float(row['lat']) * (-1), axis=1)\n",
    "heli_df['lng'] = heli_df.apply(lambda row: float(row['lng']) * 1 if row['EW'] == 'E' else float(row['lng']) * (-1), axis=1)\n",
    "heli_df = heli_df[['lat', 'lng', 'alt', 'seconds_from_start']]\n",
    "\n",
    "for index, row in df_intersections.iterrows() : \n",
    "    print(f\"Intersection: {row['lat']},{row['lon']}\")\n",
    "    bearing = calculate_bearing(heli_lat, heli_lon, row['lat'], row['lon'])\n",
    "    print(f\"Bearing = {bearing}\")\n",
    "    pitch = calculate_pitch(heli_lat, heli_lon, row['lat'], row['lon'], alt=altitude)\n",
    "    print(f\"Pitch = {pitch}\")\n",
    "    # get_mapbox_intersection_image(row['lat'], row['lon'], bearing, pitch)"
   ]
  },
  {
   "cell_type": "code",
   "execution_count": 22,
   "metadata": {},
   "outputs": [],
   "source": [
    "def get_skeleton(mask_bgr, contour) : \n",
    "    print(\"Getting the skeleton\")\n",
    "\n",
    "    mask_gray = cv2.cvtColor(mask_bgr, cv2.COLOR_BGR2GRAY)\n",
    "\n",
    "    # draw contour in white on black background\n",
    "    contour_mask_gray = np.zeros_like(mask_gray)\n",
    "    cv2.drawContours(contour_mask_gray, [contour], -1, 255, -1)\n",
    "\n",
    "    ret, contour_mask_thresh_gray = cv2.threshold(contour_mask_gray, 127, 255, cv2.THRESH_BINARY)\n",
    "    contour_mask_thresh_bgr = cv2.cvtColor(contour_mask_thresh_gray, cv2.COLOR_GRAY2BGR)\n",
    "    # plot_image(contour_mask_thresh_bgr)\n",
    "\n",
    "    \n",
    "    # To avoid the precision loss when converting the image to bool, \n",
    "    # you can also binarize the image using one of the available thresholding algorithms\n",
    "    thresh_otsu = threshold_otsu(contour_mask_thresh_gray)\n",
    "    contour_mask_thresh_gray = contour_mask_thresh_gray > thresh_otsu\n",
    "    \n",
    "    # skeletonize\n",
    "    # skeleton_gray = (skeletonize(contour_mask_gray)).astype(np.uint8)\n",
    "    skeleton_gray = skeletonize(contour_mask_thresh_gray, method='lee').astype(np.uint8)\n",
    "\n",
    "    # np.set_printoptions(threshold=np.inf)\n",
    "    # print(\"Skeleton image values:\")\n",
    "    # print(skeleton_gray)\n",
    "\n",
    "\n",
    "    # plt.figure(figsize=(20,10))\n",
    "    # plt.imshow(skeleton_gray, cmap='gray', interpolation='nearest')\n",
    "    # plt.show()\n",
    "\n",
    "    skeleton_bgr = cv2.cvtColor(skeleton_gray, cv2.COLOR_GRAY2BGR)\n",
    "\n",
    "    return skeleton_bgr\n",
    "            "
   ]
  },
  {
   "cell_type": "code",
   "execution_count": 23,
   "metadata": {},
   "outputs": [],
   "source": [
    "def is_valid_intersection(neighbourhood_patch) : \n",
    "    # A list of valid intersections             \n",
    "    # These are in the format (clockwise order)\n",
    "    # 2 3 4\n",
    "    # 1 C 5\n",
    "    # 8 7 6 \n",
    "    validIntersection = [[0,1,0,1,0,0,1,0],[0,0,1,0,1,0,0,1],[1,0,0,1,0,1,0,0],\n",
    "                         [0,1,0,0,1,0,1,0],[0,0,1,0,0,1,0,1],[1,0,0,1,0,0,1,0],\n",
    "                         [0,1,0,0,1,0,0,1],[1,0,1,0,0,1,0,0],[0,1,0,0,0,1,0,1],\n",
    "                         [0,1,0,1,0,0,0,1],[0,1,0,1,0,1,0,0],[0,0,0,1,0,1,0,1],\n",
    "                         [1,0,1,0,0,0,1,0],[1,0,1,0,1,0,0,0],[0,0,1,0,1,0,1,0],\n",
    "                         [1,0,0,0,1,0,1,0],[1,0,0,1,1,1,0,0],[0,0,1,0,0,1,1,1],\n",
    "                         [1,1,0,0,1,0,0,1],[0,1,1,1,0,0,1,0],[1,0,1,1,0,0,1,0],\n",
    "                         [1,0,1,0,0,1,1,0],[1,0,1,1,0,1,1,0],[0,1,1,0,1,0,1,1],\n",
    "                         [1,1,0,1,1,0,1,0],[1,1,0,0,1,0,1,0],[0,1,1,0,1,0,1,0],\n",
    "                         [0,0,1,0,1,0,1,1],[1,0,0,1,1,0,1,0],[1,0,1,0,1,1,0,1],\n",
    "                         [1,0,1,0,1,1,0,0],[1,0,1,0,1,0,0,1],[0,1,0,0,1,0,1,1],\n",
    "                         [0,1,1,0,1,0,0,1],[1,1,0,1,0,0,1,0],[0,1,0,1,1,0,1,0],\n",
    "                         [0,0,1,0,1,1,0,1],[1,0,1,0,0,1,0,1],[1,0,0,1,0,1,1,0],\n",
    "                         [1,0,1,1,0,1,0,0]]\n",
    "    \n",
    "    if neighbourhood_patch in validIntersection : \n",
    "        return True\n",
    "    else : \n",
    "        return False"
   ]
  },
  {
   "cell_type": "code",
   "execution_count": 24,
   "metadata": {},
   "outputs": [],
   "source": [
    "def get_skeleton_intersection(skeleton):\n",
    "    \"\"\" Given a skeletonised image, it will give the coordinates of the intersections of the skeleton\"\"\"\n",
    "    print(\"Getting intersections in skeleton (more than 2 neighbours)\")\n",
    "    skeleton_gray = cv2.cvtColor(skeleton, cv2.COLOR_BGR2GRAY)\n",
    "    image = skeleton_gray.copy()\n",
    "    image = image/255\n",
    "    intersections = []\n",
    "    for y in range(1,len(image)-1):\n",
    "        for x in range(1,len(image[y])-1):\n",
    "            # if we have a white pixel\n",
    "            if image[y][x] == 1:\n",
    "                neighbourhood_patch = [image[y][x-1], image[y-1][x-1], image[y-1][x], image[y-1][x+1], image[y][x+1], image[y+1][x+1], image[y+1][x], image[y+1][x-1]]\n",
    "                if is_valid_intersection(neighbourhood_patch):\n",
    "                    intersections.append((y,x))\n",
    "    # Filter intersections to make sure we don't count them twice or ones that are very close together\n",
    "    # for point1 in intersections:\n",
    "    #     for point2 in intersections:\n",
    "    #         if (((point1[0] - point2[0])**2 + (point1[1] - point2[1])**2) < 10**2) and (point1 != point2):\n",
    "    #             intersections.remove(point2)\n",
    "    # Remove duplicates\n",
    "    return intersections\n"
   ]
  },
  {
   "cell_type": "code",
   "execution_count": 25,
   "metadata": {},
   "outputs": [],
   "source": [
    "def get_neighbour_pixels(skel_contour_bgr, intersec) : \n",
    "    \n",
    "    # print(f\"Getting neighbour pixels for pixel {intersec}\")\n",
    "    \n",
    "    skel_contour_bgr_copy = skel_contour_bgr.copy()\n",
    "    \n",
    "    # converting to grayscale gives false values\n",
    "    # skel_contour_gray = cv2.cvtColor(skel_contour_bgr, cv2.COLOR_BGR2GRAY)\n",
    "\n",
    "    # plot_patch(skel_contour_bgr_copy, intersec, 7)\n",
    "\n",
    "\n",
    "    # Calculate neighbour pixels that define the roads that intersect (in patch values)\n",
    "    road_neighbour_pixels = []\n",
    "    for x in range(-1,2):\n",
    "        for y in range(-1,2):\n",
    "            pixel_color = skel_contour_bgr[intersec[0] + y, intersec[1] + x]\n",
    "            # print(f\"Pixel color = {pixel_color}\")\n",
    "            if np.all(pixel_color == np.array([255, 255, 255])) and (x != 0 or y != 0):\n",
    "                road_neighbour_pixels.append((intersec[0]+y, intersec[1]+x))\n",
    "                skel_contour_bgr_copy[intersec[0]+y, intersec[1]+x] = (0,0,255)\n",
    "                # print(f\"Neighbour pixel for pixel {intersec} within image: {intersec[0]+y}, {intersec[1]+x}\")\n",
    "\n",
    "    # plot_patch(skel_contour_bgr_copy, intersec, 7)\n",
    "\n",
    "    return road_neighbour_pixels"
   ]
  },
  {
   "cell_type": "code",
   "execution_count": 26,
   "metadata": {},
   "outputs": [],
   "source": [
    "def get_descriptors(skeleton_bgr, intersections, visualize=False) : \n",
    "    skeleton_gray = cv2.cvtColor(skeleton_bgr, cv2.COLOR_BGR2GRAY)\n",
    "\n",
    "    dict_angles = {}\n",
    "    dict_other_intersecs = {}\n",
    "    descriptors = []\n",
    "\n",
    "    skeleton_gray = cv2.cvtColor(skeleton_bgr, cv2.COLOR_BGR2GRAY)\n",
    "    image = skeleton_gray.copy()\n",
    "    image = image/255\n",
    "\n",
    "    for intersection_pixel in intersections :\n",
    "        dict_angles[intersection_pixel] = []\n",
    "        dict_other_intersecs[intersection_pixel] = []\n",
    "        # print(f\"Getting neighbour pixels for intersection pixel {intersection_pixel}\")\n",
    "        neighbour_road_pixels = get_neighbour_pixels(skeleton_bgr, intersection_pixel)\n",
    "        # print(f\"Neighbour pixels: {neighbour_road_pixels}\")\n",
    "\n",
    "        for neighbour_pixel in neighbour_road_pixels :\n",
    "            processed_pixels = [intersection_pixel] + neighbour_road_pixels\n",
    "            road_pixels = []\n",
    "            end_for_intersec_neighbour_pixel = False\n",
    "            reference_pixel = neighbour_pixel\n",
    "            count = 0\n",
    "            count_treshold = 12\n",
    "            skip_count_threshold = 2\n",
    "            \n",
    "            while count < count_treshold :\n",
    "                # print(f\"Getting new neighbour pixels for reference pixel {reference_pixel}\")\n",
    "                new_neighbour_pixels = get_neighbour_pixels(skeleton_bgr, reference_pixel)\n",
    "                # print(f\"New neighbour pixels: {new_neighbour_pixels}\")\n",
    "\n",
    "\n",
    "                new_neighbours_not_processed = [pixel for pixel in new_neighbour_pixels if pixel not in processed_pixels]\n",
    "                if len(new_neighbours_not_processed) > 0 :\n",
    "                    new_neighbour_pixel = new_neighbours_not_processed[0]\n",
    "                    y, x = new_neighbour_pixel\n",
    "                    new_neighbour_patch = [image[y][x-1], image[y-1][x-1], image[y-1][x], image[y-1][x+1], image[y][x+1], image[y+1][x+1], image[y+1][x], image[y+1][x-1]]\n",
    "                    if is_valid_intersection(new_neighbour_patch) : \n",
    "                        # print(f\"New neighbour pixel: {new_neighbour_pixel} is a valid intersection, end for this intersection pixel\")\n",
    "                        dict_other_intersecs[intersection_pixel].append(new_neighbour_pixel)\n",
    "                        end_for_intersec_neighbour_pixel = True\n",
    "                        break\n",
    "                    else : \n",
    "                        processed_pixels.append(new_neighbour_pixel)\n",
    "                        reference_pixel = new_neighbour_pixel\n",
    "\n",
    "                    if count >= skip_count_threshold : \n",
    "                        if count == skip_count_threshold :\n",
    "                            # print(\"Skip count threshold reached\")\n",
    "                            first_road_pixel = new_neighbour_pixel\n",
    "                        if count == skip_count_threshold + 1 : \n",
    "                            second_road_pixel = new_neighbour_pixel\n",
    "                        road_pixels.append(new_neighbour_pixel)\n",
    "                else : \n",
    "                    # print(\"No new neighbour pixels found, end for this intersection pixel\")\n",
    "                    end_for_intersec_neighbour_pixel = True\n",
    "                    break\n",
    "                \n",
    "                if end_for_intersec_neighbour_pixel is False :\n",
    "                    count += 1\n",
    "                else : \n",
    "                    break\n",
    "            \n",
    "            if count == count_treshold :\n",
    "                # print(\"Count threshold reached\")\n",
    "\n",
    "                skeleton_bgr_copy = skeleton_bgr.copy()\n",
    "\n",
    "                skeleton_bgr_copy[first_road_pixel[0], first_road_pixel[1]] = [0,0,255]\n",
    "                skeleton_bgr_copy[second_road_pixel[0], second_road_pixel[1]] = [0,255,0]\n",
    "                # all the other road pixels in blue \n",
    "                for pixel in road_pixels :\n",
    "                    if pixel != first_road_pixel and pixel != second_road_pixel :\n",
    "                        skeleton_bgr_copy[pixel[0], pixel[1]] = [255,0,0]\n",
    "\n",
    "                \n",
    "                plot_patch(skeleton_bgr_copy, first_road_pixel, 23)\n",
    "\n",
    "\n",
    "                # print(f\"Shape of skeleton_gray: {skeleton_gray.shape}\")\n",
    "\n",
    "\n",
    "                # Now use the first road pixel as origin and compute the angle of the road segment\n",
    "                # First reverse the y coordinates to make sure the origin is in the bottom left corner\n",
    "                road_pixels = [((skeleton_gray.shape[0]-1)-pixel[0], pixel[1]) for pixel in road_pixels]\n",
    "                # print(f\"Road pixels: {road_pixels}\")\n",
    "\n",
    "                first_road_pixel = ((skeleton_gray.shape[0]-1)-first_road_pixel[0], first_road_pixel[1])\n",
    "                second_road_pixel = ((skeleton_gray.shape[0]-1)-second_road_pixel[0], second_road_pixel[1])\n",
    "\n",
    "                # Adjust the coordinates of road pixels and intersection to be relative to the center\n",
    "                adjusted_road_pixels = [(pixel[0] - first_road_pixel[0], pixel[1] - first_road_pixel[1]) for pixel in road_pixels]\n",
    "                # print(f\"Adjusted road pixels: {adjusted_road_pixels}\")\n",
    "\n",
    "                second_road_pixel = (second_road_pixel[0] - first_road_pixel[0], second_road_pixel[1] - first_road_pixel[1])\n",
    "                first_road_pixel = (0,0)\n",
    "                # print(f\"First road pixel: {first_road_pixel}\")\n",
    "                # print(f\"Second road pixel: {second_road_pixel}\")\n",
    "\n",
    "                # For each set of coordinates, compute the best-fit line\n",
    "                x_values = np.array([coord[1] for coord in adjusted_road_pixels])\n",
    "                y_values = np.array([coord[0] for coord in adjusted_road_pixels])\n",
    "\n",
    "                positive_x_directions = 0\n",
    "                negative_x_directions = 0\n",
    "                positive_y_directions = 0\n",
    "                negative_y_directions = 0\n",
    "                for x in x_values:\n",
    "                    if x > 0:\n",
    "                        positive_x_directions += 1\n",
    "                    elif x < 0:\n",
    "                        negative_x_directions += 1\n",
    "                \n",
    "                for y in y_values:\n",
    "                    if y > 0:\n",
    "                        positive_y_directions += 1\n",
    "                    elif y < 0:\n",
    "                        negative_y_directions += 1\n",
    "\n",
    "                # Check if all x-values are the same\n",
    "                all_x_values_same = all(x == x_values[0] for x in x_values)\n",
    "                if all_x_values_same :\n",
    "                    print(\"All x-values are the same\")\n",
    "                    if second_road_pixel[0] > first_road_pixel[0] :\n",
    "                        # index 0 because y coordinate needed (index 1 is x coordinate)\n",
    "                        angle = 90\n",
    "                    else :\n",
    "                        angle = 270\n",
    "                    print(f\"Angle is: {angle}\")\n",
    "                    dict_angles[intersection_pixel].append(angle)\n",
    "                    continue\n",
    "\n",
    "                line = np.polyfit(x_values, y_values, deg=1)\n",
    "                \n",
    "                # print(f\"Line: {line}\")\n",
    "\n",
    "                # Now show the line on the patch\n",
    "                a = line[0]\n",
    "                b = line[1]\n",
    "                y = a * x_values + b\n",
    "                if visualize : \n",
    "                    plt.plot(x_values, y)\n",
    "                    plt.show()\n",
    "\n",
    "                # The slope of each line gives the direction of the road segment it fits\n",
    "                angle = np.degrees(np.arctan(a))\n",
    "                # print(f\"Angle: {angle}\")\n",
    "\n",
    "                if angle == 0 and negative_x_directions > positive_x_directions :\n",
    "                    angle = 180\n",
    "\n",
    "                if angle > 0 and negative_y_directions > positive_y_directions :\n",
    "                    angle = angle + 180\n",
    "                \n",
    "                if angle < 0 :\n",
    "                    if negative_y_directions < positive_y_directions :\n",
    "                        angle = angle + 180\n",
    "                    else : \n",
    "                        angle = angle + 360\n",
    "\n",
    "                print(f\"Angle is: {angle}\")\n",
    "                dict_angles[intersection_pixel].append(angle)\n",
    "            else : \n",
    "                print(\"Count threshold not reached\")\n",
    "    \n",
    "\n",
    "    processed_intersections = []\n",
    "    for intersection in dict_other_intersecs.keys() : \n",
    "        if intersection in processed_intersections :\n",
    "            continue\n",
    "        # print(f\"dict_other_intersecs[intersection]: \")\n",
    "        # print(dict_other_intersecs[intersection])\n",
    "        if len(dict_other_intersecs[intersection]) == 0 :\n",
    "            descriptor = dict_angles[intersection]\n",
    "            sorted_descriptor = sorted(descriptor)\n",
    "            descriptors.append(sorted_descriptor)\n",
    "            processed_intersections.append(intersection)\n",
    "        else :\n",
    "            for other_intersection in dict_other_intersecs[intersection] : \n",
    "                if other_intersection not in processed_intersections : \n",
    "                    descriptor = dict_angles[intersection] + dict_angles[other_intersection]\n",
    "                    sorted_descriptor = sorted(descriptor)\n",
    "                    descriptors.append(sorted_descriptor)\n",
    "                    processed_intersections.append(intersection)\n",
    "                    processed_intersections.append(other_intersection)\n",
    "                else: \n",
    "                    continue\n",
    "    \n",
    "    return descriptors\n"
   ]
  },
  {
   "cell_type": "code",
   "execution_count": 27,
   "metadata": {},
   "outputs": [],
   "source": [
    "def find_descriptors_in_segmentation_image(img_path) : \n",
    "    print(\"Finding descriptors in segmentation image\")\n",
    "    \n",
    "    img_bgr = cv2.imread(img_path)\n",
    "    print(\"Segmentation image\")\n",
    "    plot_image(img_bgr)\n",
    "\n",
    "    closing_bgr = isotropic_closing(img_bgr, radius=20)\n",
    "    closing_bgr = closing_bgr.astype(np.uint8) * 255\n",
    "    print(\"Isotropic closing of segmentation image\")\n",
    "    plot_image(closing_bgr)\n",
    "\n",
    "    closing_bgr_copy = closing_bgr.copy()\n",
    "    mask_bgr_copy = closing_bgr.copy()\n",
    "    closing_gray = cv2.cvtColor(closing_bgr, cv2.COLOR_BGR2GRAY)\n",
    "\n",
    "    contours, hierarchy = cv2.findContours(closing_gray, cv2.RETR_EXTERNAL, cv2.CHAIN_APPROX_SIMPLE)\n",
    "    print(f\"Number of contours: {len(contours)}\")\n",
    "    cv2.drawContours(closing_bgr_copy, contours, contourIdx=-1, color=(255, 0, 0), thickness=2)\n",
    "\n",
    "    descriptors = []\n",
    "\n",
    "    for contour in contours :\n",
    "        contour_length = cv2.arcLength(contour, closed=True)\n",
    "        print(f\"Contour length: {contour_length}\")\n",
    "        contour_area = cv2.contourArea(contour)\n",
    "        print(f\"Contour area: {contour_area}\")\n",
    "\n",
    "        # measure the irregularity of the polygon\n",
    "        if contour_length != 0 :\n",
    "            convex_hull = cv2.convexHull(contour)\n",
    "            convex_hull_area = cv2.contourArea(convex_hull)\n",
    "            print(f\"Convex hull area: {convex_hull_area}\")\n",
    "            # cv2.polylines(mask_bgr_copy, [convex_hull], isClosed=True, color=(0, 255, 0), thickness=3)\n",
    "            solidity = contour_area / convex_hull_area\n",
    "\n",
    "            # get skeleton of the contour\n",
    "            skeleton_contour_bgr = get_skeleton(mask_bgr_copy, contour)\n",
    "            \n",
    "            # find the intersections in the skeleton\n",
    "            skel_intersections = get_skeleton_intersection(skeleton_contour_bgr)\n",
    "\n",
    "            print(f\"Skeleton intersections = {skel_intersections}\")\n",
    "            \n",
    "\n",
    "\n",
    "            #  make a decision based on the solidity\n",
    "            if solidity > 0.60 and skel_intersections == [] :\n",
    "                print(f\"Solidity = {solidity} -> no intersection in this contour\")\n",
    "            else :\n",
    "                print(f\"Solidity = {solidity} -> this contour can be related to an intersection in the road\")\n",
    "\n",
    "                # further processing\n",
    "                if skel_intersections == [] : \n",
    "                    print(\"No intersection is found in a possible intersection contour\")\n",
    "                else : \n",
    "                    print(f\"Intersections = {skel_intersections}\")\n",
    "                    \n",
    "                    # visualization\n",
    "                    skeleton_contour_bgr_copy = skeleton_contour_bgr.copy()\n",
    "                    for intersection in skel_intersections :\n",
    "                        skeleton_contour_bgr_copy[intersection[0], intersection[1]] = [0, 0, 255]\n",
    "                    plot_image(skeleton_contour_bgr_copy)\n",
    "\n",
    "                    # now try and match intersection with the openstreetmap images\n",
    "                    descriptors = get_descriptors(skeleton_contour_bgr, skel_intersections)\n",
    "                    \n",
    "        \n",
    "    if descriptors == [] :\n",
    "        return None\n",
    "    else :\n",
    "        return descriptors\n",
    "    "
   ]
  },
  {
   "cell_type": "code",
   "execution_count": 28,
   "metadata": {},
   "outputs": [
    {
     "name": "stdout",
     "output_type": "stream",
     "text": [
      "Finding descriptors in segmentation image\n",
      "Segmentation image\n"
     ]
    },
    {
     "data": {
      "image/png": "[encoded data removed]",
      "text/plain": [
       "<Figure size 2000x1000 with 1 Axes>"
      ]
     },
     "metadata": {},
     "output_type": "display_data"
    },
    {
     "name": "stdout",
     "output_type": "stream",
     "text": [
      "Isotropic closing of segmentation image\n"
     ]
    },
    {
     "data": {
      "image/png": "[encoded data removed]",
      "text/plain": [
       "<Figure size 2000x1000 with 1 Axes>"
      ]
     },
     "metadata": {},
     "output_type": "display_data"
    },
    {
     "name": "stdout",
     "output_type": "stream",
     "text": [
      "Number of contours: 2\n",
      "Contour length: 46.041630148887634\n",
      "Contour area: 73.5\n",
      "Convex hull area: 94.5\n",
      "Getting the skeleton\n",
      "Getting intersections in skeleton (more than 2 neighbours)\n",
      "Skeleton intersections = []\n",
      "Solidity = 0.7777777777777778 -> no intersection in this contour\n",
      "Contour length: 2659.794278740883\n",
      "Contour area: 61022.5\n",
      "Convex hull area: 175391.5\n",
      "Getting the skeleton\n",
      "Getting intersections in skeleton (more than 2 neighbours)\n",
      "Skeleton intersections = [(146, 423), (168, 194), (234, 203), (359, 250)]\n",
      "Solidity = 0.3479216495668262 -> this contour can be related to an intersection in the road\n",
      "Intersections = [(146, 423), (168, 194), (234, 203), (359, 250)]\n"
     ]
    },
    {
     "data": {
      "image/png": "[encoded data removed]",
      "text/plain": [
       "<Figure size 2000x1000 with 1 Axes>"
      ]
     },
     "metadata": {},
     "output_type": "display_data"
    },
    {
     "data": {
      "image/png": "[encoded data removed]",
      "text/plain": [
       "<Figure size 640x480 with 1 Axes>"
      ]
     },
     "metadata": {},
     "output_type": "display_data"
    },
    {
     "name": "stdout",
     "output_type": "stream",
     "text": [
      "Angle is: 208.34215444342135\n"
     ]
    },
    {
     "data": {
      "image/png": "[encoded data removed]",
      "text/plain": [
       "<Figure size 640x480 with 1 Axes>"
      ]
     },
     "metadata": {},
     "output_type": "display_data"
    },
    {
     "name": "stdout",
     "output_type": "stream",
     "text": [
      "Angle is: 78.69006752597979\n"
     ]
    },
    {
     "data": {
      "image/png": "[encoded data removed]",
      "text/plain": [
       "<Figure size 640x480 with 1 Axes>"
      ]
     },
     "metadata": {},
     "output_type": "display_data"
    },
    {
     "name": "stdout",
     "output_type": "stream",
     "text": [
      "Angle is: 336.7176437865103\n"
     ]
    },
    {
     "data": {
      "image/png": "[encoded data removed]",
      "text/plain": [
       "<Figure size 640x480 with 1 Axes>"
      ]
     },
     "metadata": {},
     "output_type": "display_data"
    },
    {
     "name": "stdout",
     "output_type": "stream",
     "text": [
      "Angle is: 146.07020257793934\n"
     ]
    },
    {
     "data": {
      "image/png": "[encoded data removed]",
      "text/plain": [
       "<Figure size 640x480 with 1 Axes>"
      ]
     },
     "metadata": {},
     "output_type": "display_data"
    },
    {
     "name": "stdout",
     "output_type": "stream",
     "text": [
      "Angle is: 281.30993247402023\n"
     ]
    },
    {
     "data": {
      "image/png": "[encoded data removed]",
      "text/plain": [
       "<Figure size 640x480 with 1 Axes>"
      ]
     },
     "metadata": {},
     "output_type": "display_data"
    },
    {
     "name": "stdout",
     "output_type": "stream",
     "text": [
      "Angle is: 42.08299271337229\n"
     ]
    },
    {
     "data": {
      "image/png": "[encoded data removed]",
      "text/plain": [
       "<Figure size 640x480 with 1 Axes>"
      ]
     },
     "metadata": {},
     "output_type": "display_data"
    },
    {
     "name": "stdout",
     "output_type": "stream",
     "text": [
      "Angle is: 217.80279245093854\n"
     ]
    },
    {
     "data": {
      "image/png": "[encoded data removed]",
      "text/plain": [
       "<Figure size 640x480 with 1 Axes>"
      ]
     },
     "metadata": {},
     "output_type": "display_data"
    },
    {
     "name": "stdout",
     "output_type": "stream",
     "text": [
      "Angle is: 108.5723485104073\n"
     ]
    },
    {
     "data": {
      "image/png": "[encoded data removed]",
      "text/plain": [
       "<Figure size 640x480 with 1 Axes>"
      ]
     },
     "metadata": {},
     "output_type": "display_data"
    },
    {
     "name": "stdout",
     "output_type": "stream",
     "text": [
      "Angle is: 293.40468955103233\n"
     ]
    },
    {
     "data": {
      "image/png": "[encoded data removed]",
      "text/plain": [
       "<Figure size 640x480 with 1 Axes>"
      ]
     },
     "metadata": {},
     "output_type": "display_data"
    },
    {
     "name": "stdout",
     "output_type": "stream",
     "text": [
      "Angle is: 225.00000000000003\n"
     ]
    },
    {
     "data": {
      "image/png": "[encoded data removed]",
      "text/plain": [
       "<Figure size 640x480 with 1 Axes>"
      ]
     },
     "metadata": {},
     "output_type": "display_data"
    },
    {
     "name": "stdout",
     "output_type": "stream",
     "text": [
      "Angle is: 101.30993247402021\n"
     ]
    },
    {
     "data": {
      "image/png": "[encoded data removed]",
      "text/plain": [
       "<Figure size 640x480 with 1 Axes>"
      ]
     },
     "metadata": {},
     "output_type": "display_data"
    },
    {
     "name": "stdout",
     "output_type": "stream",
     "text": [
      "Angle is: 332.19854122006586\n",
      "Array of descriptors: [[78.69006752597979, 208.34215444342135, 336.7176437865103], [42.08299271337229, 146.07020257793934, 281.30993247402023], [108.5723485104073, 217.80279245093854, 293.40468955103233], [101.30993247402021, 225.00000000000003, 332.19854122006586]]\n"
     ]
    }
   ],
   "source": [
    "# segm_img_des = find_descriptors_in_segmentation_image(sem_segm_img_path)\n",
    "segm_img_des = find_descriptors_in_segmentation_image(sem_segm_img_path) # without pruning\n",
    "print(f\"Array of descriptors: {segm_img_des}\")"
   ]
  },
  {
   "cell_type": "code",
   "execution_count": 29,
   "metadata": {},
   "outputs": [],
   "source": [
    "def find_descriptors_in_mapbox_image(img_path, image_name, vis=False) : \n",
    "    img_bgr = cv2.imread(img_path)\n",
    "    # print(\"Mapbox image\")\n",
    "    # plot_image(img_bgr)\n",
    "\n",
    "    new_width, new_height = img_bgr.shape[1], img_bgr.shape[0] - 100 \n",
    "    cropped_img_bgr = img_bgr[0:new_height, 0:new_width]\n",
    "    print(\"Cropped mapbox image\")\n",
    "    if vis : \n",
    "        plot_image(cropped_img_bgr)\n",
    "\n",
    "    print(\"Binary thresholding\")\n",
    "    img_gray = cv2.cvtColor(cropped_img_bgr, cv2.COLOR_BGR2GRAY)\n",
    "    ret, thresh_gray = cv2.threshold(img_gray, 127, 255, cv2.THRESH_BINARY)\n",
    "    thresh_bgr = cv2.cvtColor(thresh_gray, cv2.COLOR_GRAY2BGR)\n",
    "    if vis :\n",
    "        plot_image(thresh_bgr)\n",
    "\n",
    "    closing_bgr = isotropic_closing(thresh_bgr, radius=3)\n",
    "    closing_bgr = closing_bgr.astype(np.uint8) * 255\n",
    "    closing_gray = cv2.cvtColor(closing_bgr, cv2.COLOR_BGR2GRAY)\n",
    "    print(\"Isotropic closing of segmentation image\")\n",
    "    if vis : \n",
    "        plot_image(closing_bgr)\n",
    "\n",
    "    # To avoid the precision loss when converting the image to bool, \n",
    "    # you can also binarize the image using one of the available thresholding algorithms\n",
    "    thresh_otsu = threshold_otsu(closing_gray)\n",
    "    mask_gray = closing_gray > thresh_otsu\n",
    "    \n",
    "    # Skeletonize\n",
    "    # skeleton_gray = (skeletonize(contour_mask_gray)).astype(np.uint8)\n",
    "    skeleton_gray = skeletonize(mask_gray, method='lee').astype(np.uint8)\n",
    "\n",
    "    skeleton_bgr = cv2.cvtColor(skeleton_gray, cv2.COLOR_GRAY2BGR)\n",
    "    \n",
    "    # find the intersections in the skeleton\n",
    "    skel_intersections = get_skeleton_intersection(skeleton_bgr)\n",
    "\n",
    "    print(f\"{len(skel_intersections)} intersections found in the skeleton:\")\n",
    "    print(skel_intersections)\n",
    "\n",
    "    descriptors = []\n",
    "            \n",
    "    #  if there are intersections\n",
    "    if skel_intersections != [] :\n",
    "        # visualization\n",
    "        skeleton_bgr_copy = skeleton_bgr.copy()\n",
    "        for intersection in skel_intersections :\n",
    "            skeleton_bgr_copy[intersection[0], intersection[1]] = [0, 0, 255]\n",
    "\n",
    "        if vis : \n",
    "            plot_image(skeleton_bgr_copy)\n",
    "\n",
    "\n",
    "        print(f\"There are intersections in mapbox image {image_name}\")\n",
    "        descriptors = get_descriptors(skeleton_bgr, skel_intersections, visualize = vis)   \n",
    "    else :\n",
    "        print(\"No intersections found in the skeleton\")\n",
    "        \n",
    "    if descriptors == [] :\n",
    "        return None\n",
    "    else :\n",
    "        return descriptors"
   ]
  },
  {
   "cell_type": "code",
   "execution_count": 30,
   "metadata": {},
   "outputs": [
    {
     "name": "stdout",
     "output_type": "stream",
     "text": [
      "**************************************************\n",
      "Mapbox image: 50.8224207_3.6038774.jpg\n",
      "**************************************************\n",
      "Cropped mapbox image\n",
      "Binary thresholding\n",
      "Isotropic closing of segmentation image\n",
      "Getting intersections in skeleton (more than 2 neighbours)\n",
      "11 intersections found in the skeleton:\n",
      "[(60, 311), (78, 57), (81, 146), (88, 73), (89, 74), (93, 26), (100, 90), (107, 40), (253, 246), (275, 180), (280, 196)]\n",
      "There are intersections in mapbox image 50.8224207_3.6038774.jpg\n"
     ]
    },
    {
     "data": {
      "image/png": "[encoded data removed]",
      "text/plain": [
       "<Figure size 640x480 with 1 Axes>"
      ]
     },
     "metadata": {},
     "output_type": "display_data"
    },
    {
     "name": "stdout",
     "output_type": "stream",
     "text": [
      "Angle is: 193.62699485989154\n"
     ]
    },
    {
     "data": {
      "image/png": "[encoded data removed]",
      "text/plain": [
       "<Figure size 640x480 with 1 Axes>"
      ]
     },
     "metadata": {},
     "output_type": "display_data"
    },
    {
     "name": "stdout",
     "output_type": "stream",
     "text": [
      "Angle is: 50.710593137499636\n"
     ]
    },
    {
     "data": {
      "image/png": "[encoded data removed]",
      "text/plain": [
       "<Figure size 640x480 with 1 Axes>"
      ]
     },
     "metadata": {},
     "output_type": "display_data"
    },
    {
     "name": "stdout",
     "output_type": "stream",
     "text": [
      "Angle is: 354.11755440990464\n"
     ]
    },
    {
     "data": {
      "image/png": "[encoded data removed]",
      "text/plain": [
       "<Figure size 640x480 with 1 Axes>"
      ]
     },
     "metadata": {},
     "output_type": "display_data"
    },
    {
     "name": "stdout",
     "output_type": "stream",
     "text": [
      "Angle is: 193.95450917313684\n"
     ]
    },
    {
     "data": {
      "image/png": "[encoded data removed]",
      "text/plain": [
       "<Figure size 640x480 with 1 Axes>"
      ]
     },
     "metadata": {},
     "output_type": "display_data"
    },
    {
     "name": "stdout",
     "output_type": "stream",
     "text": [
      "Angle is: 136.10170611520638\n"
     ]
    },
    {
     "data": {
      "image/png": "[encoded data removed]",
      "text/plain": [
       "<Figure size 640x480 with 1 Axes>"
      ]
     },
     "metadata": {},
     "output_type": "display_data"
    },
    {
     "name": "stdout",
     "output_type": "stream",
     "text": [
      "Angle is: 323.52100316677917\n"
     ]
    },
    {
     "data": {
      "image/png": "[encoded data removed]",
      "text/plain": [
       "<Figure size 640x480 with 1 Axes>"
      ]
     },
     "metadata": {},
     "output_type": "display_data"
    },
    {
     "name": "stdout",
     "output_type": "stream",
     "text": [
      "Angle is: 171.7241071729248\n"
     ]
    },
    {
     "data": {
      "image/png": "[encoded data removed]",
      "text/plain": [
       "<Figure size 640x480 with 1 Axes>"
      ]
     },
     "metadata": {},
     "output_type": "display_data"
    },
    {
     "name": "stdout",
     "output_type": "stream",
     "text": [
      "Angle is: 202.98871680208063\n"
     ]
    },
    {
     "data": {
      "image/png": "[encoded data removed]",
      "text/plain": [
       "<Figure size 640x480 with 1 Axes>"
      ]
     },
     "metadata": {},
     "output_type": "display_data"
    },
    {
     "name": "stdout",
     "output_type": "stream",
     "text": [
      "Angle is: 11.309932474020211\n"
     ]
    },
    {
     "data": {
      "image/png": "[encoded data removed]",
      "text/plain": [
       "<Figure size 640x480 with 1 Axes>"
      ]
     },
     "metadata": {},
     "output_type": "display_data"
    },
    {
     "name": "stdout",
     "output_type": "stream",
     "text": [
      "Angle is: 142.8533133019782\n"
     ]
    },
    {
     "data": {
      "image/png": "[encoded data removed]",
      "text/plain": [
       "<Figure size 640x480 with 1 Axes>"
      ]
     },
     "metadata": {},
     "output_type": "display_data"
    },
    {
     "name": "stdout",
     "output_type": "stream",
     "text": [
      "Angle is: 22.98871680208065\n"
     ]
    },
    {
     "data": {
      "image/png": "[encoded data removed]",
      "text/plain": [
       "<Figure size 640x480 with 1 Axes>"
      ]
     },
     "metadata": {},
     "output_type": "display_data"
    },
    {
     "name": "stdout",
     "output_type": "stream",
     "text": [
      "Angle is: 214.8753283446022\n"
     ]
    },
    {
     "data": {
      "image/png": "[encoded data removed]",
      "text/plain": [
       "<Figure size 640x480 with 1 Axes>"
      ]
     },
     "metadata": {},
     "output_type": "display_data"
    },
    {
     "name": "stdout",
     "output_type": "stream",
     "text": [
      "Angle is: 143.52100316677917\n"
     ]
    },
    {
     "data": {
      "image/png": "[encoded data removed]",
      "text/plain": [
       "<Figure size 640x480 with 1 Axes>"
      ]
     },
     "metadata": {},
     "output_type": "display_data"
    },
    {
     "name": "stdout",
     "output_type": "stream",
     "text": [
      "Angle is: 209.93151184050782\n"
     ]
    },
    {
     "data": {
      "image/png": "[encoded data removed]",
      "text/plain": [
       "<Figure size 640x480 with 1 Axes>"
      ]
     },
     "metadata": {},
     "output_type": "display_data"
    },
    {
     "name": "stdout",
     "output_type": "stream",
     "text": [
      "Angle is: 326.07020257793937\n"
     ]
    },
    {
     "data": {
      "image/png": "[encoded data removed]",
      "text/plain": [
       "<Figure size 640x480 with 1 Axes>"
      ]
     },
     "metadata": {},
     "output_type": "display_data"
    },
    {
     "name": "stdout",
     "output_type": "stream",
     "text": [
      "Angle is: 133.00111040171362\n"
     ]
    },
    {
     "data": {
      "image/png": "[encoded data removed]",
      "text/plain": [
       "<Figure size 640x480 with 1 Axes>"
      ]
     },
     "metadata": {},
     "output_type": "display_data"
    },
    {
     "name": "stdout",
     "output_type": "stream",
     "text": [
      "Angle is: 22.98871680208065\n"
     ]
    },
    {
     "data": {
      "image/png": "[encoded data removed]",
      "text/plain": [
       "<Figure size 640x480 with 1 Axes>"
      ]
     },
     "metadata": {},
     "output_type": "display_data"
    },
    {
     "name": "stdout",
     "output_type": "stream",
     "text": [
      "Angle is: 310.1296481874536\n"
     ]
    },
    {
     "data": {
      "image/png": "[encoded data removed]",
      "text/plain": [
       "<Figure size 640x480 with 1 Axes>"
      ]
     },
     "metadata": {},
     "output_type": "display_data"
    },
    {
     "name": "stdout",
     "output_type": "stream",
     "text": [
      "Angle is: 142.19720754906146\n"
     ]
    },
    {
     "data": {
      "image/png": "[encoded data removed]",
      "text/plain": [
       "<Figure size 640x480 with 1 Axes>"
      ]
     },
     "metadata": {},
     "output_type": "display_data"
    },
    {
     "name": "stdout",
     "output_type": "stream",
     "text": [
      "Angle is: 313.95837332399003\n"
     ]
    },
    {
     "data": {
      "image/png": "[encoded data removed]",
      "text/plain": [
       "<Figure size 640x480 with 1 Axes>"
      ]
     },
     "metadata": {},
     "output_type": "display_data"
    },
    {
     "name": "stdout",
     "output_type": "stream",
     "text": [
      "Angle is: 13.954509173136849\n"
     ]
    },
    {
     "data": {
      "image/png": "[encoded data removed]",
      "text/plain": [
       "<Figure size 640x480 with 1 Axes>"
      ]
     },
     "metadata": {},
     "output_type": "display_data"
    },
    {
     "name": "stdout",
     "output_type": "stream",
     "text": [
      "Angle is: 134.13006586437095\n"
     ]
    },
    {
     "data": {
      "image/png": "[encoded data removed]",
      "text/plain": [
       "<Figure size 640x480 with 1 Axes>"
      ]
     },
     "metadata": {},
     "output_type": "display_data"
    },
    {
     "name": "stdout",
     "output_type": "stream",
     "text": [
      "Angle is: 311.3477772196937\n"
     ]
    },
    {
     "data": {
      "image/png": "[encoded data removed]",
      "text/plain": [
       "<Figure size 640x480 with 1 Axes>"
      ]
     },
     "metadata": {},
     "output_type": "display_data"
    },
    {
     "name": "stdout",
     "output_type": "stream",
     "text": [
      "Angle is: 21.80140948635182\n"
     ]
    },
    {
     "data": {
      "image/png": "[encoded data removed]",
      "text/plain": [
       "<Figure size 640x480 with 1 Axes>"
      ]
     },
     "metadata": {},
     "output_type": "display_data"
    },
    {
     "name": "stdout",
     "output_type": "stream",
     "text": [
      "Angle is: 125.84895910019083\n"
     ]
    },
    {
     "data": {
      "image/png": "[encoded data removed]",
      "text/plain": [
       "<Figure size 640x480 with 1 Axes>"
      ]
     },
     "metadata": {},
     "output_type": "display_data"
    },
    {
     "name": "stdout",
     "output_type": "stream",
     "text": [
      "Angle is: 212.2233552307479\n"
     ]
    },
    {
     "data": {
      "image/png": "[encoded data removed]",
      "text/plain": [
       "<Figure size 640x480 with 1 Axes>"
      ]
     },
     "metadata": {},
     "output_type": "display_data"
    },
    {
     "name": "stdout",
     "output_type": "stream",
     "text": [
      "Angle is: 333.2962183930344\n"
     ]
    },
    {
     "data": {
      "image/png": "[encoded data removed]",
      "text/plain": [
       "<Figure size 640x480 with 1 Axes>"
      ]
     },
     "metadata": {},
     "output_type": "display_data"
    },
    {
     "name": "stdout",
     "output_type": "stream",
     "text": [
      "Angle is: 215.10838027317783\n"
     ]
    },
    {
     "data": {
      "image/png": "[encoded data removed]",
      "text/plain": [
       "<Figure size 640x480 with 1 Axes>"
      ]
     },
     "metadata": {},
     "output_type": "display_data"
    },
    {
     "name": "stdout",
     "output_type": "stream",
     "text": [
      "Angle is: 120.9637565320735\n"
     ]
    },
    {
     "data": {
      "image/png": "[encoded data removed]",
      "text/plain": [
       "<Figure size 640x480 with 1 Axes>"
      ]
     },
     "metadata": {},
     "output_type": "display_data"
    },
    {
     "name": "stdout",
     "output_type": "stream",
     "text": [
      "Angle is: 343.14160123226173\n"
     ]
    },
    {
     "data": {
      "image/png": "[encoded data removed]",
      "text/plain": [
       "<Figure size 640x480 with 1 Axes>"
      ]
     },
     "metadata": {},
     "output_type": "display_data"
    },
    {
     "name": "stdout",
     "output_type": "stream",
     "text": [
      "Angle is: 163.46017599877106\n"
     ]
    },
    {
     "data": {
      "image/png": "[encoded data removed]",
      "text/plain": [
       "<Figure size 640x480 with 1 Axes>"
      ]
     },
     "metadata": {},
     "output_type": "display_data"
    },
    {
     "name": "stdout",
     "output_type": "stream",
     "text": [
      "Angle is: 301.69874866349426\n"
     ]
    },
    {
     "data": {
      "image/png": "[encoded data removed]",
      "text/plain": [
       "<Figure size 640x480 with 1 Axes>"
      ]
     },
     "metadata": {},
     "output_type": "display_data"
    },
    {
     "name": "stdout",
     "output_type": "stream",
     "text": [
      "Angle is: 32.223355230747885\n",
      "Descriptors for mapbox image 50.8224207_3.6038774.jpg:\n",
      "[[50.710593137499636, 193.62699485989154, 354.11755440990464], [136.10170611520638, 193.95450917313684, 323.52100316677917], [11.309932474020211, 171.7241071729248, 202.98871680208063], [22.98871680208065, 142.8533133019782, 214.8753283446022], [143.52100316677917, 209.93151184050782, 326.07020257793937], [22.98871680208065, 133.00111040171362, 310.1296481874536], [13.954509173136849, 142.19720754906146, 313.95837332399003], [21.80140948635182, 134.13006586437095, 311.3477772196937], [125.84895910019083, 212.2233552307479, 333.2962183930344], [120.9637565320735, 215.10838027317783, 343.14160123226173], [32.223355230747885, 163.46017599877106, 301.69874866349426]]\n",
      "Number of descriptors: 11\n",
      "Descriptor of segmentation image:\n",
      "[78.69006752597979, 208.34215444342135, 336.7176437865103]\n",
      "Descriptor of mapbox image:\n",
      "[50.710593137499636, 193.62699485989154, 354.11755440990464]\n",
      "Result = 36.085229642146906\n",
      "Descriptor of mapbox image:\n",
      "[136.10170611520638, 193.95450917313684, 323.52100316677917]\n",
      "Result = 60.64034882460563\n",
      "Descriptor of mapbox image:\n",
      "[11.309932474020211, 171.7241071729248, 202.98871680208063]\n",
      "Result = 75.93002259212138\n",
      "Descriptor of mapbox image:\n",
      "[22.98871680208065, 142.8533133019782, 214.8753283446022]\n",
      "Result = 72.7071869329445\n",
      "Descriptor of mapbox image:\n",
      "[143.52100316677917, 209.93151184050782, 326.07020257793937]\n",
      "Result = 65.7186752551139\n",
      "Descriptor of mapbox image:\n",
      "[22.98871680208065, 133.00111040171362, 310.1296481874536]\n",
      "Result = 96.60685175244974\n",
      "Descriptor of mapbox image:\n",
      "[13.954509173136849, 142.19720754906146, 313.95837332399003]\n",
      "Result = 94.4790729503372\n",
      "Descriptor of mapbox image:\n",
      "[21.80140948635182, 134.13006586437095, 311.3477772196937]\n",
      "Result = 96.04508127251347\n",
      "Descriptor of mapbox image:\n",
      "[125.84895910019083, 212.2233552307479, 333.2962183930344]\n",
      "Result = 47.441868911151246\n",
      "Descriptor of mapbox image:\n",
      "[120.9637565320735, 215.10838027317783, 343.14160123226173]\n",
      "Result = 43.291036294226295\n",
      "Descriptor of mapbox image:\n",
      "[32.223355230747885, 163.46017599877106, 301.69874866349426]\n",
      "Result = 73.48381016435324\n",
      "Descriptor of segmentation image:\n",
      "[42.08299271337229, 146.07020257793934, 281.30993247402023]\n",
      "Descriptor of mapbox image:\n",
      "[50.710593137499636, 193.62699485989154, 354.11755440990464]\n",
      "Result = 87.39012411700665\n",
      "Descriptor of mapbox image:\n",
      "[136.10170611520638, 193.95450917313684, 323.52100316677917]\n",
      "Result = 89.73924232060139\n",
      "Descriptor of mapbox image:\n",
      "[11.309932474020211, 171.7241071729248, 202.98871680208063]\n",
      "Result = 87.97338734977689\n",
      "Descriptor of mapbox image:\n",
      "[22.98871680208065, 142.8533133019782, 214.8753283446022]\n",
      "Result = 69.19896223949327\n",
      "Descriptor of mapbox image:\n",
      "[143.52100316677917, 209.93151184050782, 326.07020257793937]\n",
      "Result = 88.24921790920882\n",
      "Descriptor of mapbox image:\n",
      "[22.98871680208065, 133.00111040171362, 310.1296481874536]\n",
      "Result = 36.95901184677879\n",
      "Descriptor of mapbox image:\n",
      "[13.954509173136849, 142.19720754906146, 313.95837332399003]\n",
      "Result = 43.26814494175809\n",
      "Descriptor of mapbox image:\n",
      "[21.80140948635182, 134.13006586437095, 311.3477772196937]\n",
      "Result = 38.159947587731885\n",
      "Descriptor of mapbox image:\n",
      "[125.84895910019083, 212.2233552307479, 333.2962183930344]\n",
      "Result = 88.56123832036775\n",
      "Descriptor of mapbox image:\n",
      "[120.9637565320735, 215.10838027317783, 343.14160123226173]\n",
      "Result = 89.0369390995243\n",
      "Descriptor of mapbox image:\n",
      "[32.223355230747885, 163.46017599877106, 301.69874866349426]\n",
      "Result = 28.55393935123776\n",
      "Descriptor of segmentation image:\n",
      "[108.5723485104073, 217.80279245093854, 293.40468955103233]\n",
      "Descriptor of mapbox image:\n",
      "[50.710593137499636, 193.62699485989154, 354.11755440990464]\n",
      "Result = 87.28404140144505\n",
      "Descriptor of mapbox image:\n",
      "[136.10170611520638, 193.95450917313684, 323.52100316677917]\n",
      "Result = 47.26096159869373\n",
      "Descriptor of mapbox image:\n",
      "[11.309932474020211, 171.7241071729248, 202.98871680208063]\n",
      "Result = 101.37469277087203\n",
      "Descriptor of mapbox image:\n",
      "[22.98871680208065, 142.8533133019782, 214.8753283446022]\n",
      "Result = 85.7357286352941\n",
      "Descriptor of mapbox image:\n",
      "[143.52100316677917, 209.93151184050782, 326.07020257793937]\n",
      "Result = 48.48093709953964\n",
      "Descriptor of mapbox image:\n",
      "[22.98871680208065, 133.00111040171362, 310.1296481874536]\n",
      "Result = 89.82101050038337\n",
      "Descriptor of mapbox image:\n",
      "[13.954509173136849, 142.19720754906146, 313.95837332399003]\n",
      "Result = 85.26012860864715\n",
      "Descriptor of mapbox image:\n",
      "[21.80140948635182, 134.13006586437095, 311.3477772196937]\n",
      "Result = 89.3100021602332\n",
      "Descriptor of mapbox image:\n",
      "[125.84895910019083, 212.2233552307479, 333.2962183930344]\n",
      "Result = 43.82859188380744\n",
      "Descriptor of mapbox image:\n",
      "[120.9637565320735, 215.10838027317783, 343.14160123226173]\n",
      "Result = 51.32803554909824\n",
      "Descriptor of mapbox image:\n",
      "[32.223355230747885, 163.46017599877106, 301.69874866349426]\n",
      "Result = 77.68259126613103\n",
      "Descriptor of segmentation image:\n",
      "[101.30993247402021, 225.00000000000003, 332.19854122006586]\n",
      "Descriptor of mapbox image:\n",
      "[50.710593137499636, 193.62699485989154, 354.11755440990464]\n",
      "Result = 63.44290135255448\n",
      "Descriptor of mapbox image:\n",
      "[136.10170611520638, 193.95450917313684, 323.52100316677917]\n",
      "Result = 47.429839557462365\n",
      "Descriptor of mapbox image:\n",
      "[11.309932474020211, 171.7241071729248, 202.98871680208063]\n",
      "Result = 83.50061983223094\n",
      "Descriptor of mapbox image:\n",
      "[22.98871680208065, 142.8533133019782, 214.8753283446022]\n",
      "Result = 66.39279631404492\n",
      "Descriptor of mapbox image:\n",
      "[143.52100316677917, 209.93151184050782, 326.07020257793937]\n",
      "Result = 45.237046311120174\n",
      "Descriptor of mapbox image:\n",
      "[22.98871680208065, 133.00111040171362, 310.1296481874536]\n",
      "Result = 93.47953679094276\n",
      "Descriptor of mapbox image:\n",
      "[13.954509173136849, 142.19720754906146, 313.95837332399003]\n",
      "Result = 94.131691930042\n",
      "Descriptor of mapbox image:\n",
      "[21.80140948635182, 134.13006586437095, 311.3477772196937]\n",
      "Result = 94.69875472223211\n",
      "Descriptor of mapbox image:\n",
      "[125.84895910019083, 212.2233552307479, 333.2962183930344]\n",
      "Result = 27.687747732447004\n",
      "Descriptor of mapbox image:\n",
      "[120.9637565320735, 215.10838027317783, 343.14160123226173]\n",
      "Result = 24.573715701039042\n",
      "Descriptor of mapbox image:\n",
      "[32.223355230747885, 163.46017599877106, 301.69874866349426]\n",
      "Result = 92.62850562479119\n",
      "Score = 11.534360692220057\n",
      "**************************************************\n",
      "Mapbox image: 50.8224098_3.6035905.jpg\n",
      "**************************************************\n",
      "Cropped mapbox image\n",
      "Binary thresholding\n",
      "Isotropic closing of segmentation image\n",
      "Getting intersections in skeleton (more than 2 neighbours)\n",
      "12 intersections found in the skeleton:\n",
      "[(44, 90), (46, 390), (56, 146), (61, 232), (66, 162), (68, 162), (70, 119), (79, 180), (84, 132), (226, 334), (244, 273), (250, 290)]\n",
      "There are intersections in mapbox image 50.8224098_3.6035905.jpg\n"
     ]
    },
    {
     "data": {
      "image/png": "[encoded data removed]",
      "text/plain": [
       "<Figure size 640x480 with 1 Axes>"
      ]
     },
     "metadata": {},
     "output_type": "display_data"
    },
    {
     "name": "stdout",
     "output_type": "stream",
     "text": [
      "Angle is: 207.80145877993414\n"
     ]
    },
    {
     "data": {
      "image/png": "[encoded data removed]",
      "text/plain": [
       "<Figure size 640x480 with 1 Axes>"
      ]
     },
     "metadata": {},
     "output_type": "display_data"
    },
    {
     "name": "stdout",
     "output_type": "stream",
     "text": [
      "Angle is: 133.60281897270363\n"
     ]
    },
    {
     "data": {
      "image/png": "[encoded data removed]",
      "text/plain": [
       "<Figure size 640x480 with 1 Axes>"
      ]
     },
     "metadata": {},
     "output_type": "display_data"
    },
    {
     "name": "stdout",
     "output_type": "stream",
     "text": [
      "Angle is: 310.6012946450045\n"
     ]
    },
    {
     "data": {
      "image/png": "[encoded data removed]",
      "text/plain": [
       "<Figure size 640x480 with 1 Axes>"
      ]
     },
     "metadata": {},
     "output_type": "display_data"
    },
    {
     "name": "stdout",
     "output_type": "stream",
     "text": [
      "Angle is: 191.30993247402023\n"
     ]
    },
    {
     "data": {
      "image/png": "[encoded data removed]",
      "text/plain": [
       "<Figure size 640x480 with 1 Axes>"
      ]
     },
     "metadata": {},
     "output_type": "display_data"
    },
    {
     "name": "stdout",
     "output_type": "stream",
     "text": [
      "Angle is: 51.753574035531\n"
     ]
    },
    {
     "data": {
      "image/png": "[encoded data removed]",
      "text/plain": [
       "<Figure size 640x480 with 1 Axes>"
      ]
     },
     "metadata": {},
     "output_type": "display_data"
    },
    {
     "name": "stdout",
     "output_type": "stream",
     "text": [
      "Angle is: 355.84035770628736\n"
     ]
    },
    {
     "data": {
      "image/png": "[encoded data removed]",
      "text/plain": [
       "<Figure size 640x480 with 1 Axes>"
      ]
     },
     "metadata": {},
     "output_type": "display_data"
    },
    {
     "name": "stdout",
     "output_type": "stream",
     "text": [
      "Angle is: 138.1663265190035\n"
     ]
    },
    {
     "data": {
      "image/png": "[encoded data removed]",
      "text/plain": [
       "<Figure size 640x480 with 1 Axes>"
      ]
     },
     "metadata": {},
     "output_type": "display_data"
    },
    {
     "name": "stdout",
     "output_type": "stream",
     "text": [
      "Angle is: 193.95450917313684\n"
     ]
    },
    {
     "data": {
      "image/png": "[encoded data removed]",
      "text/plain": [
       "<Figure size 640x480 with 1 Axes>"
      ]
     },
     "metadata": {},
     "output_type": "display_data"
    },
    {
     "name": "stdout",
     "output_type": "stream",
     "text": [
      "Angle is: 328.276397042316\n"
     ]
    },
    {
     "data": {
      "image/png": "[encoded data removed]",
      "text/plain": [
       "<Figure size 640x480 with 1 Axes>"
      ]
     },
     "metadata": {},
     "output_type": "display_data"
    },
    {
     "name": "stdout",
     "output_type": "stream",
     "text": [
      "Angle is: 176.8778695378843\n"
     ]
    },
    {
     "data": {
      "image/png": "[encoded data removed]",
      "text/plain": [
       "<Figure size 640x480 with 1 Axes>"
      ]
     },
     "metadata": {},
     "output_type": "display_data"
    },
    {
     "name": "stdout",
     "output_type": "stream",
     "text": [
      "Angle is: 200.89776549883885\n"
     ]
    },
    {
     "data": {
      "image/png": "[encoded data removed]",
      "text/plain": [
       "<Figure size 640x480 with 1 Axes>"
      ]
     },
     "metadata": {},
     "output_type": "display_data"
    },
    {
     "name": "stdout",
     "output_type": "stream",
     "text": [
      "Angle is: 8.61564818416411\n"
     ]
    },
    {
     "data": {
      "image/png": "[encoded data removed]",
      "text/plain": [
       "<Figure size 640x480 with 1 Axes>"
      ]
     },
     "metadata": {},
     "output_type": "display_data"
    },
    {
     "name": "stdout",
     "output_type": "stream",
     "text": [
      "Angle is: 150.0684881594922\n",
      "Count threshold not reached\n"
     ]
    },
    {
     "data": {
      "image/png": "[encoded data removed]",
      "text/plain": [
       "<Figure size 640x480 with 1 Axes>"
      ]
     },
     "metadata": {},
     "output_type": "display_data"
    },
    {
     "name": "stdout",
     "output_type": "stream",
     "text": [
      "Angle is: 22.98871680208065\n"
     ]
    },
    {
     "data": {
      "image/png": "[encoded data removed]",
      "text/plain": [
       "<Figure size 640x480 with 1 Axes>"
      ]
     },
     "metadata": {},
     "output_type": "display_data"
    },
    {
     "name": "stdout",
     "output_type": "stream",
     "text": [
      "Angle is: 203.8657601196328\n",
      "Count threshold not reached\n"
     ]
    },
    {
     "data": {
      "image/png": "[encoded data removed]",
      "text/plain": [
       "<Figure size 640x480 with 1 Axes>"
      ]
     },
     "metadata": {},
     "output_type": "display_data"
    },
    {
     "name": "stdout",
     "output_type": "stream",
     "text": [
      "Angle is: 326.07020257793937\n"
     ]
    },
    {
     "data": {
      "image/png": "[encoded data removed]",
      "text/plain": [
       "<Figure size 640x480 with 1 Axes>"
      ]
     },
     "metadata": {},
     "output_type": "display_data"
    },
    {
     "name": "stdout",
     "output_type": "stream",
     "text": [
      "Angle is: 134.99999999999997\n"
     ]
    },
    {
     "data": {
      "image/png": "[encoded data removed]",
      "text/plain": [
       "<Figure size 640x480 with 1 Axes>"
      ]
     },
     "metadata": {},
     "output_type": "display_data"
    },
    {
     "name": "stdout",
     "output_type": "stream",
     "text": [
      "Angle is: 313.1692513519745\n"
     ]
    },
    {
     "data": {
      "image/png": "[encoded data removed]",
      "text/plain": [
       "<Figure size 640x480 with 1 Axes>"
      ]
     },
     "metadata": {},
     "output_type": "display_data"
    },
    {
     "name": "stdout",
     "output_type": "stream",
     "text": [
      "Angle is: 18.434948822922017\n"
     ]
    },
    {
     "data": {
      "image/png": "[encoded data removed]",
      "text/plain": [
       "<Figure size 640x480 with 1 Axes>"
      ]
     },
     "metadata": {},
     "output_type": "display_data"
    },
    {
     "name": "stdout",
     "output_type": "stream",
     "text": [
      "Angle is: 150.0684881594922\n"
     ]
    },
    {
     "data": {
      "image/png": "[encoded data removed]",
      "text/plain": [
       "<Figure size 640x480 with 1 Axes>"
      ]
     },
     "metadata": {},
     "output_type": "display_data"
    },
    {
     "name": "stdout",
     "output_type": "stream",
     "text": [
      "Angle is: 312.4302448950484\n"
     ]
    },
    {
     "data": {
      "image/png": "[encoded data removed]",
      "text/plain": [
       "<Figure size 640x480 with 1 Axes>"
      ]
     },
     "metadata": {},
     "output_type": "display_data"
    },
    {
     "name": "stdout",
     "output_type": "stream",
     "text": [
      "Angle is: 19.057704510128325\n"
     ]
    },
    {
     "data": {
      "image/png": "[encoded data removed]",
      "text/plain": [
       "<Figure size 640x480 with 1 Axes>"
      ]
     },
     "metadata": {},
     "output_type": "display_data"
    },
    {
     "name": "stdout",
     "output_type": "stream",
     "text": [
      "Angle is: 133.16925135197448\n"
     ]
    },
    {
     "data": {
      "image/png": "[encoded data removed]",
      "text/plain": [
       "<Figure size 640x480 with 1 Axes>"
      ]
     },
     "metadata": {},
     "output_type": "display_data"
    },
    {
     "name": "stdout",
     "output_type": "stream",
     "text": [
      "Angle is: 311.45523354440513\n"
     ]
    },
    {
     "data": {
      "image/png": "[encoded data removed]",
      "text/plain": [
       "<Figure size 640x480 with 1 Axes>"
      ]
     },
     "metadata": {},
     "output_type": "display_data"
    },
    {
     "name": "stdout",
     "output_type": "stream",
     "text": [
      "Angle is: 16.858398767738286\n"
     ]
    },
    {
     "data": {
      "image/png": "[encoded data removed]",
      "text/plain": [
       "<Figure size 640x480 with 1 Axes>"
      ]
     },
     "metadata": {},
     "output_type": "display_data"
    },
    {
     "name": "stdout",
     "output_type": "stream",
     "text": [
      "Angle is: 126.21061522036243\n"
     ]
    },
    {
     "data": {
      "image/png": "[encoded data removed]",
      "text/plain": [
       "<Figure size 640x480 with 1 Axes>"
      ]
     },
     "metadata": {},
     "output_type": "display_data"
    },
    {
     "name": "stdout",
     "output_type": "stream",
     "text": [
      "Angle is: 208.87740122228283\n"
     ]
    },
    {
     "data": {
      "image/png": "[encoded data removed]",
      "text/plain": [
       "<Figure size 640x480 with 1 Axes>"
      ]
     },
     "metadata": {},
     "output_type": "display_data"
    },
    {
     "name": "stdout",
     "output_type": "stream",
     "text": [
      "Angle is: 331.3895403340348\n"
     ]
    },
    {
     "data": {
      "image/png": "[encoded data removed]",
      "text/plain": [
       "<Figure size 640x480 with 1 Axes>"
      ]
     },
     "metadata": {},
     "output_type": "display_data"
    },
    {
     "name": "stdout",
     "output_type": "stream",
     "text": [
      "Angle is: 213.6900675259798\n"
     ]
    },
    {
     "data": {
      "image/png": "[encoded data removed]",
      "text/plain": [
       "<Figure size 640x480 with 1 Axes>"
      ]
     },
     "metadata": {},
     "output_type": "display_data"
    },
    {
     "name": "stdout",
     "output_type": "stream",
     "text": [
      "Angle is: 123.3778320364304\n"
     ]
    },
    {
     "data": {
      "image/png": "[encoded data removed]",
      "text/plain": [
       "<Figure size 640x480 with 1 Axes>"
      ]
     },
     "metadata": {},
     "output_type": "display_data"
    },
    {
     "name": "stdout",
     "output_type": "stream",
     "text": [
      "Angle is: 341.87813975209866\n"
     ]
    },
    {
     "data": {
      "image/png": "[encoded data removed]",
      "text/plain": [
       "<Figure size 640x480 with 1 Axes>"
      ]
     },
     "metadata": {},
     "output_type": "display_data"
    },
    {
     "name": "stdout",
     "output_type": "stream",
     "text": [
      "Angle is: 161.87813975209863\n"
     ]
    },
    {
     "data": {
      "image/png": "[encoded data removed]",
      "text/plain": [
       "<Figure size 640x480 with 1 Axes>"
      ]
     },
     "metadata": {},
     "output_type": "display_data"
    },
    {
     "name": "stdout",
     "output_type": "stream",
     "text": [
      "Angle is: 303.37783203643045\n"
     ]
    },
    {
     "data": {
      "image/png": "[encoded data removed]",
      "text/plain": [
       "<Figure size 640x480 with 1 Axes>"
      ]
     },
     "metadata": {},
     "output_type": "display_data"
    },
    {
     "name": "stdout",
     "output_type": "stream",
     "text": [
      "Angle is: 33.69006752597979\n",
      "Descriptors for mapbox image 50.8224098_3.6035905.jpg:\n",
      "[[133.60281897270363, 207.80145877993414, 310.6012946450045], [51.753574035531, 191.30993247402023, 355.84035770628736], [138.1663265190035, 193.95450917313684, 328.276397042316], [8.61564818416411, 176.8778695378843, 200.89776549883885], [22.98871680208065, 150.0684881594922, 203.8657601196328, 326.07020257793937], [18.434948822922017, 134.99999999999997, 313.1692513519745], [19.057704510128325, 150.0684881594922, 312.4302448950484], [16.858398767738286, 133.16925135197448, 311.45523354440513], [126.21061522036243, 208.87740122228283, 331.3895403340348], [123.3778320364304, 213.6900675259798, 341.87813975209866], [33.69006752597979, 161.87813975209863, 303.37783203643045]]\n",
      "Number of descriptors: 11\n",
      "Descriptor of segmentation image:\n",
      "[78.69006752597979, 208.34215444342135, 336.7176437865103]\n",
      "Descriptor of mapbox image:\n",
      "[133.60281897270363, 207.80145877993414, 310.6012946450045]\n",
      "Result = 60.80926175946569\n",
      "Descriptor of mapbox image:\n",
      "[51.753574035531, 191.30993247402023, 355.84035770628736]\n",
      "Result = 37.16650985004613\n",
      "Descriptor of mapbox image:\n",
      "[138.1663265190035, 193.95450917313684, 328.276397042316]\n",
      "Result = 61.77122604275509\n",
      "Descriptor of mapbox image:\n",
      "[8.61564818416411, 176.8778695378843, 200.89776549883885]\n",
      "Result = 77.35196091505111\n",
      "Descriptor of mapbox image:\n",
      "[22.98871680208065, 150.0684881594922, 203.8657601196328, 326.07020257793937]\n",
      "Result = 56.88626005371455\n",
      "Descriptor of mapbox image:\n",
      "[18.434948822922017, 134.99999999999997, 313.1692513519745]\n",
      "Result = 95.4170157774927\n",
      "Descriptor of mapbox image:\n",
      "[19.057704510128325, 150.0684881594922, 312.4302448950484]\n",
      "Result = 86.84305755751586\n",
      "Descriptor of mapbox image:\n",
      "[16.858398767738286, 133.16925135197448, 311.45523354440513]\n",
      "Result = 96.21401249705265\n",
      "Descriptor of mapbox image:\n",
      "[126.21061522036243, 208.87740122228283, 331.3895403340348]\n",
      "Result = 47.821309357739864\n",
      "Descriptor of mapbox image:\n",
      "[123.3778320364304, 213.6900675259798, 341.87813975209866]\n",
      "Result = 45.30151421189962\n",
      "Descriptor of mapbox image:\n",
      "[33.69006752597979, 161.87813975209863, 303.37783203643045]\n",
      "Result = 72.7698269117511\n",
      "Descriptor of segmentation image:\n",
      "[42.08299271337229, 146.07020257793934, 281.30993247402023]\n",
      "Descriptor of mapbox image:\n",
      "[133.60281897270363, 207.80145877993414, 310.6012946450045]\n",
      "Result = 96.86237986578625\n",
      "Descriptor of mapbox image:\n",
      "[51.753574035531, 191.30993247402023, 355.84035770628736]\n",
      "Result = 87.72079337010923\n",
      "Descriptor of mapbox image:\n",
      "[138.1663265190035, 193.95450917313684, 328.276397042316]\n",
      "Result = 87.83924871804622\n",
      "Descriptor of mapbox image:\n",
      "[8.61564818416411, 176.8778695378843, 200.89776549883885]\n",
      "Result = 92.38664454885271\n",
      "Descriptor of mapbox image:\n",
      "[22.98871680208065, 150.0684881594922, 203.8657601196328, 326.07020257793937]\n",
      "Result = 48.826831147884086\n",
      "Descriptor of mapbox image:\n",
      "[18.434948822922017, 134.99999999999997, 313.1692513519745]\n",
      "Result = 41.192178436305724\n",
      "Descriptor of mapbox image:\n",
      "[19.057704510128325, 150.0684881594922, 312.4302448950484]\n",
      "Result = 38.918170943872745\n",
      "Descriptor of mapbox image:\n",
      "[16.858398767738286, 133.16925135197448, 311.45523354440513]\n",
      "Result = 41.36972152288421\n",
      "Descriptor of mapbox image:\n",
      "[126.21061522036243, 208.87740122228283, 331.3895403340348]\n",
      "Result = 88.88157594651278\n",
      "Descriptor of mapbox image:\n",
      "[123.3778320364304, 213.6900675259798, 341.87813975209866]\n",
      "Result = 88.3633166747491\n",
      "Descriptor of mapbox image:\n",
      "[33.69006752597979, 161.87813975209863, 303.37783203643045]\n",
      "Result = 28.413452130988233\n",
      "Descriptor of segmentation image:\n",
      "[108.5723485104073, 217.80279245093854, 293.40468955103233]\n",
      "Descriptor of mapbox image:\n",
      "[133.60281897270363, 207.80145877993414, 310.6012946450045]\n",
      "Result = 31.973025404560712\n",
      "Descriptor of mapbox image:\n",
      "[51.753574035531, 191.30993247402023, 355.84035770628736]\n",
      "Result = 88.47857040310146\n",
      "Descriptor of mapbox image:\n",
      "[138.1663265190035, 193.95450917313684, 328.276397042316]\n",
      "Result = 51.58081167478076\n",
      "Descriptor of mapbox image:\n",
      "[8.61564818416411, 176.8778695378843, 200.89776549883885]\n",
      "Result = 102.99569135454638\n",
      "Descriptor of mapbox image:\n",
      "[22.98871680208065, 150.0684881594922, 203.8657601196328, 326.07020257793937]\n",
      "Result = 54.61873503928164\n",
      "Descriptor of mapbox image:\n",
      "[18.434948822922017, 134.99999999999997, 313.1692513519745]\n",
      "Result = 89.13675506833216\n",
      "Descriptor of mapbox image:\n",
      "[19.057704510128325, 150.0684881594922, 312.4302448950484]\n",
      "Result = 81.6813157323682\n",
      "Descriptor of mapbox image:\n",
      "[16.858398767738286, 133.16925135197448, 311.45523354440513]\n",
      "Result = 89.96480448933472\n",
      "Descriptor of mapbox image:\n",
      "[126.21061522036243, 208.87740122228283, 331.3895403340348]\n",
      "Result = 42.82078876110339\n",
      "Descriptor of mapbox image:\n",
      "[123.3778320364304, 213.6900675259798, 341.87813975209866]\n",
      "Result = 50.850685572005574\n",
      "Descriptor of mapbox image:\n",
      "[33.69006752597979, 161.87813975209863, 303.37783203643045]\n",
      "Result = 77.9008198315184\n",
      "Descriptor of segmentation image:\n",
      "[101.30993247402021, 225.00000000000003, 332.19854122006586]\n",
      "Descriptor of mapbox image:\n",
      "[133.60281897270363, 207.80145877993414, 310.6012946450045]\n",
      "Result = 42.486014147471586\n",
      "Descriptor of mapbox image:\n",
      "[51.753574035531, 191.30993247402023, 355.84035770628736]\n",
      "Result = 64.41885437010872\n",
      "Descriptor of mapbox image:\n",
      "[138.1663265190035, 193.95450917313684, 328.276397042316]\n",
      "Result = 48.34872798358796\n",
      "Descriptor of mapbox image:\n",
      "[8.61564818416411, 176.8778695378843, 200.89776549883885]\n",
      "Result = 87.27907251839733\n",
      "Descriptor of mapbox image:\n",
      "[22.98871680208065, 150.0684881594922, 203.8657601196328, 326.07020257793937]\n",
      "Result = 53.49401258427674\n",
      "Descriptor of mapbox image:\n",
      "[18.434948822922017, 134.99999999999997, 313.1692513519745]\n",
      "Result = 96.28577987821758\n",
      "Descriptor of mapbox image:\n",
      "[19.057704510128325, 150.0684881594922, 312.4302448950484]\n",
      "Result = 91.55825336271512\n",
      "Descriptor of mapbox image:\n",
      "[16.858398767738286, 133.16925135197448, 311.45523354440513]\n",
      "Result = 94.44473738600753\n",
      "Descriptor of mapbox image:\n",
      "[126.21061522036243, 208.87740122228283, 331.3895403340348]\n",
      "Result = 29.67552316328782\n",
      "Descriptor of mapbox image:\n",
      "[123.3778320364304, 213.6900675259798, 341.87813975209866]\n",
      "Result = 26.619567829039838\n",
      "Descriptor of mapbox image:\n",
      "[33.69006752597979, 161.87813975209863, 303.37783203643045]\n",
      "Result = 92.10597294358033\n",
      "Score = 11.143273989929302\n",
      "**************************************************\n",
      "Mapbox image: 50.8224194_3.6036744.jpg\n",
      "**************************************************\n",
      "Cropped mapbox image\n",
      "Binary thresholding\n",
      "Isotropic closing of segmentation image\n",
      "Getting intersections in skeleton (more than 2 neighbours)\n",
      "12 intersections found in the skeleton:\n",
      "[(51, 65), (51, 368), (63, 121), (67, 211), (72, 137), (75, 138), (77, 93), (86, 155), (91, 107), (235, 311), (254, 248), (259, 264)]\n",
      "There are intersections in mapbox image 50.8224194_3.6036744.jpg\n"
     ]
    },
    {
     "data": {
      "image/png": "[encoded data removed]",
      "text/plain": [
       "<Figure size 640x480 with 1 Axes>"
      ]
     },
     "metadata": {},
     "output_type": "display_data"
    },
    {
     "name": "stdout",
     "output_type": "stream",
     "text": [
      "Angle is: 207.80145877993414\n"
     ]
    },
    {
     "data": {
      "image/png": "[encoded data removed]",
      "text/plain": [
       "<Figure size 640x480 with 1 Axes>"
      ]
     },
     "metadata": {},
     "output_type": "display_data"
    },
    {
     "name": "stdout",
     "output_type": "stream",
     "text": [
      "Angle is: 134.99999999999997\n"
     ]
    },
    {
     "data": {
      "image/png": "[encoded data removed]",
      "text/plain": [
       "<Figure size 640x480 with 1 Axes>"
      ]
     },
     "metadata": {},
     "output_type": "display_data"
    },
    {
     "name": "stdout",
     "output_type": "stream",
     "text": [
      "Angle is: 315.0\n"
     ]
    },
    {
     "data": {
      "image/png": "[encoded data removed]",
      "text/plain": [
       "<Figure size 640x480 with 1 Axes>"
      ]
     },
     "metadata": {},
     "output_type": "display_data"
    },
    {
     "name": "stdout",
     "output_type": "stream",
     "text": [
      "Angle is: 183.1221304621157\n"
     ]
    },
    {
     "data": {
      "image/png": "[encoded data removed]",
      "text/plain": [
       "<Figure size 640x480 with 1 Axes>"
      ]
     },
     "metadata": {},
     "output_type": "display_data"
    },
    {
     "name": "stdout",
     "output_type": "stream",
     "text": [
      "Angle is: 53.78938477963759\n"
     ]
    },
    {
     "data": {
      "image/png": "[encoded data removed]",
      "text/plain": [
       "<Figure size 640x480 with 1 Axes>"
      ]
     },
     "metadata": {},
     "output_type": "display_data"
    },
    {
     "name": "stdout",
     "output_type": "stream",
     "text": [
      "Angle is: 348.69006752597977\n"
     ]
    },
    {
     "data": {
      "image/png": "[encoded data removed]",
      "text/plain": [
       "<Figure size 640x480 with 1 Axes>"
      ]
     },
     "metadata": {},
     "output_type": "display_data"
    },
    {
     "name": "stdout",
     "output_type": "stream",
     "text": [
      "Angle is: 196.53982400122894\n"
     ]
    },
    {
     "data": {
      "image/png": "[encoded data removed]",
      "text/plain": [
       "<Figure size 640x480 with 1 Axes>"
      ]
     },
     "metadata": {},
     "output_type": "display_data"
    },
    {
     "name": "stdout",
     "output_type": "stream",
     "text": [
      "Angle is: 134.99999999999997\n"
     ]
    },
    {
     "data": {
      "image/png": "[encoded data removed]",
      "text/plain": [
       "<Figure size 640x480 with 1 Axes>"
      ]
     },
     "metadata": {},
     "output_type": "display_data"
    },
    {
     "name": "stdout",
     "output_type": "stream",
     "text": [
      "Angle is: 329.03624346792645\n"
     ]
    },
    {
     "data": {
      "image/png": "[encoded data removed]",
      "text/plain": [
       "<Figure size 640x480 with 1 Axes>"
      ]
     },
     "metadata": {},
     "output_type": "display_data"
    },
    {
     "name": "stdout",
     "output_type": "stream",
     "text": [
      "Angle is: 176.8778695378843\n"
     ]
    },
    {
     "data": {
      "image/png": "[encoded data removed]",
      "text/plain": [
       "<Figure size 640x480 with 1 Axes>"
      ]
     },
     "metadata": {},
     "output_type": "display_data"
    },
    {
     "name": "stdout",
     "output_type": "stream",
     "text": [
      "Angle is: 200.89776549883885\n"
     ]
    },
    {
     "data": {
      "image/png": "[encoded data removed]",
      "text/plain": [
       "<Figure size 640x480 with 1 Axes>"
      ]
     },
     "metadata": {},
     "output_type": "display_data"
    },
    {
     "name": "stdout",
     "output_type": "stream",
     "text": [
      "Angle is: 8.61564818416411\n"
     ]
    },
    {
     "data": {
      "image/png": "[encoded data removed]",
      "text/plain": [
       "<Figure size 640x480 with 1 Axes>"
      ]
     },
     "metadata": {},
     "output_type": "display_data"
    },
    {
     "name": "stdout",
     "output_type": "stream",
     "text": [
      "Angle is: 150.0684881594922\n",
      "Count threshold not reached\n"
     ]
    },
    {
     "data": {
      "image/png": "[encoded data removed]",
      "text/plain": [
       "<Figure size 640x480 with 1 Axes>"
      ]
     },
     "metadata": {},
     "output_type": "display_data"
    },
    {
     "name": "stdout",
     "output_type": "stream",
     "text": [
      "Angle is: 16.539824001228933\n",
      "Count threshold not reached\n"
     ]
    },
    {
     "data": {
      "image/png": "[encoded data removed]",
      "text/plain": [
       "<Figure size 640x480 with 1 Axes>"
      ]
     },
     "metadata": {},
     "output_type": "display_data"
    },
    {
     "name": "stdout",
     "output_type": "stream",
     "text": [
      "Angle is: 203.8657601196328\n"
     ]
    },
    {
     "data": {
      "image/png": "[encoded data removed]",
      "text/plain": [
       "<Figure size 640x480 with 1 Axes>"
      ]
     },
     "metadata": {},
     "output_type": "display_data"
    },
    {
     "name": "stdout",
     "output_type": "stream",
     "text": [
      "Angle is: 327.2823275813607\n"
     ]
    },
    {
     "data": {
      "image/png": "[encoded data removed]",
      "text/plain": [
       "<Figure size 640x480 with 1 Axes>"
      ]
     },
     "metadata": {},
     "output_type": "display_data"
    },
    {
     "name": "stdout",
     "output_type": "stream",
     "text": [
      "Angle is: 134.99999999999997\n"
     ]
    },
    {
     "data": {
      "image/png": "[encoded data removed]",
      "text/plain": [
       "<Figure size 640x480 with 1 Axes>"
      ]
     },
     "metadata": {},
     "output_type": "display_data"
    },
    {
     "name": "stdout",
     "output_type": "stream",
     "text": [
      "Angle is: 313.1692513519745\n"
     ]
    },
    {
     "data": {
      "image/png": "[encoded data removed]",
      "text/plain": [
       "<Figure size 640x480 with 1 Axes>"
      ]
     },
     "metadata": {},
     "output_type": "display_data"
    },
    {
     "name": "stdout",
     "output_type": "stream",
     "text": [
      "Angle is: 18.434948822922017\n"
     ]
    },
    {
     "data": {
      "image/png": "[encoded data removed]",
      "text/plain": [
       "<Figure size 640x480 with 1 Axes>"
      ]
     },
     "metadata": {},
     "output_type": "display_data"
    },
    {
     "name": "stdout",
     "output_type": "stream",
     "text": [
      "Angle is: 147.28232758136068\n"
     ]
    },
    {
     "data": {
      "image/png": "[encoded data removed]",
      "text/plain": [
       "<Figure size 640x480 with 1 Axes>"
      ]
     },
     "metadata": {},
     "output_type": "display_data"
    },
    {
     "name": "stdout",
     "output_type": "stream",
     "text": [
      "Angle is: 312.4302448950484\n"
     ]
    },
    {
     "data": {
      "image/png": "[encoded data removed]",
      "text/plain": [
       "<Figure size 640x480 with 1 Axes>"
      ]
     },
     "metadata": {},
     "output_type": "display_data"
    },
    {
     "name": "stdout",
     "output_type": "stream",
     "text": [
      "Angle is: 20.289200537769805\n"
     ]
    },
    {
     "data": {
      "image/png": "[encoded data removed]",
      "text/plain": [
       "<Figure size 640x480 with 1 Axes>"
      ]
     },
     "metadata": {},
     "output_type": "display_data"
    },
    {
     "name": "stdout",
     "output_type": "stream",
     "text": [
      "Angle is: 135.5092824049775\n"
     ]
    },
    {
     "data": {
      "image/png": "[encoded data removed]",
      "text/plain": [
       "<Figure size 640x480 with 1 Axes>"
      ]
     },
     "metadata": {},
     "output_type": "display_data"
    },
    {
     "name": "stdout",
     "output_type": "stream",
     "text": [
      "Angle is: 311.3477772196937\n"
     ]
    },
    {
     "data": {
      "image/png": "[encoded data removed]",
      "text/plain": [
       "<Figure size 640x480 with 1 Axes>"
      ]
     },
     "metadata": {},
     "output_type": "display_data"
    },
    {
     "name": "stdout",
     "output_type": "stream",
     "text": [
      "Angle is: 18.434948822922017\n"
     ]
    },
    {
     "data": {
      "image/png": "[encoded data removed]",
      "text/plain": [
       "<Figure size 640x480 with 1 Axes>"
      ]
     },
     "metadata": {},
     "output_type": "display_data"
    },
    {
     "name": "stdout",
     "output_type": "stream",
     "text": [
      "Angle is: 130.43852298201136\n"
     ]
    },
    {
     "data": {
      "image/png": "[encoded data removed]",
      "text/plain": [
       "<Figure size 640x480 with 1 Axes>"
      ]
     },
     "metadata": {},
     "output_type": "display_data"
    },
    {
     "name": "stdout",
     "output_type": "stream",
     "text": [
      "Angle is: 207.52907187245665\n"
     ]
    },
    {
     "data": {
      "image/png": "[encoded data removed]",
      "text/plain": [
       "<Figure size 640x480 with 1 Axes>"
      ]
     },
     "metadata": {},
     "output_type": "display_data"
    },
    {
     "name": "stdout",
     "output_type": "stream",
     "text": [
      "Angle is: 328.276397042316\n"
     ]
    },
    {
     "data": {
      "image/png": "[encoded data removed]",
      "text/plain": [
       "<Figure size 640x480 with 1 Axes>"
      ]
     },
     "metadata": {},
     "output_type": "display_data"
    },
    {
     "name": "stdout",
     "output_type": "stream",
     "text": [
      "Angle is: 213.92979742206066\n"
     ]
    },
    {
     "data": {
      "image/png": "[encoded data removed]",
      "text/plain": [
       "<Figure size 640x480 with 1 Axes>"
      ]
     },
     "metadata": {},
     "output_type": "display_data"
    },
    {
     "name": "stdout",
     "output_type": "stream",
     "text": [
      "Angle is: 123.81824578980333\n"
     ]
    },
    {
     "data": {
      "image/png": "[encoded data removed]",
      "text/plain": [
       "<Figure size 640x480 with 1 Axes>"
      ]
     },
     "metadata": {},
     "output_type": "display_data"
    },
    {
     "name": "stdout",
     "output_type": "stream",
     "text": [
      "Angle is: 346.3730051401085\n"
     ]
    },
    {
     "data": {
      "image/png": "[encoded data removed]",
      "text/plain": [
       "<Figure size 640x480 with 1 Axes>"
      ]
     },
     "metadata": {},
     "output_type": "display_data"
    },
    {
     "name": "stdout",
     "output_type": "stream",
     "text": [
      "Angle is: 165.393262645553\n"
     ]
    },
    {
     "data": {
      "image/png": "[encoded data removed]",
      "text/plain": [
       "<Figure size 640x480 with 1 Axes>"
      ]
     },
     "metadata": {},
     "output_type": "display_data"
    },
    {
     "name": "stdout",
     "output_type": "stream",
     "text": [
      "Angle is: 299.78741713137947\n"
     ]
    },
    {
     "data": {
      "image/png": "[encoded data removed]",
      "text/plain": [
       "<Figure size 640x480 with 1 Axes>"
      ]
     },
     "metadata": {},
     "output_type": "display_data"
    },
    {
     "name": "stdout",
     "output_type": "stream",
     "text": [
      "Angle is: 29.142977981971757\n",
      "Descriptors for mapbox image 50.8224194_3.6036744.jpg:\n",
      "[[134.99999999999997, 207.80145877993414, 315.0], [53.78938477963759, 183.1221304621157, 348.69006752597977], [134.99999999999997, 196.53982400122894, 329.03624346792645], [8.61564818416411, 176.8778695378843, 200.89776549883885], [16.539824001228933, 150.0684881594922, 203.8657601196328, 327.2823275813607], [18.434948822922017, 134.99999999999997, 313.1692513519745], [20.289200537769805, 147.28232758136068, 312.4302448950484], [18.434948822922017, 135.5092824049775, 311.3477772196937], [130.43852298201136, 207.52907187245665, 328.276397042316], [123.81824578980333, 213.92979742206066, 346.3730051401085], [29.142977981971757, 165.393262645553, 299.78741713137947]]\n",
      "Number of descriptors: 11\n",
      "Descriptor of segmentation image:\n",
      "[78.69006752597979, 208.34215444342135, 336.7176437865103]\n",
      "Descriptor of mapbox image:\n",
      "[134.99999999999997, 207.80145877993414, 315.0]\n",
      "Result = 60.35525576672653\n",
      "Descriptor of mapbox image:\n",
      "[53.78938477963759, 183.1221304621157, 348.69006752597977]\n",
      "Result = 37.40899010998597\n",
      "Descriptor of mapbox image:\n",
      "[134.99999999999997, 196.53982400122894, 329.03624346792645]\n",
      "Result = 58.04401269682993\n",
      "Descriptor of mapbox image:\n",
      "[8.61564818416411, 176.8778695378843, 200.89776549883885]\n",
      "Result = 77.35196091505111\n",
      "Descriptor of mapbox image:\n",
      "[16.539824001228933, 150.0684881594922, 203.8657601196328, 327.2823275813607]\n",
      "Result = 63.02155241041782\n",
      "Descriptor of mapbox image:\n",
      "[18.434948822922017, 134.99999999999997, 313.1692513519745]\n",
      "Result = 95.4170157774927\n",
      "Descriptor of mapbox image:\n",
      "[20.289200537769805, 147.28232758136068, 312.4302448950484]\n",
      "Result = 87.91382977843932\n",
      "Descriptor of mapbox image:\n",
      "[18.434948822922017, 135.5092824049775, 311.3477772196937]\n",
      "Result = 95.79499234538375\n",
      "Descriptor of mapbox image:\n",
      "[130.43852298201136, 207.52907187245665, 328.276397042316]\n",
      "Result = 52.438710815088335\n",
      "Descriptor of mapbox image:\n",
      "[123.81824578980333, 213.92979742206066, 346.3730051401085]\n",
      "Result = 46.48655967413302\n",
      "Descriptor of mapbox image:\n",
      "[29.142977981971757, 165.393262645553, 299.78741713137947]\n",
      "Result = 75.25531894654549\n",
      "Descriptor of segmentation image:\n",
      "[42.08299271337229, 146.07020257793934, 281.30993247402023]\n",
      "Descriptor of mapbox image:\n",
      "[134.99999999999997, 207.80145877993414, 315.0]\n",
      "Result = 94.02668586597606\n",
      "Descriptor of mapbox image:\n",
      "[53.78938477963759, 183.1221304621157, 348.69006752597977]\n",
      "Result = 77.78153749292716\n",
      "Descriptor of mapbox image:\n",
      "[134.99999999999997, 196.53982400122894, 329.03624346792645]\n",
      "Result = 87.95554400679192\n",
      "Descriptor of mapbox image:\n",
      "[8.61564818416411, 176.8778695378843, 200.89776549883885]\n",
      "Result = 92.38664454885271\n",
      "Descriptor of mapbox image:\n",
      "[16.539824001228933, 150.0684881594922, 203.8657601196328, 327.2823275813607]\n",
      "Result = 52.743728227667916\n",
      "Descriptor of mapbox image:\n",
      "[18.434948822922017, 134.99999999999997, 313.1692513519745]\n",
      "Result = 41.192178436305724\n",
      "Descriptor of mapbox image:\n",
      "[20.289200537769805, 147.28232758136068, 312.4302448950484]\n",
      "Result = 38.012004282853496\n",
      "Descriptor of mapbox image:\n",
      "[18.434948822922017, 135.5092824049775, 311.3477772196937]\n",
      "Result = 39.66150692686193\n",
      "Descriptor of mapbox image:\n",
      "[130.43852298201136, 207.52907187245665, 328.276397042316]\n",
      "Result = 88.86850828941328\n",
      "Descriptor of mapbox image:\n",
      "[123.81824578980333, 213.92979742206066, 346.3730051401085]\n",
      "Result = 88.49833739154064\n",
      "Descriptor of mapbox image:\n",
      "[29.142977981971757, 165.393262645553, 299.78741713137947]\n",
      "Result = 29.702560005636123\n",
      "Descriptor of segmentation image:\n",
      "[108.5723485104073, 217.80279245093854, 293.40468955103233]\n",
      "Descriptor of mapbox image:\n",
      "[134.99999999999997, 207.80145877993414, 315.0]\n",
      "Result = 35.564095262517625\n",
      "Descriptor of mapbox image:\n",
      "[53.78938477963759, 183.1221304621157, 348.69006752597977]\n",
      "Result = 85.20794827328383\n",
      "Descriptor of mapbox image:\n",
      "[134.99999999999997, 196.53982400122894, 329.03624346792645]\n",
      "Result = 49.19494105171027\n",
      "Descriptor of mapbox image:\n",
      "[8.61564818416411, 176.8778695378843, 200.89776549883885]\n",
      "Result = 102.99569135454638\n",
      "Descriptor of mapbox image:\n",
      "[16.539824001228933, 150.0684881594922, 203.8657601196328, 327.2823275813607]\n",
      "Result = 55.35218906686679\n",
      "Descriptor of mapbox image:\n",
      "[18.434948822922017, 134.99999999999997, 313.1692513519745]\n",
      "Result = 89.13675506833216\n",
      "Descriptor of mapbox image:\n",
      "[20.289200537769805, 147.28232758136068, 312.4302448950484]\n",
      "Result = 82.66541115389938\n",
      "Descriptor of mapbox image:\n",
      "[18.434948822922017, 135.5092824049775, 311.3477772196937]\n",
      "Result = 88.42948941620324\n",
      "Descriptor of mapbox image:\n",
      "[130.43852298201136, 207.52907187245665, 328.276397042316]\n",
      "Result = 42.42304684844076\n",
      "Descriptor of mapbox image:\n",
      "[123.81824578980333, 213.92979742206066, 346.3730051401085]\n",
      "Result = 55.25468243227515\n",
      "Descriptor of mapbox image:\n",
      "[29.142977981971757, 165.393262645553, 299.78741713137947]\n",
      "Result = 77.56361459434521\n",
      "Descriptor of segmentation image:\n",
      "[101.30993247402021, 225.00000000000003, 332.19854122006586]\n",
      "Descriptor of mapbox image:\n",
      "[134.99999999999997, 207.80145877993414, 315.0]\n",
      "Result = 41.552380077459894\n",
      "Descriptor of mapbox image:\n",
      "[53.78938477963759, 183.1221304621157, 348.69006752597977]\n",
      "Result = 65.45172916054094\n",
      "Descriptor of mapbox image:\n",
      "[134.99999999999997, 196.53982400122894, 329.03624346792645]\n",
      "Result = 44.21540902060376\n",
      "Descriptor of mapbox image:\n",
      "[8.61564818416411, 176.8778695378843, 200.89776549883885]\n",
      "Result = 87.27907251839733\n",
      "Descriptor of mapbox image:\n",
      "[16.539824001228933, 150.0684881594922, 203.8657601196328, 327.2823275813607]\n",
      "Result = 53.36873620759225\n",
      "Descriptor of mapbox image:\n",
      "[18.434948822922017, 134.99999999999997, 313.1692513519745]\n",
      "Result = 96.28577987821758\n",
      "Descriptor of mapbox image:\n",
      "[20.289200537769805, 147.28232758136068, 312.4302448950484]\n",
      "Result = 92.43529227340635\n",
      "Descriptor of mapbox image:\n",
      "[18.434948822922017, 135.5092824049775, 311.3477772196937]\n",
      "Result = 95.18554788349506\n",
      "Descriptor of mapbox image:\n",
      "[130.43852298201136, 207.52907187245665, 328.276397042316]\n",
      "Result = 34.19197756157248\n",
      "Descriptor of mapbox image:\n",
      "[123.81824578980333, 213.92979742206066, 346.3730051401085]\n",
      "Result = 28.811264825735524\n",
      "Descriptor of mapbox image:\n",
      "[29.142977981971757, 165.393262645553, 299.78741713137947]\n",
      "Result = 93.32800923949863\n",
      "Score = 11.466774184742423\n",
      "Scores: {'50.8224207_3.6038774.jpg': 11.534360692220057, '50.8224098_3.6035905.jpg': 11.143273989929302, '50.8224194_3.6036744.jpg': 11.466774184742423}\n",
      "**************************************************\n",
      "Top 3 results:\n",
      "**************************************************\n",
      "Score = 11.143273989929302 with mapbox image 50.8224098_3.6035905.jpg\n",
      "Score = 11.466774184742423 with mapbox image 50.8224194_3.6036744.jpg\n",
      "Score = 11.534360692220057 with mapbox image 50.8224207_3.6038774.jpg\n"
     ]
    }
   ],
   "source": [
    "best_mb_image = None\n",
    "scores = dict()\n",
    "visualize = False \n",
    "\n",
    "for mb_image in os.listdir(mapbox_imgs_dir_path) : \n",
    "    best_results = []\n",
    "    mb_image_path = os.path.join(mapbox_imgs_dir_path, mb_image)\n",
    "    print(50*\"*\")\n",
    "    print(f\"Mapbox image: {mb_image}\")\n",
    "    print(50*\"*\")\n",
    "    mb_image_bgr = cv2.imread(mb_image_path)\n",
    "    if visualize : \n",
    "        plot_image(mb_image_bgr)\n",
    "    des = find_descriptors_in_mapbox_image(mb_image_path, mb_image, vis=visualize)\n",
    "    print(f\"Descriptors for mapbox image {mb_image}:\")\n",
    "    print(des)\n",
    "\n",
    "    # matching process\n",
    "    if des is not None and segm_img_des is not None :\n",
    "        print(f\"Number of descriptors: {len(des)}\")\n",
    "        for des_segm in segm_img_des :\n",
    "            best_result_per_des = 1000 # best descriptor match for descriptor des_segm of segmentation image\n",
    "            print(f\"Descriptor of segmentation image:\")\n",
    "            print(des_segm)\n",
    "            for des_mb in des :\n",
    "                print(f\"Descriptor of mapbox image:\")\n",
    "                print(des_mb)\n",
    "\n",
    "                if len(des_mb) < len(des_segm) : \n",
    "                    continue\n",
    "\n",
    "                result = 0\n",
    "                for angle_des_segm in des_segm : \n",
    "                    best_diff = 1000\n",
    "                    for angle_des_mb in des_mb :\n",
    "                        diff = min(abs(angle_des_segm-angle_des_mb), abs((angle_des_segm+360)-angle_des_mb), abs((angle_des_mb+360)-angle_des_segm))\n",
    "                        if diff < best_diff :\n",
    "                            best_diff = diff\n",
    "                    result += best_diff**2\n",
    "                \n",
    "                \n",
    "                result = math.sqrt(result)\n",
    "                print(f\"Result = {result}\")\n",
    "            \n",
    "                if result < best_result_per_des :\n",
    "                    best_result_per_des = result\n",
    "\n",
    "            best_results.append(best_result_per_des)\n",
    "        \n",
    "        score =  math.sqrt(np.sum(best_results))\n",
    "        print(f\"Score = {score}\")\n",
    "        \n",
    "        # make sure there is at least one best result that is below the threshold \n",
    "        threshold = 40\n",
    "\n",
    "        # If at least one result is below the threshold, add the score to the dictionary\n",
    "        # if any(result < threshold for result in best_results) :\n",
    "        #   print(f\"At least one result is below the threshold, add the score to the dictionary for mapbox image {mb_image}\")\n",
    "        #   scores[mb_image] = score\n",
    "        scores[mb_image] = score\n",
    "    else:\n",
    "        continue\n",
    "\n",
    "\n",
    "print(f\"Scores: {scores}\")\n",
    "# Get the lowest three values using sorted() and dictionary items()\n",
    "lowest_values = sorted(scores.values())[:3]\n",
    "print(50*\"*\")\n",
    "print(\"Top 3 results:\")\n",
    "print(50*\"*\")\n",
    "for value in lowest_values:\n",
    "    # For each value, get the corresponding key\n",
    "    for key in scores.keys():\n",
    "        if scores[key] == value:\n",
    "            print(f\"Score = {value} with mapbox image {key}\")"
   ]
  }
 ],
 "metadata": {
  "kernelspec": {
   "display_name": ".venv",
   "language": "python",
   "name": "python3"
  },
  "language_info": {
   "codemirror_mode": {
    "name": "ipython",
    "version": 3
   },
   "file_extension": ".py",
   "mimetype": "text/x-python",
   "name": "python",
   "nbconvert_exporter": "python",
   "pygments_lexer": "ipython3",
   "version": "3.10.11"
  },
  "orig_nbformat": 4
 },
 "nbformat": 4,
 "nbformat_minor": 2
}
