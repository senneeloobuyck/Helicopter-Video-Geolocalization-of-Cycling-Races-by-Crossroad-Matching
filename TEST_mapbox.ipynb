{
 "cells": [
  {
   "cell_type": "code",
   "execution_count": 2,
   "metadata": {},
   "outputs": [],
   "source": [
    "import requests"
   ]
  },
  {
   "cell_type": "markdown",
   "metadata": {},
   "source": [
    "Example URL from mapbox:\n",
    "https://api.mapbox.com/styles/v1/senneloobuyck/cllc5jl0700ug01qp4fc4a2kf/static/29.6779,-2.5357,15.23,15,60/300x200?access_token=pk.eyJ1Ijoic2VubmVsb29idXljayIsImEiOiJjbGxjMjhucDkwY3cxM2RvMXpqcjB1Y3FnIn0.4G8xiPZ9ZI2_1xlUPmDJMA\n",
    "\n",
    "zoom = 15.23, bearing = 15, tilt = 60, width = 300 (in pixels), height = 200 (in pixels)\n",
    "\n",
    "make sure floats are formatted using \".\""
   ]
  },
  {
   "cell_type": "code",
   "execution_count": 5,
   "metadata": {},
   "outputs": [],
   "source": [
    "lat = 50.7878\n",
    "lon = 3.5609\n",
    "zoom = 17.12\n",
    "bearing = 0\n",
    "tilt = 0\n",
    "width = 512\n",
    "height = 512\n",
    "access_token = \"pk.eyJ1Ijoic2VubmVsb29idXljayIsImEiOiJjbG1zeDVreHowZmw5Mm1xY2lxeTFtYTB2In0.ymj-xZAfeeivbksi1PJttw\" \n",
    "styles_url = \"mapbox://styles/senneloobuyck/cllcojw8d00wy01pb6rqcdmm5\"\n",
    "\n",
    "style_code = styles_url.split('/')[-1]\n",
    "\n",
    "url = f\"https://api.mapbox.com/styles/v1/senneloobuyck/{style_code}/static/{str(lon)},{str(lat)},{str(zoom)},{str(bearing)},{str(tilt)}/{str(width)}x{str(height)}?access_token={access_token}\""
   ]
  },
  {
   "cell_type": "code",
   "execution_count": 6,
   "metadata": {},
   "outputs": [
    {
     "name": "stdout",
     "output_type": "stream",
     "text": [
      "Image saved as 'mapbox_image1.png'\n"
     ]
    }
   ],
   "source": [
    "response = requests.get(url)\n",
    "\n",
    "if response.status_code == 200:\n",
    "    with open(\"mapbox_image1.png\", \"wb\") as f:\n",
    "        f.write(response.content)\n",
    "    print(\"Image saved as 'mapbox_image1.png'\")\n",
    "else:\n",
    "    print(\"Failed to retrieve image.\")\n",
    "    print(response.text[:100])"
   ]
  }
 ],
 "metadata": {
  "kernelspec": {
   "display_name": ".venv",
   "language": "python",
   "name": "python3"
  },
  "language_info": {
   "codemirror_mode": {
    "name": "ipython",
    "version": 3
   },
   "file_extension": ".py",
   "mimetype": "text/x-python",
   "name": "python",
   "nbconvert_exporter": "python",
   "pygments_lexer": "ipython3",
   "version": "3.10.11"
  },
  "orig_nbformat": 4
 },
 "nbformat": 4,
 "nbformat_minor": 2
}
